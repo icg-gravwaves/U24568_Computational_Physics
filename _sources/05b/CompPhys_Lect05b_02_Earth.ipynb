{
 "cells": [
  {
   "cell_type": "markdown",
   "id": "6a67d9d5",
   "metadata": {},
   "source": [
    "# Earth's Orbit\n",
    "\n",
    "In the previous notebook we just guessed at the initial conditions, and we get a very elliptical orbit.\n",
    "\n",
    "Now we want to simulate Earth's orbit, so we need to care about the initial conditions.\n",
    "\n",
    "Using the formula for acceleration on a circle\n",
    "\n",
    "$$v^2/r = G~M/r^2$$\n",
    "\n",
    "So the velocity on a circular orbit should be\n",
    "\n",
    "$$v = \\sqrt{G~M/r}$$\n",
    "\n",
    "Remembering our scale factor, this becomes\n",
    "\n",
    "$$v = \\sqrt{\\frac{G~M T^2}{R^3} \\frac{1}{\\rho}}$$\n",
    "\n",
    "\n",
    "We can use that to get the initial conditions correct."
   ]
  },
  {
   "cell_type": "code",
   "execution_count": 1,
   "id": "ab1b9e92",
   "metadata": {},
   "outputs": [],
   "source": [
    "%matplotlib inline\n",
    "import numpy as np\n",
    "import matplotlib.pyplot as plt\n",
    "from scipy.integrate import odeint\n",
    "\n",
    "# In addition to the imports, we'll also import some constants\n",
    "# And also define our own\n",
    "# NOTE: All units in SI\n",
    "from scipy.constants import gravitational_constant, au\n",
    "\n",
    "year = 365.25*24*3600 # seconds\n",
    "\n",
    "mass_sun = 1.989e30 # kg\n",
    "\n",
    "earth_distance = 1.496e11 # meters\n",
    "# The Earth distance is also defined as 1 AU\n",
    "mars_distance = 227.9*1.e9 # meters\n",
    "jupiter_distance = 778.57*1.e9 # meters"
   ]
  },
  {
   "cell_type": "markdown",
   "id": "2f78d703",
   "metadata": {},
   "source": [
    "## Define your function from before\n",
    "\n",
    "Please paste your `grav_derivs` function from before into here"
   ]
  },
  {
   "cell_type": "code",
   "execution_count": null,
   "id": "8575ba75",
   "metadata": {},
   "outputs": [],
   "source": [
    "# Gravitational acceleration in 2D\n",
    "def grav_derivs(state, t):\n",
    "    x, y, vx, vy = state\n",
    "    \n",
    "    r =  # Calculate the distance from x and y\n",
    "    acc =  # Calculate the magnitude of the acceleration\n",
    "    acc_x =  # Calculate the vector components of the acceleration\n",
    "    acc_y =  # Calculate the vector components of the acceleration\n",
    "    \n",
    "    return (vx, vy, acc_x, acc_y)"
   ]
  },
  {
   "cell_type": "markdown",
   "id": "4a81f736",
   "metadata": {},
   "source": [
    "## Exercise\n",
    "\n",
    "Fill in the initial condition below to get a circular orbit at $r = 1$."
   ]
  },
  {
   "cell_type": "code",
   "execution_count": 2,
   "id": "fb5d5791",
   "metadata": {},
   "outputs": [
    {
     "ename": "NameError",
     "evalue": "name 'grav_derivs' is not defined",
     "output_type": "error",
     "traceback": [
      "\u001b[0;31m---------------------------------------------------------------------------\u001b[0m",
      "\u001b[0;31mNameError\u001b[0m                                 Traceback (most recent call last)",
      "Input \u001b[0;32mIn [2]\u001b[0m, in \u001b[0;36m<module>\u001b[0;34m\u001b[0m\n\u001b[1;32m      1\u001b[0m r_init2 \u001b[38;5;241m=\u001b[39m (\u001b[38;5;241m1.\u001b[39m, \u001b[38;5;241m0.\u001b[39m, \u001b[38;5;241m0.\u001b[39m, \u001b[38;5;241m1\u001b[39m) \u001b[38;5;66;03m# FIXME: Change the last value\u001b[39;00m\n\u001b[1;32m      2\u001b[0m times \u001b[38;5;241m=\u001b[39m np\u001b[38;5;241m.\u001b[39mlinspace(\u001b[38;5;241m0.\u001b[39m, \u001b[38;5;241m10\u001b[39m, \u001b[38;5;241m10000\u001b[39m)\n\u001b[0;32m----> 3\u001b[0m rarr2 \u001b[38;5;241m=\u001b[39m odeint(\u001b[43mgrav_derivs\u001b[49m, r_init2, times)\n",
      "\u001b[0;31mNameError\u001b[0m: name 'grav_derivs' is not defined"
     ]
    }
   ],
   "source": [
    "r_init2 = (1., 0., 0., 1) # FIXME: Change the last value\n",
    "times = np.linspace(0., 10, 10000)\n",
    "rarr2 = odeint(grav_derivs, r_init2, times)"
   ]
  },
  {
   "cell_type": "code",
   "execution_count": 3,
   "id": "704070f3",
   "metadata": {},
   "outputs": [
    {
     "ename": "NameError",
     "evalue": "name 'rarr2' is not defined",
     "output_type": "error",
     "traceback": [
      "\u001b[0;31m---------------------------------------------------------------------------\u001b[0m",
      "\u001b[0;31mNameError\u001b[0m                                 Traceback (most recent call last)",
      "Input \u001b[0;32mIn [3]\u001b[0m, in \u001b[0;36m<module>\u001b[0;34m\u001b[0m\n\u001b[1;32m      1\u001b[0m plt\u001b[38;5;241m.\u001b[39mfigure(figsize\u001b[38;5;241m=\u001b[39m(\u001b[38;5;241m8\u001b[39m,\u001b[38;5;241m8\u001b[39m))\n\u001b[0;32m----> 2\u001b[0m plt\u001b[38;5;241m.\u001b[39mscatter(\u001b[43mrarr2\u001b[49m[:,\u001b[38;5;241m0\u001b[39m], rarr2[:,\u001b[38;5;241m1\u001b[39m], s\u001b[38;5;241m=\u001b[39m\u001b[38;5;241m5\u001b[39m)\n\u001b[1;32m      3\u001b[0m plt\u001b[38;5;241m.\u001b[39mscatter(\u001b[38;5;241m0.\u001b[39m, \u001b[38;5;241m0.\u001b[39m, c\u001b[38;5;241m=\u001b[39m\u001b[38;5;124m'\u001b[39m\u001b[38;5;124my\u001b[39m\u001b[38;5;124m'\u001b[39m, s\u001b[38;5;241m=\u001b[39m\u001b[38;5;241m50\u001b[39m)\n\u001b[1;32m      4\u001b[0m plt\u001b[38;5;241m.\u001b[39mgca()\u001b[38;5;241m.\u001b[39mset_aspect(\u001b[38;5;124m'\u001b[39m\u001b[38;5;124mequal\u001b[39m\u001b[38;5;124m'\u001b[39m, \u001b[38;5;124m'\u001b[39m\u001b[38;5;124mdatalim\u001b[39m\u001b[38;5;124m'\u001b[39m)\n",
      "\u001b[0;31mNameError\u001b[0m: name 'rarr2' is not defined"
     ]
    },
    {
     "data": {
      "text/plain": [
       "<Figure size 800x800 with 0 Axes>"
      ]
     },
     "metadata": {},
     "output_type": "display_data"
    }
   ],
   "source": [
    "plt.figure(figsize=(8,8))\n",
    "plt.scatter(rarr2[:,0], rarr2[:,1], s=5)\n",
    "plt.scatter(0., 0., c='y', s=50)\n",
    "plt.gca().set_aspect('equal', 'datalim')"
   ]
  },
  {
   "cell_type": "markdown",
   "id": "b8c54213",
   "metadata": {},
   "source": [
    "## Exercise\n",
    "\n",
    "Find how long a single orbit takes. Does the answer make sense?"
   ]
  },
  {
   "cell_type": "code",
   "execution_count": 4,
   "id": "43d36d41",
   "metadata": {},
   "outputs": [],
   "source": [
    "# Answer here"
   ]
  },
  {
   "cell_type": "markdown",
   "id": "a51e201d",
   "metadata": {},
   "source": [
    "## Exercise\n",
    "\n",
    "Play with the conditions below, shooting the planet toward the sun but offset a bit in $y$ so it doesn't go straight through the center. What kind of shapes do you get? Note that we use a different `times` array than the others, so orbits that go way off can be stopped early if you want."
   ]
  },
  {
   "cell_type": "code",
   "execution_count": 5,
   "id": "3ccd569b",
   "metadata": {},
   "outputs": [
    {
     "ename": "NameError",
     "evalue": "name 'grav_derivs' is not defined",
     "output_type": "error",
     "traceback": [
      "\u001b[0;31m---------------------------------------------------------------------------\u001b[0m",
      "\u001b[0;31mNameError\u001b[0m                                 Traceback (most recent call last)",
      "Input \u001b[0;32mIn [5]\u001b[0m, in \u001b[0;36m<module>\u001b[0;34m\u001b[0m\n\u001b[1;32m      1\u001b[0m r_init3 \u001b[38;5;241m=\u001b[39m (\u001b[38;5;241m4.\u001b[39m, \u001b[38;5;241m0.5\u001b[39m, \u001b[38;5;241m-\u001b[39m\u001b[38;5;241m10.\u001b[39m, \u001b[38;5;241m0.\u001b[39m) \u001b[38;5;66;03m# FIXME: Try different values\u001b[39;00m\n\u001b[1;32m      2\u001b[0m times3 \u001b[38;5;241m=\u001b[39m np\u001b[38;5;241m.\u001b[39mlinspace(\u001b[38;5;241m0.\u001b[39m, \u001b[38;5;241m2\u001b[39m, \u001b[38;5;241m1000\u001b[39m)\n\u001b[0;32m----> 3\u001b[0m rarr3 \u001b[38;5;241m=\u001b[39m odeint(\u001b[43mgrav_derivs\u001b[49m, r_init3, times)\n",
      "\u001b[0;31mNameError\u001b[0m: name 'grav_derivs' is not defined"
     ]
    }
   ],
   "source": [
    "r_init3 = (4., 0.5, -10., 0.) # FIXME: Try different values\n",
    "times3 = np.linspace(0., 2, 1000)\n",
    "rarr3 = odeint(grav_derivs, r_init3, times)"
   ]
  },
  {
   "cell_type": "code",
   "execution_count": 6,
   "id": "71d9a052",
   "metadata": {},
   "outputs": [
    {
     "ename": "NameError",
     "evalue": "name 'rarr3' is not defined",
     "output_type": "error",
     "traceback": [
      "\u001b[0;31m---------------------------------------------------------------------------\u001b[0m",
      "\u001b[0;31mNameError\u001b[0m                                 Traceback (most recent call last)",
      "Input \u001b[0;32mIn [6]\u001b[0m, in \u001b[0;36m<module>\u001b[0;34m\u001b[0m\n\u001b[1;32m      1\u001b[0m plt\u001b[38;5;241m.\u001b[39mfigure(figsize\u001b[38;5;241m=\u001b[39m(\u001b[38;5;241m8\u001b[39m,\u001b[38;5;241m8\u001b[39m))\n\u001b[0;32m----> 2\u001b[0m plt\u001b[38;5;241m.\u001b[39mscatter(\u001b[43mrarr3\u001b[49m[:,\u001b[38;5;241m0\u001b[39m], rarr3[:,\u001b[38;5;241m1\u001b[39m], s\u001b[38;5;241m=\u001b[39m\u001b[38;5;241m5\u001b[39m)\n\u001b[1;32m      3\u001b[0m plt\u001b[38;5;241m.\u001b[39mscatter(\u001b[38;5;241m0.\u001b[39m, \u001b[38;5;241m0.\u001b[39m, c\u001b[38;5;241m=\u001b[39m\u001b[38;5;124m'\u001b[39m\u001b[38;5;124my\u001b[39m\u001b[38;5;124m'\u001b[39m, s\u001b[38;5;241m=\u001b[39m\u001b[38;5;241m50\u001b[39m) \u001b[38;5;66;03m# The sun\u001b[39;00m\n\u001b[1;32m      4\u001b[0m plt\u001b[38;5;241m.\u001b[39mgca()\u001b[38;5;241m.\u001b[39mset_aspect(\u001b[38;5;124m'\u001b[39m\u001b[38;5;124mequal\u001b[39m\u001b[38;5;124m'\u001b[39m, \u001b[38;5;124m'\u001b[39m\u001b[38;5;124mdatalim\u001b[39m\u001b[38;5;124m'\u001b[39m)\n",
      "\u001b[0;31mNameError\u001b[0m: name 'rarr3' is not defined"
     ]
    },
    {
     "data": {
      "text/plain": [
       "<Figure size 800x800 with 0 Axes>"
      ]
     },
     "metadata": {},
     "output_type": "display_data"
    }
   ],
   "source": [
    "plt.figure(figsize=(8,8))\n",
    "plt.scatter(rarr3[:,0], rarr3[:,1], s=5)\n",
    "plt.scatter(0., 0., c='y', s=50) # The sun\n",
    "plt.gca().set_aspect('equal', 'datalim')"
   ]
  },
  {
   "cell_type": "markdown",
   "id": "88b5f5fd",
   "metadata": {},
   "source": [
    "## Exercise\n",
    "\n",
    "I've defined the distance from Mars to the Sun in kilometers as `mars_distance`. Define `r_mars` in our units (the ones where the Earth is at $r = 1$, and change the initial conditions below to simulate Mars rather than Earth."
   ]
  },
  {
   "cell_type": "code",
   "execution_count": 7,
   "id": "e429c8d0",
   "metadata": {},
   "outputs": [
    {
     "ename": "NameError",
     "evalue": "name 'grav_derivs' is not defined",
     "output_type": "error",
     "traceback": [
      "\u001b[0;31m---------------------------------------------------------------------------\u001b[0m",
      "\u001b[0;31mNameError\u001b[0m                                 Traceback (most recent call last)",
      "Input \u001b[0;32mIn [7]\u001b[0m, in \u001b[0;36m<module>\u001b[0;34m\u001b[0m\n\u001b[1;32m      1\u001b[0m r_init4 \u001b[38;5;241m=\u001b[39m (\u001b[38;5;241m1\u001b[39m, \u001b[38;5;241m0.\u001b[39m, \u001b[38;5;241m0.\u001b[39m, \u001b[38;5;241m1\u001b[39m) \u001b[38;5;66;03m# FIXME: Set correct x and vy for Mars\u001b[39;00m\n\u001b[0;32m----> 2\u001b[0m rarr4 \u001b[38;5;241m=\u001b[39m odeint(\u001b[43mgrav_derivs\u001b[49m, r_init4, times)\n",
      "\u001b[0;31mNameError\u001b[0m: name 'grav_derivs' is not defined"
     ]
    }
   ],
   "source": [
    "r_init4 = (1, 0., 0., 1) # FIXME: Set correct x and vy for Mars\n",
    "rarr4 = odeint(grav_derivs, r_init4, times)"
   ]
  },
  {
   "cell_type": "code",
   "execution_count": 8,
   "id": "9992533e",
   "metadata": {},
   "outputs": [
    {
     "ename": "NameError",
     "evalue": "name 'rarr2' is not defined",
     "output_type": "error",
     "traceback": [
      "\u001b[0;31m---------------------------------------------------------------------------\u001b[0m",
      "\u001b[0;31mNameError\u001b[0m                                 Traceback (most recent call last)",
      "Input \u001b[0;32mIn [8]\u001b[0m, in \u001b[0;36m<module>\u001b[0;34m\u001b[0m\n\u001b[1;32m      1\u001b[0m plt\u001b[38;5;241m.\u001b[39mfigure(figsize\u001b[38;5;241m=\u001b[39m(\u001b[38;5;241m8\u001b[39m,\u001b[38;5;241m8\u001b[39m))\n\u001b[0;32m----> 2\u001b[0m plt\u001b[38;5;241m.\u001b[39mscatter(\u001b[43mrarr2\u001b[49m[:,\u001b[38;5;241m0\u001b[39m], rarr2[:,\u001b[38;5;241m1\u001b[39m], s\u001b[38;5;241m=\u001b[39m\u001b[38;5;241m5\u001b[39m)\n\u001b[1;32m      3\u001b[0m plt\u001b[38;5;241m.\u001b[39mscatter(rarr4[:,\u001b[38;5;241m0\u001b[39m], rarr4[:,\u001b[38;5;241m1\u001b[39m], c\u001b[38;5;241m=\u001b[39m\u001b[38;5;124m'\u001b[39m\u001b[38;5;124mr\u001b[39m\u001b[38;5;124m'\u001b[39m, s\u001b[38;5;241m=\u001b[39m\u001b[38;5;241m4\u001b[39m)\n\u001b[1;32m      4\u001b[0m plt\u001b[38;5;241m.\u001b[39mscatter(\u001b[38;5;241m0.\u001b[39m, \u001b[38;5;241m0.\u001b[39m, c\u001b[38;5;241m=\u001b[39m\u001b[38;5;124m'\u001b[39m\u001b[38;5;124my\u001b[39m\u001b[38;5;124m'\u001b[39m, s\u001b[38;5;241m=\u001b[39m\u001b[38;5;241m50\u001b[39m) \u001b[38;5;66;03m# The sun\u001b[39;00m\n",
      "\u001b[0;31mNameError\u001b[0m: name 'rarr2' is not defined"
     ]
    },
    {
     "data": {
      "text/plain": [
       "<Figure size 800x800 with 0 Axes>"
      ]
     },
     "metadata": {},
     "output_type": "display_data"
    }
   ],
   "source": [
    "plt.figure(figsize=(8,8))\n",
    "plt.scatter(rarr2[:,0], rarr2[:,1], s=5)\n",
    "plt.scatter(rarr4[:,0], rarr4[:,1], c='r', s=4)\n",
    "plt.scatter(0., 0., c='y', s=50) # The sun\n",
    "plt.gca().set_aspect('equal', 'datalim')"
   ]
  },
  {
   "cell_type": "code",
   "execution_count": null,
   "id": "6cda3a63",
   "metadata": {},
   "outputs": [],
   "source": []
  }
 ],
 "metadata": {
  "kernelspec": {
   "display_name": "Python 3 (ipykernel)",
   "language": "python",
   "name": "python3"
  },
  "language_info": {
   "codemirror_mode": {
    "name": "ipython",
    "version": 3
   },
   "file_extension": ".py",
   "mimetype": "text/x-python",
   "name": "python",
   "nbconvert_exporter": "python",
   "pygments_lexer": "ipython3",
   "version": "3.9.7"
  }
 },
 "nbformat": 4,
 "nbformat_minor": 5
}
