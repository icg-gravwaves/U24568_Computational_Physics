{
 "cells": [
  {
   "cell_type": "markdown",
   "id": "42cf2f50",
   "metadata": {},
   "source": [
    "# Fancy plots in plotly"
   ]
  },
  {
   "cell_type": "code",
   "execution_count": 1,
   "id": "052582b9",
   "metadata": {},
   "outputs": [
    {
     "ename": "ModuleNotFoundError",
     "evalue": "No module named 'plotly'",
     "output_type": "error",
     "traceback": [
      "\u001b[0;31m---------------------------------------------------------------------------\u001b[0m",
      "\u001b[0;31mModuleNotFoundError\u001b[0m                       Traceback (most recent call last)",
      "Input \u001b[0;32mIn [1]\u001b[0m, in \u001b[0;36m<module>\u001b[0;34m\u001b[0m\n\u001b[0;32m----> 1\u001b[0m \u001b[38;5;28;01mimport\u001b[39;00m \u001b[38;5;21;01mplotly\u001b[39;00m\u001b[38;5;21;01m.\u001b[39;00m\u001b[38;5;21;01mexpress\u001b[39;00m \u001b[38;5;28;01mas\u001b[39;00m \u001b[38;5;21;01mpx\u001b[39;00m\n\u001b[1;32m      2\u001b[0m \u001b[38;5;28;01mimport\u001b[39;00m \u001b[38;5;21;01mplotly\u001b[39;00m\u001b[38;5;21;01m.\u001b[39;00m\u001b[38;5;21;01mgraph_objects\u001b[39;00m \u001b[38;5;28;01mas\u001b[39;00m \u001b[38;5;21;01mgo\u001b[39;00m\n\u001b[1;32m      3\u001b[0m \u001b[38;5;28;01mimport\u001b[39;00m \u001b[38;5;21;01mmatplotlib\u001b[39;00m\u001b[38;5;21;01m.\u001b[39;00m\u001b[38;5;21;01mpyplot\u001b[39;00m \u001b[38;5;28;01mas\u001b[39;00m \u001b[38;5;21;01mplt\u001b[39;00m\n",
      "\u001b[0;31mModuleNotFoundError\u001b[0m: No module named 'plotly'"
     ]
    }
   ],
   "source": [
    "import plotly.express as px\n",
    "import plotly.graph_objects as go\n",
    "import matplotlib.pyplot as plt\n",
    "import pandas as pd\n",
    "import numpy as np"
   ]
  },
  {
   "cell_type": "markdown",
   "id": "079dfc82",
   "metadata": {},
   "source": [
    "Today we'll try to make some fancy plots. The problem is, plotting software in Python tends to change rapidly. It's also quite difficult to remember anything beyond the basic plotting functions. So next time we need to make a plot, we won't remember how to do it and the syntax will have changed anyway. There may even be some brand new plotting package that's better than the current one.\n",
    "\n",
    "So instead of this notebook spelling things out, we're going to practice reading the documentation. A recommended way to do this is:\n",
    " * Skim the intro and an example to get a sense of how the plotting package works\n",
    " * Find an example that is close to what you want to do\n",
    " * Copy the example and run it\n",
    " * Change the example to match what you want to do; read the documentation for help but also just try things in the notebook\n",
    "\n",
    "We'll use a package called `Plotly`. Here is the [documentation](https://plotly.com/python/). Most of the pages have a section on using `Dash`, which is a paid verson. You can scroll past those.\n",
    "\n",
    "We want to focus on using `Plotly Express` (which we shorten to `px`), which is the high level interface to the package. When we need to control things in more detail, we can use the low-level functions directly from `plotly.graph_objects` (shortened to `go`).\n",
    "\n",
    "`Plotly` works best when the data is in Pandas DataFrames, but you can use Numpy arrays as well."
   ]
  },
  {
   "cell_type": "markdown",
   "id": "ad91f01d",
   "metadata": {},
   "source": [
    "## Exercise\n",
    "\n",
    "Load the `stellar_data.csv` file and make a 3D plot of RA, DEC, and distance. To get the scatter points the right size, call your plot `fig` and do `fig.update_traces(marker_size=1)`."
   ]
  },
  {
   "cell_type": "markdown",
   "id": "94bf547a",
   "metadata": {},
   "source": [
    "## Exercise\n",
    "\n",
    "Use the color of the points to visualise other columns in the dataset.\n",
    "\n",
    "You can also try converting DEC and RA from polar coordinates to make a correct Cartesian plot."
   ]
  },
  {
   "cell_type": "code",
   "execution_count": 2,
   "id": "b6d3f14d",
   "metadata": {},
   "outputs": [
    {
     "ename": "NameError",
     "evalue": "name 'pd' is not defined",
     "output_type": "error",
     "traceback": [
      "\u001b[0;31m---------------------------------------------------------------------------\u001b[0m",
      "\u001b[0;31mNameError\u001b[0m                                 Traceback (most recent call last)",
      "Input \u001b[0;32mIn [2]\u001b[0m, in \u001b[0;36m<module>\u001b[0;34m\u001b[0m\n\u001b[0;32m----> 1\u001b[0m data \u001b[38;5;241m=\u001b[39m \u001b[43mpd\u001b[49m\u001b[38;5;241m.\u001b[39mread_csv(\u001b[38;5;124m'\u001b[39m\u001b[38;5;124mstellar_data.csv\u001b[39m\u001b[38;5;124m'\u001b[39m)\n",
      "\u001b[0;31mNameError\u001b[0m: name 'pd' is not defined"
     ]
    }
   ],
   "source": [
    "data = pd.read_csv('stellar_data.csv')"
   ]
  },
  {
   "cell_type": "code",
   "execution_count": 3,
   "id": "60d4bdf4",
   "metadata": {},
   "outputs": [
    {
     "ename": "NameError",
     "evalue": "name 'data' is not defined",
     "output_type": "error",
     "traceback": [
      "\u001b[0;31m---------------------------------------------------------------------------\u001b[0m",
      "\u001b[0;31mNameError\u001b[0m                                 Traceback (most recent call last)",
      "Input \u001b[0;32mIn [3]\u001b[0m, in \u001b[0;36m<module>\u001b[0;34m\u001b[0m\n\u001b[0;32m----> 1\u001b[0m \u001b[43mdata\u001b[49m\u001b[38;5;241m.\u001b[39mhead()\n",
      "\u001b[0;31mNameError\u001b[0m: name 'data' is not defined"
     ]
    }
   ],
   "source": [
    "data.head()"
   ]
  },
  {
   "cell_type": "markdown",
   "id": "47613f71",
   "metadata": {},
   "source": [
    "## Exercise\n",
    "\n",
    "Use `np.loadtxt` to load the `stm.txt` file, which is 2D height data from a scanning electron microscope. Make a 3D surface plot. Can you add colour contours?"
   ]
  },
  {
   "cell_type": "code",
   "execution_count": 4,
   "id": "3d222e01",
   "metadata": {},
   "outputs": [
    {
     "ename": "NameError",
     "evalue": "name 'np' is not defined",
     "output_type": "error",
     "traceback": [
      "\u001b[0;31m---------------------------------------------------------------------------\u001b[0m",
      "\u001b[0;31mNameError\u001b[0m                                 Traceback (most recent call last)",
      "Input \u001b[0;32mIn [4]\u001b[0m, in \u001b[0;36m<module>\u001b[0;34m\u001b[0m\n\u001b[0;32m----> 1\u001b[0m data \u001b[38;5;241m=\u001b[39m \u001b[43mnp\u001b[49m\u001b[38;5;241m.\u001b[39mloadtxt(\u001b[38;5;124m'\u001b[39m\u001b[38;5;124mstm.txt\u001b[39m\u001b[38;5;124m'\u001b[39m)\n",
      "\u001b[0;31mNameError\u001b[0m: name 'np' is not defined"
     ]
    }
   ],
   "source": [
    "data = np.loadtxt('stm.txt')"
   ]
  },
  {
   "cell_type": "markdown",
   "id": "d80219ad",
   "metadata": {},
   "source": [
    "## Exercise\n",
    "\n",
    "Try to make some animations of your ODE exercises. The Lorenz butterfly is a good one to start with (and is actually the example in the documentation)."
   ]
  },
  {
   "cell_type": "markdown",
   "id": "20648c29",
   "metadata": {},
   "source": [
    "## Exercise\n",
    "\n",
    "Try to animate the solar system ODEs. This is difficult because you'll need to create a Pandas dataframe, and reorganise the data. You'll likely find `np.vstack` or `np.hstack` helpful, and `np.reshape`."
   ]
  },
  {
   "cell_type": "markdown",
   "id": "9b438758",
   "metadata": {},
   "source": [
    "## Exercise\n",
    "\n",
    "Interactive plots with Plotly seem overly complicated. Try to follow the instructions to do this with [Matplotlib/ipywidgets](https://ipywidgets.readthedocs.io/en/stable/examples/Using%20Interact.html).\n",
    "\n",
    "Create a little game with a function like a sine wave and you move sliders to match the amplitude, phase and frequency."
   ]
  },
  {
   "cell_type": "code",
   "execution_count": null,
   "id": "c8f115c6",
   "metadata": {},
   "outputs": [],
   "source": []
  }
 ],
 "metadata": {
  "kernelspec": {
   "display_name": "Python 3 (ipykernel)",
   "language": "python",
   "name": "python3"
  },
  "language_info": {
   "codemirror_mode": {
    "name": "ipython",
    "version": 3
   },
   "file_extension": ".py",
   "mimetype": "text/x-python",
   "name": "python",
   "nbconvert_exporter": "python",
   "pygments_lexer": "ipython3",
   "version": "3.9.7"
  }
 },
 "nbformat": 4,
 "nbformat_minor": 5
}
