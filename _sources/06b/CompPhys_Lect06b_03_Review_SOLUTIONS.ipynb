{
 "cells": [
  {
   "cell_type": "markdown",
   "id": "637b876c",
   "metadata": {
    "id": "637b876c"
   },
   "source": [
    "# Question 3 - SOLVED\n"
   ]
  },
  {
   "cell_type": "code",
   "execution_count": 1,
   "id": "2fdf38ac",
   "metadata": {
    "executionInfo": {
     "elapsed": 4,
     "status": "ok",
     "timestamp": 1739974973021,
     "user": {
      "displayName": "Laura Nuttall",
      "userId": "06326247154476711409"
     },
     "user_tz": 0
    },
    "id": "2fdf38ac"
   },
   "outputs": [],
   "source": [
    "%matplotlib inline\n",
    "import matplotlib.pyplot as plt\n",
    "import numpy as np"
   ]
  },
  {
   "cell_type": "markdown",
   "id": "8756ae25",
   "metadata": {
    "id": "8756ae25"
   },
   "source": [
    "## A Line Class\n",
    "\n",
    "Define a class `Line`. It should be initialised with slope and intercept (you can call them $m$ and $b$ for short), and store those. The equation of a line will be $y = m x + b$.\n",
    "\n",
    "Now define a method for this class `.intersect(other)`. Here `other` will be another instance of a `Line`. The method returns the `(x, y)` point where that line intersects this one. The formulas for that point are\n",
    "\n",
    "$$x = \\frac{b_2 - b_1}{m_1 - m_2}$$\n",
    "\n",
    "$$y = \\frac{b_2 m_1 - b_1 m_2}{m_1 - m_2}$$\n",
    "\n",
    "Hint: When implementing formulas, it's usually easiest to first define variables with short names like `b1`, `m1`, `b2`, and `m2`. Otherwise, you'll have formulas with many terms like `self.m` and `other.m`.\n",
    "\n",
    "Don't forget to test your code by making two instances of `Line` and finding their intersection. Does it matter whether you intersect 1 with 2 or 2 with 1?"
   ]
  },
  {
   "cell_type": "code",
   "execution_count": 2,
   "id": "459d23b1",
   "metadata": {
    "colab": {
     "base_uri": "https://localhost:8080/"
    },
    "executionInfo": {
     "elapsed": 16,
     "status": "ok",
     "timestamp": 1739974973045,
     "user": {
      "displayName": "Laura Nuttall",
      "userId": "06326247154476711409"
     },
     "user_tz": 0
    },
    "id": "459d23b1",
    "outputId": "742e253d-5706-4655-d04c-495d7dcf1df5"
   },
   "outputs": [
    {
     "name": "stdout",
     "output_type": "stream",
     "text": [
      "(-1.0, 1.0)\n",
      "It does not matter whether you intersect 1 with 2 or 2 with 1. It gives the same answer\n"
     ]
    }
   ],
   "source": [
    "# Answer goes here\n",
    "class Line:\n",
    "  def __init__(self, m, b):\n",
    "    self.m = m\n",
    "    self.b = b\n",
    "\n",
    "  def intersect(self, other):\n",
    "    b1 = self.b\n",
    "    b2 = other.b\n",
    "    m1 = self.m\n",
    "    m2 = other.m\n",
    "\n",
    "    x = (b2 - b1) / (m1 - m2)\n",
    "    y = (b2*m1 - b1*m2) / (m1 - m2)\n",
    "    return(x,y)\n",
    "\n",
    "# Test with two instances of Line\n",
    "line1 = Line(1,2)\n",
    "line2 = Line(3,4)\n",
    "\n",
    "intersect_point_12 = line1.intersect(line2)\n",
    "print(intersect_point_12)\n",
    "\n",
    "# Check ordering does not matter\n",
    "intersect_point_21 = line2.intersect(line1)\n",
    "\n",
    "if intersect_point_12 == intersect_point_21:\n",
    "  print('It does not matter whether you intersect 1 with 2 or 2 with 1. It gives the same answer')\n",
    "else:\n",
    "  print('It does not work the way you expect it to!')"
   ]
  }
 ],
 "metadata": {
  "colab": {
   "provenance": []
  },
  "kernelspec": {
   "display_name": "Python 3 (ipykernel)",
   "language": "python",
   "name": "python3"
  },
  "language_info": {
   "codemirror_mode": {
    "name": "ipython",
    "version": 3
   },
   "file_extension": ".py",
   "mimetype": "text/x-python",
   "name": "python",
   "nbconvert_exporter": "python",
   "pygments_lexer": "ipython3",
   "version": "3.9.7"
  }
 },
 "nbformat": 4,
 "nbformat_minor": 5
}
