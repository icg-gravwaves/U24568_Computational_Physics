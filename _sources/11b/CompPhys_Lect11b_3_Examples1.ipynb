{
 "cells": [
  {
   "cell_type": "markdown",
   "id": "bd1e8184",
   "metadata": {},
   "source": [
    "# Exercise Set 1\n",
    "\n",
    "As with the first optimization lecture, here are four functions written using python. Rewrite these functions using Cython. Compare the speed of the function to the first optimization's notebook where these functions were replaced with numpy calls."
   ]
  },
  {
   "cell_type": "code",
   "execution_count": 3,
   "id": "02c18272",
   "metadata": {},
   "outputs": [],
   "source": [
    "%load_ext cython"
   ]
  },
  {
   "cell_type": "markdown",
   "id": "b9785d99",
   "metadata": {},
   "source": [
    "## Exercise 1.1\n",
    "\n",
    "Rewrite this function to compute the sin of an input timeseries"
   ]
  },
  {
   "cell_type": "code",
   "execution_count": 1,
   "id": "89ae5688",
   "metadata": {},
   "outputs": [],
   "source": [
    "# EXERCISE 1.1 - Our sin series from before\n",
    "import numpy, math\n",
    "\n",
    "def compute_sin_tseries(timeseries):\n",
    "    sin_tseries = numpy.zeros(len(tseries))\n",
    "    for i in range(len(timeseries)):\n",
    "        sin_tseries[i] = numpy.sin(timeseries[i])\n",
    "    return sin_tseries\n",
    "\n",
    "# Here is the optimized numpy solution for reference\n",
    "def compute_sin_tseries_numpy(timeseries):\n",
    "    return numpy.sin(timeseries)\n"
   ]
  },
  {
   "cell_type": "code",
   "execution_count": 2,
   "id": "39778883",
   "metadata": {},
   "outputs": [
    {
     "name": "stderr",
     "output_type": "stream",
     "text": [
      "UsageError: Cell magic `%%cython` not found.\n"
     ]
    }
   ],
   "source": [
    "%%cython -a\n",
    "import numpy\n",
    "from cython import wraparound, boundscheck\n",
    "from libc.math cimport sin # This imports c's sin function from the math library\n",
    "\n",
    "@boundscheck(False)\n",
    "@wraparound(False)\n",
    "def compute_sinx_cython(double [::1] timeseries):\n",
    "    # You'll need to fill this in. The cos example is probably a good starting place!\n"
   ]
  },
  {
   "cell_type": "code",
   "execution_count": 4,
   "id": "4e418f06",
   "metadata": {},
   "outputs": [
    {
     "name": "stdout",
     "output_type": "stream",
     "text": [
      "29.6 ms ± 354 µs per loop (mean ± std. dev. of 7 runs, 10 loops each)\n",
      "221 µs ± 5.59 µs per loop (mean ± std. dev. of 7 runs, 1,000 loops each)\n"
     ]
    },
    {
     "ename": "NameError",
     "evalue": "name 'compute_sinx_cython' is not defined",
     "output_type": "error",
     "traceback": [
      "\u001b[0;31m---------------------------------------------------------------------------\u001b[0m",
      "\u001b[0;31mNameError\u001b[0m                                 Traceback (most recent call last)",
      "Input \u001b[0;32mIn [4]\u001b[0m, in \u001b[0;36m<module>\u001b[0;34m\u001b[0m\n\u001b[1;32m     12\u001b[0m get_ipython()\u001b[38;5;241m.\u001b[39mrun_line_magic(\u001b[38;5;124m'\u001b[39m\u001b[38;5;124mtimeit\u001b[39m\u001b[38;5;124m'\u001b[39m, \u001b[38;5;124m'\u001b[39m\u001b[38;5;124mcompute_sin_tseries(tseries)\u001b[39m\u001b[38;5;124m'\u001b[39m)\n\u001b[1;32m     13\u001b[0m get_ipython()\u001b[38;5;241m.\u001b[39mrun_line_magic(\u001b[38;5;124m'\u001b[39m\u001b[38;5;124mtimeit\u001b[39m\u001b[38;5;124m'\u001b[39m, \u001b[38;5;124m'\u001b[39m\u001b[38;5;124mcompute_sin_tseries_numpy(tseries)\u001b[39m\u001b[38;5;124m'\u001b[39m)\n\u001b[0;32m---> 14\u001b[0m \u001b[43mget_ipython\u001b[49m\u001b[43m(\u001b[49m\u001b[43m)\u001b[49m\u001b[38;5;241;43m.\u001b[39;49m\u001b[43mrun_line_magic\u001b[49m\u001b[43m(\u001b[49m\u001b[38;5;124;43m'\u001b[39;49m\u001b[38;5;124;43mtimeit\u001b[39;49m\u001b[38;5;124;43m'\u001b[39;49m\u001b[43m,\u001b[49m\u001b[43m \u001b[49m\u001b[38;5;124;43m'\u001b[39;49m\u001b[38;5;124;43mcompute_sinx_cython(tseries)\u001b[39;49m\u001b[38;5;124;43m'\u001b[39;49m\u001b[43m)\u001b[49m\n",
      "File \u001b[0;32m/opt/homebrew/Caskroom/miniconda/base/envs/pycbc_test/lib/python3.9/site-packages/IPython/core/interactiveshell.py:2204\u001b[0m, in \u001b[0;36mInteractiveShell.run_line_magic\u001b[0;34m(self, magic_name, line, _stack_depth)\u001b[0m\n\u001b[1;32m   2202\u001b[0m     kwargs[\u001b[38;5;124m'\u001b[39m\u001b[38;5;124mlocal_ns\u001b[39m\u001b[38;5;124m'\u001b[39m] \u001b[38;5;241m=\u001b[39m \u001b[38;5;28mself\u001b[39m\u001b[38;5;241m.\u001b[39mget_local_scope(stack_depth)\n\u001b[1;32m   2203\u001b[0m \u001b[38;5;28;01mwith\u001b[39;00m \u001b[38;5;28mself\u001b[39m\u001b[38;5;241m.\u001b[39mbuiltin_trap:\n\u001b[0;32m-> 2204\u001b[0m     result \u001b[38;5;241m=\u001b[39m \u001b[43mfn\u001b[49m\u001b[43m(\u001b[49m\u001b[38;5;241;43m*\u001b[39;49m\u001b[43margs\u001b[49m\u001b[43m,\u001b[49m\u001b[43m \u001b[49m\u001b[38;5;241;43m*\u001b[39;49m\u001b[38;5;241;43m*\u001b[39;49m\u001b[43mkwargs\u001b[49m\u001b[43m)\u001b[49m\n\u001b[1;32m   2205\u001b[0m \u001b[38;5;28;01mreturn\u001b[39;00m result\n",
      "File \u001b[0;32m/opt/homebrew/Caskroom/miniconda/base/envs/pycbc_test/lib/python3.9/site-packages/IPython/core/magics/execution.py:1162\u001b[0m, in \u001b[0;36mExecutionMagics.timeit\u001b[0;34m(self, line, cell, local_ns)\u001b[0m\n\u001b[1;32m   1160\u001b[0m \u001b[38;5;28;01mfor\u001b[39;00m index \u001b[38;5;129;01min\u001b[39;00m \u001b[38;5;28mrange\u001b[39m(\u001b[38;5;241m0\u001b[39m, \u001b[38;5;241m10\u001b[39m):\n\u001b[1;32m   1161\u001b[0m     number \u001b[38;5;241m=\u001b[39m \u001b[38;5;241m10\u001b[39m \u001b[38;5;241m*\u001b[39m\u001b[38;5;241m*\u001b[39m index\n\u001b[0;32m-> 1162\u001b[0m     time_number \u001b[38;5;241m=\u001b[39m \u001b[43mtimer\u001b[49m\u001b[38;5;241;43m.\u001b[39;49m\u001b[43mtimeit\u001b[49m\u001b[43m(\u001b[49m\u001b[43mnumber\u001b[49m\u001b[43m)\u001b[49m\n\u001b[1;32m   1163\u001b[0m     \u001b[38;5;28;01mif\u001b[39;00m time_number \u001b[38;5;241m>\u001b[39m\u001b[38;5;241m=\u001b[39m \u001b[38;5;241m0.2\u001b[39m:\n\u001b[1;32m   1164\u001b[0m         \u001b[38;5;28;01mbreak\u001b[39;00m\n",
      "File \u001b[0;32m/opt/homebrew/Caskroom/miniconda/base/envs/pycbc_test/lib/python3.9/site-packages/IPython/core/magics/execution.py:156\u001b[0m, in \u001b[0;36mTimer.timeit\u001b[0;34m(self, number)\u001b[0m\n\u001b[1;32m    154\u001b[0m gc\u001b[38;5;241m.\u001b[39mdisable()\n\u001b[1;32m    155\u001b[0m \u001b[38;5;28;01mtry\u001b[39;00m:\n\u001b[0;32m--> 156\u001b[0m     timing \u001b[38;5;241m=\u001b[39m \u001b[38;5;28;43mself\u001b[39;49m\u001b[38;5;241;43m.\u001b[39;49m\u001b[43minner\u001b[49m\u001b[43m(\u001b[49m\u001b[43mit\u001b[49m\u001b[43m,\u001b[49m\u001b[43m \u001b[49m\u001b[38;5;28;43mself\u001b[39;49m\u001b[38;5;241;43m.\u001b[39;49m\u001b[43mtimer\u001b[49m\u001b[43m)\u001b[49m\n\u001b[1;32m    157\u001b[0m \u001b[38;5;28;01mfinally\u001b[39;00m:\n\u001b[1;32m    158\u001b[0m     \u001b[38;5;28;01mif\u001b[39;00m gcold:\n",
      "File \u001b[0;32m<magic-timeit>:1\u001b[0m, in \u001b[0;36minner\u001b[0;34m(_it, _timer)\u001b[0m\n",
      "\u001b[0;31mNameError\u001b[0m: name 'compute_sinx_cython' is not defined"
     ]
    }
   ],
   "source": [
    "# Compare time taken to run each of these functions here.\n",
    "def generate_time_series(tmin, tmax, delta_t):\n",
    "    \"\"\"\n",
    "    Generates a times series between tmin and tmax sampled at delta_t\n",
    "    \"\"\"\n",
    "    tseries = numpy.arange(tmin, tmax, delta_t)\n",
    "    # We shift tseries by delta_t / 2 to ensure that we are using the midpoint rule (see wikipedia page)\n",
    "    tseries = tseries + delta_t / 2.\n",
    "    return tseries\n",
    "\n",
    "tseries = generate_time_series(1., 1000., 1./100.)\n",
    "%timeit compute_sin_tseries(tseries)\n",
    "%timeit compute_sin_tseries_numpy(tseries)\n",
    "%timeit compute_sinx_cython(tseries)"
   ]
  },
  {
   "cell_type": "markdown",
   "id": "b99a6bde",
   "metadata": {},
   "source": [
    "## Exercise 1.2\n",
    "\n",
    "Rewrite this function to compute the exponential of an input time series."
   ]
  },
  {
   "cell_type": "code",
   "execution_count": 5,
   "id": "947f6553",
   "metadata": {},
   "outputs": [],
   "source": [
    "# EXERCISE 1.2\n",
    "import math, numpy\n",
    "\n",
    "def compute_exp_tseries(timeseries):\n",
    "    exp_tseries = numpy.zeros(len(timeseries))\n",
    "    for i in range(len(timeseries)):\n",
    "        exp_tseries[i] = math.e ** timeseries[i]\n",
    "    return exp_tseries\n",
    "\n",
    "# Numpy optimized function from before\n",
    "def compute_exp_tseries_numpy(timeseries):\n",
    "    return numpy.exp(timeseries)"
   ]
  },
  {
   "cell_type": "code",
   "execution_count": 6,
   "id": "943432f4",
   "metadata": {},
   "outputs": [
    {
     "name": "stderr",
     "output_type": "stream",
     "text": [
      "\n",
      "Error compiling Cython file:\n",
      "------------------------------------------------------------\n",
      "...\n",
      "\n",
      "@boundscheck(False)\n",
      "@wraparound(False)\n",
      "def compute_expx_cython(double [::1] timeseries):\n",
      "    # You need to complete this, as before the cos example is a good starting point.\n",
      "^\n",
      "------------------------------------------------------------\n",
      "\n",
      "/Users/iwharry/.ipython/cython/_cython_magic_8c27dddab523182443330829135d9ab1.pyx:11:0: Expected an increase in indentation level\n"
     ]
    }
   ],
   "source": [
    "%%cython -a\n",
    "# Cython goes here\n",
    "import math\n",
    "import numpy\n",
    "from cython import wraparound, boundscheck\n",
    "from libc.math cimport exp # This imports c's exp function from the math library\n",
    "\n",
    "@boundscheck(False)\n",
    "@wraparound(False)\n",
    "def compute_expx_cython(double [::1] timeseries):\n",
    "    # You need to complete this, as before the cos example is a good starting point."
   ]
  },
  {
   "cell_type": "code",
   "execution_count": 7,
   "id": "e08e5def",
   "metadata": {},
   "outputs": [
    {
     "name": "stdout",
     "output_type": "stream",
     "text": [
      "99.3 ms ± 1.11 ms per loop (mean ± std. dev. of 7 runs, 10 loops each)\n",
      "1.74 ms ± 7.29 µs per loop (mean ± std. dev. of 7 runs, 1,000 loops each)\n"
     ]
    },
    {
     "ename": "NameError",
     "evalue": "name 'compute_expx_cython' is not defined",
     "output_type": "error",
     "traceback": [
      "\u001b[0;31m---------------------------------------------------------------------------\u001b[0m",
      "\u001b[0;31mNameError\u001b[0m                                 Traceback (most recent call last)",
      "Input \u001b[0;32mIn [7]\u001b[0m, in \u001b[0;36m<module>\u001b[0;34m\u001b[0m\n\u001b[1;32m      3\u001b[0m get_ipython()\u001b[38;5;241m.\u001b[39mrun_line_magic(\u001b[38;5;124m'\u001b[39m\u001b[38;5;124mtimeit\u001b[39m\u001b[38;5;124m'\u001b[39m, \u001b[38;5;124m'\u001b[39m\u001b[38;5;124mcompute_exp_tseries(tseries)\u001b[39m\u001b[38;5;124m'\u001b[39m)\n\u001b[1;32m      4\u001b[0m get_ipython()\u001b[38;5;241m.\u001b[39mrun_line_magic(\u001b[38;5;124m'\u001b[39m\u001b[38;5;124mtimeit\u001b[39m\u001b[38;5;124m'\u001b[39m, \u001b[38;5;124m'\u001b[39m\u001b[38;5;124mcompute_exp_tseries_numpy(tseries)\u001b[39m\u001b[38;5;124m'\u001b[39m)\n\u001b[0;32m----> 5\u001b[0m \u001b[43mget_ipython\u001b[49m\u001b[43m(\u001b[49m\u001b[43m)\u001b[49m\u001b[38;5;241;43m.\u001b[39;49m\u001b[43mrun_line_magic\u001b[49m\u001b[43m(\u001b[49m\u001b[38;5;124;43m'\u001b[39;49m\u001b[38;5;124;43mtimeit\u001b[39;49m\u001b[38;5;124;43m'\u001b[39;49m\u001b[43m,\u001b[49m\u001b[43m \u001b[49m\u001b[38;5;124;43m'\u001b[39;49m\u001b[38;5;124;43mcompute_expx_cython(tseries)\u001b[39;49m\u001b[38;5;124;43m'\u001b[39;49m\u001b[43m)\u001b[49m\n",
      "File \u001b[0;32m/opt/homebrew/Caskroom/miniconda/base/envs/pycbc_test/lib/python3.9/site-packages/IPython/core/interactiveshell.py:2204\u001b[0m, in \u001b[0;36mInteractiveShell.run_line_magic\u001b[0;34m(self, magic_name, line, _stack_depth)\u001b[0m\n\u001b[1;32m   2202\u001b[0m     kwargs[\u001b[38;5;124m'\u001b[39m\u001b[38;5;124mlocal_ns\u001b[39m\u001b[38;5;124m'\u001b[39m] \u001b[38;5;241m=\u001b[39m \u001b[38;5;28mself\u001b[39m\u001b[38;5;241m.\u001b[39mget_local_scope(stack_depth)\n\u001b[1;32m   2203\u001b[0m \u001b[38;5;28;01mwith\u001b[39;00m \u001b[38;5;28mself\u001b[39m\u001b[38;5;241m.\u001b[39mbuiltin_trap:\n\u001b[0;32m-> 2204\u001b[0m     result \u001b[38;5;241m=\u001b[39m \u001b[43mfn\u001b[49m\u001b[43m(\u001b[49m\u001b[38;5;241;43m*\u001b[39;49m\u001b[43margs\u001b[49m\u001b[43m,\u001b[49m\u001b[43m \u001b[49m\u001b[38;5;241;43m*\u001b[39;49m\u001b[38;5;241;43m*\u001b[39;49m\u001b[43mkwargs\u001b[49m\u001b[43m)\u001b[49m\n\u001b[1;32m   2205\u001b[0m \u001b[38;5;28;01mreturn\u001b[39;00m result\n",
      "File \u001b[0;32m/opt/homebrew/Caskroom/miniconda/base/envs/pycbc_test/lib/python3.9/site-packages/IPython/core/magics/execution.py:1162\u001b[0m, in \u001b[0;36mExecutionMagics.timeit\u001b[0;34m(self, line, cell, local_ns)\u001b[0m\n\u001b[1;32m   1160\u001b[0m \u001b[38;5;28;01mfor\u001b[39;00m index \u001b[38;5;129;01min\u001b[39;00m \u001b[38;5;28mrange\u001b[39m(\u001b[38;5;241m0\u001b[39m, \u001b[38;5;241m10\u001b[39m):\n\u001b[1;32m   1161\u001b[0m     number \u001b[38;5;241m=\u001b[39m \u001b[38;5;241m10\u001b[39m \u001b[38;5;241m*\u001b[39m\u001b[38;5;241m*\u001b[39m index\n\u001b[0;32m-> 1162\u001b[0m     time_number \u001b[38;5;241m=\u001b[39m \u001b[43mtimer\u001b[49m\u001b[38;5;241;43m.\u001b[39;49m\u001b[43mtimeit\u001b[49m\u001b[43m(\u001b[49m\u001b[43mnumber\u001b[49m\u001b[43m)\u001b[49m\n\u001b[1;32m   1163\u001b[0m     \u001b[38;5;28;01mif\u001b[39;00m time_number \u001b[38;5;241m>\u001b[39m\u001b[38;5;241m=\u001b[39m \u001b[38;5;241m0.2\u001b[39m:\n\u001b[1;32m   1164\u001b[0m         \u001b[38;5;28;01mbreak\u001b[39;00m\n",
      "File \u001b[0;32m/opt/homebrew/Caskroom/miniconda/base/envs/pycbc_test/lib/python3.9/site-packages/IPython/core/magics/execution.py:156\u001b[0m, in \u001b[0;36mTimer.timeit\u001b[0;34m(self, number)\u001b[0m\n\u001b[1;32m    154\u001b[0m gc\u001b[38;5;241m.\u001b[39mdisable()\n\u001b[1;32m    155\u001b[0m \u001b[38;5;28;01mtry\u001b[39;00m:\n\u001b[0;32m--> 156\u001b[0m     timing \u001b[38;5;241m=\u001b[39m \u001b[38;5;28;43mself\u001b[39;49m\u001b[38;5;241;43m.\u001b[39;49m\u001b[43minner\u001b[49m\u001b[43m(\u001b[49m\u001b[43mit\u001b[49m\u001b[43m,\u001b[49m\u001b[43m \u001b[49m\u001b[38;5;28;43mself\u001b[39;49m\u001b[38;5;241;43m.\u001b[39;49m\u001b[43mtimer\u001b[49m\u001b[43m)\u001b[49m\n\u001b[1;32m    157\u001b[0m \u001b[38;5;28;01mfinally\u001b[39;00m:\n\u001b[1;32m    158\u001b[0m     \u001b[38;5;28;01mif\u001b[39;00m gcold:\n",
      "File \u001b[0;32m<magic-timeit>:1\u001b[0m, in \u001b[0;36minner\u001b[0;34m(_it, _timer)\u001b[0m\n",
      "\u001b[0;31mNameError\u001b[0m: name 'compute_expx_cython' is not defined"
     ]
    }
   ],
   "source": [
    "# Compare time taken to run each of these functions here.\n",
    "tseries = generate_time_series(1., 100., 1./10000.)\n",
    "%timeit compute_exp_tseries(tseries)\n",
    "%timeit compute_exp_tseries_numpy(tseries)\n",
    "%timeit compute_expx_cython(tseries)"
   ]
  },
  {
   "cell_type": "markdown",
   "id": "9ee85ae7",
   "metadata": {},
   "source": [
    "## Exercise 1.3\n",
    "\n",
    "Rewrite this code to compute a Fourier transform."
   ]
  },
  {
   "cell_type": "code",
   "execution_count": null,
   "id": "7ded30c9",
   "metadata": {},
   "outputs": [],
   "source": [
    "# Exercise 1.3\n",
    "import numpy as np\n",
    "\n",
    "def compute_fourier_transform(data_time_domain):\n",
    "    math_i = 1j # This is how to write i in python.\n",
    "    N = len(data_time_domain) # How many points in the data\n",
    "    k = np.arange(N)\n",
    "    n = np.arange(N)\n",
    "    data_frequency_domain = np.zeros(N,dtype=np.complex128)\n",
    "    for i in n:\n",
    "        for j in k:\n",
    "            data_frequency_domain[j] += data_time_domain[i] * \\\n",
    "                (np.cos(2 * np.pi * j  * i / N) - math_i * np.sin(2 * np.pi * j * i / N))\n",
    "    return data_frequency_domain\n",
    "\n",
    "# Numpy function for reference\n",
    "def compute_fourier_transform_numpy(data_time_domain):\n",
    "    math_i = 1j # This is how to write i in python.\n",
    "    N = len(data_time_domain) # How many points in the data\n",
    "    k = np.arange(N)\n",
    "    n = np.arange(N)\n",
    "    data_frequency_domain = np.zeros(N,dtype=np.complex128)\n",
    "    for i in n:\n",
    "        data_frequency_domain += data_time_domain[i] * \\\n",
    "            (np.cos(2 * np.pi * k  * i / N) - math_i * np.sin(2 * np.pi * k * i / N))\n",
    "    return data_frequency_domain\n"
   ]
  },
  {
   "cell_type": "code",
   "execution_count": 8,
   "id": "fec4e98d",
   "metadata": {},
   "outputs": [
    {
     "name": "stderr",
     "output_type": "stream",
     "text": [
      "\n",
      "Error compiling Cython file:\n",
      "------------------------------------------------------------\n",
      "...\n",
      "    # Here you'll need to add cdef statements for undefined variables (i, j) used in the for loop\n",
      "\n",
      "    for i in range(N):\n",
      "        for j in range(N):\n",
      "            temp_value = data_time_domain[i] * cos(2 * pi * j * i / N)\n",
      "            temp_value += # Add the imaginary part here\n",
      "                                                      ^\n",
      "------------------------------------------------------------\n",
      "\n",
      "/Users/iwharry/.ipython/cython/_cython_magic_bf5eebe99e46a6d4f916ae361798acfc.pyx:19:55: Expected an identifier or literal\n"
     ]
    }
   ],
   "source": [
    "%%cython -a\n",
    "# Cython goes here\n",
    "import math\n",
    "import numpy as np\n",
    "from cython import wraparound, boundscheck\n",
    "from libc.math cimport cos, sin, pi\n",
    "\n",
    "@boundscheck(False)\n",
    "@wraparound(False)\n",
    "def compute_fourier_transform_cython(double[::1] data_time_domain):\n",
    "    # N is the length of the array, use cdef to define it here as in previous examples\n",
    "\n",
    "    cdef double complex [::1] data_frequency_domain = np.zeros(N, dtype=np.complex128) # Here's how to define our complex output array\n",
    "    cdef double complex temp_value # I use a temporary value here to make it absolutely clear to cython that we must use complex values!\n",
    "    # Here you'll need to add cdef statements for undefined variables (i, j) used in the for loop\n",
    "\n",
    "    for i in range(N):\n",
    "        for j in range(N):\n",
    "            temp_value = data_time_domain[i] * cos(2 * pi * j * i / N)\n",
    "            temp_value += # Add the imaginary part here\n",
    "            data_frequency_domain[j] += temp_value\n",
    "    return data_frequency_domain\n"
   ]
  },
  {
   "cell_type": "code",
   "execution_count": 9,
   "id": "c0da4780",
   "metadata": {},
   "outputs": [
    {
     "ename": "NameError",
     "evalue": "name 'compute_fourier_transform' is not defined",
     "output_type": "error",
     "traceback": [
      "\u001b[0;31m---------------------------------------------------------------------------\u001b[0m",
      "\u001b[0;31mNameError\u001b[0m                                 Traceback (most recent call last)",
      "Input \u001b[0;32mIn [9]\u001b[0m, in \u001b[0;36m<module>\u001b[0;34m\u001b[0m\n\u001b[1;32m      1\u001b[0m data_time_domain \u001b[38;5;241m=\u001b[39m numpy\u001b[38;5;241m.\u001b[39mrandom\u001b[38;5;241m.\u001b[39mrandom(\u001b[38;5;241m1000\u001b[39m)\n\u001b[1;32m      2\u001b[0m \u001b[38;5;66;03m# This first one is *very* slow. Make a cup of tea while it runs!\u001b[39;00m\n\u001b[0;32m----> 3\u001b[0m \u001b[43mget_ipython\u001b[49m\u001b[43m(\u001b[49m\u001b[43m)\u001b[49m\u001b[38;5;241;43m.\u001b[39;49m\u001b[43mrun_line_magic\u001b[49m\u001b[43m(\u001b[49m\u001b[38;5;124;43m'\u001b[39;49m\u001b[38;5;124;43mtimeit\u001b[39;49m\u001b[38;5;124;43m'\u001b[39;49m\u001b[43m,\u001b[49m\u001b[43m \u001b[49m\u001b[38;5;124;43m'\u001b[39;49m\u001b[38;5;124;43mcompute_fourier_transform(data_time_domain)\u001b[39;49m\u001b[38;5;124;43m'\u001b[39;49m\u001b[43m)\u001b[49m\n\u001b[1;32m      4\u001b[0m get_ipython()\u001b[38;5;241m.\u001b[39mrun_line_magic(\u001b[38;5;124m'\u001b[39m\u001b[38;5;124mtimeit\u001b[39m\u001b[38;5;124m'\u001b[39m, \u001b[38;5;124m'\u001b[39m\u001b[38;5;124mcompute_fourier_transform_numpy(data_time_domain)\u001b[39m\u001b[38;5;124m'\u001b[39m)\n\u001b[1;32m      5\u001b[0m get_ipython()\u001b[38;5;241m.\u001b[39mrun_line_magic(\u001b[38;5;124m'\u001b[39m\u001b[38;5;124mtimeit\u001b[39m\u001b[38;5;124m'\u001b[39m, \u001b[38;5;124m'\u001b[39m\u001b[38;5;124mcompute_fourier_transform_cython(data_time_domain)\u001b[39m\u001b[38;5;124m'\u001b[39m)\n",
      "File \u001b[0;32m/opt/homebrew/Caskroom/miniconda/base/envs/pycbc_test/lib/python3.9/site-packages/IPython/core/interactiveshell.py:2204\u001b[0m, in \u001b[0;36mInteractiveShell.run_line_magic\u001b[0;34m(self, magic_name, line, _stack_depth)\u001b[0m\n\u001b[1;32m   2202\u001b[0m     kwargs[\u001b[38;5;124m'\u001b[39m\u001b[38;5;124mlocal_ns\u001b[39m\u001b[38;5;124m'\u001b[39m] \u001b[38;5;241m=\u001b[39m \u001b[38;5;28mself\u001b[39m\u001b[38;5;241m.\u001b[39mget_local_scope(stack_depth)\n\u001b[1;32m   2203\u001b[0m \u001b[38;5;28;01mwith\u001b[39;00m \u001b[38;5;28mself\u001b[39m\u001b[38;5;241m.\u001b[39mbuiltin_trap:\n\u001b[0;32m-> 2204\u001b[0m     result \u001b[38;5;241m=\u001b[39m \u001b[43mfn\u001b[49m\u001b[43m(\u001b[49m\u001b[38;5;241;43m*\u001b[39;49m\u001b[43margs\u001b[49m\u001b[43m,\u001b[49m\u001b[43m \u001b[49m\u001b[38;5;241;43m*\u001b[39;49m\u001b[38;5;241;43m*\u001b[39;49m\u001b[43mkwargs\u001b[49m\u001b[43m)\u001b[49m\n\u001b[1;32m   2205\u001b[0m \u001b[38;5;28;01mreturn\u001b[39;00m result\n",
      "File \u001b[0;32m/opt/homebrew/Caskroom/miniconda/base/envs/pycbc_test/lib/python3.9/site-packages/IPython/core/magics/execution.py:1162\u001b[0m, in \u001b[0;36mExecutionMagics.timeit\u001b[0;34m(self, line, cell, local_ns)\u001b[0m\n\u001b[1;32m   1160\u001b[0m \u001b[38;5;28;01mfor\u001b[39;00m index \u001b[38;5;129;01min\u001b[39;00m \u001b[38;5;28mrange\u001b[39m(\u001b[38;5;241m0\u001b[39m, \u001b[38;5;241m10\u001b[39m):\n\u001b[1;32m   1161\u001b[0m     number \u001b[38;5;241m=\u001b[39m \u001b[38;5;241m10\u001b[39m \u001b[38;5;241m*\u001b[39m\u001b[38;5;241m*\u001b[39m index\n\u001b[0;32m-> 1162\u001b[0m     time_number \u001b[38;5;241m=\u001b[39m \u001b[43mtimer\u001b[49m\u001b[38;5;241;43m.\u001b[39;49m\u001b[43mtimeit\u001b[49m\u001b[43m(\u001b[49m\u001b[43mnumber\u001b[49m\u001b[43m)\u001b[49m\n\u001b[1;32m   1163\u001b[0m     \u001b[38;5;28;01mif\u001b[39;00m time_number \u001b[38;5;241m>\u001b[39m\u001b[38;5;241m=\u001b[39m \u001b[38;5;241m0.2\u001b[39m:\n\u001b[1;32m   1164\u001b[0m         \u001b[38;5;28;01mbreak\u001b[39;00m\n",
      "File \u001b[0;32m/opt/homebrew/Caskroom/miniconda/base/envs/pycbc_test/lib/python3.9/site-packages/IPython/core/magics/execution.py:156\u001b[0m, in \u001b[0;36mTimer.timeit\u001b[0;34m(self, number)\u001b[0m\n\u001b[1;32m    154\u001b[0m gc\u001b[38;5;241m.\u001b[39mdisable()\n\u001b[1;32m    155\u001b[0m \u001b[38;5;28;01mtry\u001b[39;00m:\n\u001b[0;32m--> 156\u001b[0m     timing \u001b[38;5;241m=\u001b[39m \u001b[38;5;28;43mself\u001b[39;49m\u001b[38;5;241;43m.\u001b[39;49m\u001b[43minner\u001b[49m\u001b[43m(\u001b[49m\u001b[43mit\u001b[49m\u001b[43m,\u001b[49m\u001b[43m \u001b[49m\u001b[38;5;28;43mself\u001b[39;49m\u001b[38;5;241;43m.\u001b[39;49m\u001b[43mtimer\u001b[49m\u001b[43m)\u001b[49m\n\u001b[1;32m    157\u001b[0m \u001b[38;5;28;01mfinally\u001b[39;00m:\n\u001b[1;32m    158\u001b[0m     \u001b[38;5;28;01mif\u001b[39;00m gcold:\n",
      "File \u001b[0;32m<magic-timeit>:1\u001b[0m, in \u001b[0;36minner\u001b[0;34m(_it, _timer)\u001b[0m\n",
      "\u001b[0;31mNameError\u001b[0m: name 'compute_fourier_transform' is not defined"
     ]
    }
   ],
   "source": [
    "data_time_domain = numpy.random.random(1000)\n",
    "# This first one is *very* slow. Make a cup of tea while it runs!\n",
    "%timeit compute_fourier_transform(data_time_domain)\n",
    "%timeit compute_fourier_transform_numpy(data_time_domain)\n",
    "%timeit compute_fourier_transform_cython(data_time_domain)\n",
    "\n",
    "# Note that numpy's FFT will still be much quicker, as the algorithm itself, and not the implementation, is much more\n",
    "# optimal. However, numpy's FFT would call to an underlying C library, which is *highly* optimized, and beating that\n",
    "# would be almost impossible for cases with non-negligible length."
   ]
  },
  {
   "cell_type": "markdown",
   "id": "d4754333",
   "metadata": {},
   "source": [
    "## Exercise 1.4\n",
    "\n",
    "Rewrite thie code to compute a cross correlation"
   ]
  },
  {
   "cell_type": "code",
   "execution_count": 10,
   "id": "f2c936b3",
   "metadata": {},
   "outputs": [],
   "source": [
    "# EXERCISE 1.4 - Again, you might have seen this before!\n",
    "\n",
    "def compute_cross_correlation(signal, data):\n",
    "    cross_correlation = []\n",
    "    for i in range(len(data) - len(signal)):\n",
    "        curr_cross_corr = 0\n",
    "        for j in range(len(signal)):\n",
    "            curr_cross_corr += signal[j] * data[i+j]\n",
    "        cross_correlation.append(curr_cross_corr)\n",
    "    return cross_correlation\n",
    "\n",
    "# Numpy version from last week\n",
    "def compute_cross_correlation_numpy(signal, data):\n",
    "    cross_correlation = []\n",
    "    for i in range(len(data) - len(signal)):\n",
    "        curr_cross_corr = (signal * data[i:i+len(signal)]).sum()\n",
    "        cross_correlation.append(curr_cross_corr)\n",
    "    return cross_correlation\n"
   ]
  },
  {
   "cell_type": "code",
   "execution_count": 11,
   "id": "918bd613",
   "metadata": {},
   "outputs": [
    {
     "name": "stderr",
     "output_type": "stream",
     "text": [
      "\n",
      "Error compiling Cython file:\n",
      "------------------------------------------------------------\n",
      "...\n",
      "@boundscheck(False)\n",
      "@wraparound(False)\n",
      "def compute_cross_correlation_cython(double [::1] signal, double [::1] data):\n",
      "    cdef int sigsize = signal.size\n",
      "    cdef int datasize = data.size\n",
      "    cdef int N = # How big is the output vector? Fill that in here.\n",
      "                                                                  ^\n",
      "------------------------------------------------------------\n",
      "\n",
      "/Users/iwharry/.ipython/cython/_cython_magic_b8c00bbc000b5ecef08bfc4b2d5d2b36.pyx:11:67: Expected an identifier or literal\n"
     ]
    }
   ],
   "source": [
    "%%cython -a\n",
    "# Cython goes here\n",
    "import math\n",
    "import numpy as np\n",
    "from cython import wraparound, boundscheck\n",
    "\n",
    "@boundscheck(False)\n",
    "@wraparound(False)\n",
    "def compute_cross_correlation_cython(double [::1] signal, double [::1] data):\n",
    "    cdef int sigsize = signal.size\n",
    "    cdef int datasize = data.size\n",
    "    cdef int N = # How big is the output vector? Fill that in here.\n",
    "    cdef double [::1] cross_correlation = np.empty(N, dtype=np.float64)\n",
    "\n",
    "    # Fill in the gap here to compute cross_correlation\n",
    "    # NOTE: You will probably need *two* for loops here! In python you avoid for loops, in cython you embrace them!\n",
    "\n",
    "    return cross_correlation\n"
   ]
  },
  {
   "cell_type": "code",
   "execution_count": 12,
   "id": "4da8dc5a",
   "metadata": {},
   "outputs": [
    {
     "name": "stdout",
     "output_type": "stream",
     "text": [
      "1.04 s ± 7.03 ms per loop (mean ± std. dev. of 7 runs, 1 loop each)\n",
      "9.27 ms ± 16 µs per loop (mean ± std. dev. of 7 runs, 100 loops each)\n"
     ]
    },
    {
     "ename": "NameError",
     "evalue": "name 'compute_cross_correlation_cython' is not defined",
     "output_type": "error",
     "traceback": [
      "\u001b[0;31m---------------------------------------------------------------------------\u001b[0m",
      "\u001b[0;31mNameError\u001b[0m                                 Traceback (most recent call last)",
      "Input \u001b[0;32mIn [12]\u001b[0m, in \u001b[0;36m<module>\u001b[0;34m\u001b[0m\n\u001b[1;32m      3\u001b[0m get_ipython()\u001b[38;5;241m.\u001b[39mrun_line_magic(\u001b[38;5;124m'\u001b[39m\u001b[38;5;124mtimeit\u001b[39m\u001b[38;5;124m'\u001b[39m, \u001b[38;5;124m'\u001b[39m\u001b[38;5;124mcompute_cross_correlation(signal, data)\u001b[39m\u001b[38;5;124m'\u001b[39m)\n\u001b[1;32m      4\u001b[0m get_ipython()\u001b[38;5;241m.\u001b[39mrun_line_magic(\u001b[38;5;124m'\u001b[39m\u001b[38;5;124mtimeit\u001b[39m\u001b[38;5;124m'\u001b[39m, \u001b[38;5;124m'\u001b[39m\u001b[38;5;124mcompute_cross_correlation_numpy(signal, data)\u001b[39m\u001b[38;5;124m'\u001b[39m)\n\u001b[0;32m----> 5\u001b[0m \u001b[43mget_ipython\u001b[49m\u001b[43m(\u001b[49m\u001b[43m)\u001b[49m\u001b[38;5;241;43m.\u001b[39;49m\u001b[43mrun_line_magic\u001b[49m\u001b[43m(\u001b[49m\u001b[38;5;124;43m'\u001b[39;49m\u001b[38;5;124;43mtimeit\u001b[39;49m\u001b[38;5;124;43m'\u001b[39;49m\u001b[43m,\u001b[49m\u001b[43m \u001b[49m\u001b[38;5;124;43m'\u001b[39;49m\u001b[38;5;124;43mcompute_cross_correlation_cython(signal, data)\u001b[39;49m\u001b[38;5;124;43m'\u001b[39;49m\u001b[43m)\u001b[49m\n",
      "File \u001b[0;32m/opt/homebrew/Caskroom/miniconda/base/envs/pycbc_test/lib/python3.9/site-packages/IPython/core/interactiveshell.py:2204\u001b[0m, in \u001b[0;36mInteractiveShell.run_line_magic\u001b[0;34m(self, magic_name, line, _stack_depth)\u001b[0m\n\u001b[1;32m   2202\u001b[0m     kwargs[\u001b[38;5;124m'\u001b[39m\u001b[38;5;124mlocal_ns\u001b[39m\u001b[38;5;124m'\u001b[39m] \u001b[38;5;241m=\u001b[39m \u001b[38;5;28mself\u001b[39m\u001b[38;5;241m.\u001b[39mget_local_scope(stack_depth)\n\u001b[1;32m   2203\u001b[0m \u001b[38;5;28;01mwith\u001b[39;00m \u001b[38;5;28mself\u001b[39m\u001b[38;5;241m.\u001b[39mbuiltin_trap:\n\u001b[0;32m-> 2204\u001b[0m     result \u001b[38;5;241m=\u001b[39m \u001b[43mfn\u001b[49m\u001b[43m(\u001b[49m\u001b[38;5;241;43m*\u001b[39;49m\u001b[43margs\u001b[49m\u001b[43m,\u001b[49m\u001b[43m \u001b[49m\u001b[38;5;241;43m*\u001b[39;49m\u001b[38;5;241;43m*\u001b[39;49m\u001b[43mkwargs\u001b[49m\u001b[43m)\u001b[49m\n\u001b[1;32m   2205\u001b[0m \u001b[38;5;28;01mreturn\u001b[39;00m result\n",
      "File \u001b[0;32m/opt/homebrew/Caskroom/miniconda/base/envs/pycbc_test/lib/python3.9/site-packages/IPython/core/magics/execution.py:1162\u001b[0m, in \u001b[0;36mExecutionMagics.timeit\u001b[0;34m(self, line, cell, local_ns)\u001b[0m\n\u001b[1;32m   1160\u001b[0m \u001b[38;5;28;01mfor\u001b[39;00m index \u001b[38;5;129;01min\u001b[39;00m \u001b[38;5;28mrange\u001b[39m(\u001b[38;5;241m0\u001b[39m, \u001b[38;5;241m10\u001b[39m):\n\u001b[1;32m   1161\u001b[0m     number \u001b[38;5;241m=\u001b[39m \u001b[38;5;241m10\u001b[39m \u001b[38;5;241m*\u001b[39m\u001b[38;5;241m*\u001b[39m index\n\u001b[0;32m-> 1162\u001b[0m     time_number \u001b[38;5;241m=\u001b[39m \u001b[43mtimer\u001b[49m\u001b[38;5;241;43m.\u001b[39;49m\u001b[43mtimeit\u001b[49m\u001b[43m(\u001b[49m\u001b[43mnumber\u001b[49m\u001b[43m)\u001b[49m\n\u001b[1;32m   1163\u001b[0m     \u001b[38;5;28;01mif\u001b[39;00m time_number \u001b[38;5;241m>\u001b[39m\u001b[38;5;241m=\u001b[39m \u001b[38;5;241m0.2\u001b[39m:\n\u001b[1;32m   1164\u001b[0m         \u001b[38;5;28;01mbreak\u001b[39;00m\n",
      "File \u001b[0;32m/opt/homebrew/Caskroom/miniconda/base/envs/pycbc_test/lib/python3.9/site-packages/IPython/core/magics/execution.py:156\u001b[0m, in \u001b[0;36mTimer.timeit\u001b[0;34m(self, number)\u001b[0m\n\u001b[1;32m    154\u001b[0m gc\u001b[38;5;241m.\u001b[39mdisable()\n\u001b[1;32m    155\u001b[0m \u001b[38;5;28;01mtry\u001b[39;00m:\n\u001b[0;32m--> 156\u001b[0m     timing \u001b[38;5;241m=\u001b[39m \u001b[38;5;28;43mself\u001b[39;49m\u001b[38;5;241;43m.\u001b[39;49m\u001b[43minner\u001b[49m\u001b[43m(\u001b[49m\u001b[43mit\u001b[49m\u001b[43m,\u001b[49m\u001b[43m \u001b[49m\u001b[38;5;28;43mself\u001b[39;49m\u001b[38;5;241;43m.\u001b[39;49m\u001b[43mtimer\u001b[49m\u001b[43m)\u001b[49m\n\u001b[1;32m    157\u001b[0m \u001b[38;5;28;01mfinally\u001b[39;00m:\n\u001b[1;32m    158\u001b[0m     \u001b[38;5;28;01mif\u001b[39;00m gcold:\n",
      "File \u001b[0;32m<magic-timeit>:1\u001b[0m, in \u001b[0;36minner\u001b[0;34m(_it, _timer)\u001b[0m\n",
      "\u001b[0;31mNameError\u001b[0m: name 'compute_cross_correlation_cython' is not defined"
     ]
    }
   ],
   "source": [
    "signal = numpy.random.random(1024)\n",
    "data = numpy.random.random(1024*10)\n",
    "%timeit compute_cross_correlation(signal, data)\n",
    "%timeit compute_cross_correlation_numpy(signal, data)\n",
    "%timeit compute_cross_correlation_cython(signal, data)"
   ]
  },
  {
   "cell_type": "markdown",
   "id": "f146fb57",
   "metadata": {},
   "source": [
    "We notice that for functions where the function can be replaced with a single numpy call (np.cos or np.exp) the numpy code is just as fast as the cython code. However, for more involved examples such as the Fourier transform or cross_correlation the Cython code is noticeably faster. I saw a factor of 3-4 speed up for the cross-correlation code in Cython vs numpy. This will likely depend on the lengths of the arrays being used though, with performance likely equalizing for very long arrays."
   ]
  }
 ],
 "metadata": {
  "kernelspec": {
   "display_name": "Python 3 (ipykernel)",
   "language": "python",
   "name": "python3"
  },
  "language_info": {
   "codemirror_mode": {
    "name": "ipython",
    "version": 3
   },
   "file_extension": ".py",
   "mimetype": "text/x-python",
   "name": "python",
   "nbconvert_exporter": "python",
   "pygments_lexer": "ipython3",
   "version": "3.9.7"
  }
 },
 "nbformat": 4,
 "nbformat_minor": 5
}
