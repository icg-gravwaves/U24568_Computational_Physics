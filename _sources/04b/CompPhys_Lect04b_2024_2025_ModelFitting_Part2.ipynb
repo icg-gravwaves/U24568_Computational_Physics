{
 "cells": [
  {
   "cell_type": "markdown",
   "metadata": {
    "id": "QyPh5hoygmNp"
   },
   "source": [
    "# Data from a Periodic Star\n",
    "\n",
    "Now that we have used 3 different techniques to find models to fit our Hubble data, let us now turn our attention to a different data set - that of a periodic star.\n",
    "\n",
    "Below are lightcurve magnitudes for this source over a period of 4 months. Magnitude is an odd astronomy unit. It is a measure of brightness, which actually doesn't have any units, and lower magnitude indicates that an object is actually brighter!\n",
    "\n",
    "Now let's use what we learned in the previous section and apply it to this new dataset."
   ]
  },
  {
   "cell_type": "code",
   "execution_count": null,
   "metadata": {},
   "outputs": [],
   "source": [
    "# Packages to import\n",
    "import matplotlib.pyplot as plt\n",
    "import numpy as np\n",
    "from scipy.optimize import curve_fit"
   ]
  },
  {
   "cell_type": "code",
   "execution_count": null,
   "metadata": {
    "id": "BbN36QUJiUci"
   },
   "outputs": [],
   "source": [
    "day = np.arange(0, 120, 6) #days\n",
    "mag = np.asarray([9.2, 9.3, 9.7, 9.9, 9.6, 9.8, 9.9, 9.7, 9.1, 8.8, 8.7, 8.3, 8.6, 9.1, 9.1, 9.2, 9.5, 9.9, 9.7, 9.7]) #magnitudes"
   ]
  },
  {
   "cell_type": "markdown",
   "metadata": {
    "id": "iECmQjVIhkJj"
   },
   "source": [
    "**Exercise:** Plot the data, and try to fit a cosine function to the data. Does this model fit the data well. Justify your answer?\n",
    "\n",
    "**Remember:** Low magnitude values are brighter than high magnitude values. Invert your y-axis."
   ]
  },
  {
   "cell_type": "code",
   "execution_count": 1,
   "metadata": {
    "executionInfo": {
     "elapsed": 243,
     "status": "ok",
     "timestamp": 1738592894819,
     "user": {
      "displayName": "Laura Nuttall",
      "userId": "06326247154476711409"
     },
     "user_tz": 0
    },
    "id": "-ewRV-NKh4Tk"
   },
   "outputs": [],
   "source": [
    "# Answer here"
   ]
  },
  {
   "cell_type": "markdown",
   "metadata": {
    "id": "23bGmP5Qidxf"
   },
   "source": [
    "You will see that the cosine function doesn't fit the data well.\n",
    "\n",
    "**Exercise:** Find a polynomial model that describes the data. Which degree describes the data well without overfitting? Make a plot of the data with the model you have chosen.\n",
    "\n",
    "**Hint:** Overfitting is really easy to do...you can keep increasing the polynomial degree to find a curve that exactly fits the data. But this is not what you want. You want a curve that generally describes the data. So instead loop over 10 degrees, and make a plot of degree against R$^2$ and find the degree value where the curve 'turn over'. i.e. at which value do you stop seeing major changes to the R$^2$ value.\n",
    "\n"
   ]
  },
  {
   "cell_type": "code",
   "execution_count": 2,
   "metadata": {
    "executionInfo": {
     "elapsed": 305,
     "status": "ok",
     "timestamp": 1738592902449,
     "user": {
      "displayName": "Laura Nuttall",
      "userId": "06326247154476711409"
     },
     "user_tz": 0
    },
    "id": "9tLWlRrmp02P"
   },
   "outputs": [],
   "source": [
    "# Answer here"
   ]
  },
  {
   "cell_type": "code",
   "execution_count": 3,
   "metadata": {
    "executionInfo": {
     "elapsed": 242,
     "status": "ok",
     "timestamp": 1738592908789,
     "user": {
      "displayName": "Laura Nuttall",
      "userId": "06326247154476711409"
     },
     "user_tz": 0
    },
    "id": "ipodO9E4jXFS"
   },
   "outputs": [],
   "source": [
    "# Answer here"
   ]
  },
  {
   "cell_type": "markdown",
   "metadata": {
    "id": "o1zexGNWEqD-"
   },
   "source": [
    "We see here that the polynomial model fits the data better than the cosine model. But the data only really shows around one period of the star. Below we provide the next 100 days of the periodic star. Does this polynomial still fit the data?"
   ]
  },
  {
   "cell_type": "code",
   "execution_count": null,
   "metadata": {
    "id": "ICXh5NGLEph_"
   },
   "outputs": [],
   "source": [
    "day_all = np.arange(0, 220, 6) #days\n",
    "mag_all = np.asarray([9.2, 9.3, 9.7, 9.9, 9.6, 9.8, 9.9, 9.7, 9.1, 8.8, 8.7, 8.3, 8.6, 9.0, 9.1, 9.2, 9.5, 9.9, 9.7, 9.7, 9.8, 9.6, 9.1, 8.7, 8.7, 8.4, 8.6, 9.1, 9.1, 9.2, 9.4, 9.9, 9.7, 9.8, 9.7, 9.6, 9.2]) #magnitudes"
   ]
  },
  {
   "cell_type": "code",
   "execution_count": 4,
   "metadata": {
    "executionInfo": {
     "elapsed": 240,
     "status": "ok",
     "timestamp": 1738592921524,
     "user": {
      "displayName": "Laura Nuttall",
      "userId": "06326247154476711409"
     },
     "user_tz": 0
    },
    "id": "JfwJdpG5EpXV"
   },
   "outputs": [],
   "source": [
    "# Answer here"
   ]
  },
  {
   "cell_type": "markdown",
   "metadata": {
    "id": "ZD6enR4XHZxZ"
   },
   "source": [
    "**Exercise:** Find a model which best fits this periodic data"
   ]
  },
  {
   "cell_type": "code",
   "execution_count": 5,
   "metadata": {
    "executionInfo": {
     "elapsed": 3,
     "status": "ok",
     "timestamp": 1738592936354,
     "user": {
      "displayName": "Laura Nuttall",
      "userId": "06326247154476711409"
     },
     "user_tz": 0
    },
    "id": "CscejlaRHezu"
   },
   "outputs": [],
   "source": [
    "# Answer here"
   ]
  }
 ],
 "metadata": {
  "colab": {
   "provenance": []
  },
  "kernelspec": {
   "display_name": "Python 3 (ipykernel)",
   "language": "python",
   "name": "python3"
  },
  "language_info": {
   "codemirror_mode": {
    "name": "ipython",
    "version": 3
   },
   "file_extension": ".py",
   "mimetype": "text/x-python",
   "name": "python",
   "nbconvert_exporter": "python",
   "pygments_lexer": "ipython3",
   "version": "3.9.7"
  }
 },
 "nbformat": 4,
 "nbformat_minor": 1
}
