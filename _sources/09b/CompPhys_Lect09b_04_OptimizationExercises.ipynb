{
 "cells": [
  {
   "cell_type": "markdown",
   "id": "9ad375cc",
   "metadata": {},
   "source": [
    "# Some code optimization exercises - Removing for loops!\n",
    "\n",
    "The following cells contain examples of python code that are written using explicit for loops. Time these functions (using `timeit`) and rewrite the for loop using numpy calls. After rewriting, time the functions again."
   ]
  },
  {
   "cell_type": "markdown",
   "id": "a569017c",
   "metadata": {},
   "source": [
    "## EXERCISE 1.1\n",
    "\n",
    "Investigate the time taken to compute the two functions below. Which is faster?\n",
    "Why do you think this is?\n",
    "Numpy is really inefficient when running on scalar values.\n",
    "\n",
    "Then, please rewrite this code to be more optimal! What speed up do you gain?\n",
    "\n"
   ]
  },
  {
   "cell_type": "code",
   "execution_count": null,
   "id": "e5010687",
   "metadata": {},
   "outputs": [],
   "source": [
    "import numpy, math\n",
    "\n",
    "def compute_sin_tseries():\n",
    "    tseries = numpy.arange(1, 10000, 1./100.)\n",
    "    sin_tseries = numpy.zeros(len(tseries))\n",
    "    for i in range(len(timeseries)):\n",
    "        sin_tseries[i] = numpy.sin(timeseries[i])\n",
    "    return sin_tseries\n",
    "\n",
    "def compute_sin_tseries2():\n",
    "    tseries = numpy.arange(1, 10000, 1./100.)\n",
    "    sin_tseries = numpy.zeros(len(tseries))\n",
    "    for i in range(len(timeseries)):\n",
    "        sin_tseries[i] = math.sin(timeseries[i])\n",
    "    return sin_tseries"
   ]
  },
  {
   "cell_type": "code",
   "execution_count": null,
   "id": "7ed4a69c",
   "metadata": {},
   "outputs": [],
   "source": []
  },
  {
   "cell_type": "code",
   "execution_count": null,
   "id": "37ba4967",
   "metadata": {},
   "outputs": [],
   "source": []
  },
  {
   "cell_type": "markdown",
   "id": "f8f52398",
   "metadata": {},
   "source": [
    "## EXERCISE 1.2\n",
    "\n",
    "As with exercise 1.1, please optimize this code. Quantify how much faster you can make it. Remember to ensure that the output doesn't change after optimizing!!"
   ]
  },
  {
   "cell_type": "code",
   "execution_count": null,
   "id": "0076ab22",
   "metadata": {},
   "outputs": [],
   "source": [
    "import math, numpy\n",
    "\n",
    "def compute_exp_tseries():\n",
    "    tseries = numpy.arange(1, 10000, 1./100.)\n",
    "    exp_tseries = numpy.zeros(len(tseries))\n",
    "    for i in range(len(tseries)):\n",
    "        exp_tseries[i] = math.e ** tseries[i]\n",
    "    return exp_tseries"
   ]
  },
  {
   "cell_type": "code",
   "execution_count": null,
   "id": "7a0d041a",
   "metadata": {},
   "outputs": [],
   "source": []
  },
  {
   "cell_type": "code",
   "execution_count": null,
   "id": "751cb712",
   "metadata": {},
   "outputs": [],
   "source": []
  },
  {
   "cell_type": "markdown",
   "id": "705051b7",
   "metadata": {},
   "source": [
    "# EXERCISE 1.3\n",
    "\n",
    "As before: optimize and show how much faster you can make this!\n",
    "\n",
    "Note that there are two for loops here. It is possible to collapse into one single vectorized call, but simply removing one of the for loops will make the code both readable and reasonably optimized. Feel free to try this for yourself, but it is *not at all* trivial"
   ]
  },
  {
   "cell_type": "code",
   "execution_count": null,
   "id": "4dbe87e0",
   "metadata": {},
   "outputs": [],
   "source": [
    "import numpy as np\n",
    "\n",
    "def sum_2d_array_to_1d(input_data):\n",
    "    \"\"\"\n",
    "    This function takes as input a 2-dimensional array, for example:\n",
    "    [[0,1,2,3],\n",
    "     [2,2,2,2],\n",
    "     [1,1,1,1],\n",
    "     [10,11,12,13]]\n",
    "    \n",
    "    It should sum over each of the *rows* in turn and return the sum of each as a new array\n",
    "    \n",
    "    [6, 8, 4, 46]\n",
    "    \"\"\"\n",
    "    output = np.zeros(len(input_data), dtype=float)\n",
    "    for i in range(len(input_data)):\n",
    "        # Looping over each row\n",
    "        current_sum = 0\n",
    "        for j in range(len(input_data[i])):\n",
    "            # Looping over each element in each row, e.g. 10->11->12->13 if the bottom row\n",
    "            current_sum += input_data[i][j]\n",
    "        output[i] = current_sum\n",
    "    return output\n",
    "\n",
    "# Short example to test that it works\n",
    "input_data = numpy.array([[0,1,2,3],\n",
    "                          [2,2,2,2],\n",
    "                          [1,1,1,1],\n",
    "                          [10,11,12,13]])\n",
    "\n",
    "print(sum_2d_array_to_1d(input_data))\n",
    "\n",
    "# *This* is the large example to use timeit on and to make fast to run\n",
    "input_data = numpy.random.random(size=[2000,2000])\n",
    "print(sum_2d_array_to_1d(input_data))"
   ]
  },
  {
   "cell_type": "code",
   "execution_count": null,
   "id": "ef5b03be",
   "metadata": {},
   "outputs": [],
   "source": []
  },
  {
   "cell_type": "code",
   "execution_count": null,
   "id": "ee3307e4",
   "metadata": {},
   "outputs": [],
   "source": []
  },
  {
   "cell_type": "markdown",
   "id": "e4df99ab",
   "metadata": {},
   "source": [
    "# EXERCISE 1.4\n",
    "\n",
    "This example performs a cross-correlation (hmm, now where have we seen that before? Does this feel like something that would be **very, very important** for the coursework??. Of course the unoptimized code below would work .... I just think it would take about 2 hours *per run* on the coursework data.\n"
   ]
  },
  {
   "cell_type": "code",
   "execution_count": null,
   "id": "9206091c",
   "metadata": {},
   "outputs": [],
   "source": [
    "def compute_cross_correlation():\n",
    "    signal = numpy.random.random(1024)\n",
    "    data = numpy.random.random(1024*10)\n",
    "    cross_correlation = []\n",
    "    for i in range(len(data) - len(signal)):\n",
    "        curr_cross_corr = 0\n",
    "        for j in range(len(signal)):\n",
    "            curr_cross_corr += signal[j] * data[i+j]\n",
    "        cross_correlation.append(curr_cross_corr)\n"
   ]
  },
  {
   "cell_type": "code",
   "execution_count": null,
   "id": "3da452df",
   "metadata": {},
   "outputs": [],
   "source": []
  },
  {
   "cell_type": "code",
   "execution_count": null,
   "id": "9cd0c4fc",
   "metadata": {},
   "outputs": [],
   "source": []
  }
 ],
 "metadata": {
  "kernelspec": {
   "display_name": "Python 3 (ipykernel)",
   "language": "python",
   "name": "python3"
  },
  "language_info": {
   "codemirror_mode": {
    "name": "ipython",
    "version": 3
   },
   "file_extension": ".py",
   "mimetype": "text/x-python",
   "name": "python",
   "nbconvert_exporter": "python",
   "pygments_lexer": "ipython3",
   "version": "3.9.12"
  }
 },
 "nbformat": 4,
 "nbformat_minor": 5
}
