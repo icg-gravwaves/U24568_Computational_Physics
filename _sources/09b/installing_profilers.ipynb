{
 "cells": [
  {
   "cell_type": "markdown",
   "id": "b09e4545",
   "metadata": {},
   "source": [
    "# Importing necessary backends\n",
    "\n",
    "During this notebook we will need to use a couple of utilities to profile out code. The cell below demonstrates how to do this in sciserver or Google Colab. **If using Sciserver (or Google colab) just run the cell below**.\n",
    "\n",
    "**If not using sciserver or colab**: This might not be the right way to install these utilities. If you are using Anaconda (or Minconda or any other conda installed python) you will probably want to use the `conda` command shown below and commented out *instead*. This is normally run in a terminal window. I can try to help you install these on your own machine, but I do not know your particular setup, and do not use Windows. \n",
    "\n",
    "These lines will appear in some of the other notebooks it make it easier if running parts of this through colab."
   ]
  },
  {
   "cell_type": "code",
   "execution_count": 1,
   "id": "1ac154f2",
   "metadata": {},
   "outputs": [
    {
     "name": "stdout",
     "output_type": "stream",
     "text": [
      "Requirement already satisfied: line_profiler in /opt/homebrew/Caskroom/miniconda/base/envs/pycbc_test/lib/python3.9/site-packages (4.0.3)\n",
      "Requirement already satisfied: memory_profiler in /opt/homebrew/Caskroom/miniconda/base/envs/pycbc_test/lib/python3.9/site-packages (0.61.0)\n",
      "Requirement already satisfied: psutil in /opt/homebrew/Caskroom/miniconda/base/envs/pycbc_test/lib/python3.9/site-packages (from memory_profiler) (5.9.4)\n"
     ]
    }
   ],
   "source": [
    "import sys\n",
    "!{sys.executable} -m pip install line_profiler\n",
    "!{sys.executable} -m pip install memory_profiler\n",
    "\n",
    "# conda install line_profiler\n",
    "# conda install memory_profiler"
   ]
  },
  {
   "cell_type": "code",
   "execution_count": null,
   "id": "2c53e40a",
   "metadata": {},
   "outputs": [],
   "source": [
    "# Load the stuff we imported above\n",
    "%load_ext line_profiler\n",
    "%load_ext memory_profiler"
   ]
  }
 ],
 "metadata": {
  "kernelspec": {
   "display_name": "Python 3 (ipykernel)",
   "language": "python",
   "name": "python3"
  },
  "language_info": {
   "codemirror_mode": {
    "name": "ipython",
    "version": 3
   },
   "file_extension": ".py",
   "mimetype": "text/x-python",
   "name": "python",
   "nbconvert_exporter": "python",
   "pygments_lexer": "ipython3",
   "version": "3.9.7"
  }
 },
 "nbformat": 4,
 "nbformat_minor": 5
}
