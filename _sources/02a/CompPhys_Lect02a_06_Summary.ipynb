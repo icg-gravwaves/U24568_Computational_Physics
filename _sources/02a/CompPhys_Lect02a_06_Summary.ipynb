{
 "cells": [
  {
   "cell_type": "markdown",
   "id": "39e23826",
   "metadata": {},
   "source": [
    "# Final exercise and summary"
   ]
  },
  {
   "cell_type": "markdown",
   "id": "cdb720fe",
   "metadata": {},
   "source": [
    "## Final exercise\n",
    "\n",
    "In this exercise, we'll be calculating the pressue of gas inside a closed 2D box as the box is heated. We'll be making use of the ideal gas law for this exercise\n",
    "\n",
    "As a reminder, the ideal gas law is PV = NkT.\n",
    "\n",
    "Here, P is the pressre, V is the volume, N is the number of molecules, k is the Boltzman constant, and T is the temperature. \n",
    "\n",
    "For the initial condition, we'll assume standard temperature i.e. 273.15 K. We'll assume the box is cubic with sides of 1 m length and contains 2.5 x 10^25 molecules of gas.\n",
    "\n",
    "The Boltzman constant is 1.380e-23 J/K\n",
    "1 atmosphere = 101325 N/m^2\n",
    "\n",
    "1.  Write a function to calculate the pressure inside the box as the temperature is increased. N, T, and V should be inputs to this function. The pressure should be output in units of N/m^2\n",
    "\n",
    "2. Verify that at the initial temperature (273.15 K) the pressure is 94236.75 N/m^2\n",
    "\n",
    "3.  Compute how the pressure in the box varies as the temperature increases between T = 273.15 K and T = 773.15 K. Your input array should contain 500 values. What is the  pressure in the box at the start and finish temperatures in units of atmospheres?\n",
    "\n",
    "4. Make a labelled plot showing the input temperature and output pressure, in units of atmosphere. \n",
    "\n",
    "5. Save the output from this function as a table. \n",
    "\n",
    "6. Read in the saved table from the previous part of the exercise.\n",
    "\n",
    "7. For each temperature in your table, calculate the average kinetic energy per molecule:\n",
    "\n",
    "$$ \\frac{1}{2}m v^{2} = \\frac{3}{2}k_{B}T$$\n",
    "\n",
    "8. Add this as a new column to your table, and save the result.\n",
    "\n",
    "9. Make a labelled plot showing average kinetic energy as a function of pressure.\n",
    "\n"
   ]
  },
  {
   "cell_type": "code",
   "execution_count": null,
   "id": "93a595dc",
   "metadata": {},
   "outputs": [],
   "source": []
  },
  {
   "cell_type": "code",
   "execution_count": null,
   "id": "9df7a89a",
   "metadata": {},
   "outputs": [],
   "source": []
  },
  {
   "cell_type": "markdown",
   "id": "d77eb4da",
   "metadata": {},
   "source": [
    "## Summary\n",
    "\n",
    "We've explored some additional features of numpy and pandas in this lecture. However, numpy (and scipy) have *many* features. Knowing all of them:\n",
    "\n",
    "https://docs.scipy.org/doc/numpy/genindex.html\n",
    "\n",
    "is not realistic! So often when approaching a problem it's worth formulating what you want to do and then checking if a solution already exists for this problem. Clearly formulating the problem maximizes the chance of finding a useful stackoverflow post!"
   ]
  },
  {
   "cell_type": "code",
   "execution_count": null,
   "id": "70b465f2",
   "metadata": {},
   "outputs": [],
   "source": []
  }
 ],
 "metadata": {
  "kernelspec": {
   "display_name": "CompPhys2",
   "language": "python",
   "name": "python3"
  },
  "language_info": {
   "codemirror_mode": {
    "name": "ipython",
    "version": 3
   },
   "file_extension": ".py",
   "mimetype": "text/x-python",
   "name": "python",
   "nbconvert_exporter": "python",
   "pygments_lexer": "ipython3",
   "version": "3.10.16"
  }
 },
 "nbformat": 4,
 "nbformat_minor": 5
}
