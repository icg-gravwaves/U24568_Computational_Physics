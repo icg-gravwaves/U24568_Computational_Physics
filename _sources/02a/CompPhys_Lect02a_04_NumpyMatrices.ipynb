{
 "cells": [
  {
   "cell_type": "markdown",
   "id": "a769efa3",
   "metadata": {},
   "source": [
    "# Matrices in numpy\n",
    "\n",
    "We explored matrices in MATLAB last year, but didn't do this in python ... This was because you hadn't covered matrices in the math modules by that point, so let's do this now."
   ]
  },
  {
   "cell_type": "markdown",
   "id": "1c030444",
   "metadata": {},
   "source": [
    "## Transposing and reshaping arrays"
   ]
  },
  {
   "cell_type": "markdown",
   "id": "f4717b12",
   "metadata": {},
   "source": [
    "Let's move on now to consider some multi-dimension arrays. Let's first consider the following 5 x 5 array of random numbers uniformly distributed between 0 and 10:"
   ]
  },
  {
   "cell_type": "code",
   "execution_count": 2,
   "id": "ac0c3551",
   "metadata": {},
   "outputs": [
    {
     "name": "stdout",
     "output_type": "stream",
     "text": [
      "[[6.43025026 2.86475989 2.2809944  2.09652048 9.61652325 0.84495266\n",
      "  2.74858244 4.98132828 0.80213543 9.62291072]\n",
      " [8.32966048 7.49425465 5.65926957 0.34322203 2.36203174 8.03202473\n",
      "  0.40901805 9.52794832 3.25481344 2.00717556]\n",
      " [7.01496487 7.41792508 0.27893045 9.17667291 2.45372767 1.94723446\n",
      "  2.35030981 7.86112453 9.97140103 9.53032446]\n",
      " [8.67843761 0.24553596 6.78545874 4.89907832 8.56472921 4.21592433\n",
      "  1.89504399 6.9469186  7.57659015 9.03651456]\n",
      " [3.12767021 1.44534442 6.1261859  0.74812356 7.09238526 6.04836563\n",
      "  7.62190426 1.62412546 0.08232744 7.76873787]\n",
      " [5.29612709 4.93549117 3.87553619 8.89962836 8.62326625 6.4942054\n",
      "  7.34838624 7.33680395 8.2137679  8.55528172]\n",
      " [9.96592746 7.91443377 8.19802934 3.64996691 2.01378118 9.63891378\n",
      "  2.22177775 2.92740461 7.56800694 3.83449645]\n",
      " [2.49322023 9.11556188 5.81314203 8.35583925 7.25149796 4.44113556\n",
      "  8.22642174 3.93385842 4.13261111 9.65623296]\n",
      " [9.82226651 2.3161969  2.44767517 1.11209006 1.77606061 5.23124498\n",
      "  9.8566261  6.15185373 0.83777039 9.54092982]\n",
      " [2.21383137 7.2899926  8.81755472 7.49512541 8.8814744  0.89465254\n",
      "  9.06813666 3.75713112 1.55332597 3.55931192]\n",
      " [6.12191934 3.22760043 6.8117407  7.07431858 3.15012804 3.59667709\n",
      "  0.13044803 0.52152632 1.93973464 9.77488277]\n",
      " [7.9224935  0.16381585 9.65377819 6.88554149 9.86635118 3.63806825\n",
      "  2.00285444 3.90633158 1.579307   3.7276873 ]]\n"
     ]
    }
   ],
   "source": [
    "import numpy as np\n",
    "\n",
    "nums = np.random.random_sample(size=[12,10]) * 10\n",
    "print (nums)"
   ]
  },
  {
   "cell_type": "markdown",
   "id": "b16054fc",
   "metadata": {},
   "source": [
    "To transpose this array is quite simple, numpy supplies a `.T` property:"
   ]
  },
  {
   "cell_type": "code",
   "execution_count": 3,
   "id": "93aeeb45",
   "metadata": {},
   "outputs": [
    {
     "name": "stdout",
     "output_type": "stream",
     "text": [
      "[[6.43025026 8.32966048 7.01496487 8.67843761 3.12767021 5.29612709\n",
      "  9.96592746 2.49322023 9.82226651 2.21383137 6.12191934 7.9224935 ]\n",
      " [2.86475989 7.49425465 7.41792508 0.24553596 1.44534442 4.93549117\n",
      "  7.91443377 9.11556188 2.3161969  7.2899926  3.22760043 0.16381585]\n",
      " [2.2809944  5.65926957 0.27893045 6.78545874 6.1261859  3.87553619\n",
      "  8.19802934 5.81314203 2.44767517 8.81755472 6.8117407  9.65377819]\n",
      " [2.09652048 0.34322203 9.17667291 4.89907832 0.74812356 8.89962836\n",
      "  3.64996691 8.35583925 1.11209006 7.49512541 7.07431858 6.88554149]\n",
      " [9.61652325 2.36203174 2.45372767 8.56472921 7.09238526 8.62326625\n",
      "  2.01378118 7.25149796 1.77606061 8.8814744  3.15012804 9.86635118]\n",
      " [0.84495266 8.03202473 1.94723446 4.21592433 6.04836563 6.4942054\n",
      "  9.63891378 4.44113556 5.23124498 0.89465254 3.59667709 3.63806825]\n",
      " [2.74858244 0.40901805 2.35030981 1.89504399 7.62190426 7.34838624\n",
      "  2.22177775 8.22642174 9.8566261  9.06813666 0.13044803 2.00285444]\n",
      " [4.98132828 9.52794832 7.86112453 6.9469186  1.62412546 7.33680395\n",
      "  2.92740461 3.93385842 6.15185373 3.75713112 0.52152632 3.90633158]\n",
      " [0.80213543 3.25481344 9.97140103 7.57659015 0.08232744 8.2137679\n",
      "  7.56800694 4.13261111 0.83777039 1.55332597 1.93973464 1.579307  ]\n",
      " [9.62291072 2.00717556 9.53032446 9.03651456 7.76873787 8.55528172\n",
      "  3.83449645 9.65623296 9.54092982 3.55931192 9.77488277 3.7276873 ]]\n"
     ]
    }
   ],
   "source": [
    "print (nums.T)"
   ]
  },
  {
   "cell_type": "markdown",
   "id": "ec73cf14",
   "metadata": {},
   "source": [
    "If we want to reshape the array we can use numpy's `reshape` function. For example if I want to \"flatten\" this array (note there is also a `flatten` function, but `reshape` is more general), we could do:"
   ]
  },
  {
   "cell_type": "code",
   "execution_count": 4,
   "id": "0178130d",
   "metadata": {},
   "outputs": [
    {
     "data": {
      "text/plain": [
       "array([6.43025026, 2.86475989, 2.2809944 , 2.09652048, 9.61652325,\n",
       "       0.84495266, 2.74858244, 4.98132828, 0.80213543, 9.62291072,\n",
       "       8.32966048, 7.49425465, 5.65926957, 0.34322203, 2.36203174,\n",
       "       8.03202473, 0.40901805, 9.52794832, 3.25481344, 2.00717556,\n",
       "       7.01496487, 7.41792508, 0.27893045, 9.17667291, 2.45372767,\n",
       "       1.94723446, 2.35030981, 7.86112453, 9.97140103, 9.53032446,\n",
       "       8.67843761, 0.24553596, 6.78545874, 4.89907832, 8.56472921,\n",
       "       4.21592433, 1.89504399, 6.9469186 , 7.57659015, 9.03651456,\n",
       "       3.12767021, 1.44534442, 6.1261859 , 0.74812356, 7.09238526,\n",
       "       6.04836563, 7.62190426, 1.62412546, 0.08232744, 7.76873787,\n",
       "       5.29612709, 4.93549117, 3.87553619, 8.89962836, 8.62326625,\n",
       "       6.4942054 , 7.34838624, 7.33680395, 8.2137679 , 8.55528172,\n",
       "       9.96592746, 7.91443377, 8.19802934, 3.64996691, 2.01378118,\n",
       "       9.63891378, 2.22177775, 2.92740461, 7.56800694, 3.83449645,\n",
       "       2.49322023, 9.11556188, 5.81314203, 8.35583925, 7.25149796,\n",
       "       4.44113556, 8.22642174, 3.93385842, 4.13261111, 9.65623296,\n",
       "       9.82226651, 2.3161969 , 2.44767517, 1.11209006, 1.77606061,\n",
       "       5.23124498, 9.8566261 , 6.15185373, 0.83777039, 9.54092982,\n",
       "       2.21383137, 7.2899926 , 8.81755472, 7.49512541, 8.8814744 ,\n",
       "       0.89465254, 9.06813666, 3.75713112, 1.55332597, 3.55931192,\n",
       "       6.12191934, 3.22760043, 6.8117407 , 7.07431858, 3.15012804,\n",
       "       3.59667709, 0.13044803, 0.52152632, 1.93973464, 9.77488277,\n",
       "       7.9224935 , 0.16381585, 9.65377819, 6.88554149, 9.86635118,\n",
       "       3.63806825, 2.00285444, 3.90633158, 1.579307  , 3.7276873 ])"
      ]
     },
     "execution_count": 4,
     "metadata": {},
     "output_type": "execute_result"
    }
   ],
   "source": [
    "np.reshape(nums, (120,))"
   ]
  },
  {
   "cell_type": "markdown",
   "id": "09c85868",
   "metadata": {},
   "source": [
    "This indicates that this should become a 1D array with 120 entries. We could also make this a 4 x 30 array or a 30 x 4 array with something like:"
   ]
  },
  {
   "cell_type": "code",
   "execution_count": 6,
   "id": "ab27b36b",
   "metadata": {},
   "outputs": [
    {
     "data": {
      "text/plain": [
       "array([[6.43025026, 2.86475989, 2.2809944 , 2.09652048, 9.61652325,\n",
       "        0.84495266, 2.74858244, 4.98132828, 0.80213543, 9.62291072,\n",
       "        8.32966048, 7.49425465, 5.65926957, 0.34322203, 2.36203174,\n",
       "        8.03202473, 0.40901805, 9.52794832, 3.25481344, 2.00717556,\n",
       "        7.01496487, 7.41792508, 0.27893045, 9.17667291, 2.45372767,\n",
       "        1.94723446, 2.35030981, 7.86112453, 9.97140103, 9.53032446],\n",
       "       [8.67843761, 0.24553596, 6.78545874, 4.89907832, 8.56472921,\n",
       "        4.21592433, 1.89504399, 6.9469186 , 7.57659015, 9.03651456,\n",
       "        3.12767021, 1.44534442, 6.1261859 , 0.74812356, 7.09238526,\n",
       "        6.04836563, 7.62190426, 1.62412546, 0.08232744, 7.76873787,\n",
       "        5.29612709, 4.93549117, 3.87553619, 8.89962836, 8.62326625,\n",
       "        6.4942054 , 7.34838624, 7.33680395, 8.2137679 , 8.55528172],\n",
       "       [9.96592746, 7.91443377, 8.19802934, 3.64996691, 2.01378118,\n",
       "        9.63891378, 2.22177775, 2.92740461, 7.56800694, 3.83449645,\n",
       "        2.49322023, 9.11556188, 5.81314203, 8.35583925, 7.25149796,\n",
       "        4.44113556, 8.22642174, 3.93385842, 4.13261111, 9.65623296,\n",
       "        9.82226651, 2.3161969 , 2.44767517, 1.11209006, 1.77606061,\n",
       "        5.23124498, 9.8566261 , 6.15185373, 0.83777039, 9.54092982],\n",
       "       [2.21383137, 7.2899926 , 8.81755472, 7.49512541, 8.8814744 ,\n",
       "        0.89465254, 9.06813666, 3.75713112, 1.55332597, 3.55931192,\n",
       "        6.12191934, 3.22760043, 6.8117407 , 7.07431858, 3.15012804,\n",
       "        3.59667709, 0.13044803, 0.52152632, 1.93973464, 9.77488277,\n",
       "        7.9224935 , 0.16381585, 9.65377819, 6.88554149, 9.86635118,\n",
       "        3.63806825, 2.00285444, 3.90633158, 1.579307  , 3.7276873 ]])"
      ]
     },
     "execution_count": 6,
     "metadata": {},
     "output_type": "execute_result"
    }
   ],
   "source": [
    "np.reshape(nums, (4,30))"
   ]
  },
  {
   "cell_type": "code",
   "execution_count": 7,
   "id": "a3e7a1d9",
   "metadata": {},
   "outputs": [
    {
     "data": {
      "text/plain": [
       "array([[6.43025026, 2.86475989, 2.2809944 , 2.09652048],\n",
       "       [9.61652325, 0.84495266, 2.74858244, 4.98132828],\n",
       "       [0.80213543, 9.62291072, 8.32966048, 7.49425465],\n",
       "       [5.65926957, 0.34322203, 2.36203174, 8.03202473],\n",
       "       [0.40901805, 9.52794832, 3.25481344, 2.00717556],\n",
       "       [7.01496487, 7.41792508, 0.27893045, 9.17667291],\n",
       "       [2.45372767, 1.94723446, 2.35030981, 7.86112453],\n",
       "       [9.97140103, 9.53032446, 8.67843761, 0.24553596],\n",
       "       [6.78545874, 4.89907832, 8.56472921, 4.21592433],\n",
       "       [1.89504399, 6.9469186 , 7.57659015, 9.03651456],\n",
       "       [3.12767021, 1.44534442, 6.1261859 , 0.74812356],\n",
       "       [7.09238526, 6.04836563, 7.62190426, 1.62412546],\n",
       "       [0.08232744, 7.76873787, 5.29612709, 4.93549117],\n",
       "       [3.87553619, 8.89962836, 8.62326625, 6.4942054 ],\n",
       "       [7.34838624, 7.33680395, 8.2137679 , 8.55528172],\n",
       "       [9.96592746, 7.91443377, 8.19802934, 3.64996691],\n",
       "       [2.01378118, 9.63891378, 2.22177775, 2.92740461],\n",
       "       [7.56800694, 3.83449645, 2.49322023, 9.11556188],\n",
       "       [5.81314203, 8.35583925, 7.25149796, 4.44113556],\n",
       "       [8.22642174, 3.93385842, 4.13261111, 9.65623296],\n",
       "       [9.82226651, 2.3161969 , 2.44767517, 1.11209006],\n",
       "       [1.77606061, 5.23124498, 9.8566261 , 6.15185373],\n",
       "       [0.83777039, 9.54092982, 2.21383137, 7.2899926 ],\n",
       "       [8.81755472, 7.49512541, 8.8814744 , 0.89465254],\n",
       "       [9.06813666, 3.75713112, 1.55332597, 3.55931192],\n",
       "       [6.12191934, 3.22760043, 6.8117407 , 7.07431858],\n",
       "       [3.15012804, 3.59667709, 0.13044803, 0.52152632],\n",
       "       [1.93973464, 9.77488277, 7.9224935 , 0.16381585],\n",
       "       [9.65377819, 6.88554149, 9.86635118, 3.63806825],\n",
       "       [2.00285444, 3.90633158, 1.579307  , 3.7276873 ]])"
      ]
     },
     "execution_count": 7,
     "metadata": {},
     "output_type": "execute_result"
    }
   ],
   "source": [
    "np.reshape(nums, (30,4))"
   ]
  },
  {
   "cell_type": "markdown",
   "id": "05dc99c0",
   "metadata": {},
   "source": [
    "In all cases the order of the data is preserved. There is a bit more information on reshaping an array here:\n",
    "\n",
    "https://www.w3resource.com/numpy/manipulation/reshape.php\n",
    "\n",
    "If you try to do something invalid, the code will fail:"
   ]
  },
  {
   "cell_type": "code",
   "execution_count": 8,
   "id": "207ef3c3",
   "metadata": {},
   "outputs": [
    {
     "ename": "ValueError",
     "evalue": "cannot reshape array of size 120 into shape (30,10)",
     "output_type": "error",
     "traceback": [
      "\u001b[0;31m---------------------------------------------------------------------------\u001b[0m",
      "\u001b[0;31mValueError\u001b[0m                                Traceback (most recent call last)",
      "Input \u001b[0;32mIn [8]\u001b[0m, in \u001b[0;36m<module>\u001b[0;34m\u001b[0m\n\u001b[0;32m----> 1\u001b[0m \u001b[43mnp\u001b[49m\u001b[38;5;241;43m.\u001b[39;49m\u001b[43mreshape\u001b[49m\u001b[43m(\u001b[49m\u001b[43mnums\u001b[49m\u001b[43m,\u001b[49m\u001b[43m \u001b[49m\u001b[43m(\u001b[49m\u001b[38;5;241;43m30\u001b[39;49m\u001b[43m,\u001b[49m\u001b[38;5;241;43m10\u001b[39;49m\u001b[43m)\u001b[49m\u001b[43m)\u001b[49m\n",
      "File \u001b[0;32m<__array_function__ internals>:200\u001b[0m, in \u001b[0;36mreshape\u001b[0;34m(*args, **kwargs)\u001b[0m\n",
      "File \u001b[0;32m/opt/homebrew/Caskroom/miniconda/base/envs/pycbc_test/lib/python3.9/site-packages/numpy/core/fromnumeric.py:298\u001b[0m, in \u001b[0;36mreshape\u001b[0;34m(a, newshape, order)\u001b[0m\n\u001b[1;32m    198\u001b[0m \u001b[38;5;129m@array_function_dispatch\u001b[39m(_reshape_dispatcher)\n\u001b[1;32m    199\u001b[0m \u001b[38;5;28;01mdef\u001b[39;00m \u001b[38;5;21mreshape\u001b[39m(a, newshape, order\u001b[38;5;241m=\u001b[39m\u001b[38;5;124m'\u001b[39m\u001b[38;5;124mC\u001b[39m\u001b[38;5;124m'\u001b[39m):\n\u001b[1;32m    200\u001b[0m \u001b[38;5;250m    \u001b[39m\u001b[38;5;124;03m\"\"\"\u001b[39;00m\n\u001b[1;32m    201\u001b[0m \u001b[38;5;124;03m    Gives a new shape to an array without changing its data.\u001b[39;00m\n\u001b[1;32m    202\u001b[0m \n\u001b[0;32m   (...)\u001b[0m\n\u001b[1;32m    296\u001b[0m \u001b[38;5;124;03m           [5, 6]])\u001b[39;00m\n\u001b[1;32m    297\u001b[0m \u001b[38;5;124;03m    \"\"\"\u001b[39;00m\n\u001b[0;32m--> 298\u001b[0m     \u001b[38;5;28;01mreturn\u001b[39;00m \u001b[43m_wrapfunc\u001b[49m\u001b[43m(\u001b[49m\u001b[43ma\u001b[49m\u001b[43m,\u001b[49m\u001b[43m \u001b[49m\u001b[38;5;124;43m'\u001b[39;49m\u001b[38;5;124;43mreshape\u001b[39;49m\u001b[38;5;124;43m'\u001b[39;49m\u001b[43m,\u001b[49m\u001b[43m \u001b[49m\u001b[43mnewshape\u001b[49m\u001b[43m,\u001b[49m\u001b[43m \u001b[49m\u001b[43morder\u001b[49m\u001b[38;5;241;43m=\u001b[39;49m\u001b[43morder\u001b[49m\u001b[43m)\u001b[49m\n",
      "File \u001b[0;32m/opt/homebrew/Caskroom/miniconda/base/envs/pycbc_test/lib/python3.9/site-packages/numpy/core/fromnumeric.py:57\u001b[0m, in \u001b[0;36m_wrapfunc\u001b[0;34m(obj, method, *args, **kwds)\u001b[0m\n\u001b[1;32m     54\u001b[0m     \u001b[38;5;28;01mreturn\u001b[39;00m _wrapit(obj, method, \u001b[38;5;241m*\u001b[39margs, \u001b[38;5;241m*\u001b[39m\u001b[38;5;241m*\u001b[39mkwds)\n\u001b[1;32m     56\u001b[0m \u001b[38;5;28;01mtry\u001b[39;00m:\n\u001b[0;32m---> 57\u001b[0m     \u001b[38;5;28;01mreturn\u001b[39;00m \u001b[43mbound\u001b[49m\u001b[43m(\u001b[49m\u001b[38;5;241;43m*\u001b[39;49m\u001b[43margs\u001b[49m\u001b[43m,\u001b[49m\u001b[43m \u001b[49m\u001b[38;5;241;43m*\u001b[39;49m\u001b[38;5;241;43m*\u001b[39;49m\u001b[43mkwds\u001b[49m\u001b[43m)\u001b[49m\n\u001b[1;32m     58\u001b[0m \u001b[38;5;28;01mexcept\u001b[39;00m \u001b[38;5;167;01mTypeError\u001b[39;00m:\n\u001b[1;32m     59\u001b[0m     \u001b[38;5;66;03m# A TypeError occurs if the object does have such a method in its\u001b[39;00m\n\u001b[1;32m     60\u001b[0m     \u001b[38;5;66;03m# class, but its signature is not identical to that of NumPy's. This\u001b[39;00m\n\u001b[0;32m   (...)\u001b[0m\n\u001b[1;32m     64\u001b[0m     \u001b[38;5;66;03m# Call _wrapit from within the except clause to ensure a potential\u001b[39;00m\n\u001b[1;32m     65\u001b[0m     \u001b[38;5;66;03m# exception has a traceback chain.\u001b[39;00m\n\u001b[1;32m     66\u001b[0m     \u001b[38;5;28;01mreturn\u001b[39;00m _wrapit(obj, method, \u001b[38;5;241m*\u001b[39margs, \u001b[38;5;241m*\u001b[39m\u001b[38;5;241m*\u001b[39mkwds)\n",
      "\u001b[0;31mValueError\u001b[0m: cannot reshape array of size 120 into shape (30,10)"
     ]
    }
   ],
   "source": [
    "np.reshape(nums, (30,10))"
   ]
  },
  {
   "cell_type": "markdown",
   "id": "5e8e5a47",
   "metadata": {},
   "source": [
    "## EXERCISE\n",
    "\n",
    "Create a 2D array (x,y) whose values should be equal to $x**2 + y$ (so the value at `[0,1]` would be 1, the value at `[2,4]` would be $2^2 + 4 = 8$ and so on). The size of this array should be 42 x 20.\n",
    "\n",
    "Take the transpose of this array. Now if this new array has coordinates (x1,y1) what is the value at x1 = 4, y1=5 going to be?\n",
    "\n",
    "There are a number of different 2D shapes that you can reshape this array into (I counted 32). How many valid different sizes can you reshape this array into.\n",
    "\n",
    "Reshape this array into a 5D shape, where no dimension has a size equal to 1."
   ]
  },
  {
   "cell_type": "code",
   "execution_count": null,
   "id": "077b138f",
   "metadata": {},
   "outputs": [],
   "source": []
  },
  {
   "cell_type": "markdown",
   "id": "a17278ab",
   "metadata": {},
   "source": [
    "## Matrix operations\n",
    "\n",
    "A 2D array in numpy can be treated as a matrix, but unlike in MATLAB, it will *not* be treated mathematically as a matrix unless you tell it. For example doing `a * b` will perform elementwise multiplication, not matrix multiplication. BUT, we can still do all matrix stuff in MATLAB in numpy just as easily.\n",
    "\n",
    "First let's show elementwise multiplication:"
   ]
  },
  {
   "cell_type": "code",
   "execution_count": 11,
   "id": "eeda61af",
   "metadata": {},
   "outputs": [
    {
     "name": "stdout",
     "output_type": "stream",
     "text": [
      "(12, 10)\n",
      "\n"
     ]
    },
    {
     "ename": "ValueError",
     "evalue": "operands could not be broadcast together with shapes (12,10) (10,10) ",
     "output_type": "error",
     "traceback": [
      "\u001b[0;31m---------------------------------------------------------------------------\u001b[0m",
      "\u001b[0;31mValueError\u001b[0m                                Traceback (most recent call last)",
      "Input \u001b[0;32mIn [11]\u001b[0m, in \u001b[0;36m<module>\u001b[0;34m\u001b[0m\n\u001b[1;32m      9\u001b[0m \u001b[38;5;28mprint\u001b[39m()\n\u001b[1;32m     11\u001b[0m \u001b[38;5;66;03m# This won't work, they are not the same shape!\u001b[39;00m\n\u001b[0;32m---> 12\u001b[0m prod2 \u001b[38;5;241m=\u001b[39m \u001b[43mnums1\u001b[49m\u001b[43m \u001b[49m\u001b[38;5;241;43m*\u001b[39;49m\u001b[43m \u001b[49m\u001b[43mnums3\u001b[49m\n",
      "\u001b[0;31mValueError\u001b[0m: operands could not be broadcast together with shapes (12,10) (10,10) "
     ]
    }
   ],
   "source": [
    "nums1 = np.random.random_sample(size=[12,10]) * 10\n",
    "nums2 = np.random.random_sample(size=[12,10]) * 10\n",
    "nums3 = np.random.random_sample(size=[10,10]) * 10\n",
    "\n",
    "prod = nums1 * nums2\n",
    "# To multiply two numpy arrays they must be the same shape, and then every element is multiplied by its corresponding\n",
    "# element in the other array. That's not how matrix multiplication works\n",
    "print (prod.shape)\n",
    "print()\n",
    "\n",
    "# This won't work, they are not the same shape!\n",
    "prod2 = nums1 * nums3\n"
   ]
  },
  {
   "cell_type": "markdown",
   "id": "4d783bf6",
   "metadata": {},
   "source": [
    "Now let's show matrix multiplication, we use the `@` operator to do this:"
   ]
  },
  {
   "cell_type": "code",
   "execution_count": 17,
   "id": "f8b00da2",
   "metadata": {},
   "outputs": [
    {
     "name": "stdout",
     "output_type": "stream",
     "text": [
      "[[289.67344461 298.05167723 367.98827803 243.16407347 218.09777033\n",
      "  240.48217323 230.83158971 361.47921509 336.39241281 211.84751252]\n",
      " [408.20116333 363.34921745 441.69740825 321.29239865 328.37912117\n",
      "  298.40486436 297.59803813 440.75293428 349.98495504 262.39601721]\n",
      " [227.21133078 219.54689441 240.46028394 140.99283956 162.82616874\n",
      "  175.39878348 209.96927847 217.78353406 198.86884926 164.12995408]\n",
      " [274.97153204 315.44378009 302.74106642 230.94157383 251.97642205\n",
      "  276.01650607 251.62202724 336.01612377 350.41932782 245.53329838]\n",
      " [366.9625905  300.8956934  332.08657045 284.12207392 215.34880723\n",
      "  286.69768369 310.80223219 344.88422052 285.18057649 266.76324368]\n",
      " [283.055845   290.14382198 341.15746639 231.95266924 221.86511777\n",
      "  270.59325167 194.20916346 363.32798872 370.25660805 214.11405292]\n",
      " [419.19654968 350.72701219 436.90233706 339.11124797 227.27295798\n",
      "  365.78807043 360.17331483 457.94288721 409.94738778 350.20163558]\n",
      " [324.2978075  276.19084495 330.53990059 229.9434306  221.89763979\n",
      "  255.23841694 264.91785061 340.26860465 283.57795725 246.24489945]\n",
      " [402.079744   373.15749124 413.2071326  330.47431662 276.0892271\n",
      "  335.46814129 384.74147305 434.98117101 381.43663071 301.69681034]\n",
      " [378.07811354 305.23204163 437.70713563 245.29520526 213.98352547\n",
      "  279.14270194 297.3621024  421.35050866 337.59735358 289.62848293]\n",
      " [240.40314167 235.04905537 280.40077372 232.36290729 151.58806396\n",
      "  232.07933863 263.95054636 279.74823555 239.07886847 260.70696112]\n",
      " [392.55520401 325.9108567  404.86715608 266.25336907 203.56675732\n",
      "  311.16337606 329.72349036 419.29072799 376.63641147 287.99320752]]\n",
      "This doesn't work! The [not particularly helpful] error message says:\n",
      "matmul: Input operand 1 has a mismatch in its core dimension 0, with gufunc signature (n?,k),(k,m?)->(n?,m?) (size 12 is different from 10)\n",
      "(12, 12) (10, 10)\n"
     ]
    }
   ],
   "source": [
    "# The @ indicates matrix multiplication, nums1 can be multiplied by nums3\n",
    "mult1 = nums1 @ nums3\n",
    "\n",
    "print(mult1)\n",
    "\n",
    "# But nums1 cannot be multiplied by nums2.\n",
    "# I cannot multiply a 12x10 matrix by a 12x10 matrix!\n",
    "# Let's catch this error and continue. Python's try/except can be used for this\n",
    "# https://docs.python.org/3/tutorial/errors.html\n",
    "\n",
    "try:\n",
    "    nums1 @ nums2\n",
    "except ValueError as err:\n",
    "    print (\"This doesn't work! The [not particularly helpful] error message says:\")\n",
    "    print (err)\n",
    "\n",
    "# But I can multiply a 12x10 matrix by a 10x12 matrix (the resulting matrix should be 12 x 12.)\n",
    "# OR I can multiply a 10x12 matrix by a 12x10 matrix (resulting in a 10x10 matrix)\n",
    "\n",
    "prod1 = nums1 @ nums2.T\n",
    "prod2 = nums1.T @ nums2\n",
    "\n",
    "print (prod1.shape, prod2.shape)"
   ]
  },
  {
   "cell_type": "markdown",
   "id": "6e530174",
   "metadata": {},
   "source": [
    "We can also compute the eigenvalues and eigenvectors of a square 2D array :"
   ]
  },
  {
   "cell_type": "code",
   "execution_count": 18,
   "id": "5f8c3350",
   "metadata": {},
   "outputs": [
    {
     "name": "stdout",
     "output_type": "stream",
     "text": [
      "[[1. 0. 0.]\n",
      " [0. 2. 0.]\n",
      " [0. 0. 3.]]\n",
      "[[1. 0. 0.]\n",
      " [0. 2. 0.]\n",
      " [0. 0. 3.]]\n",
      "[1. 2. 3.]\n",
      "[[1. 0. 0.]\n",
      " [0. 1. 0.]\n",
      " [0. 0. 1.]]\n"
     ]
    }
   ],
   "source": [
    "# Make a diagonal matrix\n",
    "nums1 = np.zeros([3,3])\n",
    "nums1[0,0] = 1.\n",
    "nums1[1,1] = 2.\n",
    "nums1[2,2] = 3.\n",
    "print(nums1)\n",
    "# Or equivalently\n",
    "print (np.diag([1.,2.,3.]))\n",
    "\n",
    "evals, evecs = np.linalg.eig(nums1)\n",
    "\n",
    "print (evals)\n",
    "print (evecs)"
   ]
  },
  {
   "cell_type": "markdown",
   "id": "18188d4d",
   "metadata": {},
   "source": [
    "## EXERCISE\n",
    "\n",
    "Generate a 2D 10x10 matrix of random numbers. Compute the eigenvectors and eigenvalues of this matrix.\n",
    "\n",
    "Now try again but this time generate a symmetric matrix (where the value at `[x,y]` is equal to the value at `[y,x]`). What do you notice is different? Why is this?"
   ]
  },
  {
   "cell_type": "code",
   "execution_count": null,
   "id": "86874878",
   "metadata": {},
   "outputs": [],
   "source": []
  }
 ],
 "metadata": {
  "kernelspec": {
   "display_name": "Python 3 (ipykernel)",
   "language": "python",
   "name": "python3"
  },
  "language_info": {
   "codemirror_mode": {
    "name": "ipython",
    "version": 3
   },
   "file_extension": ".py",
   "mimetype": "text/x-python",
   "name": "python",
   "nbconvert_exporter": "python",
   "pygments_lexer": "ipython3",
   "version": "3.9.7"
  }
 },
 "nbformat": 4,
 "nbformat_minor": 5
}
