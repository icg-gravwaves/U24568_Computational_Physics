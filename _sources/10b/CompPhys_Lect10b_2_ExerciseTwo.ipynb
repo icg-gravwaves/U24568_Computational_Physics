{
 "cells": [
  {
   "cell_type": "markdown",
   "id": "59724d31",
   "metadata": {},
   "source": [
    "# Significance Exercise 2\n",
    "\n",
    "* Generate 1000 different noise datasets, using the same noise generation function as in the first notebook.\n",
    "* For each dataset compute the cross-correlation with `signal_1`, `signal_2`, `signal_3` and `signal_4`. Store the largest value for each signal\n",
    "* (You should now have 4 length-1000 arrays with each value being the loudest value of the cross-correlation).\n",
    "* Plot a cumulative histogram of these values (Look up the matplotlib examples for examples of this).\n",
    "* Why are these histograms different for each signal?\n",
    "* How loud does a signal have to be to go from not-at-all significant to very significant?"
   ]
  },
  {
   "cell_type": "code",
   "execution_count": null,
   "id": "de05030a",
   "metadata": {},
   "outputs": [],
   "source": []
  }
 ],
 "metadata": {
  "kernelspec": {
   "display_name": "Python 3 (ipykernel)",
   "language": "python",
   "name": "python3"
  },
  "language_info": {
   "codemirror_mode": {
    "name": "ipython",
    "version": 3
   },
   "file_extension": ".py",
   "mimetype": "text/x-python",
   "name": "python",
   "nbconvert_exporter": "python",
   "pygments_lexer": "ipython3",
   "version": "3.9.7"
  }
 },
 "nbformat": 4,
 "nbformat_minor": 5
}
