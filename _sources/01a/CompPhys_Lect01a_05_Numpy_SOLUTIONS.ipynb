{
 "cells": [
  {
   "cell_type": "markdown",
   "id": "841e44d8",
   "metadata": {},
   "source": [
    "# Numpy\n",
    "\n",
    "We used numpy extensively last year in attempting data science problems. It will continue to be very important. Let's briefly recap"
   ]
  },
  {
   "cell_type": "code",
   "execution_count": 1,
   "id": "64e36ccc",
   "metadata": {},
   "outputs": [],
   "source": [
    "import numpy as np # Import numpy to use it"
   ]
  },
  {
   "cell_type": "markdown",
   "id": "357a70bc",
   "metadata": {},
   "source": [
    "## Numpy Arrays\n",
    "\n",
    "We create numpy arrays as follows"
   ]
  },
  {
   "cell_type": "code",
   "execution_count": 2,
   "id": "8492038f",
   "metadata": {},
   "outputs": [
    {
     "name": "stdout",
     "output_type": "stream",
     "text": [
      "<class 'numpy.ndarray'> [0 1 2 3 4 5 6 7 8 9]\n"
     ]
    }
   ],
   "source": [
    "arr1 = np.array(range(10))\n",
    "print(type(arr1), arr1)"
   ]
  },
  {
   "cell_type": "code",
   "execution_count": 3,
   "id": "a1f0d54e",
   "metadata": {},
   "outputs": [
    {
     "name": "stdout",
     "output_type": "stream",
     "text": [
      "<class 'numpy.ndarray'> [0 1 2 3 4 5 6 7 8 9]\n"
     ]
    }
   ],
   "source": [
    "arr2 = np.arange(10)\n",
    "print(type(arr1), arr1)"
   ]
  },
  {
   "cell_type": "code",
   "execution_count": 4,
   "id": "a072d3be",
   "metadata": {},
   "outputs": [
    {
     "name": "stdout",
     "output_type": "stream",
     "text": [
      "[ 2  6 10 14]\n"
     ]
    }
   ],
   "source": [
    "start, stop, step = 2, 18, 4\n",
    "arr3 = np.arange(start, stop, step)\n",
    "print(arr3)"
   ]
  },
  {
   "cell_type": "markdown",
   "id": "7adc04cc",
   "metadata": {},
   "source": [
    "Here are a few special kinds of arrays: zeros, ones, and 'full', which fills with a single value."
   ]
  },
  {
   "cell_type": "code",
   "execution_count": 5,
   "id": "d11c41f9",
   "metadata": {},
   "outputs": [
    {
     "data": {
      "text/plain": [
       "array([0., 0., 0., 0.])"
      ]
     },
     "execution_count": 5,
     "metadata": {},
     "output_type": "execute_result"
    }
   ],
   "source": [
    "np.zeros(4)"
   ]
  },
  {
   "cell_type": "code",
   "execution_count": 6,
   "id": "0c6a7deb",
   "metadata": {},
   "outputs": [
    {
     "data": {
      "text/plain": [
       "array([[1., 1.],\n",
       "       [1., 1.],\n",
       "       [1., 1.],\n",
       "       [1., 1.]])"
      ]
     },
     "execution_count": 6,
     "metadata": {},
     "output_type": "execute_result"
    }
   ],
   "source": [
    "np.ones((4,2)) "
   ]
  },
  {
   "cell_type": "code",
   "execution_count": 7,
   "id": "77f65913",
   "metadata": {},
   "outputs": [
    {
     "data": {
      "text/plain": [
       "array([[7., 7., 7., 7., 7.],\n",
       "       [7., 7., 7., 7., 7.],\n",
       "       [7., 7., 7., 7., 7.]])"
      ]
     },
     "execution_count": 7,
     "metadata": {},
     "output_type": "execute_result"
    }
   ],
   "source": [
    "np.full((3,5), 7.)"
   ]
  },
  {
   "cell_type": "markdown",
   "id": "60baec9a",
   "metadata": {},
   "source": [
    "Note that these can be matrices, not just lists. We can set, and calculate, their shape. The first number is the rows, second is the columns."
   ]
  },
  {
   "cell_type": "code",
   "execution_count": 8,
   "id": "4f8ea896",
   "metadata": {},
   "outputs": [
    {
     "name": "stdout",
     "output_type": "stream",
     "text": [
      "[[1. 1. 1. 1. 1.]\n",
      " [1. 1. 1. 1. 1.]\n",
      " [1. 1. 1. 1. 1.]]\n",
      "(3, 5)\n"
     ]
    }
   ],
   "source": [
    "matrix1 = np.ones((3,5))\n",
    "print(matrix1)\n",
    "print(matrix1.shape)"
   ]
  },
  {
   "cell_type": "markdown",
   "id": "d7bc2af5",
   "metadata": {},
   "source": [
    "The shape is what's called a 'tuple'. It's very similar to a list, but it's immutable (can't be changed)."
   ]
  },
  {
   "cell_type": "code",
   "execution_count": 9,
   "id": "f767d6ae",
   "metadata": {},
   "outputs": [
    {
     "name": "stdout",
     "output_type": "stream",
     "text": [
      "<class 'tuple'>\n"
     ]
    },
    {
     "ename": "AttributeError",
     "evalue": "'tuple' object has no attribute 'append'",
     "output_type": "error",
     "traceback": [
      "\u001b[0;31m---------------------------------------------------------------------------\u001b[0m",
      "\u001b[0;31mAttributeError\u001b[0m                            Traceback (most recent call last)",
      "Input \u001b[0;32mIn [9]\u001b[0m, in \u001b[0;36m<module>\u001b[0;34m\u001b[0m\n\u001b[1;32m      1\u001b[0m tst \u001b[38;5;241m=\u001b[39m (\u001b[38;5;241m1\u001b[39m,\u001b[38;5;241m2\u001b[39m)\n\u001b[1;32m      2\u001b[0m \u001b[38;5;28mprint\u001b[39m(\u001b[38;5;28mtype\u001b[39m(tst))\n\u001b[0;32m----> 3\u001b[0m \u001b[43mtst\u001b[49m\u001b[38;5;241;43m.\u001b[39;49m\u001b[43mappend\u001b[49m(\u001b[38;5;241m3\u001b[39m)\n",
      "\u001b[0;31mAttributeError\u001b[0m: 'tuple' object has no attribute 'append'"
     ]
    }
   ],
   "source": [
    "tst = (1,2)\n",
    "print(type(tst))\n",
    "tst.append(3)"
   ]
  },
  {
   "cell_type": "code",
   "execution_count": 10,
   "id": "f5b947b3",
   "metadata": {},
   "outputs": [
    {
     "data": {
      "text/plain": [
       "array([-1.  , -0.25,  0.5 ,  1.25,  2.  ])"
      ]
     },
     "execution_count": 10,
     "metadata": {},
     "output_type": "execute_result"
    }
   ],
   "source": [
    "# We can also make an evenly spaced array of a given length\n",
    "np.linspace(-1., 2., 5)"
   ]
  },
  {
   "cell_type": "markdown",
   "id": "78cddf36",
   "metadata": {},
   "source": [
    "## Slicing and Transposing Arrays\n",
    "\n",
    "We'll start by defining an array to work with that has floating point numbers of the form 'row.column', so it's easy to see if we've got the right data."
   ]
  },
  {
   "cell_type": "code",
   "execution_count": 11,
   "id": "0688b3ad",
   "metadata": {},
   "outputs": [],
   "source": [
    "inp_data = []\n",
    "for ii in range(10):\n",
    "    curr_data = []\n",
    "    for jj in range(10):\n",
    "        curr_data.append(ii+0.1*jj)\n",
    "    inp_data.append(curr_data)\n",
    "\n",
    "arr10 = np.array(inp_data)"
   ]
  },
  {
   "cell_type": "code",
   "execution_count": 12,
   "id": "8f70887d",
   "metadata": {},
   "outputs": [
    {
     "name": "stdout",
     "output_type": "stream",
     "text": [
      "[[0.  0.1 0.2 0.3 0.4 0.5 0.6 0.7 0.8 0.9]\n",
      " [1.  1.1 1.2 1.3 1.4 1.5 1.6 1.7 1.8 1.9]\n",
      " [2.  2.1 2.2 2.3 2.4 2.5 2.6 2.7 2.8 2.9]\n",
      " [3.  3.1 3.2 3.3 3.4 3.5 3.6 3.7 3.8 3.9]\n",
      " [4.  4.1 4.2 4.3 4.4 4.5 4.6 4.7 4.8 4.9]\n",
      " [5.  5.1 5.2 5.3 5.4 5.5 5.6 5.7 5.8 5.9]\n",
      " [6.  6.1 6.2 6.3 6.4 6.5 6.6 6.7 6.8 6.9]\n",
      " [7.  7.1 7.2 7.3 7.4 7.5 7.6 7.7 7.8 7.9]\n",
      " [8.  8.1 8.2 8.3 8.4 8.5 8.6 8.7 8.8 8.9]\n",
      " [9.  9.1 9.2 9.3 9.4 9.5 9.6 9.7 9.8 9.9]]\n"
     ]
    }
   ],
   "source": [
    "print(arr10)"
   ]
  },
  {
   "cell_type": "code",
   "execution_count": 13,
   "id": "1aa6693a",
   "metadata": {},
   "outputs": [
    {
     "data": {
      "text/plain": [
       "array([0.1, 1.1, 2.1, 3.1, 4.1, 5.1, 6.1, 7.1, 8.1, 9.1])"
      ]
     },
     "execution_count": 13,
     "metadata": {},
     "output_type": "execute_result"
    }
   ],
   "source": [
    "# Slicing - Take all rows in column 1\n",
    "arr10[:,1]"
   ]
  },
  {
   "cell_type": "code",
   "execution_count": 14,
   "id": "5d47f391",
   "metadata": {},
   "outputs": [
    {
     "data": {
      "text/plain": [
       "array([2. , 2.1, 2.2, 2.3, 2.4, 2.5, 2.6, 2.7, 2.8, 2.9])"
      ]
     },
     "execution_count": 14,
     "metadata": {},
     "output_type": "execute_result"
    }
   ],
   "source": [
    "# Slicing - Take all columns in row 2\n",
    "arr10[2,:]"
   ]
  },
  {
   "cell_type": "code",
   "execution_count": 15,
   "id": "c5673c56",
   "metadata": {},
   "outputs": [
    {
     "data": {
      "text/plain": [
       "array([2.1, 2.2, 2.3, 2.4, 2.5])"
      ]
     },
     "execution_count": 15,
     "metadata": {},
     "output_type": "execute_result"
    }
   ],
   "source": [
    "# Slicing - Take Row 2, columns 1 through 5\n",
    "arr10[2,1:6]"
   ]
  },
  {
   "cell_type": "code",
   "execution_count": 16,
   "id": "a45e9f5d",
   "metadata": {},
   "outputs": [
    {
     "data": {
      "text/plain": [
       "array([2.1, 2.3, 2.5, 2.7])"
      ]
     },
     "execution_count": 16,
     "metadata": {},
     "output_type": "execute_result"
    }
   ],
   "source": [
    "# Slicing - Row 2, columns 1 through 7, skipping by 2\n",
    "arr10[2,1:8:2]"
   ]
  },
  {
   "cell_type": "code",
   "execution_count": 17,
   "id": "812cd2b7",
   "metadata": {},
   "outputs": [
    {
     "data": {
      "text/plain": [
       "array([9. , 9.1, 9.2, 9.3, 9.4, 9.5, 9.6, 9.7, 9.8, 9.9])"
      ]
     },
     "execution_count": 17,
     "metadata": {},
     "output_type": "execute_result"
    }
   ],
   "source": [
    "# Slicing - Last row\n",
    "arr10[-1,:]"
   ]
  },
  {
   "cell_type": "markdown",
   "id": "952697ba",
   "metadata": {},
   "source": [
    "***Slicing is vital!! You need to be comfortable doing this***"
   ]
  },
  {
   "cell_type": "markdown",
   "id": "2e189043",
   "metadata": {},
   "source": [
    "**Exercise**: Get all values in column 4."
   ]
  },
  {
   "cell_type": "code",
   "execution_count": 18,
   "id": "1edb5391",
   "metadata": {},
   "outputs": [
    {
     "data": {
      "text/plain": [
       "array([0.4, 1.4, 2.4, 3.4, 4.4, 5.4, 6.4, 7.4, 8.4, 9.4])"
      ]
     },
     "execution_count": 18,
     "metadata": {},
     "output_type": "execute_result"
    }
   ],
   "source": [
    "arr10[:,4]"
   ]
  },
  {
   "cell_type": "markdown",
   "id": "d7dfd112",
   "metadata": {},
   "source": [
    "**Exercise**: Get all values in columns 4 and 5."
   ]
  },
  {
   "cell_type": "code",
   "execution_count": 20,
   "id": "9942a18d",
   "metadata": {},
   "outputs": [
    {
     "data": {
      "text/plain": [
       "array([[0.4, 0.5],\n",
       "       [1.4, 1.5],\n",
       "       [2.4, 2.5],\n",
       "       [3.4, 3.5],\n",
       "       [4.4, 4.5],\n",
       "       [5.4, 5.5],\n",
       "       [6.4, 6.5],\n",
       "       [7.4, 7.5],\n",
       "       [8.4, 8.5],\n",
       "       [9.4, 9.5]])"
      ]
     },
     "execution_count": 20,
     "metadata": {},
     "output_type": "execute_result"
    }
   ],
   "source": [
    "arr10[:,4:6]"
   ]
  },
  {
   "cell_type": "markdown",
   "id": "94a78703",
   "metadata": {},
   "source": [
    "**Exercise**: Get values in row 1,3,and 5, columns 4 through 7."
   ]
  },
  {
   "cell_type": "code",
   "execution_count": 22,
   "id": "06cd993e",
   "metadata": {},
   "outputs": [
    {
     "data": {
      "text/plain": [
       "array([[1.4, 1.5, 1.6, 1.7],\n",
       "       [3.4, 3.5, 3.6, 3.7],\n",
       "       [5.4, 5.5, 5.6, 5.7]])"
      ]
     },
     "execution_count": 22,
     "metadata": {},
     "output_type": "execute_result"
    }
   ],
   "source": [
    "arr10[(1,3,5),4:8]"
   ]
  },
  {
   "cell_type": "markdown",
   "id": "a4c9eb0b",
   "metadata": {},
   "source": [
    "## Other operations\n",
    "\n",
    "If you want to exchange rows and columns, take the transpose: `arr.T`."
   ]
  },
  {
   "cell_type": "code",
   "execution_count": 23,
   "id": "8c59f98e",
   "metadata": {},
   "outputs": [
    {
     "data": {
      "text/plain": [
       "array([[0. , 1. , 2. , 3. , 4. , 5. , 6. , 7. , 8. , 9. ],\n",
       "       [0.1, 1.1, 2.1, 3.1, 4.1, 5.1, 6.1, 7.1, 8.1, 9.1],\n",
       "       [0.2, 1.2, 2.2, 3.2, 4.2, 5.2, 6.2, 7.2, 8.2, 9.2],\n",
       "       [0.3, 1.3, 2.3, 3.3, 4.3, 5.3, 6.3, 7.3, 8.3, 9.3],\n",
       "       [0.4, 1.4, 2.4, 3.4, 4.4, 5.4, 6.4, 7.4, 8.4, 9.4],\n",
       "       [0.5, 1.5, 2.5, 3.5, 4.5, 5.5, 6.5, 7.5, 8.5, 9.5],\n",
       "       [0.6, 1.6, 2.6, 3.6, 4.6, 5.6, 6.6, 7.6, 8.6, 9.6],\n",
       "       [0.7, 1.7, 2.7, 3.7, 4.7, 5.7, 6.7, 7.7, 8.7, 9.7],\n",
       "       [0.8, 1.8, 2.8, 3.8, 4.8, 5.8, 6.8, 7.8, 8.8, 9.8],\n",
       "       [0.9, 1.9, 2.9, 3.9, 4.9, 5.9, 6.9, 7.9, 8.9, 9.9]])"
      ]
     },
     "execution_count": 23,
     "metadata": {},
     "output_type": "execute_result"
    }
   ],
   "source": [
    "arr10.T"
   ]
  },
  {
   "cell_type": "code",
   "execution_count": null,
   "id": "c2c2f6e3",
   "metadata": {},
   "outputs": [],
   "source": []
  }
 ],
 "metadata": {
  "kernelspec": {
   "display_name": "Python 3 (ipykernel)",
   "language": "python",
   "name": "python3"
  },
  "language_info": {
   "codemirror_mode": {
    "name": "ipython",
    "version": 3
   },
   "file_extension": ".py",
   "mimetype": "text/x-python",
   "name": "python",
   "nbconvert_exporter": "python",
   "pygments_lexer": "ipython3",
   "version": "3.9.7"
  }
 },
 "nbformat": 4,
 "nbformat_minor": 5
}
