{
 "cells": [
  {
   "cell_type": "markdown",
   "id": "227ebc7c",
   "metadata": {},
   "source": [
    "# Writing functions\n",
    "\n",
    "We need to remember how to write our own functions. We have to define the function name, and its arguments. Just under the `def` statement, we can put a string which documents the function.\n",
    "\n",
    "Then the body of the function does all the calculations, using the values in the argument variables. At the end, we have a `return` statement, which determines what the function outputs. Here's a simple example."
   ]
  },
  {
   "cell_type": "code",
   "execution_count": 1,
   "id": "e9214620",
   "metadata": {},
   "outputs": [],
   "source": [
    "def square(x):\n",
    "    \"\"\"Squares a number\"\"\"\n",
    "    y = x*x\n",
    "    return y"
   ]
  },
  {
   "cell_type": "code",
   "execution_count": 2,
   "id": "7584b528",
   "metadata": {},
   "outputs": [
    {
     "data": {
      "text/plain": [
       "16"
      ]
     },
     "execution_count": 2,
     "metadata": {},
     "output_type": "execute_result"
    }
   ],
   "source": [
    "square(4)"
   ]
  },
  {
   "cell_type": "code",
   "execution_count": 3,
   "id": "7315f976",
   "metadata": {},
   "outputs": [
    {
     "name": "stdout",
     "output_type": "stream",
     "text": [
      "Help on function square in module __main__:\n",
      "\n",
      "square(x)\n",
      "    Squares a number\n",
      "\n"
     ]
    }
   ],
   "source": [
    "# Evaluate the line below for help on the square function\n",
    "help(square)"
   ]
  },
  {
   "cell_type": "markdown",
   "id": "a58c9321",
   "metadata": {},
   "source": [
    "**Exercise**\n",
    "\n",
    "Look at the function defined below. Try to determine, on paper, exactly what it will return for some small values of n. Test that. Can you figure out what mathematical function this is calculating?"
   ]
  },
  {
   "cell_type": "code",
   "execution_count": 4,
   "id": "7caa3524",
   "metadata": {},
   "outputs": [],
   "source": [
    "def mystery(n):\n",
    "    \"\"\"This function is a mystery\"\"\"\n",
    "    y = 1\n",
    "    for x in range(1, n+1):\n",
    "        y = y*x\n",
    "    return y"
   ]
  },
  {
   "cell_type": "code",
   "execution_count": 8,
   "id": "70e7ebe5",
   "metadata": {},
   "outputs": [
    {
     "data": {
      "text/plain": [
       "3628800"
      ]
     },
     "execution_count": 8,
     "metadata": {},
     "output_type": "execute_result"
    }
   ],
   "source": [
    "mystery(10)"
   ]
  },
  {
   "cell_type": "code",
   "execution_count": 7,
   "id": "992eef1e",
   "metadata": {},
   "outputs": [
    {
     "data": {
      "text/plain": [
       "3628800"
      ]
     },
     "execution_count": 7,
     "metadata": {},
     "output_type": "execute_result"
    }
   ],
   "source": [
    "import math\n",
    "math.factorial(10)"
   ]
  },
  {
   "cell_type": "markdown",
   "id": "b656c9cf",
   "metadata": {},
   "source": [
    "**Exercise**\n",
    "\n",
    "Write a function which sums the numbers up to n, and returns the result. Test it."
   ]
  },
  {
   "cell_type": "code",
   "execution_count": 9,
   "id": "7fc5ace9",
   "metadata": {},
   "outputs": [],
   "source": [
    "def summation(n):\n",
    "    \"\"\"This function is a mystery\"\"\"\n",
    "    y = 0\n",
    "    for x in range(1, n+1):\n",
    "        y += x\n",
    "    return y"
   ]
  },
  {
   "cell_type": "code",
   "execution_count": 12,
   "id": "13d4ae2d",
   "metadata": {},
   "outputs": [
    {
     "data": {
      "text/plain": [
       "55"
      ]
     },
     "execution_count": 12,
     "metadata": {},
     "output_type": "execute_result"
    }
   ],
   "source": [
    "summation(10)"
   ]
  },
  {
   "cell_type": "markdown",
   "id": "8bcebe31",
   "metadata": {},
   "source": [
    "**Exercise (difficult)**\n",
    "\n",
    "Write a function which determines if an integer is prime (meaning it has no number other than one that divides it without a remainder). Remember the remainder operator is `x % y`. This function will need a loop and a conditional.\n",
    "\n",
    "You can check if two things are not equal either with\n",
    "\n",
    "`if x != y:`\n",
    "\n",
    "or\n",
    "\n",
    "`if not x == y`:"
   ]
  },
  {
   "cell_type": "code",
   "execution_count": 13,
   "id": "92fe7062",
   "metadata": {},
   "outputs": [],
   "source": [
    "def is_prime(number):\n",
    "    if number == 1 or number == 0:\n",
    "        return False\n",
    "    if type(number) is not int or number < 0:\n",
    "        raise ValueError(\"Must be a positive integer\")\n",
    "        \n",
    "    for x in range(2, number):\n",
    "        if number % x == 0:\n",
    "            return False\n",
    "    return True\n",
    "    "
   ]
  },
  {
   "cell_type": "code",
   "execution_count": 17,
   "id": "97c3bdbd",
   "metadata": {},
   "outputs": [
    {
     "name": "stdout",
     "output_type": "stream",
     "text": [
      "0 False\n",
      "1 False\n",
      "2 True\n",
      "3 True\n",
      "4 False\n",
      "5 True\n",
      "6 False\n",
      "7 True\n",
      "8 False\n",
      "9 False\n",
      "10 False\n",
      "11 True\n",
      "12 False\n",
      "13 True\n",
      "14 False\n",
      "15 False\n",
      "16 False\n",
      "17 True\n",
      "18 False\n",
      "19 True\n",
      "20 False\n",
      "21 False\n",
      "22 False\n",
      "23 True\n",
      "24 False\n",
      "25 False\n",
      "26 False\n",
      "27 False\n",
      "28 False\n",
      "29 True\n",
      "30 False\n",
      "31 True\n",
      "32 False\n",
      "33 False\n",
      "34 False\n",
      "35 False\n",
      "36 False\n",
      "37 True\n",
      "38 False\n",
      "39 False\n",
      "40 False\n",
      "41 True\n",
      "42 False\n",
      "43 True\n",
      "44 False\n",
      "45 False\n",
      "46 False\n",
      "47 True\n",
      "48 False\n",
      "49 False\n",
      "50 False\n",
      "51 False\n",
      "52 False\n",
      "53 True\n",
      "54 False\n",
      "55 False\n",
      "56 False\n",
      "57 False\n",
      "58 False\n",
      "59 True\n",
      "60 False\n",
      "61 True\n",
      "62 False\n",
      "63 False\n",
      "64 False\n",
      "65 False\n",
      "66 False\n",
      "67 True\n",
      "68 False\n",
      "69 False\n",
      "70 False\n",
      "71 True\n",
      "72 False\n",
      "73 True\n",
      "74 False\n",
      "75 False\n",
      "76 False\n",
      "77 False\n",
      "78 False\n",
      "79 True\n",
      "80 False\n",
      "81 False\n",
      "82 False\n",
      "83 True\n",
      "84 False\n",
      "85 False\n",
      "86 False\n",
      "87 False\n",
      "88 False\n",
      "89 True\n",
      "90 False\n",
      "91 False\n",
      "92 False\n",
      "93 False\n",
      "94 False\n",
      "95 False\n",
      "96 False\n",
      "97 True\n",
      "98 False\n",
      "99 False\n"
     ]
    }
   ],
   "source": [
    "for i in range(100):\n",
    "    print(i, is_prime(i))\n"
   ]
  },
  {
   "cell_type": "code",
   "execution_count": 19,
   "id": "5a066d71",
   "metadata": {},
   "outputs": [
    {
     "ename": "ValueError",
     "evalue": "Must be a positive integer",
     "output_type": "error",
     "traceback": [
      "\u001b[0;31m---------------------------------------------------------------------------\u001b[0m",
      "\u001b[0;31mValueError\u001b[0m                                Traceback (most recent call last)",
      "Input \u001b[0;32mIn [19]\u001b[0m, in \u001b[0;36m<module>\u001b[0;34m\u001b[0m\n\u001b[0;32m----> 1\u001b[0m \u001b[43mis_prime\u001b[49m\u001b[43m(\u001b[49m\u001b[38;5;241;43m-\u001b[39;49m\u001b[38;5;241;43m1\u001b[39;49m\u001b[43m)\u001b[49m\n",
      "Input \u001b[0;32mIn [13]\u001b[0m, in \u001b[0;36mis_prime\u001b[0;34m(number)\u001b[0m\n\u001b[1;32m      3\u001b[0m     \u001b[38;5;28;01mreturn\u001b[39;00m \u001b[38;5;28;01mFalse\u001b[39;00m\n\u001b[1;32m      4\u001b[0m \u001b[38;5;28;01mif\u001b[39;00m \u001b[38;5;28mtype\u001b[39m(number) \u001b[38;5;129;01mis\u001b[39;00m \u001b[38;5;129;01mnot\u001b[39;00m \u001b[38;5;28mint\u001b[39m \u001b[38;5;129;01mor\u001b[39;00m number \u001b[38;5;241m<\u001b[39m \u001b[38;5;241m0\u001b[39m:\n\u001b[0;32m----> 5\u001b[0m     \u001b[38;5;28;01mraise\u001b[39;00m \u001b[38;5;167;01mValueError\u001b[39;00m(\u001b[38;5;124m\"\u001b[39m\u001b[38;5;124mMust be a positive integer\u001b[39m\u001b[38;5;124m\"\u001b[39m)\n\u001b[1;32m      7\u001b[0m \u001b[38;5;28;01mfor\u001b[39;00m x \u001b[38;5;129;01min\u001b[39;00m \u001b[38;5;28mrange\u001b[39m(\u001b[38;5;241m2\u001b[39m, number):\n\u001b[1;32m      8\u001b[0m     \u001b[38;5;28;01mif\u001b[39;00m number \u001b[38;5;241m%\u001b[39m x \u001b[38;5;241m==\u001b[39m \u001b[38;5;241m0\u001b[39m:\n",
      "\u001b[0;31mValueError\u001b[0m: Must be a positive integer"
     ]
    }
   ],
   "source": [
    "is_prime(-1)"
   ]
  },
  {
   "cell_type": "markdown",
   "id": "4f300a3e",
   "metadata": {},
   "source": [
    "## Importing a function\n",
    "\n",
    "There's only a few functions built into Python. You may notice that there's no trigonometry functions. Python's capabilities can be massively extended by importing a module. Many very powerful modules are available, but for an example we'll use the math module. Functions in the module are accessed with a similar syntax to methods. We'll see ways of shortening this later."
   ]
  },
  {
   "cell_type": "code",
   "execution_count": null,
   "id": "a90b706d",
   "metadata": {},
   "outputs": [],
   "source": []
  },
  {
   "cell_type": "code",
   "execution_count": 20,
   "id": "debc2fe0",
   "metadata": {},
   "outputs": [],
   "source": [
    "import math"
   ]
  },
  {
   "cell_type": "code",
   "execution_count": 21,
   "id": "4a9d6e2f",
   "metadata": {},
   "outputs": [
    {
     "data": {
      "text/plain": [
       "0.5000000000000001"
      ]
     },
     "execution_count": 21,
     "metadata": {},
     "output_type": "execute_result"
    }
   ],
   "source": [
    "math.cos(math.pi/3)"
   ]
  },
  {
   "cell_type": "markdown",
   "id": "54a05ba9",
   "metadata": {},
   "source": [
    "**Exercise**\n",
    "\n",
    "Write a loop to test the identity $\\cos^2 \\theta + \\sin^2 \\theta = 1$ for many values of $\\theta$."
   ]
  },
  {
   "cell_type": "code",
   "execution_count": 24,
   "id": "6404f7f8",
   "metadata": {},
   "outputs": [
    {
     "name": "stdout",
     "output_type": "stream",
     "text": [
      "0.0 1.0\n",
      "0.06283185307179587 1.0\n",
      "0.12566370614359174 1.0\n",
      "0.18849555921538758 1.0\n",
      "0.25132741228718347 1.0\n",
      "0.3141592653589793 0.9999999999999999\n",
      "0.37699111843077515 1.0\n",
      "0.4398229715025711 1.0\n",
      "0.5026548245743669 1.0\n",
      "0.5654866776461628 1.0\n",
      "0.6283185307179586 1.0\n",
      "0.6911503837897545 0.9999999999999999\n",
      "0.7539822368615503 1.0\n",
      "0.8168140899333463 1.0\n",
      "0.8796459430051422 0.9999999999999999\n",
      "0.9424777960769379 1.0\n",
      "1.0053096491487339 1.0\n",
      "1.0681415022205298 1.0\n",
      "1.1309733552923256 1.0000000000000002\n",
      "1.1938052083641213 1.0\n",
      "1.2566370614359172 0.9999999999999999\n",
      "1.319468914507713 1.0\n",
      "1.382300767579509 0.9999999999999999\n",
      "1.4451326206513049 1.0\n",
      "1.5079644737231006 1.0\n",
      "1.5707963267948966 1.0\n",
      "1.6336281798666925 1.0\n",
      "1.6964600329384885 0.9999999999999999\n",
      "1.7592918860102844 0.9999999999999999\n",
      "1.82212373908208 1.0\n",
      "1.8849555921538759 1.0\n",
      "1.9477874452256718 0.9999999999999999\n",
      "2.0106192982974678 1.0\n",
      "2.0734511513692637 1.0\n",
      "2.1362830044410597 1.0\n",
      "2.199114857512855 0.9999999999999999\n",
      "2.261946710584651 1.0\n",
      "2.324778563656447 0.9999999999999999\n",
      "2.3876104167282426 1.0\n",
      "2.4504422698000385 1.0\n",
      "2.5132741228718345 1.0\n",
      "2.57610597594363 1.0\n",
      "2.638937829015426 1.0\n",
      "2.701769682087222 0.9999999999999999\n",
      "2.764601535159018 1.0\n",
      "2.827433388230814 1.0\n",
      "2.8902652413026098 1.0\n",
      "2.9530970943744053 1.0\n",
      "3.015928947446201 0.9999999999999999\n",
      "3.078760800517997 1.0\n",
      "3.141592653589793 1.0\n",
      "3.204424506661589 1.0\n",
      "3.267256359733385 1.0\n",
      "3.330088212805181 0.9999999999999999\n",
      "3.392920065876977 1.0\n",
      "3.455751918948773 1.0\n",
      "3.518583772020569 1.0\n",
      "3.581415625092364 0.9999999999999999\n",
      "3.64424747816416 0.9999999999999999\n",
      "3.707079331235956 1.0\n",
      "3.7699111843077517 0.9999999999999999\n",
      "3.8327430373795477 0.9999999999999999\n",
      "3.8955748904513436 1.0\n",
      "3.958406743523139 1.0\n",
      "4.0212385965949355 1.0\n",
      "4.084070449666731 1.0\n",
      "4.1469023027385274 1.0\n",
      "4.209734155810323 1.0\n",
      "4.272566008882119 1.0\n",
      "4.335397861953914 0.9999999999999999\n",
      "4.39822971502571 1.0\n",
      "4.461061568097506 1.0\n",
      "4.523893421169302 1.0\n",
      "4.586725274241098 1.0\n",
      "4.649557127312894 1.0\n",
      "4.71238898038469 1.0\n",
      "4.775220833456485 0.9999999999999999\n",
      "4.838052686528282 1.0\n",
      "4.900884539600077 1.0\n",
      "4.9637163926718735 1.0\n",
      "5.026548245743669 1.0\n",
      "5.089380098815465 0.9999999999999999\n",
      "5.15221195188726 1.0\n",
      "5.215043804959056 1.0\n",
      "5.277875658030852 1.0\n",
      "5.340707511102648 1.0\n",
      "5.403539364174444 1.0\n",
      "5.46637121724624 1.0\n",
      "5.529203070318036 1.0\n",
      "5.592034923389832 0.9999999999999999\n",
      "5.654866776461628 1.0000000000000002\n",
      "5.717698629533424 1.0\n",
      "5.7805304826052195 1.0\n",
      "5.843362335677016 0.9999999999999999\n",
      "5.9061941887488105 1.0\n",
      "5.969026041820607 1.0\n",
      "6.031857894892402 1.0\n",
      "6.094689747964199 1.0\n",
      "6.157521601035994 1.0\n",
      "6.220353454107791 1.0\n"
     ]
    }
   ],
   "source": [
    "for idx in range(100):\n",
    "    theta = idx/100 * 2 * math.pi\n",
    "    print(theta, math.cos(theta)**2 + math.sin(theta)**2)\n"
   ]
  },
  {
   "cell_type": "code",
   "execution_count": null,
   "id": "3cbbfa13",
   "metadata": {},
   "outputs": [],
   "source": []
  }
 ],
 "metadata": {
  "kernelspec": {
   "display_name": "Python 3 (ipykernel)",
   "language": "python",
   "name": "python3"
  },
  "language_info": {
   "codemirror_mode": {
    "name": "ipython",
    "version": 3
   },
   "file_extension": ".py",
   "mimetype": "text/x-python",
   "name": "python",
   "nbconvert_exporter": "python",
   "pygments_lexer": "ipython3",
   "version": "3.9.7"
  }
 },
 "nbformat": 4,
 "nbformat_minor": 5
}
