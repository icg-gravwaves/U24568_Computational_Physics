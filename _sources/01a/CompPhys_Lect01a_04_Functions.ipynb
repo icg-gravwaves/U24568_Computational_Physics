{
 "cells": [
  {
   "cell_type": "markdown",
   "id": "227ebc7c",
   "metadata": {},
   "source": [
    "# Writing functions\n",
    "\n",
    "We need to remember how to write our own functions. We have to define the function name, and its arguments. Just under the `def` statement, we can put a string which documents the function.\n",
    "\n",
    "Then the body of the function does all the calculations, using the values in the argument variables. At the end, we have a `return` statement, which determines what the function outputs. Here's a simple example."
   ]
  },
  {
   "cell_type": "code",
   "execution_count": 1,
   "id": "e9214620",
   "metadata": {},
   "outputs": [],
   "source": [
    "def square(x):\n",
    "    \"\"\"Squares a number\"\"\"\n",
    "    y = x*x\n",
    "    return y"
   ]
  },
  {
   "cell_type": "code",
   "execution_count": 2,
   "id": "7584b528",
   "metadata": {},
   "outputs": [
    {
     "data": {
      "text/plain": [
       "16"
      ]
     },
     "execution_count": 2,
     "metadata": {},
     "output_type": "execute_result"
    }
   ],
   "source": [
    "square(4)"
   ]
  },
  {
   "cell_type": "code",
   "execution_count": 4,
   "id": "7315f976",
   "metadata": {},
   "outputs": [
    {
     "name": "stdout",
     "output_type": "stream",
     "text": [
      "Help on function square in module __main__:\n",
      "\n",
      "square(x)\n",
      "    Squares a number\n",
      "\n"
     ]
    }
   ],
   "source": [
    "# Evaluate the line below for help on the square function\n",
    "help(square)"
   ]
  },
  {
   "cell_type": "markdown",
   "id": "a58c9321",
   "metadata": {},
   "source": [
    "**Exercise**\n",
    "\n",
    "Look at the function defined below. Try to determine, on paper, exactly what it will return for some small values of n. Test that. Can you figure out what mathematical function this is calculating?"
   ]
  },
  {
   "cell_type": "code",
   "execution_count": 5,
   "id": "7caa3524",
   "metadata": {},
   "outputs": [],
   "source": [
    "def mystery(n):\n",
    "    \"\"\"This function is a mystery\"\"\"\n",
    "    y = 1\n",
    "    for x in range(1, n+1):\n",
    "        y = y*x\n",
    "    return y"
   ]
  },
  {
   "cell_type": "code",
   "execution_count": null,
   "id": "70e7ebe5",
   "metadata": {},
   "outputs": [],
   "source": []
  },
  {
   "cell_type": "code",
   "execution_count": null,
   "id": "992eef1e",
   "metadata": {},
   "outputs": [],
   "source": []
  },
  {
   "cell_type": "markdown",
   "id": "b656c9cf",
   "metadata": {},
   "source": [
    "**Exercise**\n",
    "\n",
    "Write a function which sums the numbers up to n, and returns the result. Test it."
   ]
  },
  {
   "cell_type": "code",
   "execution_count": null,
   "id": "7fc5ace9",
   "metadata": {},
   "outputs": [],
   "source": []
  },
  {
   "cell_type": "markdown",
   "id": "8bcebe31",
   "metadata": {},
   "source": [
    "**Exercise (difficult)**\n",
    "\n",
    "Write a function which determines if an integer is prime (meaning it has no number other than one that divides it without a remainder). Remember the remainder operator is `x % y`. This function will need a loop and a conditional.\n",
    "\n",
    "You can check if two things are not equal either with\n",
    "\n",
    "`if x != y:`\n",
    "\n",
    "or\n",
    "\n",
    "`if not x == y`:"
   ]
  },
  {
   "cell_type": "code",
   "execution_count": null,
   "id": "92fe7062",
   "metadata": {},
   "outputs": [],
   "source": []
  },
  {
   "cell_type": "markdown",
   "id": "4f300a3e",
   "metadata": {},
   "source": [
    "## Importing a function\n",
    "\n",
    "There's only a few functions built into Python. You may notice that there's no trigonometry functions. Python's capabilities can be massively extended by importing a module. Many very powerful modules are available, but for an example we'll use the math module. Functions in the module are accessed with a similar syntax to methods. We'll see ways of shortening this later."
   ]
  },
  {
   "cell_type": "code",
   "execution_count": 6,
   "id": "debc2fe0",
   "metadata": {},
   "outputs": [],
   "source": [
    "import math"
   ]
  },
  {
   "cell_type": "code",
   "execution_count": 7,
   "id": "4a9d6e2f",
   "metadata": {},
   "outputs": [
    {
     "data": {
      "text/plain": [
       "0.5000000000000001"
      ]
     },
     "execution_count": 7,
     "metadata": {},
     "output_type": "execute_result"
    }
   ],
   "source": [
    "math.cos(math.pi/3)"
   ]
  },
  {
   "cell_type": "markdown",
   "id": "54a05ba9",
   "metadata": {},
   "source": [
    "**Exercise**\n",
    "\n",
    "Write a loop to test the identity $\\cos^2 \\theta + \\sin^2 \\theta = 1$ for many values of $\\theta$."
   ]
  },
  {
   "cell_type": "code",
   "execution_count": null,
   "id": "6404f7f8",
   "metadata": {},
   "outputs": [],
   "source": []
  }
 ],
 "metadata": {
  "kernelspec": {
   "display_name": "Python 3 (ipykernel)",
   "language": "python",
   "name": "python3"
  },
  "language_info": {
   "codemirror_mode": {
    "name": "ipython",
    "version": 3
   },
   "file_extension": ".py",
   "mimetype": "text/x-python",
   "name": "python",
   "nbconvert_exporter": "python",
   "pygments_lexer": "ipython3",
   "version": "3.9.7"
  }
 },
 "nbformat": 4,
 "nbformat_minor": 5
}
