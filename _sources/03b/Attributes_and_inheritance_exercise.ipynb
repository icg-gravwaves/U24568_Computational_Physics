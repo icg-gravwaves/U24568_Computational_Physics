{
 "cells": [
  {
   "cell_type": "markdown",
   "id": "fe99b4b4",
   "metadata": {},
   "source": [
    "# Class attributes and inheritence - Exercise\n",
    "\n",
    "Create a Cat class in the same manner as the Dog class in the previous section. Define some class attributes specific to a cat. Use a Feline (or Felid) class which is a parent to Cat but a child of Mammal. Again choose some class attributes appropriate in each case. "
   ]
  },
  {
   "cell_type": "code",
   "execution_count": null,
   "id": "bf8d39f3",
   "metadata": {},
   "outputs": [],
   "source": []
  }
 ],
 "metadata": {
  "kernelspec": {
   "display_name": "Python 3 (ipykernel)",
   "language": "python",
   "name": "python3"
  },
  "language_info": {
   "codemirror_mode": {
    "name": "ipython",
    "version": 3
   },
   "file_extension": ".py",
   "mimetype": "text/x-python",
   "name": "python",
   "nbconvert_exporter": "python",
   "pygments_lexer": "ipython3",
   "version": "3.9.12"
  }
 },
 "nbformat": 4,
 "nbformat_minor": 5
}
