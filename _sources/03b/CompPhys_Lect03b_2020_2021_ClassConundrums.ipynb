{
 "cells": [
  {
   "cell_type": "markdown",
   "metadata": {
    "id": "VXfzy3J9pOIs"
   },
   "source": [
    "# Computational Physics U24568\n",
    "## Lecture 4a - Class Conundrums"
   ]
  },
  {
   "cell_type": "markdown",
   "metadata": {
    "id": "95dDFQbOpOIu"
   },
   "source": [
    "### Introduction\n",
    "\n",
    "Today's lecture will give you an introduction to classes in python, and explain why python is known as an \"object oriented\" language. The basic idea is that when writing a long piece of code you normally want to split things up using functions to avoid repeating code and to keep the main block of code short and concise, while also making it clear what is going on.\n",
    "\n",
    "The class provides an alternative to using functions. A class defines an object, which might hold a number of attributes (think values) or methods (think functions, which act on the class) describing that object. You can then use these attributes and methods to set up the object in the way you want and then use this to solve problems.\n",
    "\n",
    "As an abstract example of this, if I were simulating a Galaxy I might want to use a class as a nice way to turn features on and off. This might be accessed with code looking something like:\n",
    "\n",
    "```python\n",
    "my_galaxy = GalaxySimulator(num_stars=1E9)\n",
    "my_galaxy.add_supermassive_blackhole(mass=1E6)\n",
    "my_galaxy.add_satellite_galaxies(50)\n",
    "my_galaxy.add_star_forming_region(location_from_center_kpc=(10,10,1), radius_kpc=1)\n",
    "my_galaxy.evolve_galaxy(time_gigayears=10)\n",
    "```\n",
    "\n",
    "Now if you copy this code into the window it isn't going to work, as we haven't written the code to do this, but I hope the methods being used here give some idea of what these commands are doing (even if the details are not clear).\n",
    "\n",
    "In this lecture we'll walk through the details of defining your own class, giving the usual set of exercises to practice on.\n"
   ]
  },
  {
   "cell_type": "markdown",
   "metadata": {
    "id": "n1xTLxDdpOIu"
   },
   "source": [
    "### Initializing a class - a bunch of stuff to read up front!\n",
    "\n",
    "The very first thing we need to know is how to create a basic class. A simple class that does nothing at all can be defined as"
   ]
  },
  {
   "cell_type": "code",
   "execution_count": null,
   "metadata": {
    "id": "yEalvjqHpOIu"
   },
   "outputs": [],
   "source": [
    "class MyPointlessClass:\n",
    "    pass"
   ]
  },
  {
   "cell_type": "markdown",
   "metadata": {
    "id": "uPkWg8bHpOIv"
   },
   "source": [
    "We can then generate an \"instance\" of this class by running:"
   ]
  },
  {
   "cell_type": "code",
   "execution_count": null,
   "metadata": {
    "id": "Z51x_3YapOIv"
   },
   "outputs": [],
   "source": [
    "mypointlessclass_instance = MyPointlessClass()"
   ]
  },
  {
   "cell_type": "markdown",
   "metadata": {
    "id": "Cun4dMn9pOIv"
   },
   "source": [
    "We can examine this instance to see what it is:"
   ]
  },
  {
   "cell_type": "code",
   "execution_count": null,
   "metadata": {
    "id": "tD43UvQqpOIv"
   },
   "outputs": [],
   "source": [
    "print(type(mypointlessclass_instance))"
   ]
  },
  {
   "cell_type": "markdown",
   "metadata": {
    "id": "8BoXf9HdpOIv"
   },
   "source": [
    "It's an example of the MyPointlessClass object, as expected.\n",
    "\n",
    "We can set values into this object, and do arithmetic using them. Note the \".\" operator is used here to access\n",
    "attributes (or methods, which we'll come to in a bit!) of an object (or instance of a class)."
   ]
  },
  {
   "cell_type": "code",
   "execution_count": null,
   "metadata": {
    "id": "5CfG7-mipOIv"
   },
   "outputs": [],
   "source": [
    "mypointlessclass_instance.value1 = 10.\n",
    "mypointlessclass_instance.value2 = 20.\n",
    "mypointlessclass_instance.value3 = mypointlessclass_instance.value1 + mypointlessclass_instance.value2"
   ]
  },
  {
   "cell_type": "markdown",
   "metadata": {
    "id": "MnHcnK3TpOIw"
   },
   "source": [
    "In this example we're basically using the object as a \"namespace\". We're storing values into the class instance, if the class instance is storing lots of different values then the class instance could be sent on to functions to avoid sending lots of values as arguments to the function. This can be convenient, but a dictionary (for example) could be used for exactly the same thing.\n",
    "\n",
    "The power and utility of python's classes come from having as much code as possible exist within the class. So let's introduce some more concepts to illustrate this. First the `__init__` method is used to create a class, which already has certain values. So if we want to demand that a class is initialized with `value1` and `value2` attributes we could do:"
   ]
  },
  {
   "cell_type": "code",
   "execution_count": null,
   "metadata": {
    "id": "rrurMwwupOIw"
   },
   "outputs": [],
   "source": [
    "class MyPointlessClass2:\n",
    "    def __init__(self, value1, value2):\n",
    "        self.value1 = value1\n",
    "        self.value2 = value2"
   ]
  },
  {
   "cell_type": "markdown",
   "metadata": {
    "id": "bVn4bSx5pOIw"
   },
   "source": [
    "The `__init__` method is crucial for using classes effectively! Note that the first argument to `__init__` is `self`. This is a convention. `self` refers to the class instance itself and is *not* provided when calling this function. Effectively `self` here is equivalent to `mypointlessclass_instance` in the case above. So to illustrate calling this:"
   ]
  },
  {
   "cell_type": "code",
   "execution_count": null,
   "metadata": {
    "id": "jC95mVVMpOIw"
   },
   "outputs": [],
   "source": [
    "mypointlessclass2_instance = MyPointlessClass2(10, 20)\n",
    "print(mypointlessclass2_instance.value1)\n",
    "print(mypointlessclass2_instance.value2)\n",
    "\n",
    "# We can still do:\n",
    "mypointlessclass2_instance.value3 = mypointlessclass2_instance.value1 + mypointlessclass2_instance.value2\n",
    "print(mypointlessclass2_instance.value3)\n",
    "\n",
    "# And we can still change these values:\n",
    "mypointlessclass2_instance.value2 = 35.\n",
    "print(mypointlessclass2_instance.value2)\n",
    "# Of course value 3 is not linked to value2, so won't change automatically:\n",
    "print(mypointlessclass2_instance.value3)\n",
    "# But of course you can set it again:\n",
    "mypointlessclass2_instance.value3 = mypointlessclass2_instance.value1 + mypointlessclass2_instance.value2"
   ]
  },
  {
   "cell_type": "markdown",
   "metadata": {
    "id": "aTVHnRbopOIw"
   },
   "source": [
    "Again though, we can consign all of this to the class itself, and define a method for setting this value3"
   ]
  },
  {
   "cell_type": "code",
   "execution_count": null,
   "metadata": {
    "id": "Fmx3B4DJpOIw"
   },
   "outputs": [],
   "source": [
    "class MyPointlessClass3:\n",
    "    def __init__(self, value1, value2):\n",
    "        self.value1 = value1\n",
    "        self.value2 = value2\n",
    "    \n",
    "    def set_value3(self):\n",
    "        self.value3 = self.value1 + self.value2"
   ]
  },
  {
   "cell_type": "code",
   "execution_count": null,
   "metadata": {
    "id": "yy5B5J60pOIw"
   },
   "outputs": [],
   "source": [
    "mypointlessclass3_instance = MyPointlessClass3(10, 20)\n",
    "mypointlessclass3_instance.set_value3()"
   ]
  },
  {
   "cell_type": "markdown",
   "metadata": {
    "id": "cbipq39dpOIw"
   },
   "source": [
    "Finally, if you always want value3 set, you can have this done automatically. You can also add functions for setting value1 and value2. In the case below these functions *also* call set_value3 whenever you set value1 or value2, so everything is kept in sync automatically!\n",
    "\n",
    "(I note that python provides \"class setters/getters\" which can make the example below a little shorter. See here for reference (https://www.python-course.eu/python3_properties.php), but I won't cover this here as we need to be more familiar with classes before thinking about some of the advanced features!)"
   ]
  },
  {
   "cell_type": "code",
   "execution_count": null,
   "metadata": {
    "id": "FF_lju4ypOIx"
   },
   "outputs": [],
   "source": [
    "class MyPointlessClass4:\n",
    "    def __init__(self, value1, value2):\n",
    "        self.value1 = value1\n",
    "        self.value2 = value2\n",
    "        self.set_value3()\n",
    "        \n",
    "    def set_value1(self, value):\n",
    "        self.value1 = value\n",
    "        self.set_value3()\n",
    "\n",
    "    def set_value2(self, value):\n",
    "        self.value2 = value\n",
    "        self.set_value3()\n",
    "    \n",
    "    def set_value3(self):\n",
    "        self.value3 = self.value1 + self.value2"
   ]
  },
  {
   "cell_type": "code",
   "execution_count": null,
   "metadata": {
    "id": "ZjFSTVvopOIx"
   },
   "outputs": [],
   "source": [
    "mypointlessclass4_instance = MyPointlessClass4(10, 20)\n",
    "# Now value 3 is set automatically:\n",
    "print(mypointlessclass4_instance.value3)\n",
    "\n",
    "# And if I do:\n",
    "mypointlessclass4_instance.set_value1(15)\n",
    "mypointlessclass4_instance.set_value2(5)\n",
    "# value3 is updated automatically\n",
    "print(mypointlessclass4_instance.value1,mypointlessclass4_instance.value2,mypointlessclass4_instance.value3)\n",
    "\n",
    "# BUT if I do:\n",
    "mypointlessclass4_instance.value1 = 100\n",
    "# value3 is *not* updated (the getter/setter thing is the way to avoid this!)\n",
    "print(mypointlessclass4_instance.value3)\n"
   ]
  },
  {
   "cell_type": "markdown",
   "metadata": {
    "id": "n2DBNYfbpOIx"
   },
   "source": [
    "### Initializing a class - EXERCISE\n",
    "\n",
    "Write a class that is initialized with 3 values (`value1`, `value2` and `value3`). It should also include a function that computes\n",
    "\n",
    "`value4` = (`value1` * `value2`) % `value3`\n",
    "\n",
    "* STEP 1: Write an `__init__` function that takes 3 inputs, and stores them in the class instance (just like the example above, but with 3, instead of 2, inputs).\n",
    "* STEP 2: Write a set_value4 function (called a \"method\") to set value4. This must be within the class definition, similar to the example above.\n",
    "* STEP 3: Optionally, write set_value1, set_value2 and set_value3 functions, which would update valueX *and then* also update value4 by calling set_value4. "
   ]
  },
  {
   "cell_type": "code",
   "execution_count": null,
   "metadata": {
    "id": "mPkHyd-DpOIx"
   },
   "outputs": [],
   "source": [
    "class ExerciseClassOne:\n",
    "    # REPLACE THIS WITH CODE TO GENERATE YOUR CLASS!\n"
   ]
  },
  {
   "cell_type": "code",
   "execution_count": null,
   "metadata": {
    "id": "4_ssthqxpOIx"
   },
   "outputs": [],
   "source": [
    "# Code to check your class is working\n",
    "\n",
    "exercise_instance_a = ExerciseClassOne(5, 10, 6)\n",
    "exercise_instance_a.compute_value_four()\n",
    "print(exercise_instance_a.value4, \"This should be:\", (5*10) % 6)\n",
    "\n",
    "exercise_instance_b = ExerciseClassOne(10, 72, 3.4)\n",
    "exercise_instance_b.compute_value_four()\n",
    "print(exercise_instance_b.value4, \"This should be:\", (10*72) % 3.4)\n",
    "\n"
   ]
  },
  {
   "cell_type": "markdown",
   "metadata": {
    "id": "8DxoY43tpOIy"
   },
   "source": [
    "### Optional arguments - Some reading\n",
    "\n",
    "Sometimes it is useful to have these arguments take default values. If we take our example above, we can set this up so that these two values take default values:"
   ]
  },
  {
   "cell_type": "code",
   "execution_count": null,
   "metadata": {
    "id": "NqsZpNx3pOIy"
   },
   "outputs": [],
   "source": [
    "class MyPointlessClass5:\n",
    "    def __init__(self, value1=10, value2=20):\n",
    "        self.value1 = value1\n",
    "        self.value2 = value2\n",
    "        self.set_value3()\n",
    "        \n",
    "    def set_value1(self, value):\n",
    "        self.value1 = value\n",
    "        self.set_value3()\n",
    "\n",
    "    def set_value2(self, value):\n",
    "        self.value2 = value\n",
    "        self.set_value3()\n",
    "    \n",
    "    def set_value3(self):\n",
    "        self.value3 = self.value1 + self.value2"
   ]
  },
  {
   "cell_type": "code",
   "execution_count": null,
   "metadata": {
    "id": "WR8-SahMpOIy"
   },
   "outputs": [],
   "source": [
    "# Now if I initialize the class without any values:\n",
    "mypc_instance5 = MyPointlessClass5()\n",
    "# It has the default values\n",
    "print(mypc_instance5.value1, mypc_instance5.value2, mypc_instance5.value3)\n",
    "print()\n",
    "\n",
    "# Or I can set one of the values directly:\n",
    "mypc_instance5 = MyPointlessClass5(value2=15)\n",
    "print(mypc_instance5.value1, mypc_instance5.value2, mypc_instance5.value3)\n",
    "print()\n",
    "\n",
    "# Or I can set the other\n",
    "mypc_instance5 = MyPointlessClass5(value1=-2)\n",
    "print(mypc_instance5.value1, mypc_instance5.value2, mypc_instance5.value3)\n",
    "print()\n",
    "\n",
    "# Or I can set both\n",
    "mypc_instance5 = MyPointlessClass5(value1=-2, value2=15)\n",
    "print(mypc_instance5.value1, mypc_instance5.value2, mypc_instance5.value3)\n",
    "print()\n"
   ]
  },
  {
   "cell_type": "markdown",
   "metadata": {
    "id": "Yc2B_hQkpOIy"
   },
   "source": [
    "Okay: let's try a few examples:"
   ]
  },
  {
   "cell_type": "markdown",
   "metadata": {
    "id": "r0kVznrRpOIy"
   },
   "source": [
    "### Practicing defining classes - EXERCISE 1\n",
    "\n",
    "I want to know how many people have passed my course in the last 5 years. I know that $N$ people passed my course in years 1 - 4, and I have a list $mark\\_list$ of marks for the students in year 5. A mark of 40 or larger is pass. Implement a class below so that the code fragment below will tell me how many students have passed my course in the last 5 years.\n",
    "\n",
    "The class should have the following:\n",
    "\n",
    "* It should be called `MarkTracker`\n",
    "* It should have an `__init__` function/method, which takes one input (in addition to `self`). This input is a number N, denoting the number of people who passed the course in the first 4 years. This number should be stored to an attribute of the class called `num_passes`.\n",
    "* It should have a `add_passes_from_grades` function/method. This takes one input (in addition to `self`). That input is a list of the marks for the students in year 5. The function should identify how many of these students have passed (40 or larger is a pass), and then add that number to the current value of `num_passes`"
   ]
  },
  {
   "cell_type": "code",
   "execution_count": null,
   "metadata": {
    "id": "tdpKO8mdpOIy"
   },
   "outputs": [],
   "source": [
    "class MarkTracker:\n",
    "    # INSERT CLASS IMPLEMENTATION HERE\n",
    "\n",
    "\n",
    "# DO NOT CHANGE CODE BELOW! It checks if your solution is correct!\n",
    "\n",
    "N = 52\n",
    "mark_list = [12, 24, 36, 48, 60, 72, 84, 96]\n",
    "mark_tracker = MarkTracker(N)\n",
    "mark_tracker.add_passes_from_grades(mark_list)\n",
    "print(mark_tracker.num_passes, \"Should say 57\")\n",
    "\n",
    "N = 4\n",
    "mark_list = [35,36,37,38,39,40,41,42,43,44,45]\n",
    "mark_tracker = MarkTracker(N)\n",
    "mark_tracker.add_passes_from_grades(mark_list)\n",
    "print(mark_tracker.num_passes, \"Should say 10\")\n",
    "\n",
    "N = 101\n",
    "mark_list = [1, 12, 40, 91, 36, 40, 23, 27, 42, 68]\n",
    "mark_tracker = MarkTracker(N)\n",
    "mark_tracker.add_passes_from_grades(mark_list)\n",
    "print(mark_tracker.num_passes, \"Should say 106\")\n"
   ]
  },
  {
   "cell_type": "markdown",
   "metadata": {
    "id": "ccO6wtcnpOIz"
   },
   "source": [
    "### Practicing defining classes - EXERCISE 2\n",
    "\n",
    "I want to write a class that will compute the area of a rectangle and print it in a nice way. I have implemented part of the solution already. Please fill in the missing method of the class! Note that in this exercise I am defining a `__str__` method. This method is called when I run the builtin `str` function on the class instance. I can overwrite *any* operation in python in this way. I can use `__mul__` to define what to do if I multiply this object with something else, or `__geq__` to define what to do if using the `>=` operator or .... (there's a lot of these \"magic methods\" https://rszalski.github.io/magicmethods/)\n",
    "\n",
    "* To solve this you will need to add a compute_area method of this class, which uses the height and width attributes, already defined within the class instance to compute an area. Therefore `compute_area` takes no inputs (other than self) and returns an area, using height and width already defined in the `__init__` method."
   ]
  },
  {
   "cell_type": "code",
   "execution_count": null,
   "metadata": {
    "id": "aHxgqBMmpOIz"
   },
   "outputs": [],
   "source": [
    "class Rectangle:\n",
    "    def __init__(self, height, width):\n",
    "        self.height = height\n",
    "        self.width = width\n",
    "\n",
    "    def __str__(self):\n",
    "        return f'AREA = {self.height} x {self.width} = {self.compute_area()}'\n",
    "\n",
    "    # Note that the __str__ method above uses a self.compute_area method?\n",
    "    # We haven't written that yet!!! WRITE THE compute_area METHOD HERE\n",
    "\n",
    "\n",
    "# Test if your class works\n",
    "height=30\n",
    "width = 21\n",
    "rectangle_instance = Rectangle(height, width)\n",
    "print(str(rectangle_instance), \"Should be\", 30*21)\n",
    "\n",
    "height= 0\n",
    "width = 12\n",
    "rectangle_instance = Rectangle(height, width)\n",
    "print(str(rectangle_instance), \"Should be\", 0)\n",
    "\n",
    "height= 12.3\n",
    "width = 13.4\n",
    "rectangle_instance = Rectangle(height, width)\n",
    "print(str(rectangle_instance), \"Should be\", 12.3 * 13.4)\n"
   ]
  },
  {
   "cell_type": "markdown",
   "metadata": {
    "id": "nQkiWIDppOIz"
   },
   "source": [
    "### Practicing defining classes - EXERCISE 3\n",
    "\n",
    "Now take the above example and add an additional method such that when I run `str` on the class instance it prints both the area *and* the perimeter.\n",
    "\n",
    "* HINT: To do this I would write a `compute_perimeter` method, similar to `compute_area`. Then the `__str__` method needs to be edited to return a string that prints both the area and perimeter!"
   ]
  },
  {
   "cell_type": "code",
   "execution_count": null,
   "metadata": {
    "id": "TRZUsuHopOIz"
   },
   "outputs": [],
   "source": [
    "# FILL IN CLASS HERE\n",
    "\n",
    "\n",
    "# Test if your class works\n",
    "height=30\n",
    "width = 21\n",
    "rectangle_instance = Rectangle(height, width)\n",
    "print(str(rectangle_instance), \"Should be\", 30*21, \"and\", 2*(30+21))\n",
    "\n",
    "height= 0\n",
    "width = 12\n",
    "rectangle_instance = Rectangle(height, width)\n",
    "print(str(rectangle_instance), \"Should be\", 0, \"and ... what should the perimeter be in this case??\")\n",
    "\n",
    "height= 12.3\n",
    "width = 13.4\n",
    "rectangle_instance = Rectangle(height, width)\n",
    "print(str(rectangle_instance), \"Should be\", 12.3 * 13.4, \"and\", 2*(12.3 + 13.4))\n"
   ]
  },
  {
   "cell_type": "markdown",
   "metadata": {
    "id": "BlY_lKCFpOIz"
   },
   "source": [
    "### Practicing defining classes - EXERCISE 4\n",
    "\n",
    "In a similar vein write a Triangle class. This should be able to print the perimeter, and area, of a triangle. It should be initialized by taking the 3 lengths of the sides of the triangle.\n",
    "\n",
    "* HINT: Here you have some more freedome to define how to do this, but your Triangle class must be called `Triangle`, must have an `__init__` method taking the 3 lengths as input, and define a `__str__` method similar to the case above."
   ]
  },
  {
   "cell_type": "code",
   "execution_count": null,
   "metadata": {
    "id": "6WB1yKezpOIz"
   },
   "outputs": [],
   "source": [
    "# Add implementation of a Triangle class here\n",
    "\n",
    "\n",
    "# Test if your class works\n",
    "side1_length = 10\n",
    "side2_length = 10\n",
    "side3_length = 10\n",
    "triangle_instance = Triangle(side1_length, side2_length, side3_length)\n",
    "print(str(triangle_instance))\n",
    "print(\"Should be\", 1875**0.5, \"and\", 30)\n",
    "print()\n",
    "\n",
    "side1_length = 10\n",
    "side2_length = 10\n",
    "side3_length = 15\n",
    "triangle_instance = Triangle(side1_length, side2_length, side3_length)\n",
    "print(str(triangle_instance))\n",
    "print(\"Should be\", 49.607837082461074, \"and\", 35)\n",
    "print()\n",
    "\n",
    "side1_length = 30\n",
    "side2_length = 10\n",
    "side3_length = 21\n",
    "triangle_instance = Triangle(side1_length, side2_length, side3_length)\n",
    "print(str(triangle_instance))\n",
    "print(\"Should be\", 54.49713295211043, \"and\", 61)\n",
    "print()\n"
   ]
  },
  {
   "cell_type": "markdown",
   "metadata": {
    "id": "SDB3DS-bpOIz"
   },
   "source": [
    "### Recap\n",
    "\n",
    "So that's the basics of python classes. Just to recap the nomenclature here:\n",
    "\n",
    " * Class: Defines a new type of object (like a `float` or an `int` is a type of object)\n",
    " * Object or Instance: When I do `mypointlessclass_instance = MyPointlessClass()` then `mypointlessclass_instance` is an *instance* of the `MyPointlessClass` *class*\n",
    " * Methods: Are functions defined within the scope of the class, like `compute_area` within our Rectangle class above.\n",
    " * Attributes: Are values defined with the class. So things like `mypointlessclass_instance.value1` in our original example.\n",
    "\n",
    "### Class attributes and inheritence - Some more reading!\n",
    " \n",
    "Let's have a look at a couple of other things now, class attributes and inheritance.\n",
    "\n",
    "First let's consider a class describing a mammal"
   ]
  },
  {
   "cell_type": "code",
   "execution_count": null,
   "metadata": {
    "id": "lThaWQ-JpOI0"
   },
   "outputs": [],
   "source": [
    "class Mammal:\n",
    "    num_limbs = 4\n",
    "    has_backbone = True\n",
    "    warmblooded = True\n",
    "    \n",
    "    def __init__(self, current_size, current_age):\n",
    "        self.current_size = current_size\n",
    "        self.current_age = current_age"
   ]
  },
  {
   "cell_type": "markdown",
   "metadata": {
    "id": "qsnl0ITGpOI0"
   },
   "source": [
    "In this example we have defined 3 \"class attributes\" (`num_limbs`, `has_backbone` and `warmblooded`), these attributes will be accessible from any instance of this class."
   ]
  },
  {
   "cell_type": "code",
   "execution_count": null,
   "metadata": {
    "id": "aqg11yHBpOI0"
   },
   "outputs": [],
   "source": [
    "my_mammal = Mammal(100, 32)\n",
    "print(my_mammal.num_limbs, my_mammal.has_backbone, my_mammal.warmblooded)"
   ]
  },
  {
   "cell_type": "markdown",
   "metadata": {
    "id": "Gy2pKTbJpOI0"
   },
   "source": [
    "If you change these values they will change for *all* instances of the class (don't do this!)"
   ]
  },
  {
   "cell_type": "code",
   "execution_count": null,
   "metadata": {
    "id": "LmRkGRvMpOI0"
   },
   "outputs": [],
   "source": [
    "my_mammal = Mammal(100, 32)\n",
    "my_mammal2 = Mammal(50, 12)\n",
    "my_mammal3 = Mammal(25, 64)\n",
    "Mammal.num_limbs = 3\n",
    "\n",
    "print(my_mammal.num_limbs, my_mammal2.num_limbs, my_mammal3.num_limbs)\n",
    "\n",
    "my_mammal = Mammal(100, 32)\n",
    "my_mammal2 = Mammal(50, 12)\n",
    "my_mammal3 = Mammal(25, 64)\n",
    "# This line sets the attribute again to be a local attribute, so this one won't change\n",
    "my_mammal3.num_limbs = 5\n",
    "Mammal.num_limbs = 3\n",
    "\n",
    "print(my_mammal.num_limbs, my_mammal2.num_limbs, my_mammal3.num_limbs)\n",
    "\n",
    "# Set it back\n",
    "Mammal.num_limbs = 4"
   ]
  },
  {
   "cell_type": "markdown",
   "metadata": {
    "id": "m8RdlL5cpOI0"
   },
   "source": [
    "Now let's demonstrate inheritence. If we wanted a canine class, say, we might not want to define again properties of mammals, which are common across all mammals. So we can \"inherit\" information from the parent class"
   ]
  },
  {
   "cell_type": "code",
   "execution_count": null,
   "metadata": {
    "id": "_bWerHz4pOI0"
   },
   "outputs": [],
   "source": [
    "class Canine(Mammal):\n",
    "    num_legs = 4\n",
    "    lays_eggs = False\n",
    "    is_carnivore = True\n",
    "\n",
    "my_canine = Canine(100, 32)\n",
    "\n",
    "print(my_canine.num_limbs, my_canine.lays_eggs)"
   ]
  },
  {
   "cell_type": "markdown",
   "metadata": {
    "id": "bqbei_n2pOI0"
   },
   "source": [
    "In this example the Canine class just adds 3 additional class attributes over the Mammal class. The `__init__` function is \"inherited\" from the Mammal class and is used directly. If a class method or attribute exists in both the parent and child class, the child class' method or attribute is used"
   ]
  },
  {
   "cell_type": "code",
   "execution_count": null,
   "metadata": {
    "id": "he0aR62ppOI0"
   },
   "outputs": [],
   "source": [
    "class Canine(Mammal):\n",
    "    num_legs = 4\n",
    "    lays_eggs = False\n",
    "    is_carnivore = True\n",
    "    \n",
    "    def __init__(self, current_size, current_age, is_a_pet=False):\n",
    "        self.is_a_pet=is_a_pet\n",
    "        # Explicitly call the parent class' init function\n",
    "        Mammal.__init__(self, current_size, current_age)\n",
    "        # A nicer way to do this is:\n",
    "        # super().__init__(current_size, current_age)\n",
    "\n",
    "my_canine = Canine(100, 32, is_a_pet=False)\n",
    "\n",
    "print(my_canine.num_limbs, my_canine.lays_eggs, my_canine.is_a_pet)"
   ]
  },
  {
   "cell_type": "markdown",
   "metadata": {
    "id": "bG0gulfApOI0"
   },
   "source": [
    "Inheritance can have multiple levels. If I wanted a Dog class, I could inherit from the Canine class, which itself inherits from the Mammal class. It's also possible to inherit from multiple classes (`class Class1(Parent1, Parent2, ...):`. "
   ]
  },
  {
   "cell_type": "code",
   "execution_count": null,
   "metadata": {
    "id": "pN5Q1UTBpOI0"
   },
   "outputs": [],
   "source": [
    "class Dog(Canine):\n",
    "    is_awesome = True\n",
    "    \n",
    "    def __init__(self, current_size, current_age):\n",
    "        # Here I remove the is_pet optional argument as we will just set it to true for all dogs.\n",
    "        super().__init__(current_size, current_age, is_a_pet=True)\n",
    "\n",
    "my_dog = Dog(100, 32)\n",
    "\n",
    "print(my_dog.num_limbs, my_dog.lays_eggs, my_dog.is_a_pet, my_dog.is_awesome)"
   ]
  },
  {
   "cell_type": "markdown",
   "metadata": {
    "id": "RzgLPZ3YpOI1"
   },
   "source": [
    "### Class attributes and inheritence - Exercise\n",
    "\n",
    "Create a Cat class in the same manner as the Dog class above. Define some class attributes specific to a cat. Use a Feline (or Felid) class which is a parent to Cat but a child of Mammal. Again choose some class attributes appropriate in each case. "
   ]
  },
  {
   "cell_type": "code",
   "execution_count": null,
   "metadata": {
    "id": "ylBuXLWMpOI1"
   },
   "outputs": [],
   "source": []
  },
  {
   "cell_type": "markdown",
   "metadata": {
    "id": "LicFWFgdpOI1"
   },
   "source": [
    "### Some final pointers\n",
    "\n",
    "That's largely it for classes. To see all this in a different way see the python documentation https://docs.python.org/3/tutorial/classes.html\n",
    "\n",
    "There are some neat features that we aren't going to discuss here, including:\n",
    "\n",
    " * Class properties (via getters/setters)\n",
    " * Class decorators\n",
    "\n",
    "(you can Google these if you particularly want to explore these, and I can discuss them if after doing that if things are unclear)."
   ]
  },
  {
   "cell_type": "markdown",
   "metadata": {
    "id": "KWmk4FTOpOI1"
   },
   "source": [
    "## SUMMARY Exercises \n",
    "\n",
    "The best way to properly get to grips with classes is by writing some, so here's some exercises:"
   ]
  },
  {
   "cell_type": "markdown",
   "metadata": {
    "id": "a2TF6dEipOI1"
   },
   "source": [
    "### Exercise 1\n",
    "\n",
    " Define a class which has the following methods:\n",
    " * get_string: Take a string from console input (use the `input` builtin function)\n",
    " * \\_\\_init\\_\\_: This should call the get_string method when a class instance is initialized. \n",
    " * print_string: Print the string\n",
    " * print_string_upper: Print the string in upper case.\n",
    " * print_string_lower: Print the string in lower case.\n",
    "\n",
    "Test the class with some examples"
   ]
  },
  {
   "cell_type": "code",
   "execution_count": null,
   "metadata": {
    "id": "p9jmA6UbpOI1"
   },
   "outputs": [],
   "source": []
  },
  {
   "cell_type": "markdown",
   "metadata": {
    "id": "cy87u-XPpOI1"
   },
   "source": [
    "### Exercise 2\n",
    "\n",
    "Write a class which is designed to store a population of foxes and chickens. Except the interface here is a bit strange, and you've been asked to design it in the following way. The class must contain:\n",
    "\n",
    " * An `__init__` method which takes two arguments `num_heads` and `num_legs`. `num_heads` is the total number of heads including both chickens and foxes. `num_legs` is the total number of legs including both chickens and foxes.\n",
    " * A `num_animals` method, which returns the number of chickens and the number of rabbits as a length-2 tuple. (Assume that all chickens have one head and two legs, and all foxes have one head and four legs).\n",
    " \n",
    "Then test initializing the class and calling num_animals. Example outputs you should get:\n",
    "\n",
    " * `num_heads=2` and `num_legs=6` -> 1 fox, 1 chicken\n",
    " * `num_heads=30` and `num_legs=100` -> 20 foxes, 10 chickens\n",
    " * `num_heads=88` and `num_legs=238` -> 31 foxes, 57 chickens\n",
    " * `num_heads=5` and `num_legs=64` -> This case is not possible, raise an Exception. (`raise ValueError(\"MESSAGE\")`)"
   ]
  },
  {
   "cell_type": "code",
   "execution_count": null,
   "metadata": {
    "id": "OxN-kLaipOI1"
   },
   "outputs": [],
   "source": [
    "class AnimalThing()\n",
    "    # FILL ME IN!\n",
    "\n",
    "\n",
    "at = AnimalThing(2, 6)\n",
    "print(at.num_animals())\n",
    "\n",
    "at = AnimalThing(30, 100)\n",
    "print(at.num_animals())\n",
    "\n",
    "at = AnimalThing(88, 238)\n",
    "print(at.num_animals())\n",
    "\n",
    "at = AnimalThing(5, 64)\n",
    "print(at.num_animals())\n"
   ]
  },
  {
   "cell_type": "markdown",
   "metadata": {
    "id": "5SpEgJg_pOI1"
   },
   "source": [
    "### Exercise 3\n",
    "\n",
    "The last example is an example where the interface doesn't make sense. Why would you give num_heads and num_legs when the obvious thing to count is the number of both animals! Let's try and extend this into a somewhat more challenging example where the benefits of using object oriented programming beging to come into play.\n",
    "\n",
    "Write a class to track the population of foxes and chickens over time. It should have the following methods:\n",
    "\n",
    "* An `__init__` method which takes two arguments `num_foxes` and `num_chickens`. These correspond to the *initial* number of foxes and chickens.\n",
    "* An `add_foxes` method. This should take one argument `num` and when called should increase the number of foxes by `num`. (Maybe the foxes are migrating??)\n",
    "* An `add_chickens` method. As with `add_foxes` this should take one argument `num` and when called should increase the number of chickens by `num`. (Maybe the chickens migrate as well??)\n",
    "* An `advance_time_one_year` method. This takes no arguments. When called it simulates how these populations would change over a year. This is done with the following steps. Consider if each of these steps should be individual methods in the class, or just all things that are done in `advance_time_one_year`. These three items should be done *in this order* (so the number of chickens increased in the first item affects the calculation in the third). Where these numbers give fractional numbers of chickens or foxes round *down* to the nearest integer.\n",
    "  * Increase number of chickens proportionally to chicken population. The number of *additional* chickens is `num_chickens` * 0.6.\n",
    "  * Decrease number of chickens proportionally to fox population. The number of chickens decreases by `num_foxes` * 4. (This number cannot become less than 0).\n",
    "  * Change fox population proportionally to chicken *and* fox population. Use the following logic to determine this:\n",
    "    * If `num_chickens` > `num_foxes` * 4 then add 0.5 * `num_foxes` new foxes.\n",
    "    * If `num_chickens` > `num_foxes` * 2 then add (((`num_chickens`/`num_foxes`) - 2) * 0.25 * `num_foxes`) new foxes.\n",
    "    * If `num_chickens` <= `num_foxes` * 2 then reduce the number of foxes by ((2 - (`num_chickens`/`num_foxes`)) * 0.25 * `num_foxes`)\n",
    "    \n",
    "Then try the following. Initiate the class with 1000 chickens, and 50 foxes. Evolve and store the population of both animals over 20 years. Plot how the population evolves.\n",
    "\n",
    "You should find that this is not a stable ecosystem. Is it possible to edit some of the parameters above so that you have a *dynamic* ecosystem (e.g. the populations should change over time and respond to each other) but one that will not result in both sets of animals quickly disappearing, or that will result in an unckecked increase in one population?"
   ]
  },
  {
   "cell_type": "code",
   "execution_count": null,
   "metadata": {
    "id": "QjVI1aQqpOI1"
   },
   "outputs": [],
   "source": []
  },
  {
   "cell_type": "markdown",
   "metadata": {
    "id": "tVNq_xIypOI1"
   },
   "source": [
    "### Exercise 4\n",
    "\n",
    "Challenging exercise. Construct a class that can be used to play a game of noughts and crosses. The class should have at least the following methods:\n",
    "\n",
    " * `__init__`: Create an empty 3 x 3 board (represented by some form of list-like object).\n",
    " * `place_nought`: Place a nought at a position on the board (the position is given by arguments to this method).\n",
    " * `place_cross`: Place a cross at a position on the board (the position is given by arguments to this method).\n",
    " * `print_board`: Print a representation of the board to the terminal\n",
    " * `restart_game`: Revert to an empty 3 x 3 board\n",
    " \n",
    "Whenever a nought, or a cross, is played, the following should happen:\n",
    "\n",
    " * Noughts and crosses must be played in alternating order, if someone tries to play out of order a message should be given, but the game allowed to continue\n",
    " * You cannot place a piece on a space that already has a piece on it. Print a message if this happens and continue the game.\n",
    " * Whenever a piece is played check to see if one player has won. Print a message if this happens.\n",
    " * If all spaces on the board are full and no-one has won, print a message to that effect."
   ]
  },
  {
   "cell_type": "code",
   "execution_count": null,
   "metadata": {
    "id": "K1RwKstnpOI1"
   },
   "outputs": [],
   "source": [
    "class NoughtsAndCrosses():\n",
    "    # FILL IN CLASS HERE!\n",
    "    \n",
    "    \n",
    "\n",
    "# Some example games to test. Do not change!\n",
    "oandc = NoughtsAndCrosses()\n",
    "oandc.print_board()\n",
    "oandc.place_nought(0,1)\n",
    "# This one below should not go through: It's not nought's turn.\n",
    "oandc.place_nought(1,1)\n",
    "oandc.print_board()\n",
    "oandc.place_cross(1,1)\n",
    "oandc.place_nought(0,0)\n",
    "# This shouldn't go through as you can't play a cross on a nought.\n",
    "oandc.place_cross(0,0)\n",
    "oandc.place_cross(2,2)\n",
    "oandc.place_nought(0,2)\n",
    "# Nought wins\n",
    "\n",
    "oandc = NoughtsAndCrosses()\n",
    "oandc.print_board()\n",
    "oandc.place_nought(1,1)\n",
    "oandc.place_cross(0,0)\n",
    "oandc.place_nought(0,2)\n",
    "oandc.place_cross(2,0)\n",
    "oandc.place_nought(1,0)\n",
    "oandc.place_cross(1,2)\n",
    "oandc.place_nought(0,1)\n",
    "oandc.place_cross(2,1)\n",
    "oandc.place_nought(2,2)\n",
    "# DRAW\n",
    "\n",
    "\n"
   ]
  },
  {
   "cell_type": "markdown",
   "metadata": {
    "id": "Wx48UXKnpOI2"
   },
   "source": [
    "We acknowledge the following resources for help in formulating this notebook:\n",
    " * CodeSignal\n",
    " * https://github.com/zhiwehu/Python-programming-exercises"
   ]
  },
  {
   "cell_type": "code",
   "execution_count": null,
   "metadata": {},
   "outputs": [],
   "source": []
  }
 ],
 "metadata": {
  "colab": {
   "provenance": []
  },
  "kernelspec": {
   "display_name": "Python 3 (ipykernel)",
   "language": "python",
   "name": "python3"
  },
  "language_info": {
   "codemirror_mode": {
    "name": "ipython",
    "version": 3
   },
   "file_extension": ".py",
   "mimetype": "text/x-python",
   "name": "python",
   "nbconvert_exporter": "python",
   "pygments_lexer": "ipython3",
   "version": "3.9.12"
  }
 },
 "nbformat": 4,
 "nbformat_minor": 1
}
