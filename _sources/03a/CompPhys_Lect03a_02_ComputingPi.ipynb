{
 "cells": [
  {
   "cell_type": "markdown",
   "id": "fac9990f",
   "metadata": {},
   "source": [
    "# Calculating pi by Monte Carlo\n",
    "\n",
    "We're now going to calculate $\\pi$ using random numbers. This is going to be a longer programming exercise with several parts, so it will be more challenging but will be good practice.\n",
    "\n",
    "You will se that several of the techniques in the previous section will be used again for this task.\n",
    "\n",
    "The procedure is:\n",
    "1. Generate points uniformly in a square (so $x$ and $y$ are independent random variables).\n",
    "2. Calculate their distance from the center of the square.\n",
    "3. Count the fraction which fall inside a circle.\n",
    "4. The circle has area $\\pi~r^2$, the square has area $4~r^2$\n",
    "5. Plot your data with different colours inside and outside the circle\n",
    "\n",
    "To find elements of an array that meet some condition, do `arr[arr <= 3]`.\n",
    "If you want to find the number of times `counts` is equal to 2, do `len(counts[counts == 2])`. We'll learn more about why this works next week."
   ]
  },
  {
   "cell_type": "code",
   "execution_count": 1,
   "id": "f951d976",
   "metadata": {},
   "outputs": [],
   "source": [
    "# Answer below"
   ]
  },
  {
   "cell_type": "markdown",
   "id": "a52ec01c",
   "metadata": {},
   "source": [
    "## Exercise\n",
    "\n",
    "Once you get this calculation working, put it in a function. Then see how the accuracy changes with the number of random points that you use."
   ]
  },
  {
   "cell_type": "code",
   "execution_count": 2,
   "id": "9b5955ed",
   "metadata": {},
   "outputs": [],
   "source": [
    "# Answer below"
   ]
  },
  {
   "cell_type": "code",
   "execution_count": null,
   "id": "49661724",
   "metadata": {},
   "outputs": [],
   "source": []
  }
 ],
 "metadata": {
  "kernelspec": {
   "display_name": "Python 3 (ipykernel)",
   "language": "python",
   "name": "python3"
  },
  "language_info": {
   "codemirror_mode": {
    "name": "ipython",
    "version": 3
   },
   "file_extension": ".py",
   "mimetype": "text/x-python",
   "name": "python",
   "nbconvert_exporter": "python",
   "pygments_lexer": "ipython3",
   "version": "3.9.7"
  }
 },
 "nbformat": 4,
 "nbformat_minor": 5
}
