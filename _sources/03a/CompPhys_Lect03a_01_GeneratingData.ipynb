{
 "cells": [
  {
   "cell_type": "markdown",
   "id": "c7699a4e",
   "metadata": {},
   "source": [
    "# Generating mock data by drawing from distributions\n",
    "\n",
    "Last time we saw that a valuble way to plot distributions was to histogram them using matplotlib's `.hist` function.\n",
    "\n",
    "Numpy also has a histogram function which can allow you to recover histograms of the data:\n",
    "\n",
    "`np.histogram` : https://numpy.org/doc/stable/reference/generated/numpy.histogram.html \n",
    "\n",
    "Read through the above help page.\n",
    "\n",
    "\n",
    "Let's start with exploring how this function could be hepful to us. \n",
    "\n",
    "Let's consider a uniform distribution and print the results of the `np.histogram` function"
   ]
  },
  {
   "cell_type": "code",
   "execution_count": 1,
   "id": "3628cede",
   "metadata": {},
   "outputs": [],
   "source": [
    "%matplotlib inline\n",
    "import matplotlib.pyplot as plt\n",
    "import numpy as np\n",
    "import numpy.random as rnd\n",
    "from scipy.stats import kurtosis\n",
    "import scipy.stats as stats"
   ]
  },
  {
   "cell_type": "code",
   "execution_count": 2,
   "id": "fcf6f062",
   "metadata": {},
   "outputs": [
    {
     "name": "stdout",
     "output_type": "stream",
     "text": [
      "(array([ 9, 13,  7, 12, 11, 10,  7, 11, 12,  8]), array([1.03168815, 1.92457659, 2.81746502, 3.71035345, 4.60324189,\n",
      "       5.49613032, 6.38901876, 7.28190719, 8.17479562, 9.06768406,\n",
      "       9.96057249]))\n"
     ]
    }
   ],
   "source": [
    "dist0 = rnd.uniform(10, size=100)\n",
    "print(np.histogram(dist0))"
   ]
  },
  {
   "cell_type": "markdown",
   "id": "e9c618f6",
   "metadata": {},
   "source": [
    "This is how we can store the data in arrays and call them"
   ]
  },
  {
   "cell_type": "code",
   "execution_count": 3,
   "id": "ff3efe42",
   "metadata": {},
   "outputs": [],
   "source": [
    "number, bin_edges = np.histogram(dist0)"
   ]
  },
  {
   "cell_type": "markdown",
   "id": "5078b8ba",
   "metadata": {},
   "source": [
    "You'll notice I wrote 'bin_edges' not 'bin_centers' - you might want to verify these are bin_edges by printing the size of the two arrays. In the exercise below you will be asked to plot the bin_centers against the number. "
   ]
  },
  {
   "cell_type": "markdown",
   "id": "ff648c2e",
   "metadata": {},
   "source": [
    "## Exercise:\n",
    "Plot a histogram using `plt.bar` with the bin_centers plotted on the x-axis and the count in each bin on the y. "
   ]
  },
  {
   "cell_type": "code",
   "execution_count": 4,
   "id": "7e614416",
   "metadata": {},
   "outputs": [],
   "source": [
    "# Answer here"
   ]
  },
  {
   "cell_type": "markdown",
   "id": "779e77c7",
   "metadata": {},
   "source": [
    "## Exercise:\n",
    "\n",
    "An object emits photons which we detect as a Guassian shaped emission line. The emission line has a wavelength of 20 cm, a standard deviation of 1cm and a flux (total integrated emission under the gaussian) of 100 (in arbitrary flux units). \n",
    "1. Use your knowledge of generating random data from a gaussian distribution to generate 1000 photons and \n",
    "2. Make a histogram of this data.\n",
    "3. Overplot a Gaussian PDF of this data"
   ]
  },
  {
   "cell_type": "code",
   "execution_count": 5,
   "id": "8f11c80e",
   "metadata": {},
   "outputs": [],
   "source": [
    "# Answer\n"
   ]
  },
  {
   "cell_type": "markdown",
   "id": "2d41e5d6",
   "metadata": {},
   "source": [
    "Now we will do this again but this time drawing data from the `stats.norm.pdf` ourselves using a technique called 'rejection sampling'.\n",
    "\n",
    "We will do this in a few steps which we'll explore step-by-step before writing into a function:\n",
    "1. define our model\n",
    "2. draw a data point\n",
    "3. choose whether to acept or reject this data point\n",
    "4. loop back to the top and draw again\n",
    "\n",
    "## Exercise:\n",
    "1. Build a model gaussian pdf with a mean of 10 and a std of 3 and plot it"
   ]
  },
  {
   "cell_type": "code",
   "execution_count": 6,
   "id": "2cdfb221",
   "metadata": {},
   "outputs": [],
   "source": [
    "# Answer \n"
   ]
  },
  {
   "cell_type": "markdown",
   "id": "be0b733c",
   "metadata": {},
   "source": [
    "## Exercise:\n",
    "2a. Use a function to draw a single random data point on the x axis from 0 to 20. Print it to verify it is between 0 and 20."
   ]
  },
  {
   "cell_type": "code",
   "execution_count": 7,
   "id": "c58b3958",
   "metadata": {},
   "outputs": [],
   "source": [
    "# Answer \n"
   ]
  },
  {
   "cell_type": "markdown",
   "id": "86eaf503",
   "metadata": {},
   "source": [
    "## Exercise:\n",
    "2b. Use a function to draw a single random data point on the y axis. Use your plot above to decide what range to draw y from and print it to make sure it is within your chosen limits."
   ]
  },
  {
   "cell_type": "code",
   "execution_count": 8,
   "id": "c9dc2245",
   "metadata": {},
   "outputs": [],
   "source": [
    "# Answer\n"
   ]
  },
  {
   "cell_type": "markdown",
   "id": "2c47f6f0",
   "metadata": {},
   "source": [
    "## Exercise:\n",
    "3. Write an if statement to choose whether to accept or reject your data point and print 'accept' or 'reject'. In this case you would like to keep values which are less than the model and reject those which are greater.  "
   ]
  },
  {
   "cell_type": "code",
   "execution_count": 9,
   "id": "cf8e6971",
   "metadata": {},
   "outputs": [],
   "source": [
    "# Answer\n"
   ]
  },
  {
   "cell_type": "markdown",
   "id": "ab3e38ae",
   "metadata": {},
   "source": [
    "## Exercise:\n",
    "4. Now take the steps above and put them in a loop - draw 1000 data points. Store the accepted values by appending them to a list."
   ]
  },
  {
   "cell_type": "code",
   "execution_count": 10,
   "id": "8a9573b3",
   "metadata": {},
   "outputs": [],
   "source": [
    "# Answer\n"
   ]
  },
  {
   "cell_type": "markdown",
   "id": "842afb0d",
   "metadata": {},
   "source": [
    "## Exercise:\n",
    "Plot the model and the accepted x and y values. "
   ]
  },
  {
   "cell_type": "code",
   "execution_count": 11,
   "id": "8f496821",
   "metadata": {},
   "outputs": [],
   "source": [
    "# Answer\n"
   ]
  },
  {
   "cell_type": "markdown",
   "id": "9c47e558",
   "metadata": {},
   "source": [
    "## Exercise:\n",
    "Now plot your accepted data points as a histogram. Think carefully about how to do this. There are many ways, one you have seen is very quick. "
   ]
  },
  {
   "cell_type": "code",
   "execution_count": 12,
   "id": "486cf936",
   "metadata": {},
   "outputs": [],
   "source": [
    "# Answer\n"
   ]
  },
  {
   "cell_type": "markdown",
   "id": "c4ee00df",
   "metadata": {},
   "source": [
    "## Exercise\n",
    "Can you think of a way to generate this data without using a loop (Hint: do you have to generate only one x and y at a time?)"
   ]
  },
  {
   "cell_type": "code",
   "execution_count": 13,
   "id": "be74cba3",
   "metadata": {},
   "outputs": [],
   "source": [
    "# Answer \n"
   ]
  },
  {
   "cell_type": "markdown",
   "id": "e7733754",
   "metadata": {},
   "source": [
    "Now we will see an example of how we could fit our data with a gaussian and verify that the mean and std are as we expected. We will come to things like this later on but it is good for you to see it now. \n",
    "\n",
    "Explore the help page for `scipy.optimize.curvefit`. to understand what this does."
   ]
  },
  {
   "cell_type": "code",
   "execution_count": 14,
   "id": "b89c55e0",
   "metadata": {},
   "outputs": [
    {
     "name": "stdout",
     "output_type": "stream",
     "text": [
      "model mean: 10.0\n",
      "model sigma: 3.0\n",
      "fit mean: 10.37282371567113\n",
      "fit sigma: 2.931321978513289\n"
     ]
    },
    {
     "data": {
      "text/plain": [
       "(0.0, 20.0)"
      ]
     },
     "execution_count": 14,
     "metadata": {},
     "output_type": "execute_result"
    },
    {
     "data": {
      "image/png": "[encoded data removed]",
      "text/plain": [
       "<Figure size 640x480 with 1 Axes>"
      ]
     },
     "metadata": {},
     "output_type": "display_data"
    }
   ],
   "source": [
    "from scipy.optimize import curve_fit\n",
    "\n",
    "# Here I am defining my model which will be a gaussian distribution\n",
    "def Gauss(x,Amp,mean,sigma):\n",
    "    return Amp*np.exp(-1.*(x-mean)**2/(2*sigma**2))\n",
    "\n",
    "# Here we form our data from our model\n",
    "model_mean=10.\n",
    "model_sigma=3.\n",
    "data_x = rnd.uniform(0,20,1000)\n",
    "data_y = rnd.uniform(0,0.15,1000)\n",
    "x=data_x[data_y<stats.norm.pdf(data_x,model_mean,model_sigma)]\n",
    "print('model mean:', model_mean)\n",
    "print('model sigma:', model_sigma)\n",
    "\n",
    "# Here we make a histogram of the data - it is this binned \n",
    "# values we will fit our model against\n",
    "number, bin_edges = np.histogram(x)\n",
    "bin_centers = (bin_edges[0:-1]+bin_edges[1:])/2.\n",
    "\n",
    "# Here we fit the data with curve_fit\n",
    "parameters, covariance = curve_fit(Gauss, bin_centers, number)\n",
    "\n",
    "# Here we report the paraameters - do you know why they are in this order?\n",
    "amp = parameters[0]\n",
    "mean = parameters[1]\n",
    "sigma = parameters[2]\n",
    "print('fit mean:', mean)\n",
    "print('fit sigma:', sigma)\n",
    "\n",
    "# Here we generate a model using our fit parameters and plot this and our data\n",
    "# together so that we can check on the fit\n",
    "fit_y = Gauss(bin_centers, amp, mean, sigma)\n",
    "plt.bar(bin_centers, number, label='data')\n",
    "plt.plot(bin_centers, fit_y, label='fit', color='orange', linewidth=3)\n",
    "plt.xlim(0,20)"
   ]
  },
  {
   "cell_type": "code",
   "execution_count": null,
   "id": "c20dc1d5",
   "metadata": {},
   "outputs": [],
   "source": []
  }
 ],
 "metadata": {
  "kernelspec": {
   "display_name": "Python 3 (ipykernel)",
   "language": "python",
   "name": "python3"
  },
  "language_info": {
   "codemirror_mode": {
    "name": "ipython",
    "version": 3
   },
   "file_extension": ".py",
   "mimetype": "text/x-python",
   "name": "python",
   "nbconvert_exporter": "python",
   "pygments_lexer": "ipython3",
   "version": "3.9.7"
  }
 },
 "nbformat": 4,
 "nbformat_minor": 5
}
