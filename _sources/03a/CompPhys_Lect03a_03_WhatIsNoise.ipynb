{
 "cells": [
  {
   "cell_type": "markdown",
   "id": "871c0b9b",
   "metadata": {},
   "source": [
    "# What is noise?\n",
    "\n",
    "## Exercise;\n",
    "1. There are lots of 'types' of noise. Look these ones up:\n",
    "\n",
    "    * White noise\n",
    "    * Pink noise\n",
    "    * Blue noise\n",
    "    * Grey noise\n",
    "\n",
    "\n",
    "2. Try generating one of these types of 'noise'. How would you create your noise model to draw from?\n"
   ]
  },
  {
   "cell_type": "code",
   "execution_count": 1,
   "id": "536c165c",
   "metadata": {},
   "outputs": [],
   "source": [
    "# Answer"
   ]
  },
  {
   "cell_type": "code",
   "execution_count": null,
   "id": "fc6436c3",
   "metadata": {},
   "outputs": [],
   "source": []
  }
 ],
 "metadata": {
  "kernelspec": {
   "display_name": "Python 3 (ipykernel)",
   "language": "python",
   "name": "python3"
  },
  "language_info": {
   "codemirror_mode": {
    "name": "ipython",
    "version": 3
   },
   "file_extension": ".py",
   "mimetype": "text/x-python",
   "name": "python",
   "nbconvert_exporter": "python",
   "pygments_lexer": "ipython3",
   "version": "3.9.7"
  }
 },
 "nbformat": 4,
 "nbformat_minor": 5
}
