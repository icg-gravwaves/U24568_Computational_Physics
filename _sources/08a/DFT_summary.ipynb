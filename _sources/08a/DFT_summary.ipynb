{
 "cells": [
  {
   "cell_type": "markdown",
   "id": "2deb928f",
   "metadata": {},
   "source": [
    "# Discrete Fourier Transforms - SUMMARY\n",
    "\n",
    "Main points from these exercises:\n",
    "\n",
    "* The Fourier transform is a highly useful tool for data analysis. Sometimes features that are not obvious in the time domain, can be clearly seen in the frequency domain.\n",
    "* It is possible to code our own Fourier transform routine, but library codes are *very* fast at doing this. As long as we understand the principles, let's just use the library codes!\n",
    "* Features in the time-domain that are very narrow will be very broad in the frequency domain, and vice-versa. \n",
    "\n",
    "**NOTE**: As a lot of this (and future classes) can be directly used in the coursework we will be releasing partial solutions to these classes. Example plots will be shown, but the important code may be removed. Please do let us know if you need help getting solutions to any of this."
   ]
  }
 ],
 "metadata": {
  "kernelspec": {
   "display_name": "Python 3 (ipykernel)",
   "language": "python",
   "name": "python3"
  },
  "language_info": {
   "codemirror_mode": {
    "name": "ipython",
    "version": 3
   },
   "file_extension": ".py",
   "mimetype": "text/x-python",
   "name": "python",
   "nbconvert_exporter": "python",
   "pygments_lexer": "ipython3",
   "version": "3.9.12"
  }
 },
 "nbformat": 4,
 "nbformat_minor": 5
}
