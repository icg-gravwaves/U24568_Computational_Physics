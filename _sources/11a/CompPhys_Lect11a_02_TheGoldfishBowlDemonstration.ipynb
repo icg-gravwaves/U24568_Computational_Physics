{
 "cells": [
  {
   "cell_type": "markdown",
   "id": "16d2b09c",
   "metadata": {},
   "source": [
    "# The Goldfish Bowl - Interactive Demonstration\n",
    "\n",
    "\n",
    "Now that we have the maths out the way, let's see this with a simulation for our goldfish being in bowls A, B or C.\n",
    "\n",
    "If we are going to reach an equilibrium, then no matter what starting value we give, we should converge to the same average probability of being in state A, B or C.\n",
    "\n",
    "We provide some code below to do this, please begin by adding comments to the below code cell explaining what each part does\n"
   ]
  },
  {
   "cell_type": "code",
   "execution_count": null,
   "id": "c0d17b55",
   "metadata": {},
   "outputs": [],
   "source": [
    "%matplotlib inline\n",
    "import numpy as np\n",
    "import matplotlib.pyplot as plt\n",
    "import corner\n",
    "\n",
    "initial_state=np.array([0.2,0.2,0.6])\n",
    "number_of_steps=10\n",
    "\n",
    "transition_matrix=np.array([[0.5,0.2,0.3],[0.6,0,0.4],[0.3,0.4,0.3]])\n",
    "\n",
    "def next_step(current,transition):\n",
    "    next_step = np.dot(current,transition)\n",
    "    return next_step\n",
    "\n",
    "objects = ('A', 'B', 'C')\n",
    "y_pos = np.arange(len(objects))\n",
    "vals = [initial_state]\n",
    "for i in range(number_of_steps):\n",
    "    next_pos = next_step(vals[-1], transition_matrix)\n",
    "    vals.append(next_pos)\n",
    "\n",
    "print(\"Final state: \", vals[-1])\n",
    "vals = np.array(vals)\n",
    "plt.figure()\n",
    "plt.plot(vals[:,0], label='P(A)')\n",
    "plt.plot(vals[:,1], label='P(B)')\n",
    "plt.plot(vals[:,2], label='P(C)')\n",
    "plt.legend()\n",
    "plt.title('Probability of being in state A, B or C')\n",
    "plt.xlabel('Iterations')\n",
    "plt.ylabel('Probability')\n",
    "\n"
   ]
  },
  {
   "cell_type": "markdown",
   "id": "3d4eb855",
   "metadata": {},
   "source": [
    "## Part 2\n",
    "\n",
    "Now take the code above and put it into a function (or a class), for ease of use. With your new function, try running the simulation for a range of different initial states and number of steps.\n"
   ]
  },
  {
   "cell_type": "code",
   "execution_count": null,
   "id": "c745d3c3",
   "metadata": {},
   "outputs": [],
   "source": []
  },
  {
   "cell_type": "code",
   "execution_count": null,
   "id": "ab53140d",
   "metadata": {},
   "outputs": [],
   "source": []
  },
  {
   "cell_type": "code",
   "execution_count": null,
   "id": "51b4ab3d",
   "metadata": {},
   "outputs": [],
   "source": []
  }
 ],
 "metadata": {
  "kernelspec": {
   "display_name": "Python 3 (ipykernel)",
   "language": "python",
   "name": "python3"
  },
  "language_info": {
   "codemirror_mode": {
    "name": "ipython",
    "version": 3
   },
   "file_extension": ".py",
   "mimetype": "text/x-python",
   "name": "python",
   "nbconvert_exporter": "python",
   "pygments_lexer": "ipython3",
   "version": "3.9.7"
  }
 },
 "nbformat": 4,
 "nbformat_minor": 5
}
