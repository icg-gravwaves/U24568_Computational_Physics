{
 "cells": [
  {
   "cell_type": "markdown",
   "id": "abb02c6b",
   "metadata": {},
   "source": [
    "# Data challenge...\n",
    "\n",
    "Import the data called emission_line.txt - you will find this NEED TO LINK THIS FROM GITHUB AND DOWNLOAD IT AUTOMATICALLY ... For now it's on Moodle and in the lecturer's Drive\n",
    "\n",
    "## Exercise:\n",
    "\n",
    "What distibribution best describes this emission line? (Hint use the help pages to find and test different distributions)"
   ]
  },
  {
   "cell_type": "code",
   "execution_count": 1,
   "id": "41ca9b73",
   "metadata": {},
   "outputs": [],
   "source": [
    "# Answer \n"
   ]
  },
  {
   "cell_type": "markdown",
   "id": "2dc9865f",
   "metadata": {},
   "source": [
    "## The Binomial Distribution (extra challenge)\n",
    "\n",
    "The probability of each value of the binomial distribution is\n",
    "$$\\binom{N}{k} p^k (1-p)^{n-k}$$\n",
    "Try confirming this.\n",
    "\n",
    "Now try making flips of an unfair coin (where $p$ is not 1/2, but $n = 1$). How well can you detect how unfair it is?"
   ]
  },
  {
   "cell_type": "code",
   "execution_count": 2,
   "id": "1c8a07d8",
   "metadata": {},
   "outputs": [],
   "source": [
    "# Answer here"
   ]
  },
  {
   "cell_type": "code",
   "execution_count": null,
   "id": "4de8d4f0",
   "metadata": {},
   "outputs": [],
   "source": []
  }
 ],
 "metadata": {
  "kernelspec": {
   "display_name": "Python 3 (ipykernel)",
   "language": "python",
   "name": "python3"
  },
  "language_info": {
   "codemirror_mode": {
    "name": "ipython",
    "version": 3
   },
   "file_extension": ".py",
   "mimetype": "text/x-python",
   "name": "python",
   "nbconvert_exporter": "python",
   "pygments_lexer": "ipython3",
   "version": "3.9.7"
  }
 },
 "nbformat": 4,
 "nbformat_minor": 5
}
