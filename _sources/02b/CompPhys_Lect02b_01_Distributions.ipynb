{
 "cells": [
  {
   "cell_type": "markdown",
   "id": "b8fbf2a0",
   "metadata": {},
   "source": [
    "# Statistical distributions and python\n",
    "\n",
    "Random variables are generated using a submodule of numpy called `numpy.random`. In this notebook we've just imported it with the abbreviation `rnd`.\n",
    "\n",
    "The submodule contains functions to sample from many different types of probability distributions. Each one has a few parameters, and each also has a `size=` keyword to decide how many samples to draw from the distribution.\n",
    "\n",
    "For instance, to flip one fair coin 100 times, we do:\n",
    "\n",
    "`flips = rnd.binomial(1, 0.5, , size=100)`\n",
    "\n",
    "For an unfair coin, we change the $p$ parameter:\n",
    "\n",
    "`flips = rnd.binomial(1, 0.9, size=100)`\n",
    "\n",
    "To look at the results, we can plot a histogram, and we can calculate some summary statistics like mean, variance, and kurtosis.\n",
    "\n",
    "Let's start by getting to know some of these probability distributions.\n"
   ]
  },
  {
   "cell_type": "code",
   "execution_count": 2,
   "id": "bb771072",
   "metadata": {},
   "outputs": [],
   "source": [
    "%matplotlib inline\n",
    "import matplotlib.pyplot as plt\n",
    "import numpy as np\n",
    "import numpy.random as rnd\n",
    "import scipy.stats as sci_rnd\n",
    "from scipy.stats import kurtosis\n",
    "import pandas as pd"
   ]
  },
  {
   "cell_type": "markdown",
   "id": "ce95e1e4",
   "metadata": {},
   "source": [
    "## Uniform Distribution\n",
    "\n",
    "The parameters are the lower and upper bounds. Every real value between the limits is equally likely."
   ]
  },
  {
   "cell_type": "code",
   "execution_count": 3,
   "id": "bd21594a",
   "metadata": {},
   "outputs": [],
   "source": [
    "dist1 = rnd.uniform(-1., 1., size=1000000)"
   ]
  },
  {
   "cell_type": "code",
   "execution_count": 4,
   "id": "12fb70d6",
   "metadata": {},
   "outputs": [
    {
     "data": {
      "image/png": "[encoded data removed]",
      "text/plain": [
       "<Figure size 640x480 with 1 Axes>"
      ]
     },
     "metadata": {},
     "output_type": "display_data"
    }
   ],
   "source": [
    "plt.hist(dist1, bins=100);"
   ]
  },
  {
   "cell_type": "markdown",
   "id": "a530e086",
   "metadata": {},
   "source": [
    "There are some options in the histogram that we are using. A histogram divides data into bins. We are setting the number of bins explicitly, rather than letting the `hist` function determine them automatically. More bins will make the plot look noisier but the shape will be better determined. The more data we have, typically the more bins we can use.\n",
    "\n",
    "There are two ways to find the mean of an array. Either we do `np.mean(arr)` or `arr.mean()`. The first is using a numpy function; it would also work given a list. The second is using a *method* of the array; each numpy array has this function attached to it.\n",
    "\n",
    "### Exercise\n",
    "\n",
    " 1. Plot the histogram of dist 1 such that the integral of the histogram sums to one. (Look at the matplotlib 'hist' help pages for hints.)\n",
    " 2. Think about what the mean of this distribution is. Then check it.\n",
    " 3. Find the standard deviation by using the function `np.std`."
   ]
  },
  {
   "cell_type": "code",
   "execution_count": 6,
   "id": "39e11462",
   "metadata": {},
   "outputs": [],
   "source": [
    "# Answers here"
   ]
  },
  {
   "cell_type": "markdown",
   "id": "b5a7cb0d",
   "metadata": {},
   "source": [
    "If we have $N$ samples from a distribution, and the samples are called $y_i$, the mean is\n",
    "\n",
    "$$\n",
    "\\mathrm{mean}(y) \\equiv \\bar{y} = \\frac{1}{N} \\sum_{i=0}^{N} y_i\n",
    "$$\n",
    "\n",
    "and the standard deviation is\n",
    "\n",
    "$$\n",
    "\\mathrm{std}(y) = \\sqrt{\\frac{1}{N-1} \\sum_{i=0}^{N} (y_i - \\bar{y})^2}\n",
    "$$\n",
    "\n",
    "The mean tells us where the middle of the distribution is, the standard deviation is how scattered the samples are around the mean.\n",
    "\n",
    "Note - the mean and standard deviation calculated by sampling from the distribution are random; there is some scatter around the true values, especially when you have a small number of samples.\n",
    "\n",
    "### Exercise\n",
    " 1. Make a uniform distribution with a mean of 2.\n",
    " 1. Find out whether the standard deviation changes with the number of samples.\n",
    " 1. Figure out how far apart the upper and lower bounds must be to make the standard deviation double what it is in the example above. "
   ]
  },
  {
   "cell_type": "code",
   "execution_count": 7,
   "id": "01e2cd9d",
   "metadata": {},
   "outputs": [],
   "source": [
    "# Answer here"
   ]
  },
  {
   "cell_type": "markdown",
   "id": "c2a9f5e7",
   "metadata": {},
   "source": [
    "### Exercise\n",
    "\n",
    "1. Generate and plot a uniform distirbution using scipy.stats.  (Hint: use the help pages)"
   ]
  },
  {
   "cell_type": "code",
   "execution_count": null,
   "id": "53a58ba1",
   "metadata": {},
   "outputs": [],
   "source": [
    "# Answer here"
   ]
  },
  {
   "cell_type": "markdown",
   "id": "8229137b",
   "metadata": {},
   "source": [
    "## Normal distribution\n",
    "\n",
    "The parameters are the center value and the width. This is also called a Gaussian distribution."
   ]
  },
  {
   "cell_type": "code",
   "execution_count": 8,
   "id": "9cdf367d",
   "metadata": {},
   "outputs": [],
   "source": [
    "dist2 = rnd.normal(0., 1., size=1000000)"
   ]
  },
  {
   "cell_type": "code",
   "execution_count": 9,
   "id": "76faa9d6",
   "metadata": {},
   "outputs": [
    {
     "data": {
      "image/png": "[encoded data removed]",
      "text/plain": [
       "<Figure size 640x480 with 1 Axes>"
      ]
     },
     "metadata": {},
     "output_type": "display_data"
    }
   ],
   "source": [
    "plt.hist(dist2, bins=300, density=True);\n",
    "# Aside: try removing the semi-colon from the end of this code"
   ]
  },
  {
   "cell_type": "markdown",
   "id": "39cc4365",
   "metadata": {},
   "source": [
    "### Exercise\n",
    "\n",
    "How are the mean and standard deviation related to the central value and width specified when calling the function? Can you make a normal with a mean of 5? Can you make the standard deviation 3?"
   ]
  },
  {
   "cell_type": "code",
   "execution_count": 10,
   "id": "e0194ab5",
   "metadata": {},
   "outputs": [],
   "source": [
    "# Answer here"
   ]
  },
  {
   "cell_type": "markdown",
   "id": "8ba8bdee",
   "metadata": {},
   "source": [
    "### Exercise\n",
    "\n",
    "1. Generate and plot a normal distirbution using scipy.stats."
   ]
  },
  {
   "cell_type": "code",
   "execution_count": 11,
   "id": "0ee49679",
   "metadata": {},
   "outputs": [],
   "source": [
    "# Answer here"
   ]
  },
  {
   "cell_type": "markdown",
   "id": "e54e63ef",
   "metadata": {},
   "source": [
    "## Binomial\n",
    "\n",
    "The binomial is a discrete distribution. It has only natural numbers (non-negative integers).\n",
    "\n",
    "The binomial distribution is sampled (for example) from flipping $n$ coins each with probability $p$ of landing heads. Each sample is the number of coins that landed heads when they were all flipped."
   ]
  },
  {
   "cell_type": "code",
   "execution_count": 12,
   "id": "c917acea",
   "metadata": {},
   "outputs": [],
   "source": [
    "dist3 = rnd.binomial(6, 0.5, size=10000)"
   ]
  },
  {
   "cell_type": "code",
   "execution_count": 13,
   "id": "66733333",
   "metadata": {},
   "outputs": [
    {
     "data": {
      "image/png": "[encoded data removed]",
      "text/plain": [
       "<Figure size 640x480 with 1 Axes>"
      ]
     },
     "metadata": {},
     "output_type": "display_data"
    }
   ],
   "source": [
    "plt.hist(dist3, bins=np.arange(0,7,0.33), density=True);"
   ]
  },
  {
   "cell_type": "markdown",
   "id": "e15bf2fe",
   "metadata": {},
   "source": [
    "### Exercise\n",
    " 1. If the coin is fair (p = 0.5), what do you expect the mean to be in terms of the number of coins flipped?\n",
    " 1. Check whether your prediction is right.\n",
    " 1. What happens to the mean when you make the coin unfair (more likely to land heads)?\n",
    " 1. Write some code to vary the number of coins (over a large range), calculate the standard deviation, and then make a plot of one versus the other.\n",
    " 1. Think about this. Do you expect more or less scatter in the fraction of coin landing heads as the number increases. Is this what you observe? Plot histograms of various binomial distributions with same p but different n on the same plot and verify their shape makes sense. "
   ]
  },
  {
   "cell_type": "code",
   "execution_count": 14,
   "id": "4e6ea544",
   "metadata": {},
   "outputs": [],
   "source": [
    "# Answer here"
   ]
  },
  {
   "cell_type": "markdown",
   "id": "f4f344eb",
   "metadata": {},
   "source": [
    "### Exercise\n",
    "\n",
    "1. Generate and plot a binomial distirbution using scipy.stats."
   ]
  },
  {
   "cell_type": "code",
   "execution_count": 15,
   "id": "fb56f6ef",
   "metadata": {},
   "outputs": [],
   "source": [
    "# Answer here"
   ]
  },
  {
   "cell_type": "markdown",
   "id": "9447c6cc",
   "metadata": {},
   "source": [
    "## Poisson distribution\n",
    "\n",
    "The Poisson distribution describesthe distribution of number of counts in an interval when things are arriving randomly. The parameter is the average rate. A typical example is the number of counts due to radioactive decay. The clicks of a Geiger counter are a Poisson process."
   ]
  },
  {
   "cell_type": "code",
   "execution_count": 16,
   "id": "25d62917",
   "metadata": {},
   "outputs": [],
   "source": [
    "dist4 = rnd.poisson(100, size=10000);"
   ]
  },
  {
   "cell_type": "code",
   "execution_count": 17,
   "id": "f4e72cc6",
   "metadata": {},
   "outputs": [
    {
     "data": {
      "image/png": "[encoded data removed]",
      "text/plain": [
       "<Figure size 640x480 with 1 Axes>"
      ]
     },
     "metadata": {},
     "output_type": "display_data"
    }
   ],
   "source": [
    "plt.hist(dist4, bins=np.arange(50,150,0.33), density=True);"
   ]
  },
  {
   "cell_type": "markdown",
   "id": "b788a3ae",
   "metadata": {},
   "source": [
    "### Exercise\n",
    "\n",
    "Does the mean match the average rate?"
   ]
  },
  {
   "cell_type": "code",
   "execution_count": 18,
   "id": "359b16c9",
   "metadata": {},
   "outputs": [],
   "source": [
    "# Answer here"
   ]
  },
  {
   "cell_type": "markdown",
   "id": "79a82ea3",
   "metadata": {},
   "source": [
    "### Exercise\n",
    "\n",
    "1. Generate and plot a Poisson distirbution using scipy.stats."
   ]
  },
  {
   "cell_type": "code",
   "execution_count": 19,
   "id": "7e6c0f83",
   "metadata": {},
   "outputs": [],
   "source": [
    "# Answer here"
   ]
  },
  {
   "cell_type": "code",
   "execution_count": null,
   "id": "a2b785a5",
   "metadata": {},
   "outputs": [],
   "source": []
  }
 ],
 "metadata": {
  "kernelspec": {
   "display_name": "Python 3 (ipykernel)",
   "language": "python",
   "name": "python3"
  },
  "language_info": {
   "codemirror_mode": {
    "name": "ipython",
    "version": 3
   },
   "file_extension": ".py",
   "mimetype": "text/x-python",
   "name": "python",
   "nbconvert_exporter": "python",
   "pygments_lexer": "ipython3",
   "version": "3.9.7"
  }
 },
 "nbformat": 4,
 "nbformat_minor": 5
}
