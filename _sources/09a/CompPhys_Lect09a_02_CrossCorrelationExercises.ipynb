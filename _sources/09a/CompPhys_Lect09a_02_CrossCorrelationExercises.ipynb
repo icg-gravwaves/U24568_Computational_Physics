{
 "cells": [
  {
   "cell_type": "markdown",
   "id": "e52e9150",
   "metadata": {},
   "source": [
    "# Cross correlation exercises"
   ]
  },
  {
   "cell_type": "code",
   "execution_count": 1,
   "id": "d648c08e",
   "metadata": {},
   "outputs": [],
   "source": [
    "%matplotlib inline\n",
    "import matplotlib\n",
    "import matplotlib.pyplot as plt\n",
    "import numpy as np\n",
    "import scipy\n",
    "import scipy.signal"
   ]
  },
  {
   "cell_type": "markdown",
   "id": "5ed8abc1",
   "metadata": {},
   "source": [
    "## Exercise - Finding the signals in the noise\n",
    "\n",
    "Here are another 4 examples of 4 different signals and corresponding datasets. Can you tell which of these datasets have signals in them, and where in the dataset those signals are?"
   ]
  },
  {
   "cell_type": "code",
   "execution_count": 2,
   "id": "586e2dc7",
   "metadata": {},
   "outputs": [],
   "source": [
    "# Let's generate the datasets. DONT CHANGE THIS.\n",
    "num_data_samples = 4096\n",
    "sample_rate = 32\n",
    "times = np.arange(num_data_samples) / sample_rate\n",
    "\n",
    "gaussian_width = 10\n",
    "signal_inst_frequency = 2. + 0.*np.sin(2 * np.pi * 0.1 * times)\n",
    "phases = [0]\n",
    "for i in range(1,len(times)):\n",
    "    phases.append(phases[-1] + 2 * np.pi * signal_inst_frequency[i] * 1./sample_rate)\n",
    "signal_1 = np.sin(phases)\n",
    "gaussian = np.exp( - (times - 64)**2 / (2 * gaussian_width))\n",
    "signal_1 = signal_1 * gaussian\n",
    "signal_1 = signal_1[48*sample_rate:80*sample_rate]\n",
    "\n",
    "gaussian_width = 1.\n",
    "signal_inst_frequency = 2. + 1.*np.sin(2 * np.pi * 0.1 * times)\n",
    "phases = [0]\n",
    "for i in range(1,len(times)):\n",
    "    phases.append(phases[-1] + 2 * np.pi * signal_inst_frequency[i] * 1./sample_rate)\n",
    "signal_2 = np.sin(phases)\n",
    "gaussian = np.exp( - (times - 64)**2 / (2 * gaussian_width))\n",
    "signal_2 = signal_2 * gaussian\n",
    "signal_2 = signal_2[48*sample_rate:80*sample_rate]\n",
    "\n",
    "gaussian_width = 8.\n",
    "signal_inst_frequency = 2. + 4.*np.sin(2 * np.pi * 0.1 * times)\n",
    "phases = [0]\n",
    "for i in range(1,len(times)):\n",
    "    phases.append(phases[-1] + 2 * np.pi * signal_inst_frequency[i] * 1./sample_rate)\n",
    "signal_3 = np.sin(phases)\n",
    "gaussian = np.exp( - (times - 64)**2 / (2 * gaussian_width))\n",
    "signal_3 = signal_3 * gaussian\n",
    "signal_3 = signal_3[48*sample_rate:80*sample_rate]\n",
    "\n",
    "gaussian_width = 10.\n",
    "signal_inst_frequency = 2. + 1.*np.sin(2 * np.pi * 0.5 * times)\n",
    "phases = [0]\n",
    "for i in range(1,len(times)):\n",
    "    phases.append(phases[-1] + 2 * np.pi * signal_inst_frequency[i] * 1./sample_rate)\n",
    "signal_4 = np.sin(phases)\n",
    "gaussian = np.exp( - (times - 64)**2 / (2 * gaussian_width))\n",
    "signal_4 = signal_4 * gaussian\n",
    "signal_4 = signal_4[48*sample_rate:80*sample_rate]\n",
    "\n",
    "noise = np.random.normal(size=[num_data_samples])\n",
    "rndi = np.random.randint(0,sample_rate*96)\n",
    "data_1 = noise\n",
    "data_1[rndi:rndi+len(signal_1)] += signal_1\n",
    "noise = np.random.normal(size=[num_data_samples])*0.5\n",
    "rndi = np.random.randint(0,sample_rate*30)\n",
    "data_2 = noise\n",
    "data_2[rndi:rndi+len(signal_2)] += signal_2\n",
    "rndi = np.random.randint(sample_rate*60,sample_rate*90)\n",
    "data_2[rndi:rndi+len(signal_2)] += signal_2\n",
    "noise = np.random.normal(size=[num_data_samples])\n",
    "rndi = np.random.randint(0,sample_rate*96)\n",
    "data_3 = noise\n",
    "data_3[rndi:rndi+len(signal_3)] -= signal_3\n",
    "noise = np.random.normal(size=[num_data_samples]) * 0.2\n",
    "rndi = np.random.randint(0,sample_rate*96)\n",
    "data_4 = noise\n",
    "data_4[rndi:rndi+len(signal_4)] += signal_4\n"
   ]
  },
  {
   "cell_type": "code",
   "execution_count": 3,
   "id": "cddaaa77",
   "metadata": {},
   "outputs": [],
   "source": [
    "# SUMMARIZING THE DATA SETS - Use these when tackling this exercise\n",
    "# DATA SET 1\n",
    "signal_1 = signal_1\n",
    "data_1 = data_1\n",
    "\n",
    "# DATA SET 2\n",
    "signal_2 = signal_2\n",
    "data_2 = data_2\n",
    "\n",
    "# DATA SET 3\n",
    "signal_3 = signal_3\n",
    "data_3 = data_3\n",
    "\n",
    "# DATA SET 4\n",
    "signal_4 = signal_4\n",
    "data_4 = data_4\n"
   ]
  },
  {
   "cell_type": "code",
   "execution_count": null,
   "id": "44a94f62",
   "metadata": {},
   "outputs": [],
   "source": []
  },
  {
   "cell_type": "code",
   "execution_count": null,
   "id": "beaa2e90",
   "metadata": {},
   "outputs": [],
   "source": []
  },
  {
   "cell_type": "markdown",
   "id": "83e34501",
   "metadata": {},
   "source": [
    "### Exercise extension - autocorrelation\n",
    "\n",
    "For each of the 4 signals, cross-correlate the signal with itself (a cross-correlation between a signal and itself is called an \"auto-correlation\"). This is what you are looking for in the noisy data. How does this change for the different signals and why?"
   ]
  },
  {
   "cell_type": "code",
   "execution_count": null,
   "id": "e430130f",
   "metadata": {},
   "outputs": [],
   "source": []
  },
  {
   "cell_type": "code",
   "execution_count": null,
   "id": "19738062",
   "metadata": {},
   "outputs": [],
   "source": []
  },
  {
   "cell_type": "markdown",
   "id": "ce026749",
   "metadata": {},
   "source": [
    "## Exercise - Which signal is in the noise?\n",
    "\n",
    "In these four datasets one of the signals is hidden in the noise, but which signal is in which dataset??"
   ]
  },
  {
   "cell_type": "code",
   "execution_count": 4,
   "id": "25b93db6",
   "metadata": {},
   "outputs": [],
   "source": [
    "import random\n",
    "noise = np.random.normal(size=[num_data_samples])*0.5\n",
    "rndi = np.random.randint(0,sample_rate*96)\n",
    "data_11 = noise\n",
    "data_11[rndi:rndi+len(signal_1)] += random.choice([signal_1, signal_2, signal_3, signal_4])\n",
    "\n",
    "noise = np.random.normal(size=[num_data_samples])*0.5\n",
    "rndi = np.random.randint(0,sample_rate*96)\n",
    "data_12 = noise\n",
    "data_12[rndi:rndi+len(signal_1)] += random.choice([signal_1, signal_2, signal_3, signal_4])\n",
    "\n",
    "noise = np.random.normal(size=[num_data_samples])*0.5\n",
    "rndi = np.random.randint(0,sample_rate*96)\n",
    "data_13 = noise\n",
    "data_13[rndi:rndi+len(signal_1)] += random.choice([signal_1, signal_2, signal_3, signal_4])\n",
    "\n",
    "noise = np.random.normal(size=[num_data_samples])*0.5\n",
    "rndi = np.random.randint(0,sample_rate*96)\n",
    "data_14 = noise\n",
    "data_14[rndi:rndi+len(signal_1)] += random.choice([signal_1, signal_2, signal_3, signal_4])\n",
    "\n"
   ]
  },
  {
   "cell_type": "code",
   "execution_count": 6,
   "id": "c50c5992",
   "metadata": {},
   "outputs": [
    {
     "data": {
      "text/plain": [
       "array([ 0.65623137,  0.28081833,  0.281017  , ...,  0.6814975 ,\n",
       "       -0.31098926, -0.32647514])"
      ]
     },
     "execution_count": 6,
     "metadata": {},
     "output_type": "execute_result"
    }
   ],
   "source": [
    "# SUMMARY - There are 4 datasets below, they each contain one of the signals, but which one contains which signal?\n",
    "#           The signals are the same as above.\n",
    "data_11\n",
    "data_12\n",
    "data_13\n",
    "data_14"
   ]
  },
  {
   "cell_type": "code",
   "execution_count": null,
   "id": "3c456dc4",
   "metadata": {},
   "outputs": [],
   "source": []
  }
 ],
 "metadata": {
  "kernelspec": {
   "display_name": "Python 3 (ipykernel)",
   "language": "python",
   "name": "python3"
  },
  "language_info": {
   "codemirror_mode": {
    "name": "ipython",
    "version": 3
   },
   "file_extension": ".py",
   "mimetype": "text/x-python",
   "name": "python",
   "nbconvert_exporter": "python",
   "pygments_lexer": "ipython3",
   "version": "3.9.7"
  }
 },
 "nbformat": 4,
 "nbformat_minor": 5
}
