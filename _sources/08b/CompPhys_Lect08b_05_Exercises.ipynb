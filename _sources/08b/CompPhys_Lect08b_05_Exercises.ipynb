{
 "cells": [
  {
   "cell_type": "markdown",
   "id": "952a1a6b",
   "metadata": {},
   "source": [
    "# Exercises\n",
    "\n",
    "Okay, we've spent a long time looking at how to high-pass filter a simple dataset and found out that it is not *at all* trivial and we need to be careful. This is why you don't just have a simple `high_pass_filter` function in scipy. Here find some examples to test your knowledge, which will ask you to implement *other* types of filters."
   ]
  },
  {
   "cell_type": "code",
   "execution_count": 2,
   "id": "fd57a1ae",
   "metadata": {},
   "outputs": [],
   "source": [
    "%matplotlib inline\n",
    "import matplotlib\n",
    "import matplotlib.pyplot as plt\n",
    "import numpy as np\n",
    "import scipy\n",
    "import scipy.signal"
   ]
  },
  {
   "cell_type": "markdown",
   "id": "c866aa22",
   "metadata": {},
   "source": [
    "## Exercise\n",
    "\n",
    "Take data_time_domain_CASE_11 below and create, and perform, a low-pass filter, removing all frequency content above 2Hz. Using scipy will be easier, but your choice. Demonstrate that the 0.5Hz signal buried in that data is visible in both the time and frequency domains.\n"
   ]
  },
  {
   "cell_type": "code",
   "execution_count": 11,
   "id": "25c2f507",
   "metadata": {},
   "outputs": [],
   "source": [
    "omega = 1. * (2*np.pi)\n",
    "data_length = 256\n",
    "sample_rate = 16\n",
    "sample_points = int(data_length * sample_rate)\n",
    "times = np.arange(sample_points) / sample_rate\n",
    "\n",
    "data_time_domain_CASE_11 = np.zeros(data_length * sample_rate)\n",
    "# Add low frequency noise: No components above 1Hz\n",
    "for i in range(2*data_length*4,8*data_length*4):\n",
    "    omega = i / (data_length*4) * (2*np.pi)\n",
    "    phase=np.random.random() * (2*np.pi)\n",
    "    data_time_domain_CASE_11 += 100*np.sin(times * omega + phase)\n",
    "\n",
    "# Add in a single 4Hz sine wave\n",
    "omega = 0.5 * (2*np.pi)\n",
    "data_time_domain_CASE_11 += np.sin(times * omega)"
   ]
  },
  {
   "cell_type": "code",
   "execution_count": null,
   "id": "ae9c9746",
   "metadata": {},
   "outputs": [],
   "source": []
  },
  {
   "cell_type": "markdown",
   "id": "8c677b01",
   "metadata": {},
   "source": [
    "## Exercise\n",
    "\n",
    "Take data_time_domain_CASE_12 below and perform a \"band-pass\" filter. Specifically, remove all frequency content above 4Hz and below 1Hz. Can you recover the 2Hz signal in that data?\n"
   ]
  },
  {
   "cell_type": "code",
   "execution_count": 13,
   "id": "5031f873",
   "metadata": {},
   "outputs": [],
   "source": [
    "omega = 1. * (2*np.pi)\n",
    "data_length = 256\n",
    "sample_rate = 16\n",
    "sample_points = int(data_length * sample_rate)\n",
    "times = np.arange(sample_points) / sample_rate\n",
    "\n",
    "\n",
    "data_time_domain_CASE_12 = np.zeros(data_length * sample_rate)\n",
    "# Add low frequency noise: No components above 1Hz\n",
    "for i in range(1,1*data_length*4):\n",
    "    omega = i / (data_length*4) * (2*np.pi)\n",
    "    phase=np.random.random() * (2*np.pi)\n",
    "    data_time_domain_CASE_12 += 100*np.sin(times * omega + phase)\n",
    "    \n",
    "for i in range(4*data_length*4,8*data_length*4):\n",
    "    omega = i / (data_length*4) * (2*np.pi)\n",
    "    phase=np.random.random() * (2*np.pi)\n",
    "    data_time_domain_CASE_12 += 100*np.sin(times * omega + phase)\n",
    "\n",
    "# Add in a single 2Hz sine wave\n",
    "omega = 2 * (2*np.pi)\n",
    "data_time_domain_CASE_12 += np.sin(times * omega)"
   ]
  },
  {
   "cell_type": "code",
   "execution_count": null,
   "id": "50dc8564",
   "metadata": {},
   "outputs": [],
   "source": []
  },
  {
   "cell_type": "markdown",
   "id": "8b8b7cf7",
   "metadata": {},
   "source": [
    "## Exercise\n",
    "\n",
    "CHALLENGING: The data_time_domain_CASE_13 below contains \"pink\" noise (lower frequency content is louder than higher frequency content). Can you convert this into \"white\" noise where the contribution to the noise at all frequencies is equal?\n"
   ]
  },
  {
   "cell_type": "code",
   "execution_count": 14,
   "id": "c177a6e9",
   "metadata": {},
   "outputs": [],
   "source": [
    "omega = 1. * (2*np.pi)\n",
    "data_length = 256\n",
    "sample_rate = 16\n",
    "sample_points = int(data_length * sample_rate)\n",
    "times = np.arange(sample_points) / sample_rate\n",
    "\n",
    "\n",
    "data_time_domain_CASE_13 = np.zeros(data_length * sample_rate)\n",
    "# Add low frequency noise: No components above 1Hz\n",
    "for i in range(1,8*(data_length*4)):\n",
    "    omega = i / (data_length*4) * (2*np.pi)\n",
    "    phase=np.random.random() * (2*np.pi)\n",
    "    data_time_domain_CASE_13 += (1./i)*np.sin(times * omega + phase)"
   ]
  },
  {
   "cell_type": "code",
   "execution_count": null,
   "id": "a4c283db",
   "metadata": {},
   "outputs": [],
   "source": []
  }
 ],
 "metadata": {
  "kernelspec": {
   "display_name": "Python 3 (ipykernel)",
   "language": "python",
   "name": "python3"
  },
  "language_info": {
   "codemirror_mode": {
    "name": "ipython",
    "version": 3
   },
   "file_extension": ".py",
   "mimetype": "text/x-python",
   "name": "python",
   "nbconvert_exporter": "python",
   "pygments_lexer": "ipython3",
   "version": "3.9.7"
  }
 },
 "nbformat": 4,
 "nbformat_minor": 5
}
