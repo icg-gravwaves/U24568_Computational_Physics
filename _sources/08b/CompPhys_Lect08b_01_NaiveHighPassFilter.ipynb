{
 "cells": [
  {
   "cell_type": "markdown",
   "id": "e0324acb",
   "metadata": {},
   "source": [
    "# A naive implementation of a high-pass filter.\n",
    "\n",
    "A high-pass filter (see introduction slides) is one where we remove content at low frequencies (below the high-pass). This might be done if you have noise at low frequencies but signal at higher frequencies and want to extract that signal.\n",
    "\n",
    "Let's show this with a contrived example:\n",
    "\n",
    " * We will generate a dataset that is 8 seconds long sampled 16 times a second.\n",
    " * In this dataset we will add Gaussian noise with frequencies up to 1Hz, but not above it.\n",
    " * We will also add a sine wave at 4Hz, but the amplitude will be much smaller than the Gaussian noise.\n",
    " \n",
    "In the time-domain the sine-wave is not visible above the low-frequency noise at all, but with a high-pass filter the signal can be easily extracted from the data because there is no overlap in the *frequency* components of the noise and the signal."
   ]
  },
  {
   "cell_type": "code",
   "execution_count": 3,
   "id": "8db3b089",
   "metadata": {},
   "outputs": [],
   "source": [
    "%matplotlib inline\n",
    "import matplotlib\n",
    "import matplotlib.pyplot as plt\n",
    "import numpy as np\n",
    "import scipy\n",
    "import scipy.signal"
   ]
  },
  {
   "cell_type": "markdown",
   "id": "c861a12a",
   "metadata": {},
   "source": [
    "We are going to need to use Fourier transforms again, so copy in your code from last week"
   ]
  },
  {
   "cell_type": "code",
   "execution_count": 2,
   "id": "dbc49e27",
   "metadata": {},
   "outputs": [],
   "source": [
    "def compute_fourier_transform(data_time_domain):\n",
    "    # USE YOUR CODE FROM LAST LECTURE\n",
    "    return data_frequency_domain\n",
    "\n",
    "def compute_inverse_fourier_transform(data_frequency_domain):\n",
    "    # USE YOUR CODE FROM LAST LECTURE\n",
    "    return data_time_domain"
   ]
  },
  {
   "cell_type": "markdown",
   "id": "9e52d075",
   "metadata": {},
   "source": [
    "And then we generate the data as described."
   ]
  },
  {
   "cell_type": "code",
   "execution_count": 4,
   "id": "e30fe1f2",
   "metadata": {},
   "outputs": [],
   "source": [
    "# Choose data length and sampling rate\n",
    "omega = 1. * (2*np.pi)\n",
    "data_length = 8\n",
    "sample_rate = 16\n",
    "sample_points = int(data_length * sample_rate)\n",
    "times = np.arange(sample_points) / sample_rate\n",
    "\n",
    "data_time_domain = np.zeros(sample_points)\n",
    "# Add low frequency noise: No components above 1Hz\n",
    "for i in range(1,(data_length+1)):\n",
    "    omega = i / data_length * (2*np.pi)\n",
    "    phase=np.random.random() * (2*np.pi)\n",
    "    data_time_domain += 100*np.sin(times * omega + phase)\n",
    "\n",
    "# Add in a single 4Hz sine wave\n",
    "omega = 4. * (2*np.pi)\n",
    "data_time_domain += np.sin(times * omega)"
   ]
  },
  {
   "cell_type": "markdown",
   "id": "47180409",
   "metadata": {},
   "source": [
    "## Exercise\n",
    "\n",
    "Plot this data in the time domain. Can you see the 4Hz signal above the noise?"
   ]
  },
  {
   "cell_type": "code",
   "execution_count": null,
   "id": "ef614c0b",
   "metadata": {},
   "outputs": [],
   "source": []
  },
  {
   "cell_type": "markdown",
   "id": "b5b8df52",
   "metadata": {},
   "source": [
    "## Exercise\n",
    "\n",
    "Using your Fourier transform knowledge from the last class, transform to the frequency domain and plot the data in the frequency domain as well. Convert back to the time domain and verify that you get the original data.\n",
    "\n",
    "To try to see the sine wave in the frequency domain plot the magnitude of the frequency domain data (remember it is complex) against frequency, and use a log y-axis (plt.semilogy)."
   ]
  },
  {
   "cell_type": "code",
   "execution_count": null,
   "id": "7c3601dc",
   "metadata": {},
   "outputs": [],
   "source": []
  },
  {
   "cell_type": "markdown",
   "id": "47c81738",
   "metadata": {},
   "source": [
    "Hopefully you can now see a spike in your frequency-domain plot corresponding to the signal. Now we need to high-pass filter the data to be able to extract the signal in the time domain.\n",
    "\n",
    "First let's explore a simple approach to the problem. Fourier transform the data, set to 0 all content below 2Hz and then transform back to the time domain:"
   ]
  },
  {
   "cell_type": "markdown",
   "id": "8079326a",
   "metadata": {},
   "source": [
    "## Exercise\n",
    "\n",
    "Carry out the instructions below\n",
    "\n",
    "* Fourier transform the data and then zero out all content below 2Hz.\n",
    "* Plot this data in the Fourier domain.\n",
    "* Transform the data back to the time domain (using an inverse Fourier transform)\n",
    "* Plot the filtered data in the time domain.\n",
    "* Can you see the sine wave clearly now? (The answer should be \"yes\")\n",
    "\n",
    "We have provided some hints below for doing this"
   ]
  },
  {
   "cell_type": "code",
   "execution_count": 4,
   "id": "7890c94a",
   "metadata": {},
   "outputs": [
    {
     "ename": "NameError",
     "evalue": "name 'data_frequency_domain' is not defined",
     "output_type": "error",
     "traceback": [
      "\u001b[0;31m---------------------------------------------------------------------------\u001b[0m",
      "\u001b[0;31mNameError\u001b[0m                                 Traceback (most recent call last)",
      "Input \u001b[0;32mIn [4]\u001b[0m, in \u001b[0;36m<module>\u001b[0;34m\u001b[0m\n\u001b[1;32m      1\u001b[0m \u001b[38;5;66;03m# COMPLETE THE EXERCISE HERE BY FILLING IN THE GAPS\u001b[39;00m\n\u001b[1;32m      2\u001b[0m \n\u001b[1;32m      3\u001b[0m \u001b[38;5;66;03m# You need to supply a compute_fourier transform function!\u001b[39;00m\n\u001b[0;32m----> 4\u001b[0m data_frequency_domain \u001b[38;5;241m=\u001b[39m \u001b[43mcompute_fourier_transform\u001b[49m\u001b[43m(\u001b[49m\u001b[43mdata_time_domain\u001b[49m\u001b[43m)\u001b[49m\n\u001b[1;32m      6\u001b[0m \u001b[38;5;66;03m# Set values below 2Hz to 0 (as this is symmetric we need to remove content at both small *and* large values)\u001b[39;00m\n\u001b[1;32m      7\u001b[0m \u001b[38;5;66;03m# Remove content at low frequencies\u001b[39;00m\n\u001b[1;32m      8\u001b[0m data_frequency_domain[WHAT_SLICE_SHOULD_THIS_BE] \u001b[38;5;241m=\u001b[39m \u001b[38;5;241m0\u001b[39m\n",
      "Input \u001b[0;32mIn [2]\u001b[0m, in \u001b[0;36mcompute_fourier_transform\u001b[0;34m(data_time_domain)\u001b[0m\n\u001b[1;32m      1\u001b[0m \u001b[38;5;28;01mdef\u001b[39;00m \u001b[38;5;21mcompute_fourier_transform\u001b[39m(data_time_domain):\n\u001b[1;32m      2\u001b[0m     \u001b[38;5;66;03m# USE YOUR CODE FROM LAST LECTURE\u001b[39;00m\n\u001b[0;32m----> 3\u001b[0m     \u001b[38;5;28;01mreturn\u001b[39;00m \u001b[43mdata_frequency_domain\u001b[49m\n",
      "\u001b[0;31mNameError\u001b[0m: name 'data_frequency_domain' is not defined"
     ]
    }
   ],
   "source": [
    "# COMPLETE THE EXERCISE HERE BY FILLING IN THE GAPS\n",
    "\n",
    "# You need to supply a compute_fourier transform function!\n",
    "data_frequency_domain = compute_fourier_transform(data_time_domain)\n",
    "\n",
    "# Set values below 2Hz to 0 (as this is symmetric we need to remove content at both small *and* large values)\n",
    "# Remove content at low frequencies\n",
    "data_frequency_domain[WHAT_SLICE_SHOULD_THIS_BE] = 0\n",
    "# Zero out all data from max_frequency - 2Hz to max_frequency ... AS 16Hz is the max frequency this is 14 - 16Hz.\n",
    "data_frequency_domain[WHAT_SLICE_SHOULD_THIS_BE] = 0\n",
    "\n",
    "# Inverse Fourier transform\n",
    "data_time_domain_filtered = compute_inverse_fourier_transform(data_frequency_domain)\n",
    "\n",
    "# Make the plots requested"
   ]
  },
  {
   "cell_type": "markdown",
   "id": "911610ca",
   "metadata": {},
   "source": [
    "At this point, applying a high-pass filter may appear to be very easy ... However, as we will see, there's more to it than this!"
   ]
  }
 ],
 "metadata": {
  "kernelspec": {
   "display_name": "Python 3 (ipykernel)",
   "language": "python",
   "name": "python3"
  },
  "language_info": {
   "codemirror_mode": {
    "name": "ipython",
    "version": 3
   },
   "file_extension": ".py",
   "mimetype": "text/x-python",
   "name": "python",
   "nbconvert_exporter": "python",
   "pygments_lexer": "ipython3",
   "version": "3.9.7"
  }
 },
 "nbformat": 4,
 "nbformat_minor": 5
}
