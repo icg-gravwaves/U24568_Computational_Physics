{
 "cells": [
  {
   "cell_type": "markdown",
   "id": "89d14afb",
   "metadata": {},
   "source": [
    "# Problem C\n",
    "\n",
    "For the third problem we will compare two words to identify if they are anagrams.\n",
    "\n",
    "Consider the three sets of words:\n",
    "\n",
    "    EARTH - HEART\n",
    "    CAT - DOG\n",
    "    DORMITORY - DIRTY ROOM\n",
    "    \n",
    "Here we will write some programs which compare these words and identify if they are anagrams by way of a boolean (True, False).\n",
    "\n",
    "There are 4 ways you could do this that we will explore:\n",
    "\n",
    "    1. Test that each character in word 1 actually occurs in word 2.\n",
    "    2. Sort the letters in the word alphabetically and compare.\n",
    "    3. Create a complete list of all the possible strings from word 1 and then compare this list with word 2. (NOTE - only test this with short words!)\n",
    "    4. Count the number of times each character occurs in each word and then compare the result.\n",
    "\n",
    "Write an algorithm for methods 1, 2 and 4 above. Method 3 is more advanced and has been written for you - you do not need to code it but should instead think about <b>how</b> you might code it.  How do the number of calculations performed by each method differ (give approximate answers - you don't need to count every single calculation)?"
   ]
  },
  {
   "cell_type": "code",
   "execution_count": 4,
   "id": "c649df38",
   "metadata": {},
   "outputs": [],
   "source": [
    "import numpy as np"
   ]
  },
  {
   "cell_type": "code",
   "execution_count": 1,
   "id": "a72d8e29",
   "metadata": {},
   "outputs": [],
   "source": [
    "# Answer here - method 1\n"
   ]
  },
  {
   "cell_type": "code",
   "execution_count": 2,
   "id": "06ad87e1",
   "metadata": {},
   "outputs": [],
   "source": [
    "# Answer here - method 2\n"
   ]
  },
  {
   "cell_type": "code",
   "execution_count": 6,
   "id": "5bc5fd29",
   "metadata": {},
   "outputs": [
    {
     "name": "stdout",
     "output_type": "stream",
     "text": [
      "no. of solutions : 6\n",
      "('d', 'o', 'g')\n",
      "('d', 'g', 'o')\n",
      "('o', 'd', 'g')\n",
      "('o', 'g', 'd')\n",
      "('g', 'd', 'o')\n",
      "('g', 'o', 'd')\n",
      "False\n"
     ]
    }
   ],
   "source": [
    "# Becky's solution for (method 3) using the itertools module\n",
    "# itertools.permutations will return a list of all the possible permutations of the input list.\n",
    "# See for example the printed outputs for the input ['d','o','g']. Coding up a function to do this would\n",
    "# itself by a great example problem for this notebook!\n",
    "\n",
    "def anagramSolution3(s1,s2):\n",
    "    import itertools\n",
    "    \n",
    "    alist1 = list(s1)\n",
    "    alist2 = list(s2)\n",
    "    \n",
    "    #convert letetrs to numbers and write factorial\n",
    "    no_of_ways=np.math.factorial(len(alist1))\n",
    "    print('no. of solutions :', no_of_ways)\n",
    "    permutations = list(itertools.permutations(alist1))\n",
    "    \n",
    "    matches = False\n",
    "    for i in permutations:\n",
    "        print(i)\n",
    "        if list(i) == alist2:\n",
    "            matches = True\n",
    "            return matches\n",
    "    \n",
    "    return matches\n",
    "    \n",
    "print(anagramSolution3('dog','cat'))\n",
    "\n",
    "\n",
    "# We require n! (n factorial) comparisons where n is the length of the input. When n is large this will be\n",
    "# *very* slow!"
   ]
  },
  {
   "cell_type": "code",
   "execution_count": 7,
   "id": "42816090",
   "metadata": {},
   "outputs": [],
   "source": [
    "# Answer here - method 4\n"
   ]
  },
  {
   "cell_type": "markdown",
   "id": "f39b3143",
   "metadata": {},
   "source": [
    "We tend to consider the number of calculations or steps in your code as a mark of its efficiency. We use the 'order of magnitude' notation big 'O' to report this. \n",
    "\n",
    "In these cases above you worked out roughly how many calculations were done. In big O notation we would conclude this:\n",
    "\n",
    "1. Two nested for lops are required e.g. for i in word 1 then loop through word 2 - so this is a O(n${^2}$) algorithm\n",
    "\n",
    "2. The comparison is quick O(n) but the sort is again a two nested for loop operation (if using a bubble sort) so this dominates the process and it is again an O(n$^{2}$) algorithm\n",
    "\n",
    "3. Search for each possible string combination requires n*(n-1)*(n-2)*(n-3)*...*1 operations which is n!. n! is *way* larger than n${^2}$ for big n  (O(n!)). This is not efficient for us though this approach might be the most familiar to humans as we try to make words from anagrams. \n",
    "\n",
    "4. There are 26 letters in the alphabet so this algorithm only required that we go through one for loop and simply add a number when a letter turns up so this operation is actually linear O(n). This may not be the first thing you would have thought of but it is the most efficient process. (Of course, you may not be using the Roman alphabet, or want to consider spaces and punctuation (or not), but all this could be included while still being O(n))."
   ]
  },
  {
   "cell_type": "markdown",
   "id": "c1204786",
   "metadata": {},
   "source": [
    "## Lessons learned\n",
    "\n",
    "* Take time to consider different methods of solving a problem - no need to rush to code\n",
    "* Consider what might be best for your algorithm - e.g. is it a one-off such that brute force works, does it need to be generalised so it can work in many situations, does it need to be quick?"
   ]
  }
 ],
 "metadata": {
  "kernelspec": {
   "display_name": "Python 3 (ipykernel)",
   "language": "python",
   "name": "python3"
  },
  "language_info": {
   "codemirror_mode": {
    "name": "ipython",
    "version": 3
   },
   "file_extension": ".py",
   "mimetype": "text/x-python",
   "name": "python",
   "nbconvert_exporter": "python",
   "pygments_lexer": "ipython3",
   "version": "3.9.7"
  }
 },
 "nbformat": 4,
 "nbformat_minor": 5
}
