{
 "cells": [
  {
   "cell_type": "markdown",
   "id": "d5b1c40a",
   "metadata": {
    "id": "d5b1c40a"
   },
   "source": [
    "# Beat the casino!"
   ]
  },
  {
   "cell_type": "markdown",
   "id": "b19f6437",
   "metadata": {
    "id": "b19f6437"
   },
   "source": [
    "Let's play a game. We will roll a dice - if the value of 1 comes up you win, if 2, 3, 4, 5 or 6 turn up the house wins. Before rolling you bet a certain amount of money, if you win you double your bet, if you lose, you lose it all. Would you play and for how long?\n",
    "\n",
    "Let's make a monte carlo sequence that simulates the game and see how much money you have left after N turns at the game.\n",
    "\n",
    "To begin assume:\n",
    "1. number of games played = 5\n",
    "2. You start with £1,000 each\n",
    "3. Each time you play you must bet £80\n",
    "\n",
    "Fill out this information below:"
   ]
  },
  {
   "cell_type": "code",
   "execution_count": null,
   "id": "c542b79b",
   "metadata": {
    "id": "c542b79b"
   },
   "outputs": [],
   "source": [
    "number_of_games_played=\n",
    "amount_bet_per_game=\n",
    "total_funds="
   ]
  },
  {
   "cell_type": "markdown",
   "id": "1c7b5c76",
   "metadata": {
    "id": "1c7b5c76"
   },
   "source": [
    "Now we need to make a function which rolls the dice. This function will have no inputs but will return \"True\" if you win and \"False\" if you lose (look above to see your win conditions).\n",
    "\n",
    "Fill out the function below generating an appropriate random number for each roll of the dice:"
   ]
  },
  {
   "cell_type": "code",
   "execution_count": null,
   "id": "e612a1ac",
   "metadata": {
    "id": "e612a1ac"
   },
   "outputs": [],
   "source": [
    "def roll():\n",
    "    '''This is a function which rolls the dice'''"
   ]
  },
  {
   "cell_type": "markdown",
   "id": "613faa2c",
   "metadata": {
    "id": "613faa2c"
   },
   "source": [
    "Now lets make a function which plays the game. This function is written below but with 6 bugs - find and correct them."
   ]
  },
  {
   "cell_type": "code",
   "execution_count": null,
   "id": "cfd8dd24",
   "metadata": {
    "id": "cfd8dd24",
    "outputId": "10243182-bf96-4546-b70f-ff9331ab3f62"
   },
   "outputs": [
    {
     "ename": "SyntaxError",
     "evalue": "invalid syntax (3489802043.py, line 5)",
     "output_type": "error",
     "traceback": [
      "\u001b[0;36m  Input \u001b[0;32mIn [3]\u001b[0;36m\u001b[0m\n\u001b[0;31m    Funds =\u001b[0m\n\u001b[0m            ^\u001b[0m\n\u001b[0;31mSyntaxError\u001b[0m\u001b[0;31m:\u001b[0m invalid syntax\n"
     ]
    }
   ],
   "source": [
    "def play(total_funds, wager_amount, total_plays):\n",
    "    '''This is a function which plays the game'''\n",
    "\n",
    "    Play_num = []\n",
    "    Funds =\n",
    "    play = 1\n",
    "\n",
    "    while play < total_plays:\n",
    "        if roll():\n",
    "            total_funds = total_funds + wager_amount\n",
    "            Play_num.append(player)\n",
    "            Funds.append(total_funds)\n",
    "        else\n",
    "            total_funds = total_funds - wager_amount\n",
    "            Play_num.append(play)\n",
    "            Funds.append.(total_funds)\n",
    "\n",
    "        play =+ 1\n",
    "\n",
    "    plt.plot(Play_num,Funds)\n",
    "    Final_funds.append(Funds[-1])\n",
    "    return(Final_funds)"
   ]
  },
  {
   "cell_type": "markdown",
   "id": "7c98534d",
   "metadata": {
    "id": "7c98534d"
   },
   "source": [
    "Play the game above and take a look at the plot results via a histogram of your total funds at the end (label your axes appropriately). How many bets until, on average, you lose all your money? Note: your function play() will play one realisation of the game - in an MC simulation we are simulating many realisations to find a good approximation to the full disitribution of results. Try running 1000 realisations."
   ]
  },
  {
   "cell_type": "code",
   "execution_count": null,
   "id": "47bba6fa",
   "metadata": {
    "id": "47bba6fa"
   },
   "outputs": [],
   "source": []
  },
  {
   "cell_type": "code",
   "execution_count": null,
   "id": "62e89e7e",
   "metadata": {
    "id": "62e89e7e"
   },
   "outputs": [],
   "source": [
    "#plt.hist()\n",
    "#plt.ylabel()\n",
    "#plt.xlabel()"
   ]
  },
  {
   "cell_type": "code",
   "execution_count": null,
   "id": "17b0c3c2",
   "metadata": {
    "id": "17b0c3c2"
   },
   "outputs": [],
   "source": []
  }
 ],
 "metadata": {
  "colab": {
   "provenance": []
  },
  "kernelspec": {
   "display_name": "Python 3 (ipykernel)",
   "language": "python",
   "name": "python3"
  },
  "language_info": {
   "codemirror_mode": {
    "name": "ipython",
    "version": 3
   },
   "file_extension": ".py",
   "mimetype": "text/x-python",
   "name": "python",
   "nbconvert_exporter": "python",
   "pygments_lexer": "ipython3",
   "version": "3.9.7"
  }
 },
 "nbformat": 4,
 "nbformat_minor": 5
}
