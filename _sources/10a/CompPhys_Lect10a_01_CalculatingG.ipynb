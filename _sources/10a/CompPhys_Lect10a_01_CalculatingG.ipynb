{
 "cells": [
  {
   "cell_type": "markdown",
   "id": "910e0db7",
   "metadata": {
    "id": "910e0db7"
   },
   "source": [
    "# Calculating g with errors\n",
    "\n",
    "Imagine you are in a lab. You are measuring g by rolling a ball down a 1m slope.\n",
    "\n",
    "You will use:\n",
    "\n",
    "$$\\frac{m v^{2}}{2} = m g h $$\n"
   ]
  },
  {
   "cell_type": "markdown",
   "id": "d3fe2879",
   "metadata": {
    "id": "d3fe2879"
   },
   "source": [
    "What two things do you need to measure?"
   ]
  },
  {
   "cell_type": "code",
   "execution_count": null,
   "id": "dc10f045",
   "metadata": {
    "id": "dc10f045"
   },
   "outputs": [],
   "source": [
    "# Answer here in text"
   ]
  },
  {
   "cell_type": "markdown",
   "id": "25d32c77",
   "metadata": {
    "id": "25d32c77"
   },
   "source": [
    "How might you find the uncertainty on each of these measurements?"
   ]
  },
  {
   "cell_type": "code",
   "execution_count": null,
   "id": "fec92fab",
   "metadata": {
    "id": "fec92fab"
   },
   "outputs": [],
   "source": [
    "# Answer here in text"
   ]
  },
  {
   "cell_type": "markdown",
   "id": "e7b71d75",
   "metadata": {
    "id": "e7b71d75"
   },
   "source": [
    "Below we have written two functions to help you measure the velocity of the ball and height. Running these functions would give you a 'measured' velocity and a 'measured 'height' to calculate g in your experiment."
   ]
  },
  {
   "cell_type": "code",
   "execution_count": null,
   "id": "56728f44",
   "metadata": {
    "id": "56728f44"
   },
   "outputs": [],
   "source": [
    "def measure_velocity():\n",
    "    k=np.sqrt(2.*1.0*24.5)+np.random.normal(loc=0.0, scale=0.1, size=None)\n",
    "    return k"
   ]
  },
  {
   "cell_type": "code",
   "execution_count": null,
   "id": "b8767b8a",
   "metadata": {
    "id": "b8767b8a"
   },
   "outputs": [],
   "source": [
    "def measure_height():\n",
    "    i=1.0+np.random.normal(loc=0.0, scale=0.001, size=None)\n",
    "    return i"
   ]
  },
  {
   "cell_type": "markdown",
   "id": "f6315a9a",
   "metadata": {
    "id": "f6315a9a"
   },
   "source": [
    "## Exercise:\n",
    "\n",
    "Write a code which repeats this experiment, measuring the velocity and height 1000 times and plot a histogram of your results."
   ]
  },
  {
   "cell_type": "code",
   "execution_count": null,
   "id": "55FXlVOcpozv",
   "metadata": {
    "id": "55FXlVOcpozv"
   },
   "outputs": [],
   "source": [
    "# Answer here"
   ]
  },
  {
   "cell_type": "markdown",
   "id": "84160d7f",
   "metadata": {
    "id": "84160d7f"
   },
   "source": [
    "What value of v and h would you report and therefore what value of g, and it's uncertainty, would you measure?  What planet are you performing this experiment on?"
   ]
  },
  {
   "cell_type": "code",
   "execution_count": null,
   "id": "2720ece0",
   "metadata": {
    "id": "2720ece0"
   },
   "outputs": [],
   "source": [
    "# Answer here"
   ]
  },
  {
   "cell_type": "code",
   "execution_count": null,
   "id": "f5f450bd",
   "metadata": {
    "id": "f5f450bd"
   },
   "outputs": [],
   "source": [
    "# Answer here"
   ]
  },
  {
   "cell_type": "code",
   "execution_count": null,
   "id": "UgqG-XRjolMi",
   "metadata": {
    "id": "UgqG-XRjolMi"
   },
   "outputs": [],
   "source": [
    "# Answer here"
   ]
  },
  {
   "cell_type": "markdown",
   "id": "057869c0",
   "metadata": {
    "id": "057869c0"
   },
   "source": [
    "This process of repeating a measurement is the real world equivalent of a monte carlo method. Monte Carlo is simply a method to explore the behaviour of a system by repeated random sampling of variables.\n",
    "\n",
    "The Universe and our technology (e.g. how well our ruler measures) has provided the distribution and us repeating the measurement is the random sampling. In the following notebooks we will explore the uses of monte carlo methods in more detail and how we can use them to chareterise the significance of a measurment."
   ]
  },
  {
   "cell_type": "code",
   "execution_count": null,
   "id": "6aa3a702",
   "metadata": {
    "id": "6aa3a702"
   },
   "outputs": [],
   "source": []
  }
 ],
 "metadata": {
  "colab": {
   "provenance": []
  },
  "kernelspec": {
   "display_name": "Python 3 (ipykernel)",
   "language": "python",
   "name": "python3"
  },
  "language_info": {
   "codemirror_mode": {
    "name": "ipython",
    "version": 3
   },
   "file_extension": ".py",
   "mimetype": "text/x-python",
   "name": "python",
   "nbconvert_exporter": "python",
   "pygments_lexer": "ipython3",
   "version": "3.9.7"
  }
 },
 "nbformat": 4,
 "nbformat_minor": 5
}
