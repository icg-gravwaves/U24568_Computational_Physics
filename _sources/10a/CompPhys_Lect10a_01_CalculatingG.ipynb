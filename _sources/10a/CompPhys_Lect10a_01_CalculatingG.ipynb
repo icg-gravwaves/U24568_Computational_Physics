{
 "cells": [
  {
   "cell_type": "markdown",
   "id": "910e0db7",
   "metadata": {},
   "source": [
    "# Calculating g with errors\n",
    "\n",
    "Imagine you are in a lab. You are measuring g by rolling a ball down a 1m slope.\n",
    "\n",
    "You will use:\n",
    "\n",
    "$$\\frac{m v^{2}}{2} = m g h $$\n"
   ]
  },
  {
   "cell_type": "markdown",
   "id": "d3fe2879",
   "metadata": {},
   "source": [
    "What two things do you need to measure?"
   ]
  },
  {
   "cell_type": "code",
   "execution_count": 2,
   "id": "dc10f045",
   "metadata": {},
   "outputs": [],
   "source": [
    "# ANSWER HERE IN TEXT"
   ]
  },
  {
   "cell_type": "markdown",
   "id": "25d32c77",
   "metadata": {},
   "source": [
    "How might you find the uncertainty on each of these measurements?"
   ]
  },
  {
   "cell_type": "code",
   "execution_count": 3,
   "id": "fec92fab",
   "metadata": {},
   "outputs": [],
   "source": [
    "# ANSWER HERE IN TEXT"
   ]
  },
  {
   "cell_type": "markdown",
   "id": "e7b71d75",
   "metadata": {},
   "source": [
    "Below we have written two functions to help you measure the velocity of the ball and height. Running these functions would give you a 'measured' velocity and a 'measured 'height' to calculate g in your experiment."
   ]
  },
  {
   "cell_type": "code",
   "execution_count": 4,
   "id": "56728f44",
   "metadata": {},
   "outputs": [],
   "source": [
    "def measure_velocity():\n",
    "    k=np.sqrt(2.*1.0*24.5)+np.random.normal(loc=0.0, scale=0.1, size=None)\n",
    "    return k"
   ]
  },
  {
   "cell_type": "code",
   "execution_count": 5,
   "id": "b8767b8a",
   "metadata": {},
   "outputs": [],
   "source": [
    "def measure_height():\n",
    "    i=1.0+np.random.normal(loc=0.0, scale=0.001, size=None)\n",
    "    return i"
   ]
  },
  {
   "cell_type": "markdown",
   "id": "f6315a9a",
   "metadata": {},
   "source": [
    "## Exercise: \n",
    "\n",
    "Write a code which repeats this experiment, measuring the velocity and height 1000 times and plot a histogram of your results."
   ]
  },
  {
   "cell_type": "code",
   "execution_count": null,
   "id": "3c03e981",
   "metadata": {},
   "outputs": [],
   "source": []
  },
  {
   "cell_type": "code",
   "execution_count": null,
   "id": "fad86528",
   "metadata": {},
   "outputs": [],
   "source": []
  },
  {
   "cell_type": "markdown",
   "id": "84160d7f",
   "metadata": {},
   "source": [
    "What value of v and h would you report and therefore what value of g, and it's uncertainty, would you measure?  What planet are you performing this experiment on?"
   ]
  },
  {
   "cell_type": "code",
   "execution_count": null,
   "id": "2720ece0",
   "metadata": {},
   "outputs": [],
   "source": []
  },
  {
   "cell_type": "code",
   "execution_count": null,
   "id": "f5f450bd",
   "metadata": {},
   "outputs": [],
   "source": []
  },
  {
   "cell_type": "markdown",
   "id": "057869c0",
   "metadata": {},
   "source": [
    "This process of repeating a measurement is the real world equivalent of an monte carlo method. Monte Carlo is simply a method of explore the behvior of a system by repeated random sampling of variables. \n",
    "\n",
    "The Universe and our technology (e.g. how well our ruler measures) has provided the distribution and us repeating the measurement is the random sampling. In the next examples we will explore the uses of monte carlo methods in more detail and how we can use them to chareterise the significance of a measurment. "
   ]
  },
  {
   "cell_type": "code",
   "execution_count": null,
   "id": "6aa3a702",
   "metadata": {},
   "outputs": [],
   "source": []
  }
 ],
 "metadata": {
  "kernelspec": {
   "display_name": "Python 3 (ipykernel)",
   "language": "python",
   "name": "python3"
  },
  "language_info": {
   "codemirror_mode": {
    "name": "ipython",
    "version": 3
   },
   "file_extension": ".py",
   "mimetype": "text/x-python",
   "name": "python",
   "nbconvert_exporter": "python",
   "pygments_lexer": "ipython3",
   "version": "3.9.7"
  }
 },
 "nbformat": 4,
 "nbformat_minor": 5
}
