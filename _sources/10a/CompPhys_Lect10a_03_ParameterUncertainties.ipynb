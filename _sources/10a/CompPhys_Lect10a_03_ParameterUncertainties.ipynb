{
 "cells": [
  {
   "cell_type": "markdown",
   "id": "8eebfa97",
   "metadata": {},
   "source": [
    "# Parameter Uncertainty"
   ]
  },
  {
   "cell_type": "markdown",
   "id": "3e6f089b",
   "metadata": {},
   "source": [
    "Now let's try determining some uncertainties on parameters using MCs.\n",
    "\n",
    "Why can we use MC to determine uncertainty? MC offers a way of sampling from a distribution. Imagine we have a distribution of values, our best fit (the value which comes up most often) but also a full range of other pretty decent values which could describe our data. We therefore have a $\\textit{distribution}$ of values which can describe our data. We can get an empirical sample of those by sampling from that distribution.\n",
    "\n",
    "In order to examine how to do a paremter uncertainty estimate using MC we need to generate some data and fit it with a model. We will then be asking what is the uncertainty on our model parameters?"
   ]
  },
  {
   "cell_type": "code",
   "execution_count": 2,
   "id": "15a9a01b",
   "metadata": {},
   "outputs": [],
   "source": [
    "%matplotlib inline\n",
    "import matplotlib\n",
    "import matplotlib.pyplot as plt\n",
    "import numpy as np\n",
    "import scipy\n",
    "import scipy.signal\n",
    "import corner"
   ]
  },
  {
   "cell_type": "markdown",
   "id": "bb2d366d",
   "metadata": {},
   "source": [
    "## First let's make some model data to fit"
   ]
  },
  {
   "cell_type": "markdown",
   "id": "17d0ea1a",
   "metadata": {},
   "source": [
    "Let's just make data from a straight line $\\textit{but}$ we are going to make it such that there is some $\\textit{intrinsic scatter}$ such that the uncertainties that are reported do not reflect the true variation in the data. Essentially there is additional variance in the data.\n",
    "\n",
    "We will use this notation:\n",
    "\n",
    "$y = m x + b$\n",
    "\n",
    "$y_{err}$ = errors on y but these are underestimated by some amount\n",
    "\n",
    "$f$ = some fractional amount that the errors are underestimated by"
   ]
  },
  {
   "cell_type": "code",
   "execution_count": 3,
   "id": "991ccb5a",
   "metadata": {},
   "outputs": [
    {
     "data": {
      "text/plain": [
       "Text(0, 0.5, 'y')"
      ]
     },
     "execution_count": 3,
     "metadata": {},
     "output_type": "execute_result"
    },
    {
     "data": {
      "image/png": "[encoded data removed]",
      "text/plain": [
       "<Figure size 640x480 with 1 Axes>"
      ]
     },
     "metadata": {},
     "output_type": "display_data"
    }
   ],
   "source": [
    "# Setting a seed - what does this do?\n",
    "np.random.seed(123)\n",
    "\n",
    "# The \"true\" parameters.\n",
    "m_true = -0.9\n",
    "b_true = 4.0\n",
    "f_true = 0.9 \n",
    "\n",
    "# Generate some synthetic data from the model.\n",
    "N = 35 # number of data points to generate\n",
    "x = np.sort(10 * np.random.rand(N)) # randomly generate x\n",
    "yerr = 0.1 + 0.5 * np.random.rand(N) # randomy generate yerr\n",
    "y = m_true * x + b_true # y = m*x + b\n",
    "y += np.abs(f_true * y) * np.random.randn(N)\n",
    "y += yerr * np.random.randn(N)\n",
    "\n",
    "# plotting this data\n",
    "plt.errorbar(x, y, yerr=yerr, fmt=\".k\", capsize=3,label='Our data')\n",
    "\n",
    "# plotting the model we drew the mock data from\n",
    "x0 = np.linspace(0, 10, 500)\n",
    "plt.plot(x0, m_true * x0 + b_true, \"r--\", alpha=1.0, lw=1, label='True model')\n",
    "\n",
    "# Always remember to apropriately label your plots!\n",
    "plt.legend()\n",
    "plt.xlim(0, 10)\n",
    "plt.xticks(fontsize=15)\n",
    "plt.yticks(fontsize=15)\n",
    "plt.xlabel(\"x\",fontsize=20)\n",
    "plt.ylabel(\"y\",fontsize=20)"
   ]
  },
  {
   "cell_type": "markdown",
   "id": "55cc4cd4",
   "metadata": {},
   "source": [
    "Above we see our data and model that allowed us to generate our mock data.\n",
    "\n",
    "$\\textbf{Note: Always remember to label all your plots correctly (readable x and y labels, readable tick marks, labels if needed)}$"
   ]
  },
  {
   "cell_type": "markdown",
   "id": "e0a3c3dc",
   "metadata": {},
   "source": [
    "Let's fit our data with a model. Let's assume this is a good model and use MC to find the uncertainty on the parameters.\n",
    " $$y = mx+b$$"
   ]
  },
  {
   "cell_type": "markdown",
   "id": "2d418659",
   "metadata": {},
   "source": [
    "Write a function model() for our model above:"
   ]
  },
  {
   "cell_type": "code",
   "execution_count": null,
   "id": "7c64e1be",
   "metadata": {},
   "outputs": [],
   "source": []
  },
  {
   "cell_type": "markdown",
   "id": "a75dfb8b",
   "metadata": {},
   "source": [
    "We will use scipy.optimize.curvefit to find a best fit of this model to the data. \n",
    "\n",
    "Import the relevant command here:"
   ]
  },
  {
   "cell_type": "code",
   "execution_count": null,
   "id": "44d64043",
   "metadata": {},
   "outputs": [],
   "source": []
  },
  {
   "cell_type": "markdown",
   "id": "366dff84",
   "metadata": {},
   "source": [
    "Fit the data using curve_fit:"
   ]
  },
  {
   "cell_type": "code",
   "execution_count": null,
   "id": "8ce1c799",
   "metadata": {},
   "outputs": [],
   "source": []
  },
  {
   "cell_type": "markdown",
   "id": "9f13546b",
   "metadata": {},
   "source": [
    "Plot\n",
    "1. Our data\n",
    "2. The True model\n",
    "3. The Best fit model from curvefit\n",
    "Make sure the plot is correctly labeled and readable"
   ]
  },
  {
   "cell_type": "code",
   "execution_count": null,
   "id": "d4732c18",
   "metadata": {},
   "outputs": [],
   "source": []
  },
  {
   "cell_type": "markdown",
   "id": "dba32ea0",
   "metadata": {},
   "source": [
    "Great! So the best fit model looks pretty good $\\textit{but}$ what $\\textit{range}$ of parameters would be a good fit to this data?"
   ]
  },
  {
   "cell_type": "markdown",
   "id": "15f05090",
   "metadata": {},
   "source": [
    "We will assess this by simulating the dataset many times (a montecarlo method):\n",
    "   \n",
    "   1. Generate a large number of datasets - nTrials=5000\n",
    "   2. Refit these to find the range of parameters that fit our data\n",
    "    \n",
    "You should end up with an array of the fit parameters which has the dimensions (nTrials, 2) as you have 2 parameters in your model (m and b)."
   ]
  },
  {
   "cell_type": "code",
   "execution_count": 4,
   "id": "071a4256",
   "metadata": {},
   "outputs": [
    {
     "ename": "SyntaxError",
     "evalue": "invalid syntax (2959444127.py, line 1)",
     "output_type": "error",
     "traceback": [
      "\u001b[0;36m  Input \u001b[0;32mIn [4]\u001b[0;36m\u001b[0m\n\u001b[0;31m    nTrials =\u001b[0m\n\u001b[0m              ^\u001b[0m\n\u001b[0;31mSyntaxError\u001b[0m\u001b[0;31m:\u001b[0m invalid syntax\n"
     ]
    }
   ],
   "source": [
    "nTrials = "
   ]
  },
  {
   "cell_type": "code",
   "execution_count": 5,
   "id": "3f39acd4",
   "metadata": {},
   "outputs": [
    {
     "ename": "IndentationError",
     "evalue": "expected an indented block (1027857745.py, line 10)",
     "output_type": "error",
     "traceback": [
      "\u001b[0;36m  Input \u001b[0;32mIn [5]\u001b[0;36m\u001b[0m\n\u001b[0;31m    \u001b[0m\n\u001b[0m    ^\u001b[0m\n\u001b[0;31mIndentationError\u001b[0m\u001b[0;31m:\u001b[0m expected an indented block\n"
     ]
    }
   ],
   "source": [
    "aFitPars = np.array([]) # array of fit parameters\n",
    "initial_guess = [-1.0,3.0]\n",
    "for iTrial in range(nTrials):\n",
    "    \n",
    "    # Generate the data\n",
    "    # Fit the model\n",
    "    # Store the parameters\n",
    "    \n",
    "    \n",
    "        "
   ]
  },
  {
   "cell_type": "markdown",
   "id": "1c559746",
   "metadata": {},
   "source": [
    "Make sure the shape of aFitPars is (nTrials,2)"
   ]
  },
  {
   "cell_type": "code",
   "execution_count": null,
   "id": "6a22d315",
   "metadata": {},
   "outputs": [],
   "source": []
  },
  {
   "cell_type": "markdown",
   "id": "50b0d9eb",
   "metadata": {},
   "source": [
    "What are the median and std dievation of the parameters that you have fit?"
   ]
  },
  {
   "cell_type": "code",
   "execution_count": null,
   "id": "efb56a58",
   "metadata": {},
   "outputs": [],
   "source": []
  },
  {
   "cell_type": "markdown",
   "id": "20f64e0a",
   "metadata": {},
   "source": [
    "Plot a histogram of each parameter, as two subplots inside a plot hint use plt.subplot(), and draw a line at the $16^{th}$, $50^{th}$ and $84^{th}$ percentile. What is special about these values?"
   ]
  },
  {
   "cell_type": "code",
   "execution_count": null,
   "id": "ad435b0e",
   "metadata": {},
   "outputs": [],
   "source": []
  },
  {
   "cell_type": "markdown",
   "id": "b595fbc7",
   "metadata": {},
   "source": [
    "What would you report as the best fit parameter value and it's 1 $\\sigma$ uncertainties?"
   ]
  },
  {
   "cell_type": "code",
   "execution_count": null,
   "id": "64c69a3f",
   "metadata": {},
   "outputs": [],
   "source": []
  },
  {
   "cell_type": "markdown",
   "id": "40b066a6",
   "metadata": {},
   "source": [
    "Now the histograms of the distibution of parameters which fit the data well both look pretty gaussian except for some long tails in their 1D distributions. How do they vary with each other? Do the parameters depend on each other?\n",
    "\n",
    "Plot these m's against these b's and see if they have any correlation with each other - that is, if they $\\textit{co-vary}$"
   ]
  },
  {
   "cell_type": "code",
   "execution_count": null,
   "id": "28be1029",
   "metadata": {},
   "outputs": [],
   "source": []
  },
  {
   "cell_type": "markdown",
   "id": "008392da",
   "metadata": {},
   "source": [
    "There is definitely some correlation in the parameter values. A high value of a corresponds to a lower value of b. We sometimes show these two plots (the histogram and scatter plot) as a $\\textit{corner plot}$. An example is provided with the code below.\n",
    "\n",
    "Read up on the help for this corner plot - what does the 'levels' command do?"
   ]
  },
  {
   "cell_type": "code",
   "execution_count": 6,
   "id": "ff4e897b",
   "metadata": {},
   "outputs": [
    {
     "ename": "NameError",
     "evalue": "name 'aFitPars' is not defined",
     "output_type": "error",
     "traceback": [
      "\u001b[0;31m---------------------------------------------------------------------------\u001b[0m",
      "\u001b[0;31mNameError\u001b[0m                                 Traceback (most recent call last)",
      "Input \u001b[0;32mIn [6]\u001b[0m, in \u001b[0;36m<module>\u001b[0;34m\u001b[0m\n\u001b[0;32m----> 1\u001b[0m fig\u001b[38;5;241m=\u001b[39mcorner\u001b[38;5;241m.\u001b[39mcorner(\u001b[43maFitPars\u001b[49m, labels\u001b[38;5;241m=\u001b[39m[\u001b[38;5;124mr\u001b[39m\u001b[38;5;124m\"\u001b[39m\u001b[38;5;124m$a$\u001b[39m\u001b[38;5;124m\"\u001b[39m, \u001b[38;5;124mr\u001b[39m\u001b[38;5;124m\"\u001b[39m\u001b[38;5;124m$b$\u001b[39m\u001b[38;5;124m\"\u001b[39m], quantiles\u001b[38;5;241m=\u001b[39m[\u001b[38;5;241m0.16\u001b[39m, \u001b[38;5;241m0.5\u001b[39m, \u001b[38;5;241m0.84\u001b[39m], levels\u001b[38;5;241m=\u001b[39m(\u001b[38;5;241m1\u001b[39m\u001b[38;5;241m-\u001b[39mnp\u001b[38;5;241m.\u001b[39mexp(\u001b[38;5;241m-\u001b[39m\u001b[38;5;241m0.5\u001b[39m),), show_titles\u001b[38;5;241m=\u001b[39m\u001b[38;5;28;01mTrue\u001b[39;00m, title_kwargs\u001b[38;5;241m=\u001b[39m{\u001b[38;5;124m\"\u001b[39m\u001b[38;5;124mfontsize\u001b[39m\u001b[38;5;124m\"\u001b[39m: \u001b[38;5;241m15\u001b[39m}, smooth\u001b[38;5;241m=\u001b[39m\u001b[38;5;28;01mTrue\u001b[39;00m)\n",
      "\u001b[0;31mNameError\u001b[0m: name 'aFitPars' is not defined"
     ]
    }
   ],
   "source": [
    "fig=corner.corner(aFitPars, labels=[r\"$a$\", r\"$b$\"], quantiles=[0.16, 0.5, 0.84], levels=(1-np.exp(-0.5),), show_titles=True, title_kwargs={\"fontsize\": 15}, smooth=True)"
   ]
  },
  {
   "cell_type": "markdown",
   "id": "7f71227f",
   "metadata": {},
   "source": [
    "So monte carlo methods are basically just a means of simulating the distribution of parameters in order to gain an empirical understanding of the properties of that distribution such as understanding the summary statistics like the 'most common' value (the median), or the 'expectation' (the mean) or the spread of the data (the variance which is equal to the std dievation squared).\n",
    "\n",
    "Let's think about this in another way:\n",
    "\n",
    "The expectation of f(x )can be written\n",
    "$$E[x]=\\int x f(x) dx$$\n",
    "This sort of integrale can be difficult to solve analyticaly. But if we can draw samples of $x$ then we have:\n",
    "$$E[x]\\approx \\frac{1}{N} \\sum f(x)$$\n",
    "Which is a lot easier especially with a computer! The more samples we draw the closer we get to the real result."
   ]
  },
  {
   "cell_type": "code",
   "execution_count": null,
   "id": "12d3031a",
   "metadata": {},
   "outputs": [],
   "source": []
  }
 ],
 "metadata": {
  "kernelspec": {
   "display_name": "Python 3 (ipykernel)",
   "language": "python",
   "name": "python3"
  },
  "language_info": {
   "codemirror_mode": {
    "name": "ipython",
    "version": 3
   },
   "file_extension": ".py",
   "mimetype": "text/x-python",
   "name": "python",
   "nbconvert_exporter": "python",
   "pygments_lexer": "ipython3",
   "version": "3.9.7"
  }
 },
 "nbformat": 4,
 "nbformat_minor": 5
}
