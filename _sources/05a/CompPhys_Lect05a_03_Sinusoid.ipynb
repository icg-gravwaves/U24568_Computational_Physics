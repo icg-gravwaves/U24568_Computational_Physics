{
 "cells": [
  {
   "cell_type": "markdown",
   "id": "9eb54d1e",
   "metadata": {},
   "source": [
    "# The Sinusoid"
   ]
  },
  {
   "cell_type": "markdown",
   "id": "a4adda7a",
   "metadata": {},
   "source": [
    "Now let's try to get a sinusoid. We can't do that with a single derivative -- we need a second-order equation. It looks like\n",
    "$$ \\frac{d^2 y}{d t^2} = - \\omega^2 y$$\n",
    "But odeint doesn't say anything about second derivatives. How are we supposed to solve this?\n",
    "\n",
    "The trick is, we're allowed to have many variables. So let's define a new variable\n",
    "$$v_y = \\frac{d y}{d t}$$\n",
    "\n",
    "If we take another derivative, we get:\n",
    "$$\\frac{d v_y}{d t} = \\frac{d^2 y}{d t}$$\n",
    "\n",
    "Now we can re-write the above equation as two pieces:\n",
    "$$\\begin{align}\n",
    "\\frac{d v_y}{d t} &= -\\omega^2 y \\\\\n",
    "\\frac{d y}{d t} &= v_y\n",
    "\\end{align}$$\n",
    "\n",
    "This trick is used *very* often, anytime there are second derivatives (or higher). We've gone from one second-order equation to two first-order equations. Our new variable is the velocity.\n",
    "\n",
    "The main change is in the derivative function. The first argument is now an array of `[y, v_y]`. You can think of this array as 'the state of the world'. It's not just the position, but also the velocity. The function needs to look at that state, and calculate the derivative of each thing. The derivative of $y$ is $v_y$ by definition."
   ]
  },
  {
   "cell_type": "code",
   "execution_count": 1,
   "id": "cb78c70b",
   "metadata": {},
   "outputs": [],
   "source": [
    "%matplotlib inline\n",
    "import matplotlib.pyplot as plt\n",
    "import numpy as np\n",
    "# A new import - scipy's basic ODE integration function\n",
    "from scipy.integrate import odeint"
   ]
  },
  {
   "cell_type": "code",
   "execution_count": 2,
   "id": "aefa290c",
   "metadata": {},
   "outputs": [],
   "source": [
    "times2 = np.linspace(0.,200.,10000)"
   ]
  },
  {
   "cell_type": "markdown",
   "id": "470927f8",
   "metadata": {},
   "source": [
    "## Exercise\n",
    "\n",
    "Define the derivative function, solve, and plot. You can set $\\omega = 1$ for now."
   ]
  },
  {
   "cell_type": "code",
   "execution_count": 3,
   "id": "b68bb631",
   "metadata": {},
   "outputs": [],
   "source": [
    "# The derivative function become\n",
    "def deriv2(state, t):\n",
    "    y, vy = state # Split the state into named variables for convenience\n",
    "    # Edit: Calculate the derivatives\n",
    "    return (dydt, dvydt) # Return a tuple of the derivatives."
   ]
  },
  {
   "cell_type": "code",
   "execution_count": 4,
   "id": "541b71d1",
   "metadata": {},
   "outputs": [],
   "source": [
    "y_init2 = (1., 0.) # Starting value for y, vy at t = 0"
   ]
  },
  {
   "cell_type": "code",
   "execution_count": 6,
   "id": "83bc2175",
   "metadata": {},
   "outputs": [
    {
     "ename": "NameError",
     "evalue": "name 'dydt' is not defined",
     "output_type": "error",
     "traceback": [
      "\u001b[0;31m---------------------------------------------------------------------------\u001b[0m",
      "\u001b[0;31mNameError\u001b[0m                                 Traceback (most recent call last)",
      "Input \u001b[0;32mIn [6]\u001b[0m, in \u001b[0;36m<module>\u001b[0;34m\u001b[0m\n\u001b[0;32m----> 1\u001b[0m yarr2 \u001b[38;5;241m=\u001b[39m \u001b[43modeint\u001b[49m\u001b[43m(\u001b[49m\u001b[43mderiv2\u001b[49m\u001b[43m,\u001b[49m\u001b[43m \u001b[49m\u001b[43my_init2\u001b[49m\u001b[43m,\u001b[49m\u001b[43m \u001b[49m\u001b[43mtimes2\u001b[49m\u001b[43m)\u001b[49m\n\u001b[1;32m      2\u001b[0m \u001b[38;5;28mprint\u001b[39m(\u001b[38;5;124m\"\u001b[39m\u001b[38;5;124mThe output has shape\u001b[39m\u001b[38;5;124m\"\u001b[39m, yarr2\u001b[38;5;241m.\u001b[39mshape)\n",
      "File \u001b[0;32m/opt/homebrew/Caskroom/miniconda/base/envs/pycbc_test/lib/python3.9/site-packages/scipy/integrate/_odepack_py.py:242\u001b[0m, in \u001b[0;36modeint\u001b[0;34m(func, y0, t, args, Dfun, col_deriv, full_output, ml, mu, rtol, atol, tcrit, h0, hmax, hmin, ixpr, mxstep, mxhnil, mxordn, mxords, printmessg, tfirst)\u001b[0m\n\u001b[1;32m    240\u001b[0m t \u001b[38;5;241m=\u001b[39m copy(t)\n\u001b[1;32m    241\u001b[0m y0 \u001b[38;5;241m=\u001b[39m copy(y0)\n\u001b[0;32m--> 242\u001b[0m output \u001b[38;5;241m=\u001b[39m \u001b[43m_odepack\u001b[49m\u001b[38;5;241;43m.\u001b[39;49m\u001b[43modeint\u001b[49m\u001b[43m(\u001b[49m\u001b[43mfunc\u001b[49m\u001b[43m,\u001b[49m\u001b[43m \u001b[49m\u001b[43my0\u001b[49m\u001b[43m,\u001b[49m\u001b[43m \u001b[49m\u001b[43mt\u001b[49m\u001b[43m,\u001b[49m\u001b[43m \u001b[49m\u001b[43margs\u001b[49m\u001b[43m,\u001b[49m\u001b[43m \u001b[49m\u001b[43mDfun\u001b[49m\u001b[43m,\u001b[49m\u001b[43m \u001b[49m\u001b[43mcol_deriv\u001b[49m\u001b[43m,\u001b[49m\u001b[43m \u001b[49m\u001b[43mml\u001b[49m\u001b[43m,\u001b[49m\u001b[43m \u001b[49m\u001b[43mmu\u001b[49m\u001b[43m,\u001b[49m\n\u001b[1;32m    243\u001b[0m \u001b[43m                         \u001b[49m\u001b[43mfull_output\u001b[49m\u001b[43m,\u001b[49m\u001b[43m \u001b[49m\u001b[43mrtol\u001b[49m\u001b[43m,\u001b[49m\u001b[43m \u001b[49m\u001b[43matol\u001b[49m\u001b[43m,\u001b[49m\u001b[43m \u001b[49m\u001b[43mtcrit\u001b[49m\u001b[43m,\u001b[49m\u001b[43m \u001b[49m\u001b[43mh0\u001b[49m\u001b[43m,\u001b[49m\u001b[43m \u001b[49m\u001b[43mhmax\u001b[49m\u001b[43m,\u001b[49m\u001b[43m \u001b[49m\u001b[43mhmin\u001b[49m\u001b[43m,\u001b[49m\n\u001b[1;32m    244\u001b[0m \u001b[43m                         \u001b[49m\u001b[43mixpr\u001b[49m\u001b[43m,\u001b[49m\u001b[43m \u001b[49m\u001b[43mmxstep\u001b[49m\u001b[43m,\u001b[49m\u001b[43m \u001b[49m\u001b[43mmxhnil\u001b[49m\u001b[43m,\u001b[49m\u001b[43m \u001b[49m\u001b[43mmxordn\u001b[49m\u001b[43m,\u001b[49m\u001b[43m \u001b[49m\u001b[43mmxords\u001b[49m\u001b[43m,\u001b[49m\n\u001b[1;32m    245\u001b[0m \u001b[43m                         \u001b[49m\u001b[38;5;28;43mint\u001b[39;49m\u001b[43m(\u001b[49m\u001b[38;5;28;43mbool\u001b[39;49m\u001b[43m(\u001b[49m\u001b[43mtfirst\u001b[49m\u001b[43m)\u001b[49m\u001b[43m)\u001b[49m\u001b[43m)\u001b[49m\n\u001b[1;32m    246\u001b[0m \u001b[38;5;28;01mif\u001b[39;00m output[\u001b[38;5;241m-\u001b[39m\u001b[38;5;241m1\u001b[39m] \u001b[38;5;241m<\u001b[39m \u001b[38;5;241m0\u001b[39m:\n\u001b[1;32m    247\u001b[0m     warning_msg \u001b[38;5;241m=\u001b[39m _msgs[output[\u001b[38;5;241m-\u001b[39m\u001b[38;5;241m1\u001b[39m]] \u001b[38;5;241m+\u001b[39m \u001b[38;5;124m\"\u001b[39m\u001b[38;5;124m Run with full_output = 1 to get quantitative information.\u001b[39m\u001b[38;5;124m\"\u001b[39m\n",
      "Input \u001b[0;32mIn [3]\u001b[0m, in \u001b[0;36mderiv2\u001b[0;34m(state, t)\u001b[0m\n\u001b[1;32m      3\u001b[0m y, vy \u001b[38;5;241m=\u001b[39m state \u001b[38;5;66;03m# Split the state into named variables for convenience\u001b[39;00m\n\u001b[1;32m      4\u001b[0m \u001b[38;5;66;03m# Edit: Calculate the derivatives\u001b[39;00m\n\u001b[0;32m----> 5\u001b[0m \u001b[38;5;28;01mreturn\u001b[39;00m (\u001b[43mdydt\u001b[49m, dvydt)\n",
      "\u001b[0;31mNameError\u001b[0m: name 'dydt' is not defined"
     ]
    }
   ],
   "source": [
    "yarr2 = odeint(deriv2, y_init2, times2)\n",
    "print(\"The output has shape\", yarr2.shape)"
   ]
  },
  {
   "cell_type": "markdown",
   "id": "59500006",
   "metadata": {},
   "source": [
    "The result now has two variables, each one is its own column. Each time is a row. We can use numpy's multi-dimensional slicing to access just the first variable by doing\n",
    "\n",
    "yarr2\\[:, 0\\]\n",
    "\n",
    "In the first slot, we put the slice operator ':' all by itself. This just means take all the data in that dimension. Then we specify that we want column zero, which is the first variable since Python counts from zero."
   ]
  },
  {
   "cell_type": "code",
   "execution_count": 7,
   "id": "d293a0f7",
   "metadata": {},
   "outputs": [
    {
     "ename": "NameError",
     "evalue": "name 'yarr2' is not defined",
     "output_type": "error",
     "traceback": [
      "\u001b[0;31m---------------------------------------------------------------------------\u001b[0m",
      "\u001b[0;31mNameError\u001b[0m                                 Traceback (most recent call last)",
      "Input \u001b[0;32mIn [7]\u001b[0m, in \u001b[0;36m<module>\u001b[0;34m\u001b[0m\n\u001b[1;32m      1\u001b[0m plt\u001b[38;5;241m.\u001b[39mfigure(figsize\u001b[38;5;241m=\u001b[39m(\u001b[38;5;241m8\u001b[39m,\u001b[38;5;241m6\u001b[39m))\n\u001b[0;32m----> 2\u001b[0m plt\u001b[38;5;241m.\u001b[39mplot(times2, \u001b[43myarr2\u001b[49m[:,\u001b[38;5;241m0\u001b[39m], \u001b[38;5;124m'\u001b[39m\u001b[38;5;124mr:\u001b[39m\u001b[38;5;124m'\u001b[39m)\n\u001b[1;32m      3\u001b[0m plt\u001b[38;5;241m.\u001b[39mxlabel(\u001b[38;5;124m'\u001b[39m\u001b[38;5;124mx\u001b[39m\u001b[38;5;124m'\u001b[39m)\n",
      "\u001b[0;31mNameError\u001b[0m: name 'yarr2' is not defined"
     ]
    },
    {
     "data": {
      "text/plain": [
       "<Figure size 800x600 with 0 Axes>"
      ]
     },
     "metadata": {},
     "output_type": "display_data"
    }
   ],
   "source": [
    "plt.figure(figsize=(8,6))\n",
    "plt.plot(times2, yarr2[:,0], 'r:')\n",
    "plt.xlabel('x')"
   ]
  },
  {
   "cell_type": "markdown",
   "id": "4e621312",
   "metadata": {},
   "source": [
    "## Exercise\n",
    "\n",
    "One fancy thing we can do is a phase plot. Instead of $y$ versus $t$, plot $y$ versus $v_y$. This is often useful for dynamic and chaotic systems. Make this plot."
   ]
  },
  {
   "cell_type": "code",
   "execution_count": 8,
   "id": "39045d78",
   "metadata": {},
   "outputs": [],
   "source": [
    "# Answer here"
   ]
  },
  {
   "cell_type": "markdown",
   "id": "95270fe6",
   "metadata": {},
   "source": [
    "## Exercise\n",
    "\n",
    "What do you change to double the amplitude?"
   ]
  },
  {
   "cell_type": "code",
   "execution_count": 9,
   "id": "aa9b914a",
   "metadata": {},
   "outputs": [],
   "source": [
    "# Answer here"
   ]
  },
  {
   "cell_type": "markdown",
   "id": "20499c51",
   "metadata": {},
   "source": [
    "## Exercise\n",
    "\n",
    "Can you change the result in y from a cosine to a sine, only by modifying the initial conditions? Hint: A sine starts at zero, but it has some initial slope. Once again, you're changing the input to the solver."
   ]
  },
  {
   "cell_type": "code",
   "execution_count": 10,
   "id": "9b47c473",
   "metadata": {},
   "outputs": [],
   "source": [
    "# Answer here"
   ]
  },
  {
   "cell_type": "markdown",
   "id": "bb656aff",
   "metadata": {},
   "source": [
    "## Exercise\n",
    "\n",
    "Can you change the frequency in the same way? If not, how do you change it?"
   ]
  },
  {
   "cell_type": "code",
   "execution_count": 11,
   "id": "598a5da7",
   "metadata": {},
   "outputs": [],
   "source": [
    "# Answer here"
   ]
  },
  {
   "cell_type": "markdown",
   "id": "3bfe2cff",
   "metadata": {},
   "source": [
    "## Exercise\n",
    "\n",
    "Copying the example from above, can you modify the equation to add damping? The result should be a decaying sinusoid."
   ]
  },
  {
   "cell_type": "code",
   "execution_count": 12,
   "id": "d37cc15a",
   "metadata": {},
   "outputs": [],
   "source": [
    "# Answer here"
   ]
  },
  {
   "cell_type": "code",
   "execution_count": null,
   "id": "29df02c2",
   "metadata": {},
   "outputs": [],
   "source": []
  }
 ],
 "metadata": {
  "kernelspec": {
   "display_name": "Python 3 (ipykernel)",
   "language": "python",
   "name": "python3"
  },
  "language_info": {
   "codemirror_mode": {
    "name": "ipython",
    "version": 3
   },
   "file_extension": ".py",
   "mimetype": "text/x-python",
   "name": "python",
   "nbconvert_exporter": "python",
   "pygments_lexer": "ipython3",
   "version": "3.9.7"
  }
 },
 "nbformat": 4,
 "nbformat_minor": 5
}
