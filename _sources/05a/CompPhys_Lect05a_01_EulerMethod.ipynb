{
 "cells": [
  {
   "cell_type": "markdown",
   "id": "2888bc85",
   "metadata": {},
   "source": [
    "# The Euler Method\n",
    "\n",
    "A first-order ordinary differential equation can be written as\n",
    "$$\\frac{d y}{dt} = g(y, t)$$\n",
    "The time derivative can depend on the value of $y(t)$ as well as on $t$.\n",
    "\n",
    "To solve a differential equation on a computer, we use a discrete approximation to the derivative\n",
    "$$\\frac{d y}{dt} = \\frac{y_{i+1} - y_{i}}{t_{i+1} - t_{i}}$$\n",
    "where we're evaluating $y$ at discrete *time steps* $t_{i}$.\n",
    "\n",
    "We'll start with the simplest method for solving a differential equation, the Euler method (which is what we used last year). After that, we will use a SciPy package which is much more sophisticated and accurate.\n",
    "\n",
    "We'll work with equal time steps given by $t_{i+1} - t_{i} = \\tau$. The Euler method makes a simple approximation:\n",
    "\n",
    "$$y_{i+1} = y_{i} + g_{i} \\tau + O(\\tau^2)$$\n",
    "\n",
    "The last term just means that we've ignored any terms of order $\\tau^2$ or higher. The bigger $\\tau$ is, the bigger the error will be.\n",
    "\n",
    "We'll see how this works by solving the equation\n",
    "\n",
    "$$\\frac{d y}{dt} = - y ~,$$\n",
    "\n",
    "which has the solution $y(t) = A~e^{-t}$."
   ]
  },
  {
   "cell_type": "code",
   "execution_count": 2,
   "id": "666b68d3",
   "metadata": {},
   "outputs": [],
   "source": [
    "%matplotlib inline\n",
    "import matplotlib.pyplot as plt\n",
    "import numpy as np\n",
    "# A new import - scipy's basic ODE integration function\n",
    "from scipy.integrate import odeint"
   ]
  },
  {
   "cell_type": "markdown",
   "id": "9fe4caa1",
   "metadata": {},
   "source": [
    "We'll start by defining variables for the time step $\\tau$, the starting time $t_0$ and the desired final time $t_f$. We also have an initial condition $y_i$. The initial condition is the value of $y$ at the starting time, i.e. $y(t_0)$."
   ]
  },
  {
   "cell_type": "code",
   "execution_count": 3,
   "id": "004596c0",
   "metadata": {},
   "outputs": [],
   "source": [
    "tau = 0.1\n",
    "yi = 1.\n",
    "t0 = 0\n",
    "tf = 10."
   ]
  },
  {
   "cell_type": "markdown",
   "id": "95d38ab9",
   "metadata": {},
   "source": [
    "Now we do the following. At the start, record these values of $t$ and $y$ in a list. Then\n",
    " 1. Compute the derivative at this value of $t$ and $y$.\n",
    " 1. Increase $t$ by $\\tau$, and $y$ according to the equations above for $y_{i+1}$.\n",
    " 1. Record the new values, and take another tep unless you've reached the final desired time $t_f$.\n",
    "At the end, it's convenient to convert the result to a numpy array for ease of plotting."
   ]
  },
  {
   "cell_type": "markdown",
   "id": "c05b4dfa",
   "metadata": {},
   "source": [
    "## Exercise\n",
    "\n",
    "Write the code described above."
   ]
  },
  {
   "cell_type": "code",
   "execution_count": 4,
   "id": "48e916a4",
   "metadata": {},
   "outputs": [],
   "source": [
    "# Answer here"
   ]
  },
  {
   "cell_type": "markdown",
   "id": "7870a22d",
   "metadata": {},
   "source": [
    "## Exercise\n",
    "\n",
    "Make your code output $t$ and $y$ as the two columns in a numpy array called `result1`. There should be two lines in the plot below which agree - the black expected plot, and the green dots of the Euler method solution. How well do they agree?"
   ]
  },
  {
   "cell_type": "code",
   "execution_count": 5,
   "id": "a3c482fb",
   "metadata": {},
   "outputs": [],
   "source": [
    "# Answer here"
   ]
  },
  {
   "cell_type": "markdown",
   "id": "fb41ff0a",
   "metadata": {},
   "source": [
    "## Exercise \n",
    "\n",
    "Turn this code into a function which takes tau and returns the `result` data structure. Also create a function which takes the result and makes a plot like the one above."
   ]
  },
  {
   "cell_type": "code",
   "execution_count": 6,
   "id": "81015d4e",
   "metadata": {},
   "outputs": [],
   "source": [
    "# Answer here"
   ]
  },
  {
   "cell_type": "markdown",
   "id": "238ce72d",
   "metadata": {},
   "source": [
    "## Exercise\n",
    "\n",
    "Make the time step above $\\tau = 1.5$. What happens?"
   ]
  },
  {
   "cell_type": "code",
   "execution_count": 7,
   "id": "19a31fcd",
   "metadata": {},
   "outputs": [],
   "source": [
    "# Answer here"
   ]
  },
  {
   "cell_type": "markdown",
   "id": "e26c7aec",
   "metadata": {},
   "source": [
    "## Exercise\n",
    "\n",
    "Now vary $\\tau$ and see what it takes to make the solution quite accurate."
   ]
  },
  {
   "cell_type": "code",
   "execution_count": null,
   "id": "5a249dfa",
   "metadata": {},
   "outputs": [],
   "source": []
  }
 ],
 "metadata": {
  "kernelspec": {
   "display_name": "Python 3 (ipykernel)",
   "language": "python",
   "name": "python3"
  },
  "language_info": {
   "codemirror_mode": {
    "name": "ipython",
    "version": 3
   },
   "file_extension": ".py",
   "mimetype": "text/x-python",
   "name": "python",
   "nbconvert_exporter": "python",
   "pygments_lexer": "ipython3",
   "version": "3.9.7"
  }
 },
 "nbformat": 4,
 "nbformat_minor": 5
}
