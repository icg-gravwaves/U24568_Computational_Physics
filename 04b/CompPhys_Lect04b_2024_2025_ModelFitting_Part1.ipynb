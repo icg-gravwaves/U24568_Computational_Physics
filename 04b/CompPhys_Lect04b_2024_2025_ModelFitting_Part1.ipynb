{
 "cells": [
  {
   "cell_type": "markdown",
   "metadata": {
    "id": "QOuUS3TWMcXz"
   },
   "source": [
    "# Determining the Hubble Constant\n",
    "\n",
    "The Hubble constant can be calculated via the following formula:\n",
    "\n",
    "$H_{0} = \\frac{z c}{d}$\n",
    "\n",
    "where z = redshift, c = speed of light ($3\\times10^5$ kms$^{-1}$) and d = distance (Mpc). Remember $H_{0}$ typically has units of kms$^{-1}$Mpc$^{-1}$.\n",
    "\n",
    "Below you have been given data from an astronomical survey which has found the luminosity distance and redshift to 16 galaxies. It is now our job to determine the Hubble Constant and understand the confidence we have in our results."
   ]
  },
  {
   "cell_type": "code",
   "execution_count": null,
   "metadata": {
    "id": "UIX7YdEgf4tk"
   },
   "outputs": [],
   "source": [
    "# Packages to import\n",
    "import matplotlib.pyplot as plt\n",
    "import numpy as np\n",
    "from scipy.optimize import curve_fit"
   ]
  },
  {
   "cell_type": "code",
   "execution_count": null,
   "metadata": {
    "id": "yuumDtRkPXOA"
   },
   "outputs": [],
   "source": [
    "# Distance and Redshift to 16 galaxies\n",
    "distance = np.array([77, 4, 10, 21, 45, 15, 17, 22, 70, 57, 62, 12, 6, 33, 29, 2], dtype = 'float') # in Mpc\n",
    "z = np.array([174.53, 9.07, 22.67, 47.60, 102.00, 34.00, 38.53, 49.87, 158.67, 129.20, 140.53, 27.20, 13.60, 74.80, 65.73, 4.53], dtype = 'float')*10**-4"
   ]
  },
  {
   "cell_type": "markdown",
   "metadata": {
    "id": "pWhBUUgdeg0I"
   },
   "source": [
    "**Exercise:** Let's add some noise to each dataset. Create two normal distributions with a mean of zero and standard deviation of 3. Then add this noise to each dataset."
   ]
  },
  {
   "cell_type": "code",
   "execution_count": null,
   "metadata": {
    "id": "zeVRsjoHeeLl"
   },
   "outputs": [],
   "source": [
    "# Answer here"
   ]
  },
  {
   "cell_type": "markdown",
   "metadata": {
    "id": "K4JwlwJg4bl6"
   },
   "source": [
    "##Look at the data to guess the model\n",
    "\n"
   ]
  },
  {
   "cell_type": "markdown",
   "metadata": {
    "id": "uC-9aXTvLSQ9"
   },
   "source": [
    "**Exercise**: Plot the luminosity distance versus the redshift data for all of the 16 galaxies to get an idea of what the data look like. Can you think of a model that should fit this data?"
   ]
  },
  {
   "cell_type": "code",
   "execution_count": 1,
   "metadata": {
    "executionInfo": {
     "elapsed": 229,
     "status": "ok",
     "timestamp": 1738589745303,
     "user": {
      "displayName": "Laura Nuttall",
      "userId": "06326247154476711409"
     },
     "user_tz": 0
    },
    "id": "0cb45VHw4sTC"
   },
   "outputs": [],
   "source": [
    "# Answer here"
   ]
  },
  {
   "cell_type": "markdown",
   "metadata": {
    "id": "WIYOg8Xx6xYf"
   },
   "source": [
    "## Least squares regression\n",
    "\n",
    "Rather than drawing a best fit curve by eye we can use least squares regression to find a model which best describes the data by minimising the sum of the squares of the residuals on the curve. The residual refers to the difference between the observed value and the model value.\n",
    "\n",
    "### Linear Fit\n",
    "Given the problem above we can guess that a simple linear curve of the form $y = mx + c$ (where $m$ = gradient and $c$ = intercept) should describe this data well.\n"
   ]
  },
  {
   "cell_type": "markdown",
   "metadata": {
    "id": "LNPPJwr8K4sG"
   },
   "source": [
    "**Exercise**: Determine the gradient"
   ]
  },
  {
   "cell_type": "code",
   "execution_count": 2,
   "metadata": {
    "executionInfo": {
     "elapsed": 246,
     "status": "ok",
     "timestamp": 1738589751424,
     "user": {
      "displayName": "Laura Nuttall",
      "userId": "06326247154476711409"
     },
     "user_tz": 0
    },
    "id": "qvtru__mGZ3Z"
   },
   "outputs": [],
   "source": [
    "# Answer here"
   ]
  },
  {
   "cell_type": "markdown",
   "metadata": {
    "id": "H4zWSk4MLDD5"
   },
   "source": [
    "**Exercise**: Determine the intercept"
   ]
  },
  {
   "cell_type": "code",
   "execution_count": 3,
   "metadata": {
    "executionInfo": {
     "elapsed": 247,
     "status": "ok",
     "timestamp": 1738589755663,
     "user": {
      "displayName": "Laura Nuttall",
      "userId": "06326247154476711409"
     },
     "user_tz": 0
    },
    "id": "63MKFXqLLCrp"
   },
   "outputs": [],
   "source": [
    "# Answer here"
   ]
  },
  {
   "cell_type": "markdown",
   "metadata": {
    "id": "DUwBzHSFL3VL"
   },
   "source": [
    "**Exercise**: Make a plot showing both the data and the model. Confirm to yourself that the model fits the data well."
   ]
  },
  {
   "cell_type": "code",
   "execution_count": 4,
   "metadata": {
    "executionInfo": {
     "elapsed": 233,
     "status": "ok",
     "timestamp": 1738589760195,
     "user": {
      "displayName": "Laura Nuttall",
      "userId": "06326247154476711409"
     },
     "user_tz": 0
    },
    "id": "P9HJHSG94ywM"
   },
   "outputs": [],
   "source": [
    "# Answer here"
   ]
  },
  {
   "cell_type": "markdown",
   "metadata": {
    "id": "S0yj3uuKMFbJ"
   },
   "source": [
    "**Exercise**: Estimate the Hubble Constant (with units of kms$^{-1}$Mpc$^{-1}$) using your model."
   ]
  },
  {
   "cell_type": "code",
   "execution_count": 5,
   "metadata": {
    "executionInfo": {
     "elapsed": 238,
     "status": "ok",
     "timestamp": 1738589765891,
     "user": {
      "displayName": "Laura Nuttall",
      "userId": "06326247154476711409"
     },
     "user_tz": 0
    },
    "id": "v3SHmUgR5J1L"
   },
   "outputs": [],
   "source": [
    "# Answer here"
   ]
  },
  {
   "cell_type": "markdown",
   "metadata": {
    "id": "qdPYJnR2gMiI"
   },
   "source": [
    "**Exercise:** : Estimate an error on the Hubble constant"
   ]
  },
  {
   "cell_type": "code",
   "execution_count": 6,
   "metadata": {
    "executionInfo": {
     "elapsed": 226,
     "status": "ok",
     "timestamp": 1738589781626,
     "user": {
      "displayName": "Laura Nuttall",
      "userId": "06326247154476711409"
     },
     "user_tz": 0
    },
    "id": "eb1tPQxkM_ph"
   },
   "outputs": [],
   "source": [
    "# Answer here\n"
   ]
  },
  {
   "cell_type": "markdown",
   "metadata": {
    "id": "gVhKi32d7mu2"
   },
   "source": [
    "## Residuals and Coefficient of Determination\n",
    "\n",
    "We have already met the residual when determining the model via least squares regression. But now we want to understand how well our model fits the data. This is where we turn to the coefficient of determination, also known as R$^2$. It provides a measure of how well a model produces the observed outcomes. A value of R$^2$=1 means that the model represents the data perfectly, whereas a value of R$^2$=0 does not model the data at all. Typically if a model has an R$^2>$0.7  is considered a good fit to the data.\n",
    "\n",
    "R$^2$ is defined as:\n",
    "\n",
    "$R^2 = 1 - \\frac{SS_{res}}{SS_{tot}}$,\n",
    "\n",
    "where $SS_{res} = \\sum(y_i-f_i)^2$ and $SS_{tot} = \\sum(y - \\bar{y})^2$ for a data set y and model f.\n",
    "\n"
   ]
  },
  {
   "cell_type": "markdown",
   "metadata": {
    "id": "0oNuVZ55UanM"
   },
   "source": [
    "**Exercise:** Calculate the R$^2$ value for your model. Do you think the model fits the data well?"
   ]
  },
  {
   "cell_type": "code",
   "execution_count": 7,
   "metadata": {
    "executionInfo": {
     "elapsed": 184,
     "status": "ok",
     "timestamp": 1738589788517,
     "user": {
      "displayName": "Laura Nuttall",
      "userId": "06326247154476711409"
     },
     "user_tz": 0
    },
    "id": "PFNbsHq77pRT"
   },
   "outputs": [],
   "source": [
    "# Answer here"
   ]
  },
  {
   "cell_type": "markdown",
   "metadata": {
    "id": "xX32al-RWufb"
   },
   "source": [
    "\n",
    "## Scipy Optimize\n",
    "\n",
    "In the previous section we used least squares regression to determine the model which best represents the Hubble data. Now let's use the ```scipy_optimize``` package to do the same.\n",
    "\n",
    "We still need to have an idea of the model we want to fit to the data. But the package ```curve_fit``` finds the optimal parameters, in our case the gradient and intercept, for us.\n",
    "\n",
    "The syntax for curve_fit is typically:\n",
    "\n",
    "```params, covariance = curve_fit(model, x, y)```\n",
    "\n",
    "*  params are the optimal values for the parameters so that the sum of the squared residuals of model(x, *params) - y is minimized.\n",
    "* covariance is the estimated approximate covariance of params."
   ]
  },
  {
   "cell_type": "markdown",
   "metadata": {
    "id": "2mkg_gwWhfLh"
   },
   "source": [
    "**Exercise:** Write a function to determine a linear model"
   ]
  },
  {
   "cell_type": "code",
   "execution_count": 8,
   "metadata": {
    "executionInfo": {
     "elapsed": 220,
     "status": "ok",
     "timestamp": 1738589793019,
     "user": {
      "displayName": "Laura Nuttall",
      "userId": "06326247154476711409"
     },
     "user_tz": 0
    },
    "id": "Ll20fR61hev6"
   },
   "outputs": [],
   "source": [
    "# Answer here"
   ]
  },
  {
   "cell_type": "markdown",
   "metadata": {
    "id": "rzDwcBdlZdCB"
   },
   "source": [
    "**Exercise:** Use the ```curve_fit``` package to determine the gradient and intercept of the data"
   ]
  },
  {
   "cell_type": "code",
   "execution_count": 9,
   "metadata": {
    "executionInfo": {
     "elapsed": 220,
     "status": "ok",
     "timestamp": 1738589796969,
     "user": {
      "displayName": "Laura Nuttall",
      "userId": "06326247154476711409"
     },
     "user_tz": 0
    },
    "id": "LBpWXwWjh8SM"
   },
   "outputs": [],
   "source": [
    "# Answer here"
   ]
  },
  {
   "cell_type": "markdown",
   "metadata": {
    "id": "PxIvrV49h0zI"
   },
   "source": [
    "**Exercise:** Plot your `curve_fit` model with the data"
   ]
  },
  {
   "cell_type": "code",
   "execution_count": 10,
   "metadata": {
    "executionInfo": {
     "elapsed": 220,
     "status": "ok",
     "timestamp": 1738589800597,
     "user": {
      "displayName": "Laura Nuttall",
      "userId": "06326247154476711409"
     },
     "user_tz": 0
    },
    "id": "xsGSqYI8iFma"
   },
   "outputs": [],
   "source": [
    "# Answer here"
   ]
  },
  {
   "cell_type": "markdown",
   "metadata": {
    "id": "B7mBujGJhug2"
   },
   "source": [
    "**Exercise:** Does this model fit your data better or worse than the model you determined from least squares regression?\n",
    "\n",
    "\n"
   ]
  },
  {
   "cell_type": "code",
   "execution_count": 11,
   "metadata": {
    "executionInfo": {
     "elapsed": 227,
     "status": "ok",
     "timestamp": 1738589805753,
     "user": {
      "displayName": "Laura Nuttall",
      "userId": "06326247154476711409"
     },
     "user_tz": 0
    },
    "id": "Gmqfq14DIlRD"
   },
   "outputs": [],
   "source": [
    "# Answer here"
   ]
  },
  {
   "cell_type": "markdown",
   "metadata": {
    "id": "a8cwa42hne8v"
   },
   "source": [
    "**Exercise:** Now try fitting a second order polynomial curve (i.e. ax + bx$^2$ + c ) to the data. Does this fit the data better or worse than the linear model you previously used?"
   ]
  },
  {
   "cell_type": "code",
   "execution_count": 12,
   "metadata": {
    "executionInfo": {
     "elapsed": 207,
     "status": "ok",
     "timestamp": 1738589815979,
     "user": {
      "displayName": "Laura Nuttall",
      "userId": "06326247154476711409"
     },
     "user_tz": 0
    },
    "id": "fAUV-RHdtNr2"
   },
   "outputs": [],
   "source": [
    "# Answer here\n",
    "\n"
   ]
  },
  {
   "cell_type": "markdown",
   "metadata": {
    "id": "D8cMbHS9cgtW"
   },
   "source": [
    "\n",
    "## Numpy Polyfit and Poly1d\n",
    "\n",
    "So far we have fit a model that we knew or guessed to fit to the Hubble data. But what if you are not sure what type of model may fit the data? This is where the function ```polyfit``` in ```numpy``` comes in. This function is a least squares polynomial fit. So we can use this function to determine which polynomial degree best describes the data.\n",
    "\n",
    "A polynomial of degree 1 is the linear curve we have been dealing with ($y=mx+c$), degree two is $y=ax^2 +mx +c$, degree three is $y=bx^3 + ax^2 +mx +c$ etc...\n",
    "\n",
    "The synatx for this function is:\n",
    "\n",
    "```pol = numpy.polyfit(x, y, degree)```\n",
    "\n",
    "where pol is polynomial coefficients (highest power first).\n",
    "\n",
    "We can then use ```numpy.poly1d``` to put our polynomial parameters into its natural form. What this means in practise is we can do the following to work out the y axis values given the model:\n",
    "```\n",
    "model = numpy.poly1d(pol)\n",
    "y_value_model = model(x)\n",
    "```\n",
    "\n",
    "\n",
    "\n",
    "\n",
    "\n"
   ]
  },
  {
   "cell_type": "markdown",
   "metadata": {
    "id": "hboUtcP-d6dP"
   },
   "source": [
    "**Exercise**: Determine the gradient and intercept of your new model using the `polyfit` function."
   ]
  },
  {
   "cell_type": "code",
   "execution_count": 13,
   "metadata": {
    "executionInfo": {
     "elapsed": 182,
     "status": "ok",
     "timestamp": 1738589822908,
     "user": {
      "displayName": "Laura Nuttall",
      "userId": "06326247154476711409"
     },
     "user_tz": 0
    },
    "id": "D1UWqCn5i3G4"
   },
   "outputs": [],
   "source": [
    "# Answer here"
   ]
  },
  {
   "cell_type": "markdown",
   "metadata": {
    "id": "U4pr6HtIiyDW"
   },
   "source": [
    "**Exercise:** Make a plot with your new model and the original data"
   ]
  },
  {
   "cell_type": "code",
   "execution_count": 14,
   "metadata": {
    "executionInfo": {
     "elapsed": 181,
     "status": "ok",
     "timestamp": 1738589828065,
     "user": {
      "displayName": "Laura Nuttall",
      "userId": "06326247154476711409"
     },
     "user_tz": 0
    },
    "id": "R1CuytfnPfCX"
   },
   "outputs": [],
   "source": [
    "# Answer here"
   ]
  },
  {
   "cell_type": "markdown",
   "metadata": {
    "id": "jpgFLFxTizt8"
   },
   "source": [
    "**Exercise:** How does this model compare with the linear model you used from least squares regression and `curve_fit`?"
   ]
  },
  {
   "cell_type": "code",
   "execution_count": 15,
   "metadata": {
    "executionInfo": {
     "elapsed": 202,
     "status": "ok",
     "timestamp": 1738589833400,
     "user": {
      "displayName": "Laura Nuttall",
      "userId": "06326247154476711409"
     },
     "user_tz": 0
    },
    "id": "RHpZRp0tjB6U"
   },
   "outputs": [],
   "source": [
    "# Answer here"
   ]
  },
  {
   "cell_type": "markdown",
   "metadata": {
    "id": "S1WAmTKygx3y"
   },
   "source": [
    "**Exercise:** Does a seocnd order polynomial fit better than a linear fit (according to `polyfit`)?\n",
    "\n"
   ]
  },
  {
   "cell_type": "code",
   "execution_count": 16,
   "metadata": {
    "executionInfo": {
     "elapsed": 219,
     "status": "ok",
     "timestamp": 1738589838851,
     "user": {
      "displayName": "Laura Nuttall",
      "userId": "06326247154476711409"
     },
     "user_tz": 0
    },
    "id": "UGpFPEDRg7Fb"
   },
   "outputs": [],
   "source": [
    "# Answer here"
   ]
  }
 ],
 "metadata": {
  "colab": {
   "provenance": []
  },
  "kernelspec": {
   "display_name": "Python 3 (ipykernel)",
   "language": "python",
   "name": "python3"
  },
  "language_info": {
   "codemirror_mode": {
    "name": "ipython",
    "version": 3
   },
   "file_extension": ".py",
   "mimetype": "text/x-python",
   "name": "python",
   "nbconvert_exporter": "python",
   "pygments_lexer": "ipython3",
   "version": "3.9.7"
  }
 },
 "nbformat": 4,
 "nbformat_minor": 1
}
