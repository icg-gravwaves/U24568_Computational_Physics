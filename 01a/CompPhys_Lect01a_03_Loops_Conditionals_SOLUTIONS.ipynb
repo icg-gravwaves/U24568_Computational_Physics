{
 "cells": [
  {
   "cell_type": "markdown",
   "id": "b6a28980",
   "metadata": {},
   "source": [
    "# Loops, Lists and Conditionals\n",
    "\n",
    "We wrote a lot of loops, lists and conditional statements last year. Let's recap that."
   ]
  },
  {
   "cell_type": "markdown",
   "id": "bd863972",
   "metadata": {},
   "source": [
    "## Lists\n",
    "\n",
    "When we want to store multiple objects in order, we need a list. There are several different ways to create a list. The simplest is with square brackets, e.g.\n",
    "\n",
    "`lst = [0, 1, 2, 3]`\n",
    "\n",
    "If we want to know the length of a list, we use one of Python's built-in functions:\n",
    "\n",
    "`len(lst)`\n",
    "\n",
    "Try this, and also check the type of the list."
   ]
  },
  {
   "cell_type": "code",
   "execution_count": 1,
   "id": "862391e8",
   "metadata": {},
   "outputs": [],
   "source": [
    "lst = [0, 1, 2, 3]"
   ]
  },
  {
   "cell_type": "code",
   "execution_count": 3,
   "id": "607d426e",
   "metadata": {},
   "outputs": [
    {
     "data": {
      "text/plain": [
       "4"
      ]
     },
     "execution_count": 3,
     "metadata": {},
     "output_type": "execute_result"
    }
   ],
   "source": [
    "len(lst)"
   ]
  },
  {
   "cell_type": "code",
   "execution_count": 4,
   "id": "746cbe49",
   "metadata": {},
   "outputs": [
    {
     "data": {
      "text/plain": [
       "list"
      ]
     },
     "execution_count": 4,
     "metadata": {},
     "output_type": "execute_result"
    }
   ],
   "source": [
    "type(lst)"
   ]
  },
  {
   "cell_type": "markdown",
   "id": "a2f16c69",
   "metadata": {},
   "source": [
    "Does a list have to contain only integers? Try putting other things in a list, like floats, strings, and other lists. Does the length count the lists inside a list?"
   ]
  },
  {
   "cell_type": "code",
   "execution_count": 5,
   "id": "9840d408",
   "metadata": {},
   "outputs": [],
   "source": [
    "lst = [1, 2.0, 1 + 2j, 'sdg', None]"
   ]
  },
  {
   "cell_type": "markdown",
   "id": "a33e2109",
   "metadata": {},
   "source": [
    "Now make an empty list. What do you expect its length to be? Are you right?"
   ]
  },
  {
   "cell_type": "code",
   "execution_count": 6,
   "id": "14a030ba",
   "metadata": {},
   "outputs": [
    {
     "data": {
      "text/plain": [
       "0"
      ]
     },
     "execution_count": 6,
     "metadata": {},
     "output_type": "execute_result"
    }
   ],
   "source": [
    "empty_list = []\n",
    "len(empty_list)"
   ]
  },
  {
   "cell_type": "markdown",
   "id": "3f1876df",
   "metadata": {},
   "source": [
    "Some things can be converted to lists. We do it the same way as converting to an integer or string, by using the name of the type:\n",
    "\n",
    "`list(\"a\")`\n",
    "\n",
    "Try this, and try a longer string. Does it work with an integer or float? What if you call `list` on something that's already a list?"
   ]
  },
  {
   "cell_type": "code",
   "execution_count": 9,
   "id": "ff53d85c",
   "metadata": {},
   "outputs": [
    {
     "data": {
      "text/plain": [
       "['a', 's', 'd', 's', 'a', 'd']"
      ]
     },
     "execution_count": 9,
     "metadata": {},
     "output_type": "execute_result"
    }
   ],
   "source": [
    "bb = list('asdsad')\n",
    "bb"
   ]
  },
  {
   "cell_type": "code",
   "execution_count": 10,
   "id": "b6b9e25f",
   "metadata": {},
   "outputs": [
    {
     "data": {
      "text/plain": [
       "['a', 's', 'd', 's', 'a', 'd']"
      ]
     },
     "execution_count": 10,
     "metadata": {},
     "output_type": "execute_result"
    }
   ],
   "source": [
    "list(bb)"
   ]
  },
  {
   "cell_type": "markdown",
   "id": "36814bd5",
   "metadata": {},
   "source": [
    "## Built-in functions\n",
    "\n",
    "Python has several useful built-in functions. We've seen the `len` function. Another example is `abs`, which gives the absolute value of a number, or the magnitude of a complex number. Give that a try."
   ]
  },
  {
   "cell_type": "code",
   "execution_count": 11,
   "id": "eea1559a",
   "metadata": {},
   "outputs": [
    {
     "data": {
      "text/plain": [
       "4.5"
      ]
     },
     "execution_count": 11,
     "metadata": {},
     "output_type": "execute_result"
    }
   ],
   "source": [
    "abs(-4.5)"
   ]
  },
  {
   "cell_type": "code",
   "execution_count": 12,
   "id": "b3cd1ffc",
   "metadata": {},
   "outputs": [
    {
     "data": {
      "text/plain": [
       "2.23606797749979"
      ]
     },
     "execution_count": 12,
     "metadata": {},
     "output_type": "execute_result"
    }
   ],
   "source": [
    "abs(1 - 2j)"
   ]
  },
  {
   "cell_type": "markdown",
   "id": "a2e1a49f",
   "metadata": {},
   "source": [
    "Another useful function is `print`. It prints one or more values. Try doing `print(1,2,3)`."
   ]
  },
  {
   "cell_type": "code",
   "execution_count": 13,
   "id": "a532eae9",
   "metadata": {},
   "outputs": [
    {
     "name": "stdout",
     "output_type": "stream",
     "text": [
      "1 2 3\n"
     ]
    }
   ],
   "source": [
    "print(1,2,3)"
   ]
  },
  {
   "cell_type": "markdown",
   "id": "43e35418",
   "metadata": {},
   "source": [
    "We will recap how to define our own functions later, and how to import functions from modules. But there are also functions that are attached to objects - these are called *methods*. Here's an example with a complex number:"
   ]
  },
  {
   "cell_type": "code",
   "execution_count": 14,
   "id": "4402f54e",
   "metadata": {},
   "outputs": [
    {
     "name": "stdout",
     "output_type": "stream",
     "text": [
      "(1-2j)\n"
     ]
    }
   ],
   "source": [
    "x = 1+2j\n",
    "print(x.conjugate())"
   ]
  },
  {
   "cell_type": "markdown",
   "id": "b3092c4b",
   "metadata": {},
   "source": [
    "`.conjugate` is a method of the complex object. It doesn't take any arguments (arguments are the things in the parentheses, which the function acts on). This function returns the conjugate of the complex number. Check below whether the original number is modified."
   ]
  },
  {
   "cell_type": "code",
   "execution_count": 15,
   "id": "19ea6752",
   "metadata": {},
   "outputs": [
    {
     "data": {
      "text/plain": [
       "(1+2j)"
      ]
     },
     "execution_count": 15,
     "metadata": {},
     "output_type": "execute_result"
    }
   ],
   "source": [
    "x"
   ]
  },
  {
   "cell_type": "markdown",
   "id": "4be2a52a",
   "metadata": {},
   "source": [
    "We'll learn about a lot of methods, but right now let's try `.append` on a list. Make a list, assigned to a variable, and use append to add a new element to the end of the list. Check the following:\n",
    " 1. Does the .append method return any value?\n",
    " 2. Does the list change afterward?"
   ]
  },
  {
   "cell_type": "code",
   "execution_count": 19,
   "id": "13e650bc",
   "metadata": {},
   "outputs": [],
   "source": [
    "lst\n",
    "lst.append('123')"
   ]
  },
  {
   "cell_type": "code",
   "execution_count": 20,
   "id": "188f123a",
   "metadata": {},
   "outputs": [
    {
     "data": {
      "text/plain": [
       "[1, 2.0, (1+2j), 'sdg', None, '123', '123']"
      ]
     },
     "execution_count": 20,
     "metadata": {},
     "output_type": "execute_result"
    }
   ],
   "source": [
    "lst"
   ]
  },
  {
   "cell_type": "markdown",
   "id": "76a4466a",
   "metadata": {},
   "source": [
    "## Loops\n",
    "\n",
    "If we want to do something many times, or for many different values, we can use a *for* loop. The lines of code to be repeated are indicated by *indenting* them. Code is indented by typing `Tab`, and Jupyter will often do automatic indenting. You can type `Backspace` to remove an indentation.\n",
    "\n",
    "The loop ends when there's a line with non-indented code, or when the code ends. Here is an example *for loop* which prints 10 numbers, then 'Done' when it's finished."
   ]
  },
  {
   "cell_type": "code",
   "execution_count": 21,
   "id": "aaeb8a0d",
   "metadata": {},
   "outputs": [
    {
     "name": "stdout",
     "output_type": "stream",
     "text": [
      "Inside the for loop\n",
      "0\n",
      "Inside the for loop\n",
      "1\n",
      "Inside the for loop\n",
      "2\n",
      "Inside the for loop\n",
      "3\n",
      "Inside the for loop\n",
      "4\n",
      "Inside the for loop\n",
      "5\n",
      "Inside the for loop\n",
      "6\n",
      "Inside the for loop\n",
      "7\n",
      "Inside the for loop\n",
      "8\n",
      "Inside the for loop\n",
      "9\n",
      "Done\n"
     ]
    }
   ],
   "source": [
    "for x in range(10):\n",
    "    print('Inside the for loop')\n",
    "    # You can have multiple indented lines\n",
    "    print(x)\n",
    "print('Done')"
   ]
  },
  {
   "cell_type": "markdown",
   "id": "1609270f",
   "metadata": {},
   "source": [
    "There's several things we note here. The `for` line ends with a colon. Python, when told to count ten numbers, by default will count from 0 to 9. The last line of code is not indented, so it happens once, outside the loop.\n",
    "\n",
    "**EXERCISE**\n",
    "\n",
    "Use a loop to print the numbers from 0 to 5, and from 1 to 12."
   ]
  },
  {
   "cell_type": "code",
   "execution_count": 22,
   "id": "fe4db3e8",
   "metadata": {},
   "outputs": [
    {
     "name": "stdout",
     "output_type": "stream",
     "text": [
      "0\n",
      "1\n",
      "2\n",
      "3\n",
      "4\n",
      "5\n"
     ]
    }
   ],
   "source": [
    "for i in range(6):\n",
    "    print(i)"
   ]
  },
  {
   "cell_type": "code",
   "execution_count": 23,
   "id": "4a73ae02",
   "metadata": {},
   "outputs": [
    {
     "name": "stdout",
     "output_type": "stream",
     "text": [
      "1\n",
      "2\n",
      "3\n",
      "4\n",
      "5\n",
      "6\n",
      "7\n",
      "8\n",
      "9\n",
      "10\n",
      "11\n",
      "12\n"
     ]
    }
   ],
   "source": [
    "for i in range(1,13):\n",
    "    print(i)"
   ]
  },
  {
   "cell_type": "markdown",
   "id": "522fb2ca",
   "metadata": {},
   "source": [
    "## Conditionals\n",
    "\n",
    "We may want to decide what to do based on whether something is true. We do this with an `if` statement, which also uses indentation. Here's an example."
   ]
  },
  {
   "cell_type": "code",
   "execution_count": 24,
   "id": "a93d1764",
   "metadata": {},
   "outputs": [
    {
     "name": "stdout",
     "output_type": "stream",
     "text": [
      "That's what we expected.\n"
     ]
    }
   ],
   "source": [
    "if 1+1 == 2:\n",
    "    print(\"That's what we expected.\")\n",
    "else:\n",
    "    print(\"Arithmetic is broken.\")"
   ]
  },
  {
   "cell_type": "markdown",
   "id": "5d40e577",
   "metadata": {},
   "source": [
    "We can use a conditional inside a loop. Some lines end up double indented. Here's a silly example."
   ]
  },
  {
   "cell_type": "code",
   "execution_count": 25,
   "id": "af6c0937",
   "metadata": {},
   "outputs": [
    {
     "name": "stdout",
     "output_type": "stream",
     "text": [
      "This number is too small.\n",
      "This number is too small.\n",
      "This number is too small.\n",
      "This number is too small.\n",
      "This number is fine.\n",
      "This number is too big.\n",
      "This number is too big.\n",
      "This number is too big.\n",
      "This number is too big.\n",
      "This number is too big.\n"
     ]
    }
   ],
   "source": [
    "for x in range(10):\n",
    "    if x < 4:\n",
    "        print('This number is too small.')\n",
    "    elif x >= 5:\n",
    "        print('This number is too big.')\n",
    "    else:\n",
    "        print('This number is fine.')"
   ]
  },
  {
   "cell_type": "markdown",
   "id": "d4f2e9b8",
   "metadata": {},
   "source": [
    "**Exercise**\n",
    "\n",
    "Make a loop with a conditional that prints the even numbers up to 100."
   ]
  },
  {
   "cell_type": "code",
   "execution_count": 29,
   "id": "2f720352",
   "metadata": {},
   "outputs": [
    {
     "name": "stdout",
     "output_type": "stream",
     "text": [
      "0\n",
      "2\n",
      "4\n",
      "6\n",
      "8\n",
      "10\n",
      "12\n",
      "14\n",
      "16\n",
      "18\n",
      "20\n",
      "22\n",
      "24\n",
      "26\n",
      "28\n",
      "30\n",
      "32\n",
      "34\n",
      "36\n",
      "38\n",
      "40\n",
      "42\n",
      "44\n",
      "46\n",
      "48\n",
      "50\n",
      "52\n",
      "54\n",
      "56\n",
      "58\n",
      "60\n",
      "62\n",
      "64\n",
      "66\n",
      "68\n",
      "70\n",
      "72\n",
      "74\n",
      "76\n",
      "78\n",
      "80\n",
      "82\n",
      "84\n",
      "86\n",
      "88\n",
      "90\n",
      "92\n",
      "94\n",
      "96\n",
      "98\n",
      "100\n"
     ]
    }
   ],
   "source": [
    "for i in range(101):\n",
    "    if i % 2 == 0:\n",
    "        print(i)"
   ]
  },
  {
   "cell_type": "markdown",
   "id": "02442333",
   "metadata": {},
   "source": [
    "### Booleans\n",
    "\n",
    "The expression inside the conditional demonstrates a new type, a Boolean (which Python abbreviates as 'bool'). Booleans can have only two values, True or False. One way to get a Boolean result is with comparisons like `>` and `>=`. The test for equality is a double equal, `==`."
   ]
  },
  {
   "cell_type": "code",
   "execution_count": 30,
   "id": "ad022479",
   "metadata": {},
   "outputs": [
    {
     "data": {
      "text/plain": [
       "bool"
      ]
     },
     "execution_count": 30,
     "metadata": {},
     "output_type": "execute_result"
    }
   ],
   "source": [
    "type(True)"
   ]
  },
  {
   "cell_type": "code",
   "execution_count": 31,
   "id": "1a3a668d",
   "metadata": {},
   "outputs": [
    {
     "data": {
      "text/plain": [
       "True"
      ]
     },
     "execution_count": 31,
     "metadata": {},
     "output_type": "execute_result"
    }
   ],
   "source": [
    "3 > 1"
   ]
  },
  {
   "cell_type": "code",
   "execution_count": 32,
   "id": "8adb6aa9",
   "metadata": {},
   "outputs": [
    {
     "data": {
      "text/plain": [
       "False"
      ]
     },
     "execution_count": 32,
     "metadata": {},
     "output_type": "execute_result"
    }
   ],
   "source": [
    "7 == 6"
   ]
  },
  {
   "cell_type": "markdown",
   "id": "885330f8",
   "metadata": {},
   "source": [
    "Booleans can be combined with the operators `and`, `or`, and `not`. So you can do things like `(x < y) and (y < z)` and `(x < y) or not (y == z)`."
   ]
  },
  {
   "cell_type": "markdown",
   "id": "9aece441",
   "metadata": {},
   "source": [
    "## Building a list with a for loop\n",
    "\n",
    "To build a list, we can start with an empty list, then in a loop append values to that list. Based on what you learned above, and the code just below, try the following exercises."
   ]
  },
  {
   "cell_type": "code",
   "execution_count": 33,
   "id": "9e06ca18",
   "metadata": {},
   "outputs": [
    {
     "name": "stdout",
     "output_type": "stream",
     "text": [
      "[0, 1, 2, 3, 4, 5, 6, 7, 8, 9]\n"
     ]
    }
   ],
   "source": [
    "my_list1 = []\n",
    "for ii in range(10):\n",
    "    my_list1.append(ii)\n",
    "print(my_list1)"
   ]
  },
  {
   "cell_type": "markdown",
   "id": "6ba05772",
   "metadata": {},
   "source": [
    "**Exercise**\n",
    "\n",
    "Make a list of the first 7 powers of 3 ($3^1$, $3^2$, etc.)."
   ]
  },
  {
   "cell_type": "code",
   "execution_count": 34,
   "id": "25adacbe",
   "metadata": {},
   "outputs": [
    {
     "data": {
      "text/plain": [
       "[3, 9, 27, 81, 243, 729, 2187]"
      ]
     },
     "execution_count": 34,
     "metadata": {},
     "output_type": "execute_result"
    }
   ],
   "source": [
    "powers_of_three = []\n",
    "for i in range(1,8):\n",
    "    powers_of_three.append(3**i)\n",
    "powers_of_three"
   ]
  },
  {
   "cell_type": "markdown",
   "id": "5f1c9261",
   "metadata": {},
   "source": [
    "**Exercise**\n",
    "\n",
    "Make a list of the first 100 odd numbers. Check that it's 100 long."
   ]
  },
  {
   "cell_type": "code",
   "execution_count": 42,
   "id": "ac5af7ad",
   "metadata": {},
   "outputs": [
    {
     "data": {
      "text/plain": [
       "(100,\n",
       " [1,\n",
       "  3,\n",
       "  5,\n",
       "  7,\n",
       "  9,\n",
       "  11,\n",
       "  13,\n",
       "  15,\n",
       "  17,\n",
       "  19,\n",
       "  21,\n",
       "  23,\n",
       "  25,\n",
       "  27,\n",
       "  29,\n",
       "  31,\n",
       "  33,\n",
       "  35,\n",
       "  37,\n",
       "  39,\n",
       "  41,\n",
       "  43,\n",
       "  45,\n",
       "  47,\n",
       "  49,\n",
       "  51,\n",
       "  53,\n",
       "  55,\n",
       "  57,\n",
       "  59,\n",
       "  61,\n",
       "  63,\n",
       "  65,\n",
       "  67,\n",
       "  69,\n",
       "  71,\n",
       "  73,\n",
       "  75,\n",
       "  77,\n",
       "  79,\n",
       "  81,\n",
       "  83,\n",
       "  85,\n",
       "  87,\n",
       "  89,\n",
       "  91,\n",
       "  93,\n",
       "  95,\n",
       "  97,\n",
       "  99,\n",
       "  101,\n",
       "  103,\n",
       "  105,\n",
       "  107,\n",
       "  109,\n",
       "  111,\n",
       "  113,\n",
       "  115,\n",
       "  117,\n",
       "  119,\n",
       "  121,\n",
       "  123,\n",
       "  125,\n",
       "  127,\n",
       "  129,\n",
       "  131,\n",
       "  133,\n",
       "  135,\n",
       "  137,\n",
       "  139,\n",
       "  141,\n",
       "  143,\n",
       "  145,\n",
       "  147,\n",
       "  149,\n",
       "  151,\n",
       "  153,\n",
       "  155,\n",
       "  157,\n",
       "  159,\n",
       "  161,\n",
       "  163,\n",
       "  165,\n",
       "  167,\n",
       "  169,\n",
       "  171,\n",
       "  173,\n",
       "  175,\n",
       "  177,\n",
       "  179,\n",
       "  181,\n",
       "  183,\n",
       "  185,\n",
       "  187,\n",
       "  189,\n",
       "  191,\n",
       "  193,\n",
       "  195,\n",
       "  197,\n",
       "  199])"
      ]
     },
     "execution_count": 42,
     "metadata": {},
     "output_type": "execute_result"
    }
   ],
   "source": [
    "odd_numbers = []\n",
    "for i in range(201):\n",
    "    if i % 2 == 1:\n",
    "        odd_numbers.append(i)\n",
    "len(odd_numbers), odd_numbers"
   ]
  },
  {
   "cell_type": "code",
   "execution_count": 40,
   "id": "bca63cc8",
   "metadata": {},
   "outputs": [
    {
     "data": {
      "text/plain": [
       "(100,\n",
       " [1,\n",
       "  3,\n",
       "  5,\n",
       "  7,\n",
       "  9,\n",
       "  11,\n",
       "  13,\n",
       "  15,\n",
       "  17,\n",
       "  19,\n",
       "  21,\n",
       "  23,\n",
       "  25,\n",
       "  27,\n",
       "  29,\n",
       "  31,\n",
       "  33,\n",
       "  35,\n",
       "  37,\n",
       "  39,\n",
       "  41,\n",
       "  43,\n",
       "  45,\n",
       "  47,\n",
       "  49,\n",
       "  51,\n",
       "  53,\n",
       "  55,\n",
       "  57,\n",
       "  59,\n",
       "  61,\n",
       "  63,\n",
       "  65,\n",
       "  67,\n",
       "  69,\n",
       "  71,\n",
       "  73,\n",
       "  75,\n",
       "  77,\n",
       "  79,\n",
       "  81,\n",
       "  83,\n",
       "  85,\n",
       "  87,\n",
       "  89,\n",
       "  91,\n",
       "  93,\n",
       "  95,\n",
       "  97,\n",
       "  99,\n",
       "  101,\n",
       "  103,\n",
       "  105,\n",
       "  107,\n",
       "  109,\n",
       "  111,\n",
       "  113,\n",
       "  115,\n",
       "  117,\n",
       "  119,\n",
       "  121,\n",
       "  123,\n",
       "  125,\n",
       "  127,\n",
       "  129,\n",
       "  131,\n",
       "  133,\n",
       "  135,\n",
       "  137,\n",
       "  139,\n",
       "  141,\n",
       "  143,\n",
       "  145,\n",
       "  147,\n",
       "  149,\n",
       "  151,\n",
       "  153,\n",
       "  155,\n",
       "  157,\n",
       "  159,\n",
       "  161,\n",
       "  163,\n",
       "  165,\n",
       "  167,\n",
       "  169,\n",
       "  171,\n",
       "  173,\n",
       "  175,\n",
       "  177,\n",
       "  179,\n",
       "  181,\n",
       "  183,\n",
       "  185,\n",
       "  187,\n",
       "  189,\n",
       "  191,\n",
       "  193,\n",
       "  195,\n",
       "  197,\n",
       "  199])"
      ]
     },
     "execution_count": 40,
     "metadata": {},
     "output_type": "execute_result"
    }
   ],
   "source": [
    "odd_numbers = []\n",
    "i = 0\n",
    "while True:\n",
    "    if i % 2 == 1:\n",
    "        odd_numbers.append(i)\n",
    "    i += 1\n",
    "    if len(odd_numbers) >= 100:\n",
    "        break\n",
    "len(odd_numbers), odd_numbers"
   ]
  },
  {
   "cell_type": "markdown",
   "id": "498a3f5e",
   "metadata": {},
   "source": [
    "**Exercise**\n",
    "\n",
    "Take the previous list and square all the numbers in it which are not divisible by 7. Remember that 'divide and give remainder' is the % operator."
   ]
  },
  {
   "cell_type": "code",
   "execution_count": 45,
   "id": "2b623967",
   "metadata": {},
   "outputs": [
    {
     "data": {
      "text/plain": [
       "[1,\n",
       " 3,\n",
       " 5,\n",
       " 9,\n",
       " 11,\n",
       " 13,\n",
       " 15,\n",
       " 17,\n",
       " 19,\n",
       " 23,\n",
       " 25,\n",
       " 27,\n",
       " 29,\n",
       " 31,\n",
       " 33,\n",
       " 37,\n",
       " 39,\n",
       " 41,\n",
       " 43,\n",
       " 45,\n",
       " 47,\n",
       " 51,\n",
       " 53,\n",
       " 55,\n",
       " 57,\n",
       " 59,\n",
       " 61,\n",
       " 65,\n",
       " 67,\n",
       " 69,\n",
       " 71,\n",
       " 73,\n",
       " 75,\n",
       " 79,\n",
       " 81,\n",
       " 83,\n",
       " 85,\n",
       " 87,\n",
       " 89,\n",
       " 93,\n",
       " 95,\n",
       " 97,\n",
       " 99,\n",
       " 101,\n",
       " 103,\n",
       " 107,\n",
       " 109,\n",
       " 111,\n",
       " 113,\n",
       " 115,\n",
       " 117,\n",
       " 121,\n",
       " 123,\n",
       " 125,\n",
       " 127,\n",
       " 129,\n",
       " 131,\n",
       " 135,\n",
       " 137,\n",
       " 139,\n",
       " 141,\n",
       " 143,\n",
       " 145,\n",
       " 149,\n",
       " 151,\n",
       " 153,\n",
       " 155,\n",
       " 157,\n",
       " 159,\n",
       " 163,\n",
       " 165,\n",
       " 167,\n",
       " 169,\n",
       " 171,\n",
       " 173,\n",
       " 177,\n",
       " 179,\n",
       " 181,\n",
       " 183,\n",
       " 185,\n",
       " 187,\n",
       " 191,\n",
       " 193,\n",
       " 195,\n",
       " 197,\n",
       " 199]"
      ]
     },
     "execution_count": 45,
     "metadata": {},
     "output_type": "execute_result"
    }
   ],
   "source": [
    "odd_numbers\n",
    "odd_numbers_not_div_by_7 = []\n",
    "\n",
    "for number in odd_numbers:\n",
    "    if number % 7:\n",
    "        odd_numbers_not_div_by_7.append(number)\n",
    "odd_numbers_not_div_by_7"
   ]
  },
  {
   "cell_type": "markdown",
   "id": "9505333c",
   "metadata": {},
   "source": [
    "A for loop doesn't have to just use `range`. It can also iterate through a list that you provide. Here's an example:"
   ]
  },
  {
   "cell_type": "code",
   "execution_count": 9,
   "id": "e147c9d0",
   "metadata": {},
   "outputs": [
    {
     "name": "stdout",
     "output_type": "stream",
     "text": [
      "1\n",
      "2.0\n",
      "a\n"
     ]
    }
   ],
   "source": [
    "for x in [1, 2., 'a']:\n",
    "    print(x)"
   ]
  },
  {
   "cell_type": "markdown",
   "id": "62da9b0b",
   "metadata": {},
   "source": [
    "**Exercise**:\n",
    "\n",
    "Write a nested for loop (one loop inside another) that prints a truth table for the 'or' operator. Use two variables `a` and `b` that take all combinations of True and False, and show the value of `(a or b)`. For example, you should have\n",
    "\n",
    "    a b => (a or b)\n",
    "    True True => True\n",
    "    True False => True\n",
    "    False True => True\n",
    "    False False => False"
   ]
  },
  {
   "cell_type": "code",
   "execution_count": 48,
   "id": "480d7dc0",
   "metadata": {},
   "outputs": [
    {
     "name": "stdout",
     "output_type": "stream",
     "text": [
      "a b => (a or b)\n",
      "True True => True\n",
      "True False => True\n",
      "False True => True\n",
      "False False => False\n"
     ]
    }
   ],
   "source": [
    "print('a b => (a or b)')\n",
    "for a in [True, False]:\n",
    "    for b in [True, False]:\n",
    "        print (f'{a} {b} => {a or b}')"
   ]
  },
  {
   "cell_type": "markdown",
   "id": "8d675847",
   "metadata": {},
   "source": [
    "**Exercise**\n",
    "\n",
    "Build and test an expression for 'exclusive or'. That means that it's true only if one of a or b is true.\n",
    "\n",
    "    a b => (a xor b)\n",
    "    True True => False\n",
    "    True False => True\n",
    "    False True => True\n",
    "    False False => False"
   ]
  },
  {
   "cell_type": "code",
   "execution_count": 51,
   "id": "00d73466",
   "metadata": {},
   "outputs": [
    {
     "name": "stdout",
     "output_type": "stream",
     "text": [
      "a b => (a xor b)\n",
      "True True => False\n",
      "True False => True\n",
      "False True => True\n",
      "False False => False\n"
     ]
    }
   ],
   "source": [
    "print('a b => (a xor b)')\n",
    "for a in [True, False]:\n",
    "    for b in [True, False]:\n",
    "        print (f'{a} {b} => {a ^ b}')"
   ]
  },
  {
   "cell_type": "code",
   "execution_count": null,
   "id": "c33d8ba2",
   "metadata": {},
   "outputs": [],
   "source": []
  }
 ],
 "metadata": {
  "kernelspec": {
   "display_name": "Python 3 (ipykernel)",
   "language": "python",
   "name": "python3"
  },
  "language_info": {
   "codemirror_mode": {
    "name": "ipython",
    "version": 3
   },
   "file_extension": ".py",
   "mimetype": "text/x-python",
   "name": "python",
   "nbconvert_exporter": "python",
   "pygments_lexer": "ipython3",
   "version": "3.9.7"
  }
 },
 "nbformat": 4,
 "nbformat_minor": 5
}
