{
 "cells": [
  {
   "cell_type": "markdown",
   "id": "b6a28980",
   "metadata": {},
   "source": [
    "# Loops, Lists and Conditionals\n",
    "\n",
    "We wrote a lot of loops, lists and conditional statements last year. Let's recap that."
   ]
  },
  {
   "cell_type": "markdown",
   "id": "bd863972",
   "metadata": {},
   "source": [
    "## Lists\n",
    "\n",
    "When we want to store multiple objects in order, we need a list. There are several different ways to create a list. The simplest is with square brackets, e.g.\n",
    "\n",
    "`lst = [0, 1, 2, 3]`\n",
    "\n",
    "If we want to know the length of a list, we use one of Python's built-in functions:\n",
    "\n",
    "`len(lst)`\n",
    "\n",
    "Try this, and also check the type of the list."
   ]
  },
  {
   "cell_type": "code",
   "execution_count": null,
   "id": "862391e8",
   "metadata": {},
   "outputs": [],
   "source": []
  },
  {
   "cell_type": "markdown",
   "id": "a2f16c69",
   "metadata": {},
   "source": [
    "Does a list have to contain only integers? Try putting other things in a list, like floats, strings, and other lists. Does the length count the lists inside a list?"
   ]
  },
  {
   "cell_type": "code",
   "execution_count": null,
   "id": "9840d408",
   "metadata": {},
   "outputs": [],
   "source": []
  },
  {
   "cell_type": "markdown",
   "id": "a33e2109",
   "metadata": {},
   "source": [
    "Now make an empty list. What do you expect its length to be? Are you right?"
   ]
  },
  {
   "cell_type": "code",
   "execution_count": null,
   "id": "14a030ba",
   "metadata": {},
   "outputs": [],
   "source": []
  },
  {
   "cell_type": "markdown",
   "id": "3f1876df",
   "metadata": {},
   "source": [
    "Some things can be converted to lists. We do it the same way as converting to an integer or string, by using the name of the type:\n",
    "\n",
    "`list(\"a\")`\n",
    "\n",
    "Try this, and try a longer string. Does it work with an integer or float? What if you call `list` on something that's already a list?"
   ]
  },
  {
   "cell_type": "code",
   "execution_count": null,
   "id": "ff53d85c",
   "metadata": {},
   "outputs": [],
   "source": []
  },
  {
   "cell_type": "markdown",
   "id": "36814bd5",
   "metadata": {},
   "source": [
    "## Built-in functions\n",
    "\n",
    "Python has several useful built-in functions. We've seen the `len` function. Another example is `abs`, which gives the absolute value of a number, or the magnitude of a complex number. Give that a try."
   ]
  },
  {
   "cell_type": "code",
   "execution_count": null,
   "id": "eea1559a",
   "metadata": {},
   "outputs": [],
   "source": []
  },
  {
   "cell_type": "markdown",
   "id": "a2e1a49f",
   "metadata": {},
   "source": [
    "Another useful function is `print`. It prints one or more values. Try doing `print(1,2,3)`."
   ]
  },
  {
   "cell_type": "code",
   "execution_count": null,
   "id": "a532eae9",
   "metadata": {},
   "outputs": [],
   "source": []
  },
  {
   "cell_type": "markdown",
   "id": "43e35418",
   "metadata": {},
   "source": [
    "We will recap how to define our own functions later, and how to import functions from modules. But there are also functions that are attached to objects - these are called *methods*. Here's an example with a complex number:"
   ]
  },
  {
   "cell_type": "code",
   "execution_count": 1,
   "id": "4402f54e",
   "metadata": {},
   "outputs": [
    {
     "name": "stdout",
     "output_type": "stream",
     "text": [
      "(1-2j)\n"
     ]
    }
   ],
   "source": [
    "x = 1+2j\n",
    "print(x.conjugate())"
   ]
  },
  {
   "cell_type": "markdown",
   "id": "b3092c4b",
   "metadata": {},
   "source": [
    "`.conjugate` is a method of the complex object. It doesn't take any arguments (arguments are the things in the parentheses, which the function acts on). This function returns the conjugate of the complex number. Check below whether the original number is modified."
   ]
  },
  {
   "cell_type": "code",
   "execution_count": null,
   "id": "19ea6752",
   "metadata": {},
   "outputs": [],
   "source": []
  },
  {
   "cell_type": "markdown",
   "id": "4be2a52a",
   "metadata": {},
   "source": [
    "We'll learn about a lot of methods, but right now let's try `.append` on a list. Make a list, assigned to a variable, and use append to add a new element to the end of the list. Check the following:\n",
    " 1. Does the .append method return any value?\n",
    " 2. Does the list change afterward?"
   ]
  },
  {
   "cell_type": "code",
   "execution_count": null,
   "id": "13e650bc",
   "metadata": {},
   "outputs": [],
   "source": []
  },
  {
   "cell_type": "markdown",
   "id": "76a4466a",
   "metadata": {},
   "source": [
    "## Loops\n",
    "\n",
    "If we want to do something many times, or for many different values, we can use a *for* loop. The lines of code to be repeated are indicated by *indenting* them. Code is indented by typing `Tab`, and Jupyter will often do automatic indenting. You can type `Backspace` to remove an indentation.\n",
    "\n",
    "The loop ends when there's a line with non-indented code, or when the code ends. Here is an example *for loop* which prints 10 numbers, then 'Done' when it's finished."
   ]
  },
  {
   "cell_type": "code",
   "execution_count": 2,
   "id": "aaeb8a0d",
   "metadata": {},
   "outputs": [
    {
     "name": "stdout",
     "output_type": "stream",
     "text": [
      "Inside the for loop\n",
      "0\n",
      "Inside the for loop\n",
      "1\n",
      "Inside the for loop\n",
      "2\n",
      "Inside the for loop\n",
      "3\n",
      "Inside the for loop\n",
      "4\n",
      "Inside the for loop\n",
      "5\n",
      "Inside the for loop\n",
      "6\n",
      "Inside the for loop\n",
      "7\n",
      "Inside the for loop\n",
      "8\n",
      "Inside the for loop\n",
      "9\n",
      "Done\n"
     ]
    }
   ],
   "source": [
    "for x in range(10):\n",
    "    print('Inside the for loop')\n",
    "    # You can have multiple indented lines\n",
    "    print(x)\n",
    "print('Done')"
   ]
  },
  {
   "cell_type": "markdown",
   "id": "1609270f",
   "metadata": {},
   "source": [
    "There's several things we note here. The `for` line ends with a colon. Python, when told to count ten numbers, by default will count from 0 to 9. The last line of code is not indented, so it happens once, outside the loop.\n",
    "\n",
    "**EXERCISE**\n",
    "\n",
    "Use a loop to print the numbers from 0 to 5, and from 1 to 12."
   ]
  },
  {
   "cell_type": "code",
   "execution_count": null,
   "id": "fe4db3e8",
   "metadata": {},
   "outputs": [],
   "source": []
  },
  {
   "cell_type": "markdown",
   "id": "522fb2ca",
   "metadata": {},
   "source": [
    "## Conditionals\n",
    "\n",
    "We may want to decide what to do based on whether something is true. We do this with an `if` statement, which also uses indentation. Here's an example."
   ]
  },
  {
   "cell_type": "code",
   "execution_count": 3,
   "id": "a93d1764",
   "metadata": {},
   "outputs": [
    {
     "name": "stdout",
     "output_type": "stream",
     "text": [
      "That's what we expected.\n"
     ]
    }
   ],
   "source": [
    "if 1+1 == 2:\n",
    "    print(\"That's what we expected.\")\n",
    "else:\n",
    "    print(\"Arithmetic is broken.\")"
   ]
  },
  {
   "cell_type": "markdown",
   "id": "5d40e577",
   "metadata": {},
   "source": [
    "We can use a conditional inside a loop. Some lines end up double indented. Here's a silly example."
   ]
  },
  {
   "cell_type": "code",
   "execution_count": 4,
   "id": "af6c0937",
   "metadata": {},
   "outputs": [
    {
     "name": "stdout",
     "output_type": "stream",
     "text": [
      "This number is too small.\n",
      "This number is too small.\n",
      "This number is too small.\n",
      "This number is too small.\n",
      "This number is fine.\n",
      "This number is too big.\n",
      "This number is too big.\n",
      "This number is too big.\n",
      "This number is too big.\n",
      "This number is too big.\n"
     ]
    }
   ],
   "source": [
    "for x in range(10):\n",
    "    if x < 4:\n",
    "        print('This number is too small.')\n",
    "    elif x >= 5:\n",
    "        print('This number is too big.')\n",
    "    else:\n",
    "        print('This number is fine.')"
   ]
  },
  {
   "cell_type": "markdown",
   "id": "d4f2e9b8",
   "metadata": {},
   "source": [
    "**Exercise**\n",
    "\n",
    "Make a loop with a conditional that prints the even numbers up to 100."
   ]
  },
  {
   "cell_type": "code",
   "execution_count": null,
   "id": "2f720352",
   "metadata": {},
   "outputs": [],
   "source": []
  },
  {
   "cell_type": "markdown",
   "id": "02442333",
   "metadata": {},
   "source": [
    "### Booleans\n",
    "\n",
    "The expression inside the conditional demonstrates a new type, a Boolean (which Python abbreviates as 'bool'). Booleans can have only two values, True or False. One way to get a Boolean result is with comparisons like `>` and `>=`. The test for equality is a double equal, `==`."
   ]
  },
  {
   "cell_type": "code",
   "execution_count": 5,
   "id": "ad022479",
   "metadata": {},
   "outputs": [
    {
     "data": {
      "text/plain": [
       "bool"
      ]
     },
     "execution_count": 5,
     "metadata": {},
     "output_type": "execute_result"
    }
   ],
   "source": [
    "type(True)"
   ]
  },
  {
   "cell_type": "code",
   "execution_count": 6,
   "id": "1a3a668d",
   "metadata": {},
   "outputs": [
    {
     "data": {
      "text/plain": [
       "True"
      ]
     },
     "execution_count": 6,
     "metadata": {},
     "output_type": "execute_result"
    }
   ],
   "source": [
    "3 > 1"
   ]
  },
  {
   "cell_type": "code",
   "execution_count": 7,
   "id": "8adb6aa9",
   "metadata": {},
   "outputs": [
    {
     "data": {
      "text/plain": [
       "False"
      ]
     },
     "execution_count": 7,
     "metadata": {},
     "output_type": "execute_result"
    }
   ],
   "source": [
    "7 == 6"
   ]
  },
  {
   "cell_type": "markdown",
   "id": "885330f8",
   "metadata": {},
   "source": [
    "Booleans can be combined with the operators `and`, `or`, and `not`. So you can do things like `(x < y) and (y < z)` and `(x < y) or not (y == z)`."
   ]
  },
  {
   "cell_type": "markdown",
   "id": "9aece441",
   "metadata": {},
   "source": [
    "## Building a list with a for loop\n",
    "\n",
    "To build a list, we can start with an empty list, then in a loop append values to that list. Based on what you learned above, and the code just below, try the following exercises."
   ]
  },
  {
   "cell_type": "code",
   "execution_count": 8,
   "id": "9e06ca18",
   "metadata": {},
   "outputs": [
    {
     "name": "stdout",
     "output_type": "stream",
     "text": [
      "[0, 1, 2, 3, 4, 5, 6, 7, 8, 9]\n"
     ]
    }
   ],
   "source": [
    "my_list1 = []\n",
    "for ii in range(10):\n",
    "    my_list1.append(ii)\n",
    "print(my_list1)"
   ]
  },
  {
   "cell_type": "markdown",
   "id": "6ba05772",
   "metadata": {},
   "source": [
    "**Exercise**\n",
    "\n",
    "Make a list of the first 7 powers of 3 ($3^1$, $3^2$, etc.)."
   ]
  },
  {
   "cell_type": "code",
   "execution_count": null,
   "id": "25adacbe",
   "metadata": {},
   "outputs": [],
   "source": []
  },
  {
   "cell_type": "markdown",
   "id": "5f1c9261",
   "metadata": {},
   "source": [
    "**Exercise**\n",
    "\n",
    "Make a list of the first 100 odd numbers. Check that it's 100 long."
   ]
  },
  {
   "cell_type": "code",
   "execution_count": null,
   "id": "bca63cc8",
   "metadata": {},
   "outputs": [],
   "source": []
  },
  {
   "cell_type": "markdown",
   "id": "498a3f5e",
   "metadata": {},
   "source": [
    "**Exercise**\n",
    "\n",
    "Take the previous list and square all the numbers in it which are not divisible by 7. Remember that 'divide and give remainder' is the % operator."
   ]
  },
  {
   "cell_type": "code",
   "execution_count": null,
   "id": "2b623967",
   "metadata": {},
   "outputs": [],
   "source": []
  },
  {
   "cell_type": "markdown",
   "id": "9505333c",
   "metadata": {},
   "source": [
    "A for loop doesn't have to just use `range`. It can also iterate through a list that you provide. Here's an example:"
   ]
  },
  {
   "cell_type": "code",
   "execution_count": 9,
   "id": "e147c9d0",
   "metadata": {},
   "outputs": [
    {
     "name": "stdout",
     "output_type": "stream",
     "text": [
      "1\n",
      "2.0\n",
      "a\n"
     ]
    }
   ],
   "source": [
    "for x in [1, 2., 'a']:\n",
    "    print(x)"
   ]
  },
  {
   "cell_type": "markdown",
   "id": "62da9b0b",
   "metadata": {},
   "source": [
    "**Exercise**:\n",
    "\n",
    "Write a nested for loop (one loop inside another) that prints a truth table for the 'or' operator. Use two variables `a` and `b` that take all combinations of True and False, and show the value of `(a or b)`. For example, you should have\n",
    "\n",
    "    a b => (a or b)\n",
    "    True True => True\n",
    "    True False => True\n",
    "    False True => True\n",
    "    False False => False"
   ]
  },
  {
   "cell_type": "code",
   "execution_count": null,
   "id": "480d7dc0",
   "metadata": {},
   "outputs": [],
   "source": []
  },
  {
   "cell_type": "markdown",
   "id": "8d675847",
   "metadata": {},
   "source": [
    "**Exercise**\n",
    "\n",
    "Build and test an expression for 'exclusive or'. That means that it's true only if one of a or b is true.\n",
    "\n",
    "    a b => (a xor b)\n",
    "    True True => False\n",
    "    True False => True\n",
    "    False True => True\n",
    "    False False => False"
   ]
  },
  {
   "cell_type": "code",
   "execution_count": null,
   "id": "c33d8ba2",
   "metadata": {},
   "outputs": [],
   "source": []
  }
 ],
 "metadata": {
  "kernelspec": {
   "display_name": "Python 3 (ipykernel)",
   "language": "python",
   "name": "python3"
  },
  "language_info": {
   "codemirror_mode": {
    "name": "ipython",
    "version": 3
   },
   "file_extension": ".py",
   "mimetype": "text/x-python",
   "name": "python",
   "nbconvert_exporter": "python",
   "pygments_lexer": "ipython3",
   "version": "3.9.7"
  }
 },
 "nbformat": 4,
 "nbformat_minor": 5
}
