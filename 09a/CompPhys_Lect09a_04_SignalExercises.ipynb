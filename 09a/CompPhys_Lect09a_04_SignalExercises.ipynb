{
 "cells": [
  {
   "cell_type": "markdown",
   "id": "160230b4",
   "metadata": {},
   "source": [
    "# Exercises\n"
   ]
  },
  {
   "cell_type": "code",
   "execution_count": 2,
   "id": "27fc14e2",
   "metadata": {},
   "outputs": [],
   "source": [
    "%matplotlib inline\n",
    "import matplotlib\n",
    "import matplotlib.pyplot as plt\n",
    "import numpy as np\n",
    "import scipy\n",
    "import scipy.signal"
   ]
  },
  {
   "cell_type": "code",
   "execution_count": null,
   "id": "b7fb89e1",
   "metadata": {},
   "outputs": [],
   "source": [
    "# Please copy in your Fourier transform code to run the stuff below\n",
    "def compute_fourier_transform(data_time_domain):\n",
    "    # FILL IN THE CODE HERE\n",
    "\n",
    "def compute_inverse_fourier_transform(data_frequency_domain):\n",
    "    # FILL IN THE CODE HERE\n"
   ]
  },
  {
   "cell_type": "code",
   "execution_count": 7,
   "id": "a3092f13",
   "metadata": {},
   "outputs": [],
   "source": [
    "# Sorry, this won't work for you, it's to build the web-page!\n",
    "# Please use the cell above, instead.\n",
    "\n",
    "from fourier_transform import compute_fourier_transform, compute_inverse_fourier_transform"
   ]
  },
  {
   "cell_type": "markdown",
   "id": "846bf1fe",
   "metadata": {},
   "source": [
    "## Finding the signals in the noise revisited\n",
    "\n",
    "Here we repeat the earlier exercise where you need to locate a specified signal in the noise generated. Except here the noise is quite a bit longer than the signal.\n",
    "\n",
    "How many signals are in the dataset, and where are they?"
   ]
  },
  {
   "cell_type": "code",
   "execution_count": 4,
   "id": "1e17dc90",
   "metadata": {},
   "outputs": [],
   "source": [
    "# Let's generate the datasets. DONT CHANGE THIS.\n",
    "num_data_samples = 128 * 128 * 32\n",
    "sample_rate = 32\n",
    "times_long = np.arange(num_data_samples) / sample_rate\n",
    "times_small = np.arange(128*sample_rate) / sample_rate\n",
    "\n",
    "gaussian_width = 10\n",
    "signal_inst_frequency = 2. + 0.*np.sin(2 * np.pi * 0.1 * times_small)\n",
    "phases = [0]\n",
    "for i in range(1,len(times_small)):\n",
    "    phases.append(phases[-1] + 2 * np.pi * signal_inst_frequency[i] * 1./sample_rate)\n",
    "signal_1 = np.sin(phases)\n",
    "gaussian = np.exp( - (times_small - 64)**2 / (2 * gaussian_width))\n",
    "signal_1 = signal_1 * gaussian\n",
    "signal_1 = signal_1[48*sample_rate:80*sample_rate]\n",
    "\n",
    "\n",
    "noise = np.random.normal(size=[num_data_samples])\n",
    "rndi = np.random.randint(0,sample_rate*(128*128 - 1))\n",
    "data_1 = noise\n",
    "data_1[rndi:rndi+len(signal_1)] += signal_1 * 3\n",
    "\n",
    "rndi = np.random.randint(0,sample_rate*(128*128 - 1))\n",
    "data_1 = noise\n",
    "data_1[rndi:rndi+len(signal_1)] += signal_1 * 3\n",
    "\n",
    "rndi = np.random.randint(0,sample_rate*(128*128 - 1))\n",
    "data_1 = noise\n",
    "data_1[rndi:rndi+len(signal_1)] += signal_1 * 3\n",
    "\n"
   ]
  },
  {
   "cell_type": "code",
   "execution_count": 5,
   "id": "db13031a",
   "metadata": {},
   "outputs": [],
   "source": [
    "# Add code here to determine the location(s) of the signal(s)!\n",
    "signal_to_find = signal_1\n",
    "data = data_1"
   ]
  },
  {
   "cell_type": "code",
   "execution_count": null,
   "id": "0e5a2f66",
   "metadata": {},
   "outputs": [],
   "source": []
  },
  {
   "cell_type": "markdown",
   "id": "aa655dcd",
   "metadata": {},
   "source": [
    "## Finding the signals in pink noise (challenging)\n",
    "\n",
    "Let's try an earlier exercise again, but with one difference. Now instead of trying to find the signal(s) in *white* noise, you'll need to try to find it in *pink* noise.\n",
    "\n",
    "HINT: To attempt this you will want to whiten the data (see the problem at the end of the second data processing lecture!) However, whitening the data will also change the signal as well, so you will need to also apply your whitening filter to the signal.\n",
    "\n",
    "This problem is most easily attempted in the frequency-domain."
   ]
  },
  {
   "cell_type": "code",
   "execution_count": null,
   "id": "d8d07018",
   "metadata": {},
   "outputs": [],
   "source": []
  },
  {
   "cell_type": "code",
   "execution_count": 8,
   "id": "79c798f8",
   "metadata": {},
   "outputs": [
    {
     "name": "stderr",
     "output_type": "stream",
     "text": [
      "/var/folders/67/1t4_rwdj441c8g3j147_fwrh0000gs/T/ipykernel_30481/3433483355.py:26: RuntimeWarning: divide by zero encountered in divide\n",
      "  pink_noise_prefactors = 1. / (np.arange(num_data_samples))\n"
     ]
    }
   ],
   "source": [
    "# Let's generate the datasets. DONT CHANGE THIS.\n",
    "num_data_samples = 128 * 128 * 32\n",
    "sample_rate = 32\n",
    "times_long = np.arange(num_data_samples) / sample_rate\n",
    "times_small = np.arange(128*32) / sample_rate\n",
    "\n",
    "gaussian_width = 10\n",
    "signal_inst_frequency = 0.1\n",
    "phases = [0]\n",
    "for i in range(1,len(times_small)):\n",
    "    phases.append(phases[-1] + 2 * np.pi * signal_inst_frequency * 1./sample_rate)\n",
    "signal_1 = np.sin(phases)\n",
    "gaussian = np.exp( - (times_small - 64)**2 / (2 * gaussian_width))\n",
    "signal_1 = signal_1 * gaussian\n",
    "\n",
    "signal_inst_frequency = 4\n",
    "phases = [0]\n",
    "for i in range(1,len(times_small)):\n",
    "    phases.append(phases[-1] + 2 * np.pi * signal_inst_frequency * 1./sample_rate)\n",
    "signal_1_T = np.sin(phases)\n",
    "gaussian = np.exp( - (times_small - 64)**2 / (2 * gaussian_width))\n",
    "signal_1 = signal_1 + signal_1_T * gaussian\n",
    "\n",
    "signal_1 = signal_1[48*sample_rate:80*sample_rate]\n",
    "\n",
    "pink_noise_prefactors = 1. / (np.arange(num_data_samples))\n",
    "# The first entry will go to inf, so remove any DC noise component\n",
    "pink_noise_prefactors[0] = 0\n",
    "# Must be symmetric!\n",
    "for i in range(1, num_data_samples//2):\n",
    "    pink_noise_prefactors[-i] = pink_noise_prefactors[i]\n",
    "\n",
    "noise = np.random.normal(size=[num_data_samples])\n",
    "noise_fdomain = compute_fourier_transform(noise)\n",
    "noise_fdomain = noise_fdomain * pink_noise_prefactors\n",
    "noise = compute_inverse_fourier_transform(noise_fdomain).real\n",
    "rndi = np.random.randint(0,sample_rate*(128*128 - 1))\n",
    "data_1 = noise\n",
    "data_1[rndi:rndi+len(signal_1)] += signal_1 * 0.00003\n",
    "\n",
    "rndi = np.random.randint(0,sample_rate*(128*128 - 1))\n",
    "data_1 = noise\n",
    "data_1[rndi:rndi+len(signal_1)] += signal_1 * 0.00003\n",
    "\n",
    "rndi = np.random.randint(0,sample_rate*(128*128 - 1))\n",
    "data_1 = noise\n",
    "data_1[rndi:rndi+len(signal_1)] += signal_1 * 0.00003\n",
    "\n",
    "rndi = np.random.randint(0,sample_rate*(128*128 - 1))\n",
    "data_1 = noise\n",
    "data_1[rndi:rndi+len(signal_1)] += signal_1 * 0.00003\n",
    "\n"
   ]
  },
  {
   "cell_type": "code",
   "execution_count": 9,
   "id": "5d3c57d6",
   "metadata": {},
   "outputs": [],
   "source": [
    "# Write code here to find the signal\n",
    "\n",
    "signal_to_find = signal_1\n",
    "data = data_1"
   ]
  }
 ],
 "metadata": {
  "kernelspec": {
   "display_name": "Python 3 (ipykernel)",
   "language": "python",
   "name": "python3"
  },
  "language_info": {
   "codemirror_mode": {
    "name": "ipython",
    "version": 3
   },
   "file_extension": ".py",
   "mimetype": "text/x-python",
   "name": "python",
   "nbconvert_exporter": "python",
   "pygments_lexer": "ipython3",
   "version": "3.9.7"
  }
 },
 "nbformat": 4,
 "nbformat_minor": 5
}
