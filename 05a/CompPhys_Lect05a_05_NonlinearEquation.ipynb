{
 "cells": [
  {
   "cell_type": "markdown",
   "id": "b6cd5bcb",
   "metadata": {},
   "source": [
    "# Nonlinear Equation\n",
    "\n",
    "The van der Pol equation describes a nonlinearly damped oscillator. It can't be solved analytically, but using a computer it's no more difficult than the others. The equation is:\n",
    "\n",
    "$$\\frac{d^2 x}{dt^2} - \\mu (1 - x^2) \\frac{d x}{d t} + x = 0$$\n",
    "\n",
    "**Exercise**: Make a phase plot of this for different $\\mu$, as well as different initial conditions. Also plot $x(t)$. The [Wikipedia page](https://en.wikipedia.org/wiki/Van_der_Pol_oscillator) contains result you can compare against."
   ]
  },
  {
   "cell_type": "code",
   "execution_count": null,
   "id": "10ef8f4f",
   "metadata": {},
   "outputs": [],
   "source": []
  }
 ],
 "metadata": {
  "kernelspec": {
   "display_name": "Python 3 (ipykernel)",
   "language": "python",
   "name": "python3"
  },
  "language_info": {
   "codemirror_mode": {
    "name": "ipython",
    "version": 3
   },
   "file_extension": ".py",
   "mimetype": "text/x-python",
   "name": "python",
   "nbconvert_exporter": "python",
   "pygments_lexer": "ipython3",
   "version": "3.9.7"
  }
 },
 "nbformat": 4,
 "nbformat_minor": 5
}
