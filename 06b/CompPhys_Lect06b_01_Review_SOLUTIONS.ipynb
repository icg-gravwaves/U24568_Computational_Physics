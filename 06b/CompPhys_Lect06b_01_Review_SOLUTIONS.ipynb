{
 "cells": [
  {
   "cell_type": "markdown",
   "id": "637b876c",
   "metadata": {
    "id": "637b876c"
   },
   "source": [
    "# Question 1 - SOLVED"
   ]
  },
  {
   "cell_type": "code",
   "execution_count": 29,
   "id": "2fdf38ac",
   "metadata": {
    "executionInfo": {
     "elapsed": 41,
     "status": "ok",
     "timestamp": 1739975084403,
     "user": {
      "displayName": "Laura Nuttall",
      "userId": "06326247154476711409"
     },
     "user_tz": 0
    },
    "id": "2fdf38ac"
   },
   "outputs": [],
   "source": [
    "%matplotlib inline\n",
    "import matplotlib.pyplot as plt\n",
    "import numpy as np"
   ]
  },
  {
   "cell_type": "markdown",
   "id": "21ac6919",
   "metadata": {
    "id": "21ac6919"
   },
   "source": [
    "## Lists, Loops, Indices\n",
    "\n",
    "The following code tries to make a list of powers of two, from $2^0$ to $2^{20}$. It doesn't work. Can you fix it?"
   ]
  },
  {
   "cell_type": "code",
   "execution_count": 30,
   "id": "48e55743",
   "metadata": {
    "executionInfo": {
     "elapsed": 6,
     "status": "ok",
     "timestamp": 1739975085818,
     "user": {
      "displayName": "Laura Nuttall",
      "userId": "06326247154476711409"
     },
     "user_tz": 0
    },
    "id": "48e55743"
   },
   "outputs": [],
   "source": [
    "# Make this cell run?\n",
    "\n",
    "powers_of_two = []\n",
    "for i in range(20):\n",
    "    powers_of_two.append(2**i)"
   ]
  },
  {
   "cell_type": "markdown",
   "id": "f4afbc8a",
   "metadata": {
    "id": "f4afbc8a"
   },
   "source": [
    "Does it really go to $2^{20}$? Make sure that it does."
   ]
  },
  {
   "cell_type": "code",
   "execution_count": 31,
   "id": "69021017",
   "metadata": {
    "colab": {
     "base_uri": "https://localhost:8080/"
    },
    "executionInfo": {
     "elapsed": 7,
     "status": "ok",
     "timestamp": 1739975092486,
     "user": {
      "displayName": "Laura Nuttall",
      "userId": "06326247154476711409"
     },
     "user_tz": 0
    },
    "id": "69021017",
    "outputId": "b735183f-ff90-4fdb-d350-0d3e2bfb0e21"
   },
   "outputs": [
    {
     "name": "stdout",
     "output_type": "stream",
     "text": [
      "it does not work\n"
     ]
    }
   ],
   "source": [
    "# Check here\n",
    "if powers_of_two[-1] == 2**20:\n",
    "  print('it works')\n",
    "else:\n",
    "  print('it does not work')"
   ]
  },
  {
   "cell_type": "code",
   "execution_count": 32,
   "id": "d8GTjEL3g5xU",
   "metadata": {
    "colab": {
     "base_uri": "https://localhost:8080/"
    },
    "executionInfo": {
     "elapsed": 4,
     "status": "ok",
     "timestamp": 1739975094285,
     "user": {
      "displayName": "Laura Nuttall",
      "userId": "06326247154476711409"
     },
     "user_tz": 0
    },
    "id": "d8GTjEL3g5xU",
    "outputId": "79b9660a-7595-4627-c2ea-665fad6069f0"
   },
   "outputs": [
    {
     "name": "stdout",
     "output_type": "stream",
     "text": [
      "it works\n"
     ]
    }
   ],
   "source": [
    "# Change code to make it go up 2**20\n",
    "powers_of_two = []\n",
    "for i in range(21):\n",
    "    powers_of_two.append(2**i)\n",
    "\n",
    "if powers_of_two[-1] == 2**20:\n",
    "  print('it works')\n",
    "else:\n",
    "  print('to does not work')"
   ]
  },
  {
   "cell_type": "markdown",
   "id": "b7bd02b6",
   "metadata": {
    "id": "b7bd02b6"
   },
   "source": [
    "If instead we want to find all powers of $2$ less than a billion, a `while` loop would be more appropriate. Write that."
   ]
  },
  {
   "cell_type": "code",
   "execution_count": 33,
   "id": "f9c7676e",
   "metadata": {
    "executionInfo": {
     "elapsed": 5,
     "status": "ok",
     "timestamp": 1739975096096,
     "user": {
      "displayName": "Laura Nuttall",
      "userId": "06326247154476711409"
     },
     "user_tz": 0
    },
    "id": "f9c7676e"
   },
   "outputs": [],
   "source": [
    "# Answer goes here\n",
    "powers_of_two = []\n",
    "i = 0\n",
    "while 2**i < 10**9:\n",
    "  powers_of_two.append(2**i)\n",
    "  i +=1"
   ]
  }
 ],
 "metadata": {
  "colab": {
   "provenance": []
  },
  "kernelspec": {
   "display_name": "Python 3 (ipykernel)",
   "language": "python",
   "name": "python3"
  },
  "language_info": {
   "codemirror_mode": {
    "name": "ipython",
    "version": 3
   },
   "file_extension": ".py",
   "mimetype": "text/x-python",
   "name": "python",
   "nbconvert_exporter": "python",
   "pygments_lexer": "ipython3",
   "version": "3.9.7"
  }
 },
 "nbformat": 4,
 "nbformat_minor": 5
}
