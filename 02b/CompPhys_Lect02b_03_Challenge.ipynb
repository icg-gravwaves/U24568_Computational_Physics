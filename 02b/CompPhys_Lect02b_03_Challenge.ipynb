{
 "cells": [
  {
   "cell_type": "markdown",
   "id": "abb02c6b",
   "metadata": {
    "id": "abb02c6b"
   },
   "source": [
    "# Data challenge...\n",
    "|\n",
    "Load the data called emission_line.txt. This file is downloaded by running the cell below:\n"
   ]
  },
  {
   "cell_type": "code",
   "execution_count": 1,
   "id": "59aad4a2",
   "metadata": {},
   "outputs": [
    {
     "name": "stdout",
     "output_type": "stream",
     "text": [
      "  % Total    % Received % Xferd  Average Speed   Time    Time     Time  Current\n",
      "                                 Dload  Upload   Total   Spent    Left  Speed\n",
      "100 25010  100 25010    0     0  72026      0 --:--:-- --:--:-- --:--:-- 72074\n"
     ]
    }
   ],
   "source": [
    "! curl https://raw.githubusercontent.com/icg-gravwaves/U24568_Computational_Physics/refs/heads/main/02b/emission_line.txt > emission_line.txt"
   ]
  },
  {
   "cell_type": "markdown",
   "id": "f5af40bb",
   "metadata": {},
   "source": [
    "The file is now available in colab and can be read using stuff we showed last year. If this fails. The file can be downloaded from\n",
    "\n",
    "https://github.com/icg-gravwaves/U24568_Computational_Physics/blob/main/02b/emission_line.txt"
   ]
  },
  {
   "cell_type": "markdown",
   "id": "ce28a447",
   "metadata": {},
   "source": [
    "## Exercise:\n",
    "\n",
    "What distibribution best describes this emission line? (Hint use the help pages to find and test different distributions)"
   ]
  },
  {
   "cell_type": "code",
   "execution_count": 1,
   "id": "FPuJ_GV6alKy",
   "metadata": {
    "executionInfo": {
     "elapsed": 297,
     "status": "ok",
     "timestamp": 1738167136918,
     "user": {
      "displayName": "Laura Nuttall",
      "userId": "06326247154476711409"
     },
     "user_tz": 0
    },
    "id": "FPuJ_GV6alKy"
   },
   "outputs": [],
   "source": [
    "# Answer here"
   ]
  },
  {
   "cell_type": "code",
   "execution_count": 2,
   "id": "QFzX-peEb3n6",
   "metadata": {
    "executionInfo": {
     "elapsed": 242,
     "status": "ok",
     "timestamp": 1738167140228,
     "user": {
      "displayName": "Laura Nuttall",
      "userId": "06326247154476711409"
     },
     "user_tz": 0
    },
    "id": "QFzX-peEb3n6"
   },
   "outputs": [],
   "source": [
    "# Answer here"
   ]
  },
  {
   "cell_type": "markdown",
   "id": "2dc9865f",
   "metadata": {
    "id": "2dc9865f"
   },
   "source": [
    "## The Binomial Distribution (extra challenge)\n",
    "\n",
    "The probability of each value of the binomial distribution is\n",
    "$$\\binom{N}{k} p^k (1-p)^{n-k}$$\n",
    "Try confirming this.\n",
    "\n",
    "Now try making flips of an unfair coin (where $p$ is not 1/2, but $n = 1$). How well can you detect how unfair it is?"
   ]
  },
  {
   "cell_type": "code",
   "execution_count": null,
   "id": "1c8a07d8",
   "metadata": {
    "id": "1c8a07d8"
   },
   "outputs": [],
   "source": [
    "# Answer here"
   ]
  },
  {
   "cell_type": "code",
   "execution_count": null,
   "id": "4de8d4f0",
   "metadata": {
    "id": "4de8d4f0"
   },
   "outputs": [],
   "source": [
    "# Answer here"
   ]
  }
 ],
 "metadata": {
  "colab": {
   "provenance": []
  },
  "kernelspec": {
   "display_name": "Python 3 (ipykernel)",
   "language": "python",
   "name": "python3"
  },
  "language_info": {
   "codemirror_mode": {
    "name": "ipython",
    "version": 3
   },
   "file_extension": ".py",
   "mimetype": "text/x-python",
   "name": "python",
   "nbconvert_exporter": "python",
   "pygments_lexer": "ipython3",
   "version": "3.9.7"
  }
 },
 "nbformat": 4,
 "nbformat_minor": 5
}
