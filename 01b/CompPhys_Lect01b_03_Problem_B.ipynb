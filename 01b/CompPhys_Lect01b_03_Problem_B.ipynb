{
 "cells": [
  {
   "cell_type": "markdown",
   "id": "29afdc81",
   "metadata": {},
   "source": [
    "# Problem B\n",
    "\n",
    "For our second problem you will calculate the 'median' (middle value) of an array. (Again, do not use built-in functions, or use Google, or ChatGPT/Colab-AI for this)"
   ]
  },
  {
   "cell_type": "code",
   "execution_count": 2,
   "id": "4c4e6139",
   "metadata": {},
   "outputs": [],
   "source": [
    "import numpy as np\n",
    "\n",
    "array1b=np.array([1,2,3])"
   ]
  },
  {
   "cell_type": "markdown",
   "id": "c6b6bee7",
   "metadata": {},
   "source": [
    "What is the median of this array?  No code - just write it down. (You can google \"median\" if you don't know, or can't remember, what it is)"
   ]
  },
  {
   "cell_type": "code",
   "execution_count": null,
   "id": "bd86d6bc",
   "metadata": {},
   "outputs": [],
   "source": [
    "# Answer here\n"
   ]
  },
  {
   "cell_type": "markdown",
   "id": "9eb9e7f1",
   "metadata": {},
   "source": [
    "Even though you worked this out in your head you probably had a few lines of reasoning which you might not have realised you were consciously making. These steps might be summarised as (not in correct order):\n",
    "\n",
    "<div class=\"alert-success\">\n",
    "1. Check if your array is sorted.\n",
    "</div>\n",
    "\n",
    "<div class=\"alert-info\">\n",
    "2. Report the value of the array which corresponds to this middle index.\n",
    "</div>\n",
    "\n",
    "<div class=\"alert-danger\">\n",
    "3. Count the number of data points in your array.\n",
    "</div>\n",
    "\n",
    "<div class=\"alert-warning\">\n",
    "4. Find the index of the middle value.\n",
    "</div>\n",
    "\n",
    "How many different ways can you order the boxes above to still give you a recipe for finding the middle of our array above? (e.g. 1-2-3-4 - does this work?)"
   ]
  },
  {
   "cell_type": "code",
   "execution_count": 3,
   "id": "5e5130ae",
   "metadata": {},
   "outputs": [],
   "source": [
    "# Answer here: \n",
    "\n"
   ]
  },
  {
   "cell_type": "markdown",
   "id": "a63bffd4",
   "metadata": {},
   "source": [
    "Choose a method and code it up.  You **may NOT** use np.size, `len(array)`, or np.sort. You may use your sorting algorithm from before but you must figure out the size of the array yourself. "
   ]
  },
  {
   "cell_type": "code",
   "execution_count": 4,
   "id": "385e8692",
   "metadata": {},
   "outputs": [],
   "source": [
    "array1b=np.array([1,2,3])\n",
    "\n",
    "# Answer here \n"
   ]
  },
  {
   "cell_type": "markdown",
   "id": "694f07b4",
   "metadata": {},
   "source": [
    "Verify you method also works for..."
   ]
  },
  {
   "cell_type": "code",
   "execution_count": 5,
   "id": "926c9e4a",
   "metadata": {},
   "outputs": [],
   "source": [
    "array1b=np.array([1,2,3,4])\n",
    "\n",
    "# Answer here \n"
   ]
  },
  {
   "cell_type": "markdown",
   "id": "4ef52858",
   "metadata": {},
   "source": [
    "If it does not then rewrite it to make it work for arrays with both odd and even valued lengths"
   ]
  },
  {
   "cell_type": "code",
   "execution_count": 6,
   "id": "7e015f8e",
   "metadata": {},
   "outputs": [],
   "source": [
    "# Answer here\n"
   ]
  },
  {
   "cell_type": "markdown",
   "id": "872903f8",
   "metadata": {},
   "source": [
    "Could you code be more effficient - if you had chosen a different order to your algorthm could you have combined opperations such that fewer calculations were made?"
   ]
  },
  {
   "cell_type": "code",
   "execution_count": 7,
   "id": "d74bdfa1",
   "metadata": {},
   "outputs": [],
   "source": [
    "array1b=np.array([1,2,3,4])\n",
    "\n",
    "# Answer here\n"
   ]
  },
  {
   "cell_type": "markdown",
   "id": "acb771bd",
   "metadata": {},
   "source": [
    "## Lessons learned\n",
    "* There is rarely 'one way' to get the correct answer but there may be better ways\n",
    "    * Use Pseudocode as a tool to think about how best to approach the problem before you start to code in python\n",
    "* Consider all the properties of your data - could they be even or odd valued, do they have missing values, what 'data types' have been used - make sure to define 'test cases' for yourself to test your code works in a general way"
   ]
  }
 ],
 "metadata": {
  "kernelspec": {
   "display_name": "Python 3 (ipykernel)",
   "language": "python",
   "name": "python3"
  },
  "language_info": {
   "codemirror_mode": {
    "name": "ipython",
    "version": 3
   },
   "file_extension": ".py",
   "mimetype": "text/x-python",
   "name": "python",
   "nbconvert_exporter": "python",
   "pygments_lexer": "ipython3",
   "version": "3.9.7"
  }
 },
 "nbformat": 4,
 "nbformat_minor": 5
}
