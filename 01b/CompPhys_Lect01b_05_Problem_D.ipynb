{
 "cells": [
  {
   "cell_type": "markdown",
   "id": "8e5a90fe",
   "metadata": {},
   "source": [
    "# Problem D - challenging\n",
    "\n",
    "For our final problem you have a grid of numbers. You must find the largest product that can be made by any four numbers in a line. (The product is the multiplication of all 4 numbers).\n",
    "\n",
    "The line of numbers could be a vertical, horizontal or diagonal line (same rules as a wordsearch). "
   ]
  },
  {
   "cell_type": "code",
   "execution_count": 3,
   "id": "f6abb126",
   "metadata": {},
   "outputs": [
    {
     "name": "stdout",
     "output_type": "stream",
     "text": [
      "[[77.  2. 63. 75. 50. 22. 20. 76. 17.  9.]\n",
      " [69. 95.  0. 51. 81. 61. 72. 29. 92. 71.]\n",
      " [54. 14. 37. 67. 44. 43. 62. 51. 65. 60.]\n",
      " [81. 52. 91. 32.  9. 30. 11. 83.  5. 63.]\n",
      " [55. 82. 20. 86. 35. 75. 30. 88. 33. 17.]\n",
      " [39.  9. 82. 15. 38. 94. 99. 46. 83. 25.]\n",
      " [60. 90. 53. 59.  4. 36.  8. 31. 33. 77.]\n",
      " [ 4. 43. 31. 64. 35.  4. 88. 76. 88. 42.]\n",
      " [61. 51. 60. 26. 30.  3. 30. 24. 56. 57.]\n",
      " [48. 29.  6. 98. 34. 50. 98. 44. 32. 52.]]\n"
     ]
    }
   ],
   "source": [
    "# Here I am generating a 10 by 10 grid. You will search this grid for the answer. \n",
    "import numpy as np\n",
    "\n",
    "grid=np.zeros((10,10))\n",
    "\n",
    "np.random.seed(10)\n",
    "for i in range(0,10):\n",
    "    for j in range(0,10):\n",
    "        grid[i,j]=round(np.random.uniform(0,100))\n",
    "\n",
    "print(grid)"
   ]
  },
  {
   "cell_type": "code",
   "execution_count": 4,
   "id": "2bdccd1d",
   "metadata": {},
   "outputs": [],
   "source": [
    "# Answer here\n"
   ]
  },
  {
   "cell_type": "code",
   "execution_count": null,
   "id": "cfa825d4",
   "metadata": {},
   "outputs": [],
   "source": []
  },
  {
   "cell_type": "code",
   "execution_count": 5,
   "id": "f99c698f",
   "metadata": {},
   "outputs": [],
   "source": [
    "# Hint 1\n",
    "\n",
    "# One method would be to treat each sequence separately and then loop over elements.\n",
    "# Consider what to do at the boundaries"
   ]
  },
  {
   "cell_type": "code",
   "execution_count": null,
   "id": "0fd5a8dc",
   "metadata": {},
   "outputs": [],
   "source": []
  },
  {
   "cell_type": "code",
   "execution_count": null,
   "id": "a9396210",
   "metadata": {},
   "outputs": [],
   "source": []
  },
  {
   "cell_type": "code",
   "execution_count": 8,
   "id": "05a02679",
   "metadata": {},
   "outputs": [],
   "source": [
    "# Hint 2 - pseudocode\n",
    "\n",
    "# max results array is same size as grid\n",
    "# max method array is same size as grid\n",
    "# number your methods for string in the method array \n",
    "# 1. horizontal right, 2. horizontal left\n",
    "# 3. vertical top, 4. vertical bottom\n",
    "# 5. 45 degrees, 6. 135 degrees, 7. 225 degrees, 8. 315 degrees\n",
    "# pad array with 3 extra rows and columns of zeros in each direction \n",
    "# for each x element in array from 4 to :-4\n",
    "#   for each y element in array from 4 to :-4\n",
    "#       calculate the product for each method\n",
    "#       store the maximum product and it's corresponding method in the results and method grid\n",
    "# find max of results grid and report index\n",
    "# find this index in method grid\n",
    "# woop!"
   ]
  },
  {
   "cell_type": "code",
   "execution_count": null,
   "id": "caf8e579",
   "metadata": {},
   "outputs": [],
   "source": []
  }
 ],
 "metadata": {
  "kernelspec": {
   "display_name": "Python 3 (ipykernel)",
   "language": "python",
   "name": "python3"
  },
  "language_info": {
   "codemirror_mode": {
    "name": "ipython",
    "version": 3
   },
   "file_extension": ".py",
   "mimetype": "text/x-python",
   "name": "python",
   "nbconvert_exporter": "python",
   "pygments_lexer": "ipython3",
   "version": "3.9.7"
  }
 },
 "nbformat": 4,
 "nbformat_minor": 5
}
