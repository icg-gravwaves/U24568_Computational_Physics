{
 "cells": [
  {
   "cell_type": "markdown",
   "id": "455b8e87",
   "metadata": {},
   "source": [
    "# Merging black holes\n",
    "\n",
    "We’re going to generate a gravitational wave signal of two merging black holes using a simplified version of the the post-Newtonian method.\n",
    "The equations come from Poisson and Will 1995 (link will appear in coursework, but is not needed). This\n",
    "paper provides series expansions for various quantities relating to compact binary coalescence\n",
    "waveforms. To keep things simple, we’ll only use these expressions at leading order.\n",
    "The formula for the signal is (1.1). Only the time-dependent parts matter here - we’ll ignore\n",
    "the overall amplitude. So the quantity we will calculate is\n",
    "\n",
    "$$ h(t) \\propto F(t)^{2/3} \\cos{\\Phi(t)} $$ \n",
    "\n",
    "There are two time-dependent quantities we need: F(t) (the frequency of the signal as a function of time) and Φ(t) (the phase of the signal as a function of time). The first comes from (1.3). We’ll write it here, keeping only the first term in the series:\n",
    "\n",
    "$$ \\frac{d F(t)}{dt} = \\frac{96}{ 5 \\pi \\mathcal{M}^2} \\left(\\pi M F(t)\\right)^{11/3} $$  \n",
    "\n",
    "To get the phase, we’ll use the definition under (1.1), Φ(t) = R 2π F(t) dt. This is more useful turned into a differential equation, so we’ll use the equivalent\n",
    "\n",
    "$$ \\frac{d \\Phi(t)}{dt} = 2 \\pi F(t) $$\n",
    "\n",
    "$\\mathcal{M}$ is the chirp mass, which we take here to be 10 solar masses. In natural units, one solar mass is equivalent to 4.92 × 10−6 seconds, so you need to convert the chirp mass into seconds to make this make dimensional sense.\n",
    "\n",
    "Solve to generate $h(t)$.\n",
    "\n",
    "**NOTE: The second coursework will ask a similar question, using a different mass, but otherwise is the same. We will not provide a solution to this question**"
   ]
  },
  {
   "cell_type": "code",
   "execution_count": null,
   "id": "28fd511f",
   "metadata": {},
   "outputs": [],
   "source": []
  },
  {
   "cell_type": "code",
   "execution_count": null,
   "id": "dd114ac7",
   "metadata": {},
   "outputs": [],
   "source": []
  }
 ],
 "metadata": {
  "kernelspec": {
   "display_name": "Python 3 (ipykernel)",
   "language": "python",
   "name": "python3"
  },
  "language_info": {
   "codemirror_mode": {
    "name": "ipython",
    "version": 3
   },
   "file_extension": ".py",
   "mimetype": "text/x-python",
   "name": "python",
   "nbconvert_exporter": "python",
   "pygments_lexer": "ipython3",
   "version": "3.9.7"
  }
 },
 "nbformat": 4,
 "nbformat_minor": 5
}
