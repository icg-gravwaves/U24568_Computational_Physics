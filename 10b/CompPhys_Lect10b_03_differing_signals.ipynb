{
 "cells": [
  {
   "cell_type": "markdown",
   "id": "2797e353",
   "metadata": {},
   "source": [
    "# Computing significance for different signals\n",
    "\n",
    "Now let's take what we've demonstrated so far and extend this:"
   ]
  },
  {
   "cell_type": "markdown",
   "id": "0679f353",
   "metadata": {},
   "source": [
    "## Step 1\n",
    "\n",
    "Using code we've already provided generate signals with the following parameters\n",
    "\n",
    "* SIGNAL 1: signal_gaussian_width=10, signal_chirpiness=0\n",
    "* SIGNAL 2: signal_gaussian_width=1, signal_chirpiness=1\n",
    "* SIGNAL 3: signal_gaussian_width=8, signal_chirpiness=4\n",
    "* SIGNAL 4: signal_gaussian_width=10, signal_chirpiness=1\n",
    "\n",
    "Plot the 4 signals to compare how they look like."
   ]
  },
  {
   "cell_type": "code",
   "execution_count": 1,
   "id": "ff84e8e6",
   "metadata": {},
   "outputs": [],
   "source": [
    "# Do step 1 here"
   ]
  },
  {
   "cell_type": "markdown",
   "id": "7abefd0a",
   "metadata": {},
   "source": [
    "## Step 2\n",
    "\n",
    "Generate 1000 different noise datasets, using the same noise generation function as in the first notebook.  For each dataset compute the cross-correlation with `signal_1`, `signal_2`, `signal_3` and `signal_4`. Store the largest value for each signal. You should now have 4 length-1000 arrays with each value being the loudest value of the cross-correlation)"
   ]
  },
  {
   "cell_type": "code",
   "execution_count": 2,
   "id": "0467e8f1",
   "metadata": {},
   "outputs": [],
   "source": [
    "# Do step 2 here"
   ]
  },
  {
   "cell_type": "markdown",
   "id": "c828e541",
   "metadata": {},
   "source": [
    "## Step 3\n",
    "\n",
    "Plot a cumulative histogram of these values for each of the signals (4 lines (not bars) on a single plot is probably clearest, but you're free to do this however you want).\n",
    "\n",
    "Why are these histograms different for each signal?\n",
    "\n",
    "How loud (in terms of the cross-correlation) does a signal have to be to go from not-at-all significant to very significant?"
   ]
  },
  {
   "cell_type": "code",
   "execution_count": 3,
   "id": "89007b31",
   "metadata": {},
   "outputs": [],
   "source": [
    "# Do step 3 here"
   ]
  },
  {
   "cell_type": "markdown",
   "id": "6b7b09df",
   "metadata": {},
   "source": [
    "## Step 4\n",
    "\n",
    "Determine the value of `signal_loudness` for each of the 4 signals, for which there is a 50% chance that the false alarm rate is less than 1 per hour. Please note that the cross-correlation value (and therefore false alarm rate) for a given signal is noise dependent, so for any given value of `signal_loudness` you'd have to simulate a number of noise realisations to assess this."
   ]
  },
  {
   "cell_type": "code",
   "execution_count": 4,
   "id": "94dc3425",
   "metadata": {},
   "outputs": [],
   "source": [
    "# Do step 4 here"
   ]
  }
 ],
 "metadata": {
  "kernelspec": {
   "display_name": "Python 3 (ipykernel)",
   "language": "python",
   "name": "python3"
  },
  "language_info": {
   "codemirror_mode": {
    "name": "ipython",
    "version": 3
   },
   "file_extension": ".py",
   "mimetype": "text/x-python",
   "name": "python",
   "nbconvert_exporter": "python",
   "pygments_lexer": "ipython3",
   "version": "3.9.7"
  }
 },
 "nbformat": 4,
 "nbformat_minor": 5
}
