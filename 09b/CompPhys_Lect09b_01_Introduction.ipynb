{
 "cells": [
  {
   "cell_type": "markdown",
   "id": "50481141",
   "metadata": {},
   "source": [
    "# Techniques to profile and optimise python code - I\n",
    "\n",
    "A common complaint about python is that \"it's not as fast as C/C++/fortran/...\". For example this recent article from Simon Portegies Zwart (https://arxiv.org/pdf/2009.11295.pdf) claims that one should not use python because it is inefficient, and therefore more environmentally harmful.\n",
    "\n",
    "However, this statement was demonstrated to be untrue by Pierre Augier (see links from https://physicsworld.com/a/the-huge-carbon-footprint-of-large-scale-computing/). Augier argues that while python will be slower than other languages if one does not consider optimization (often not needed if you just want to test something, or do something quickly), for large-scale simulations it can be made to be faster than the implementations of Portegies Zwart's code in C/C++/fortran (https://github.com/paugier/nbabel).\n",
    "\n",
    "So how do we do this? It is normally possible to write python code that is just as fast as code written in a \"fast\" (compiled) language such as C. After all, python is written in C and contains a wealth of libraries, such as numpy, that actually use compiled C (and even fortran) code in some of the most time-sensitive places.\n",
    "\n",
    "I think its more accurate to say that its easier to write \"slow\" code in python, because it's often hard to see why some things are slow. To write code that *is* as fast as C does require a bit of understanding on how C actually works, but in most cases you can write code that is more than fast enough using the techniques shown here. In this lecture we will try to\n",
    "\n",
    "* Highlight some of the places where python code is often slow and demonstrate ways to speed it up\n",
    "* Demonstrate tools to \"profile\" python code, specifically to identify the functions, and lines, where the code is slowest\n",
    "\n",
    "As a supplement to this, there are occasionally cases where python doesn't cut it in terms of speed. With the availability of numpy, *such cases are rare*. In such instances you can turn to \"Cython\" which is basically a hybrid of python and C/C++. We will cover Cython at the end of this course. Note that large parts of scipy are actually written in Cython, and while it is still nowhere near as well used as Python itself, it is increasing in popularity. "
   ]
  }
 ],
 "metadata": {
  "kernelspec": {
   "display_name": "Python 3 (ipykernel)",
   "language": "python",
   "name": "python3"
  },
  "language_info": {
   "codemirror_mode": {
    "name": "ipython",
    "version": 3
   },
   "file_extension": ".py",
   "mimetype": "text/x-python",
   "name": "python",
   "nbconvert_exporter": "python",
   "pygments_lexer": "ipython3",
   "version": "3.9.12"
  }
 },
 "nbformat": 4,
 "nbformat_minor": 5
}
