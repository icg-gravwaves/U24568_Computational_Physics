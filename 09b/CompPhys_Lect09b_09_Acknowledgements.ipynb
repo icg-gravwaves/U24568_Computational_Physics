{
 "cells": [
  {
   "cell_type": "markdown",
   "id": "eafeb1de",
   "metadata": {},
   "source": [
    "# Acknowledgements\n",
    "\n",
    "With thanks to the following\n",
    "\n",
    "* https://ipython-books.github.io\n",
    "* https://jakevdp.github.io/PythonDataScienceHandbook\n",
    "* https://app.codesignal.com"
   ]
  }
 ],
 "metadata": {
  "kernelspec": {
   "display_name": "Python 3 (ipykernel)",
   "language": "python",
   "name": "python3"
  },
  "language_info": {
   "codemirror_mode": {
    "name": "ipython",
    "version": 3
   },
   "file_extension": ".py",
   "mimetype": "text/x-python",
   "name": "python",
   "nbconvert_exporter": "python",
   "pygments_lexer": "ipython3",
   "version": "3.9.12"
  }
 },
 "nbformat": 4,
 "nbformat_minor": 5
}
