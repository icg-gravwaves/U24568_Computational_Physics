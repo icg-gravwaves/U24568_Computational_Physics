{
 "cells": [
  {
   "cell_type": "markdown",
   "id": "580a671f",
   "metadata": {},
   "source": [
    "# Interactive example of non numpy-able code optimization"
   ]
  },
  {
   "cell_type": "markdown",
   "id": "0b7d9b38",
   "metadata": {},
   "source": [
    "In the debugging lecture last year we showed an example of a [not working] code to do the following:\n",
    "\n",
    "* Consider a sequence of numbers a0, a1, ..., an, in which an element is equal to the sum of squared digits of the previous element. The sequence ends once an element that has already been in the sequence appears again. So that an = a0. Given the first element a0, find the length of the sequence.\n",
    "\n",
    "\n",
    "So for example if a0 = 16. `1**2 + 6**2 = 37` -> `3**2 + 7**2 = 58` -> `5**2 + 8**2 = 89` -> `8**2 + 9**2 = 145` -> `1**2 + 4**2 + 5**2 = 42` -> `4**2 + 2**2 = 20` -> `2**2 + 0**2 = 4` -> `4**2 = 16` We've already seen 16 so we stop here. The sequence is `[16,37,58,89,145,42,20,4,16]` which has a length of 9, return 9.\n",
    "\n",
    "The code that we used had some optimisations, but was not particularly clear. To try to understand it better let's write this out in a code that approaches the problem in a different way, with comments etc. to try to make it clearer what is going on"
   ]
  },
  {
   "cell_type": "code",
   "execution_count": null,
   "id": "7bab312f",
   "metadata": {},
   "outputs": [],
   "source": [
    "def square_digits(input_number):\n",
    "\n",
    "    # Initialize by setting the list of outputs equal to the input\n",
    "    output_list = [input_number]\n",
    "    # And setting the last_number variable to the input\n",
    "    last_number = input_number\n",
    "\n",
    "    # This is basically a for-loop that will only exit when we explicitly say \"exit\"\n",
    "    while 1:\n",
    "        # Step one: We must identify the digits of last_number\n",
    "        # Cast to a string\n",
    "        last_number = str(last_number)\n",
    "        # And then convert to a list of integers. We do this using a list comprehension, which is powerful, but not fast\n",
    "        digits = [int(digit) for digit in last_number]\n",
    "        # So if last_number is 49120 then digits = [4,9,1,2,0]\n",
    "        \n",
    "        # We can then sum the digits squared using another list comprehension\n",
    "        # digits = [4,9,1,2,0] -> 16 + 81 + 1 + 4 = 102\n",
    "        digit_squared_sum = sum([digit*digit for digit in digits])\n",
    "        \n",
    "        # Is this value already in the list?\n",
    "        if digit_squared_sum in output_list:\n",
    "            # Add this value and then exist\n",
    "            output_list.append(digit_squared_sum)\n",
    "            break\n",
    "        else:\n",
    "            # Else add the value and then continue\n",
    "            output_list.append(digit_squared_sum)\n",
    "            last_number = digit_squared_sum\n",
    "\n",
    "    return len(output_list)\n",
    "\n",
    "print(\"square_digits(103) gives:\",square_digits(103), \"\\n Should be 4\")\n",
    "print()\n",
    "print(\"square_digits(612) gives:\",square_digits(612), \"\\n Should be 16\")\n",
    "print()\n"
   ]
  },
  {
   "cell_type": "code",
   "execution_count": null,
   "id": "2f6d54ec",
   "metadata": {},
   "outputs": [],
   "source": [
    "# Let's try it with the following\n",
    "very_long_integer = 2**100\n",
    "square_digits(very_long_integer)"
   ]
  },
  {
   "cell_type": "markdown",
   "id": "91fcfcff",
   "metadata": {},
   "source": [
    "Using the profiling tools demonstrated above:\n",
    "\n",
    "* Use timeit to calculate how long the function takes to run with the `very_long_integer`\n",
    "* Use lprun to determine how long the code spends at each line"
   ]
  },
  {
   "cell_type": "code",
   "execution_count": null,
   "id": "7073c350",
   "metadata": {},
   "outputs": [],
   "source": []
  },
  {
   "cell_type": "markdown",
   "id": "c9539c3c",
   "metadata": {},
   "source": [
    "Here is the optimized code that we used last year (with the bug fixed). As before run timeit and lprof on this code:"
   ]
  },
  {
   "cell_type": "code",
   "execution_count": null,
   "id": "b52b8fc8",
   "metadata": {},
   "outputs": [],
   "source": [
    "def square_digits_withoutstr(input_number):\n",
    "\n",
    "    cur = input_number\n",
    "    was = set()\n",
    "\n",
    "    while not (cur in was):\n",
    "        was.add(cur)\n",
    "        nxt = 0\n",
    "        while cur > 0:\n",
    "            nxt += (cur % 10) * (cur % 10)\n",
    "            cur //= 10\n",
    "        cur = nxt\n",
    "\n",
    "    return len(was) + 1\n"
   ]
  },
  {
   "cell_type": "code",
   "execution_count": null,
   "id": "d66f6a27",
   "metadata": {},
   "outputs": [],
   "source": [
    "# Run timeit and lprun here\n"
   ]
  },
  {
   "cell_type": "markdown",
   "id": "bc269500",
   "metadata": {},
   "source": [
    "Now repeat the process using:\n",
    "```very_long_integer=2**100000```"
   ]
  },
  {
   "cell_type": "code",
   "execution_count": null,
   "id": "0acc43c1",
   "metadata": {},
   "outputs": [],
   "source": [
    "# Run timeit and lprun here\n",
    "\n",
    "very_long_integer = 2**100000\n"
   ]
  },
  {
   "cell_type": "markdown",
   "id": "816ec3d2",
   "metadata": {},
   "source": [
    "##  Summary\n",
    "\n",
    "Think about what these results are telling you. Some things to highlight:\n",
    "\n",
    "* You are learning how to identify which parts of a function you need to think about when optimising. Never bother optimising any part of your code that is not taking a significant fraction of the total time.\n",
    "* The optimal solution to a problem can depend on the input. For shorter inputs, converting an integer to a string and then back to a list of integers adds an overhead that is the dominant computational cost. However, as the input integers become very large, operations like dividing by 10 (which for a computer is not as trivial as it seems, because computers think in binary numbers, not base-10 numbers) become expensive (look up how python handles big integers if you want to understand this better). In this case the overhead of converting to a string is faster.\n",
    "* Although the second case was faster for normal-sized integers, it doesn't seem that using it would really be a good decision if the code is more difficult to parse."
   ]
  }
 ],
 "metadata": {
  "kernelspec": {
   "display_name": "Python 3 (ipykernel)",
   "language": "python",
   "name": "python3"
  },
  "language_info": {
   "codemirror_mode": {
    "name": "ipython",
    "version": 3
   },
   "file_extension": ".py",
   "mimetype": "text/x-python",
   "name": "python",
   "nbconvert_exporter": "python",
   "pygments_lexer": "ipython3",
   "version": "3.9.12"
  }
 },
 "nbformat": 4,
 "nbformat_minor": 5
}
